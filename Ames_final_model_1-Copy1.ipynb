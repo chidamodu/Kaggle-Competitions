{
 "cells": [
  {
   "cell_type": "code",
   "execution_count": 1,
   "metadata": {},
   "outputs": [
    {
     "data": {
      "text/plain": [
       "'/Users/chidam'"
      ]
     },
     "execution_count": 1,
     "metadata": {},
     "output_type": "execute_result"
    }
   ],
   "source": [
    "import os\n",
    "os.getcwd()"
   ]
  },
  {
   "cell_type": "code",
   "execution_count": 2,
   "metadata": {
    "collapsed": true
   },
   "outputs": [],
   "source": [
    "import pandas as pd\n",
    "df=pd.read_csv('/Users/chidam/Desktop/housing_prices_kaggle_train.csv')"
   ]
  },
  {
   "cell_type": "code",
   "execution_count": 3,
   "metadata": {
    "collapsed": true
   },
   "outputs": [],
   "source": [
    "df.drop(df.index[[523,691,1182,1298, 1169]], inplace=True)\n",
    "df=df.reset_index(drop=True)#here drop=True means to drop the alreading existing index column"
   ]
  },
  {
   "cell_type": "code",
   "execution_count": 4,
   "metadata": {},
   "outputs": [
    {
     "data": {
      "text/plain": [
       "RL         1146\n",
       "RM          218\n",
       "FV           65\n",
       "RH           16\n",
       "C (all)      10\n",
       "Name: MSZoning, dtype: int64"
      ]
     },
     "execution_count": 4,
     "metadata": {},
     "output_type": "execute_result"
    }
   ],
   "source": [
    "df['MSZoning'].value_counts()"
   ]
  },
  {
   "cell_type": "code",
   "execution_count": 5,
   "metadata": {},
   "outputs": [
    {
     "data": {
      "text/plain": [
       "3    802\n",
       "2    358\n",
       "4    210\n",
       "1     50\n",
       "5     21\n",
       "6      7\n",
       "0      6\n",
       "8      1\n",
       "Name: BedroomAbvGr, dtype: int64"
      ]
     },
     "execution_count": 5,
     "metadata": {},
     "output_type": "execute_result"
    }
   ],
   "source": [
    "df['BedroomAbvGr'].value_counts()"
   ]
  },
  {
   "cell_type": "code",
   "execution_count": 6,
   "metadata": {},
   "outputs": [
    {
     "data": {
      "text/plain": [
       "Typ     1355\n",
       "Min2      34\n",
       "Min1      31\n",
       "Mod       15\n",
       "Maj1      14\n",
       "Maj2       5\n",
       "Sev        1\n",
       "Name: Functional, dtype: int64"
      ]
     },
     "execution_count": 6,
     "metadata": {},
     "output_type": "execute_result"
    }
   ],
   "source": [
    "df['Functional'].value_counts()"
   ]
  },
  {
   "cell_type": "code",
   "execution_count": 7,
   "metadata": {},
   "outputs": [
    {
     "data": {
      "text/plain": [
       "0       118\n",
       "728       9\n",
       "384       8\n",
       "572       7\n",
       "600       7\n",
       "440       6\n",
       "625       6\n",
       "300       6\n",
       "280       6\n",
       "672       6\n",
       "270       6\n",
       "162       5\n",
       "108       5\n",
       "490       5\n",
       "390       5\n",
       "80        5\n",
       "326       5\n",
       "816       5\n",
       "698       5\n",
       "319       5\n",
       "264       5\n",
       "216       5\n",
       "410       5\n",
       "638       4\n",
       "768       4\n",
       "780       4\n",
       "660       4\n",
       "420       4\n",
       "840       4\n",
       "556       4\n",
       "       ... \n",
       "707       1\n",
       "705       1\n",
       "701       1\n",
       "693       1\n",
       "721       1\n",
       "692       1\n",
       "691       1\n",
       "690       1\n",
       "1515      1\n",
       "680       1\n",
       "1528      1\n",
       "717       1\n",
       "722       1\n",
       "758       1\n",
       "739       1\n",
       "752       1\n",
       "750       1\n",
       "1497      1\n",
       "744       1\n",
       "741       1\n",
       "740       1\n",
       "735       1\n",
       "724       1\n",
       "734       1\n",
       "733       1\n",
       "731       1\n",
       "730       1\n",
       "726       1\n",
       "725       1\n",
       "2046      1\n",
       "Name: BsmtUnfSF, Length: 778, dtype: int64"
      ]
     },
     "execution_count": 7,
     "metadata": {},
     "output_type": "execute_result"
    }
   ],
   "source": [
    "df['BsmtUnfSF'].value_counts()"
   ]
  },
  {
   "cell_type": "code",
   "execution_count": 8,
   "metadata": {},
   "outputs": [
    {
     "data": {
      "text/plain": [
       "0    855\n",
       "1    585\n",
       "2     14\n",
       "3      1\n",
       "Name: BsmtFullBath, dtype: int64"
      ]
     },
     "execution_count": 8,
     "metadata": {},
     "output_type": "execute_result"
    }
   ],
   "source": [
    "df['BsmtFullBath'].value_counts()"
   ]
  },
  {
   "cell_type": "code",
   "execution_count": 9,
   "metadata": {
    "collapsed": true
   },
   "outputs": [],
   "source": [
    "import calendar\n",
    "df['MoSold'] = df['MoSold'].apply(lambda x: calendar.month_abbr[x])\n",
    "\n",
    "\n",
    "\n"
   ]
  },
  {
   "cell_type": "code",
   "execution_count": 10,
   "metadata": {
    "collapsed": true
   },
   "outputs": [],
   "source": [
    "df['Season']=df['MoSold'].copy()"
   ]
  },
  {
   "cell_type": "code",
   "execution_count": 11,
   "metadata": {},
   "outputs": [
    {
     "data": {
      "text/plain": [
       "False"
      ]
     },
     "execution_count": 11,
     "metadata": {},
     "output_type": "execute_result"
    }
   ],
   "source": [
    "df['Season'].isnull().any()"
   ]
  },
  {
   "cell_type": "code",
   "execution_count": 12,
   "metadata": {
    "collapsed": true
   },
   "outputs": [],
   "source": [
    "#To group months according to season: summer, winter, autumn, and spring\n",
    "\n",
    "df.loc[(df['MoSold']=='Jun') | (df['MoSold']=='Jul') | (df['MoSold']=='Aug'),'Season']='Summer'\n",
    "df.loc[(df['MoSold']=='Mar') | (df['MoSold']=='Apr') | (df['MoSold']=='May'),'Season']= 'Spring'\n",
    "df.loc[(df['MoSold']=='Sep') | (df['MoSold']=='Oct') | (df['MoSold']=='Nov'),'Season']='Autumn'\n",
    "df.loc[(df['MoSold']=='Jan') | (df['MoSold']=='Feb') | (df['MoSold']=='Dec'),'Season']='Winter'\n",
    "\n"
   ]
  },
  {
   "cell_type": "code",
   "execution_count": 13,
   "metadata": {},
   "outputs": [
    {
     "data": {
      "text/plain": [
       "False"
      ]
     },
     "execution_count": 13,
     "metadata": {},
     "output_type": "execute_result"
    }
   ],
   "source": [
    "df['Season'].isnull().any()"
   ]
  },
  {
   "cell_type": "code",
   "execution_count": 14,
   "metadata": {
    "collapsed": true
   },
   "outputs": [],
   "source": [
    "#To group the neighborhoods according to maximum SalePrice\n",
    "def neighborhood_convert(d):\n",
    "    from collections import defaultdict\n",
    "    d2=defaultdict(list)\n",
    "    for k, v in d.items():\n",
    "        if v<=200000:\n",
    "            d2['g1'].append(k)     \n",
    "        elif (v>200000) & (v<=300000):\n",
    "            d2['g2'].append(k)\n",
    "        elif (v>300000) & (v<=400000):\n",
    "            d2['g3'].append(k)\n",
    "        else:\n",
    "            d2['g4'].append(k)\n",
    "            \n",
    "    return d2\n",
    "            \n",
    "            "
   ]
  },
  {
   "cell_type": "code",
   "execution_count": 15,
   "metadata": {},
   "outputs": [
    {
     "data": {
      "text/plain": [
       "defaultdict(list,\n",
       "            {'g1': ['SWISU',\n",
       "              'Sawyer',\n",
       "              'NPkVill',\n",
       "              'IDOTRR',\n",
       "              'MeadowV',\n",
       "              'Blueste',\n",
       "              'BrDale'],\n",
       "             'g2': ['BrkSide', 'Blmngtn', 'Mitchel', 'NWAmes'],\n",
       "             'g3': ['Gilbert',\n",
       "              'NAmes',\n",
       "              'Edwards',\n",
       "              'SawyerW',\n",
       "              'Crawfor',\n",
       "              'Veenker',\n",
       "              'ClearCr',\n",
       "              'Timber'],\n",
       "             'g4': ['StoneBr',\n",
       "              'CollgCr',\n",
       "              'NoRidge',\n",
       "              'NridgHt',\n",
       "              'Somerst',\n",
       "              'OldTown']})"
      ]
     },
     "execution_count": 15,
     "metadata": {},
     "output_type": "execute_result"
    }
   ],
   "source": [
    "neighborhood_convert(dict(df.groupby('Neighborhood')['SalePrice'].max()))"
   ]
  },
  {
   "cell_type": "code",
   "execution_count": 16,
   "metadata": {
    "collapsed": true
   },
   "outputs": [],
   "source": [
    "df.loc[(df['Neighborhood']=='IDOTRR'), 'Neighborhood']='g'\n",
    "\n",
    "df.loc[(df['Neighborhood']=='MeadowV')|(df['Neighborhood']=='SWISU')|(df['Neighborhood']=='BrDale')|(df['Neighborhood']=='NPkVill')|(df['Neighborhood']=='Blueste')|(df['Neighborhood']=='Sawyer'),'Neighborhood']='g' \n",
    "    \n",
    "df.loc[(df['Neighborhood']=='Blmngtn')|(df['Neighborhood']=='Mitchel')|(df['Neighborhood']=='BrkSide')|(df['Neighborhood']=='NWAmes'),'Neighborhood']='h' \n",
    "\n",
    "df.loc[(df['Neighborhood']=='Veenker')|(df['Neighborhood']=='SawyerW')|(df['Neighborhood']=='ClearCr')|(df['Neighborhood']=='Edwards')|(df['Neighborhood']=='Gilbert')|(df['Neighborhood']=='NAmes')|(df['Neighborhood']=='Timber')|(df['Neighborhood']=='Crawfor'),'Neighborhood']='i' \n",
    "\n",
    "df.loc[(df['Neighborhood']=='NoRidge')|(df['Neighborhood']=='NridgHt')|(df['Neighborhood']=='StoneBr')|(df['Neighborhood']=='OldTown')|(df['Neighborhood']=='Somerst')|(df['Neighborhood']=='CollgCr'),'Neighborhood']='j' \n",
    "         "
   ]
  },
  {
   "cell_type": "code",
   "execution_count": 17,
   "metadata": {},
   "outputs": [
    {
     "data": {
      "text/plain": [
       "array(['j', 'i', 'h', 'g'], dtype=object)"
      ]
     },
     "execution_count": 17,
     "metadata": {},
     "output_type": "execute_result"
    }
   ],
   "source": [
    "df['Neighborhood'].unique()"
   ]
  },
  {
   "cell_type": "code",
   "execution_count": 18,
   "metadata": {
    "collapsed": true
   },
   "outputs": [],
   "source": [
    "#Filling in the missing values in GarageType with BuiltIn as it is a popular choice but there are not many values from \n",
    "#that category\n",
    "df.GarageType = df.GarageType.fillna('BuiltIn')"
   ]
  },
  {
   "cell_type": "code",
   "execution_count": 19,
   "metadata": {},
   "outputs": [
    {
     "data": {
      "text/plain": [
       "TA     649\n",
       "Gd     618\n",
       "Ex     116\n",
       "NaN     37\n",
       "Fa      35\n",
       "Name: BsmtQual, dtype: int64"
      ]
     },
     "execution_count": 19,
     "metadata": {},
     "output_type": "execute_result"
    }
   ],
   "source": [
    "#BsmtQual\n",
    "\n",
    "df['BsmtQual'].value_counts(dropna=False)"
   ]
  },
  {
   "cell_type": "code",
   "execution_count": 20,
   "metadata": {
    "collapsed": true
   },
   "outputs": [],
   "source": [
    "df.loc[df['BsmtQual'].isnull(), 'BsmtQual'] = 'missing'"
   ]
  },
  {
   "cell_type": "code",
   "execution_count": 21,
   "metadata": {},
   "outputs": [
    {
     "data": {
      "text/plain": [
       "BsmtQual\n",
       "Ex         317500\n",
       "Fa         112000\n",
       "Gd         192070\n",
       "TA         135500\n",
       "missing    101800\n",
       "Name: SalePrice, dtype: int64"
      ]
     },
     "execution_count": 21,
     "metadata": {},
     "output_type": "execute_result"
    }
   ],
   "source": [
    "df.groupby('BsmtQual')['SalePrice'].median()"
   ]
  },
  {
   "cell_type": "code",
   "execution_count": 22,
   "metadata": {
    "collapsed": true
   },
   "outputs": [],
   "source": [
    "# Because the median SalePrice for the missing category is 101800 and is close to Fair median SalePrice I am converting missing \n",
    "# to Fa\n",
    "\n",
    "\n",
    "df.loc[df['BsmtQual']=='missing', 'BsmtQual'] = 'Fa'\n",
    "\n",
    "\n"
   ]
  },
  {
   "cell_type": "code",
   "execution_count": 23,
   "metadata": {},
   "outputs": [
    {
     "data": {
      "text/plain": [
       "None       863\n",
       "BrkFace    443\n",
       "Stone      126\n",
       "BrkCmn      15\n",
       "NaN          8\n",
       "Name: MasVnrType, dtype: int64"
      ]
     },
     "execution_count": 23,
     "metadata": {},
     "output_type": "execute_result"
    }
   ],
   "source": [
    "#To get value_counts() of 'MasVnrType'\n",
    "\n",
    "df['MasVnrType'].value_counts(dropna=False)\n",
    "        "
   ]
  },
  {
   "cell_type": "code",
   "execution_count": 24,
   "metadata": {
    "collapsed": true
   },
   "outputs": [],
   "source": [
    "df.loc[df['MasVnrType'].isnull(), 'MasVnrType'] = 'Stone'"
   ]
  },
  {
   "cell_type": "code",
   "execution_count": 25,
   "metadata": {},
   "outputs": [
    {
     "data": {
      "text/plain": [
       "0    0.595189\n",
       "1    0.595189\n",
       "2    0.595189\n",
       "3   -0.265979\n",
       "4    0.595189\n",
       "Name: GarageType, dtype: float64"
      ]
     },
     "execution_count": 25,
     "metadata": {},
     "output_type": "execute_result"
    }
   ],
   "source": [
    "def convert_garagetype(d, x, y, col_name):\n",
    "    import pandas as pd\n",
    "    for ele in range(len(x)):\n",
    "        if x[ele]=='Detchd':\n",
    "            if x[ele] in y:\n",
    "                x[ele]=-y[x[ele]]\n",
    "                \n",
    "        else:\n",
    "            if x[ele] in y:\n",
    "                x[ele]=y[x[ele]]\n",
    "        \n",
    "    d.drop(col_name, axis=1)\n",
    "    d[col_name]=pd.Series(x)\n",
    "    return d[col_name].head()\n",
    "\n",
    "convert_garagetype(df, df['GarageType'].tolist(), dict(df['GarageType'].value_counts()/len(df)), 'GarageType')"
   ]
  },
  {
   "cell_type": "code",
   "execution_count": 26,
   "metadata": {},
   "outputs": [
    {
     "data": {
      "text/plain": [
       "False"
      ]
     },
     "execution_count": 26,
     "metadata": {},
     "output_type": "execute_result"
    }
   ],
   "source": [
    "df['GarageType'].isnull().any()"
   ]
  },
  {
   "cell_type": "code",
   "execution_count": 27,
   "metadata": {},
   "outputs": [
    {
     "data": {
      "text/plain": [
       "0    0.304467\n",
       "1   -0.593127\n",
       "2    0.304467\n",
       "3   -0.593127\n",
       "4    0.304467\n",
       "Name: MasVnrType, dtype: float64"
      ]
     },
     "execution_count": 27,
     "metadata": {},
     "output_type": "execute_result"
    }
   ],
   "source": [
    "#Convert 'MasVnrType' into numerical: None means no veneer type at all\n",
    "\n",
    "def convert_MasVnrType(d, x, y, col_name):\n",
    "    import pandas as pd\n",
    "    for ele in range(len(x)):\n",
    "        if x[ele]=='None':\n",
    "            if x[ele] in y:\n",
    "                x[ele]=-y[x[ele]]\n",
    "                \n",
    "        else:\n",
    "            if x[ele] in y:\n",
    "                x[ele]=y[x[ele]]\n",
    "        \n",
    "    d.drop(col_name, axis=1)\n",
    "    d[col_name]=pd.Series(x)\n",
    "    return d[col_name].head()\n",
    "\n",
    "convert_MasVnrType(df, df['MasVnrType'].tolist(), dict(df['MasVnrType'].value_counts()/len(df)), 'MasVnrType')"
   ]
  },
  {
   "cell_type": "code",
   "execution_count": 28,
   "metadata": {},
   "outputs": [
    {
     "data": {
      "text/plain": [
       "False"
      ]
     },
     "execution_count": 28,
     "metadata": {},
     "output_type": "execute_result"
    }
   ],
   "source": [
    "df['MasVnrType'].isnull().any()"
   ]
  },
  {
   "cell_type": "code",
   "execution_count": 29,
   "metadata": {},
   "outputs": [
    {
     "data": {
      "text/plain": [
       "0    0.821993\n",
       "1    0.821993\n",
       "2    0.821993\n",
       "3   -0.068729\n",
       "4    0.821993\n",
       "Name: SaleCondition, dtype: float64"
      ]
     },
     "execution_count": 29,
     "metadata": {},
     "output_type": "execute_result"
    }
   ],
   "source": [
    "#Don't include SaleType instead include SaleCondition\n",
    "def convert_SaleCondition(d, x, y, col_name):\n",
    "    import pandas as pd\n",
    "    for ele in range(len(x)):\n",
    "        if x[ele]=='Abnorml':\n",
    "            if x[ele] in y:\n",
    "                x[ele]=-y[x[ele]]\n",
    "                \n",
    "        else:\n",
    "            if x[ele] in y:\n",
    "                x[ele]=y[x[ele]]\n",
    "        \n",
    "    d.drop(col_name, axis=1)\n",
    "    d[col_name]=pd.Series(x)\n",
    "    return d[col_name].head()\n",
    "\n",
    "convert_SaleCondition(df, df['SaleCondition'].tolist(), dict(df['SaleCondition'].value_counts()/len(df)), 'SaleCondition')"
   ]
  },
  {
   "cell_type": "code",
   "execution_count": 30,
   "metadata": {
    "collapsed": true
   },
   "outputs": [],
   "source": [
    "#To find the age of a building by subtracting 'YearBuilt' from 'YrSold' \n",
    "df['Age_building']=(df['YrSold']-df['YearBuilt'])"
   ]
  },
  {
   "cell_type": "code",
   "execution_count": 31,
   "metadata": {
    "collapsed": true
   },
   "outputs": [],
   "source": [
    "#To find the number of years since a building had been remodeled before the time it was sold by subtracting 'YearRemodAdd' from\n",
    "#'YrSold'\n",
    "df['Since_remodeled']=(df['YrSold']-df['YearRemodAdd'])\n",
    "\n",
    "\n"
   ]
  },
  {
   "cell_type": "code",
   "execution_count": 32,
   "metadata": {
    "collapsed": true
   },
   "outputs": [],
   "source": [
    "#Filling in the missing values in 'GarageYrBlt'\n",
    "df.GarageYrBlt = df.GarageYrBlt.fillna(df['GarageYrBlt'].median())"
   ]
  },
  {
   "cell_type": "code",
   "execution_count": 33,
   "metadata": {
    "collapsed": true
   },
   "outputs": [],
   "source": [
    "#GarageYrBlt Vs. SalePrice It is possible to get the info on whether the garage is a old one or recently built and thereby\n",
    "#check how that had affected the SalePrice\n",
    "\n",
    "#To find the age of a building by subtracting 'YearBuilt' from 'YrSold' \n",
    "df['Age_garage']=(df['YrSold']-df['GarageYrBlt'])"
   ]
  },
  {
   "cell_type": "code",
   "execution_count": 34,
   "metadata": {},
   "outputs": [
    {
     "data": {
      "text/plain": [
       "Index(['Id', 'MSSubClass', 'MSZoning', 'LotFrontage', 'LotArea', 'Street',\n",
       "       'Alley', 'LotShape', 'LandContour', 'Utilities', 'LotConfig',\n",
       "       'LandSlope', 'Neighborhood', 'Condition1', 'Condition2', 'BldgType',\n",
       "       'HouseStyle', 'OverallQual', 'OverallCond', 'YearBuilt', 'YearRemodAdd',\n",
       "       'RoofStyle', 'RoofMatl', 'Exterior1st', 'Exterior2nd', 'MasVnrType',\n",
       "       'MasVnrArea', 'ExterQual', 'ExterCond', 'Foundation', 'BsmtQual',\n",
       "       'BsmtCond', 'BsmtExposure', 'BsmtFinType1', 'BsmtFinSF1',\n",
       "       'BsmtFinType2', 'BsmtFinSF2', 'BsmtUnfSF', 'TotalBsmtSF', 'Heating',\n",
       "       'HeatingQC', 'CentralAir', 'Electrical', '1stFlrSF', '2ndFlrSF',\n",
       "       'LowQualFinSF', 'GrLivArea', 'BsmtFullBath', 'BsmtHalfBath', 'FullBath',\n",
       "       'HalfBath', 'BedroomAbvGr', 'KitchenAbvGr', 'KitchenQual',\n",
       "       'TotRmsAbvGrd', 'Functional', 'Fireplaces', 'FireplaceQu', 'GarageType',\n",
       "       'GarageYrBlt', 'GarageFinish', 'GarageCars', 'GarageArea', 'GarageQual',\n",
       "       'GarageCond', 'PavedDrive', 'WoodDeckSF', 'OpenPorchSF',\n",
       "       'EnclosedPorch', '3SsnPorch', 'ScreenPorch', 'PoolArea', 'PoolQC',\n",
       "       'Fence', 'MiscFeature', 'MiscVal', 'MoSold', 'YrSold', 'SaleType',\n",
       "       'SaleCondition', 'SalePrice', 'Season', 'Age_building',\n",
       "       'Since_remodeled', 'Age_garage'],\n",
       "      dtype='object')"
      ]
     },
     "execution_count": 34,
     "metadata": {},
     "output_type": "execute_result"
    }
   ],
   "source": [
    "df.columns"
   ]
  },
  {
   "cell_type": "code",
   "execution_count": 35,
   "metadata": {
    "scrolled": false
   },
   "outputs": [
    {
     "data": {
      "text/plain": [
       "1    1387\n",
       "2      65\n",
       "3       2\n",
       "0       1\n",
       "Name: KitchenAbvGr, dtype: int64"
      ]
     },
     "execution_count": 35,
     "metadata": {},
     "output_type": "execute_result"
    }
   ],
   "source": [
    "df['KitchenAbvGr'].value_counts()"
   ]
  },
  {
   "cell_type": "code",
   "execution_count": 36,
   "metadata": {},
   "outputs": [
    {
     "data": {
      "text/plain": [
       "RL         1146\n",
       "RM          218\n",
       "FV           65\n",
       "RH           16\n",
       "C (all)      10\n",
       "Name: MSZoning, dtype: int64"
      ]
     },
     "execution_count": 36,
     "metadata": {},
     "output_type": "execute_result"
    }
   ],
   "source": [
    "df['MSZoning'].value_counts()"
   ]
  },
  {
   "cell_type": "code",
   "execution_count": 37,
   "metadata": {
    "scrolled": false
   },
   "outputs": [],
   "source": [
    "# def convert_MSzoning(d, x, y, col_name):\n",
    "#     import pandas as pd\n",
    "#     for ele in range(len(x)):\n",
    "#         if (x[ele]=='FV') | (x[ele]=='C (all)'):\n",
    "#             if x[ele] in y:\n",
    "#                 x[ele]=-y[x[ele]]\n",
    "                \n",
    "#         else:\n",
    "#             if x[ele] in y:\n",
    "#                 x[ele]=y[x[ele]]\n",
    "        \n",
    "#     d.drop(col_name, axis=1)\n",
    "#     d[col_name]=pd.Series(x)\n",
    "#     return d[col_name].head()\n",
    "\n"
   ]
  },
  {
   "cell_type": "code",
   "execution_count": 38,
   "metadata": {
    "scrolled": true
   },
   "outputs": [
    {
     "data": {
      "text/plain": [
       "0   -150\n",
       "1   -284\n",
       "2   -434\n",
       "3   -540\n",
       "4   -490\n",
       "Name: BsmtUnfSF, dtype: int64"
      ]
     },
     "execution_count": 38,
     "metadata": {},
     "output_type": "execute_result"
    }
   ],
   "source": [
    "#To negate the values in 'BsmtUnfSF'\n",
    "\n",
    "def convert_BsmtUnfSF(d, x, col_name):\n",
    "    import pandas as pd\n",
    "    for ele in range(len(x)):\n",
    "        if x[ele]!=0:\n",
    "            x[ele]=-x[ele]\n",
    "        \n",
    "    d.drop(col_name, axis=1)\n",
    "    d[col_name]=pd.Series(x)\n",
    "    return d[col_name].head()\n",
    "\n",
    "convert_BsmtUnfSF(df, df['BsmtUnfSF'].tolist(), 'BsmtUnfSF')"
   ]
  },
  {
   "cell_type": "code",
   "execution_count": 39,
   "metadata": {},
   "outputs": [
    {
     "data": {
      "text/plain": [
       "Typ     1355\n",
       "Min2      34\n",
       "Min1      31\n",
       "Mod       15\n",
       "Maj1      14\n",
       "Maj2       5\n",
       "Sev        1\n",
       "Name: Functional, dtype: int64"
      ]
     },
     "execution_count": 39,
     "metadata": {},
     "output_type": "execute_result"
    }
   ],
   "source": [
    "df['Functional'].value_counts()"
   ]
  },
  {
   "cell_type": "code",
   "execution_count": 58,
   "metadata": {},
   "outputs": [],
   "source": [
    "#'Functional' has minor damages to moderate, major, and severe damages. So negating the values of moderate, major 1 & 2,\n",
    "#and severe damages\n",
    "\n",
    "def convert_Functional(d, x, y, col_name):\n",
    "    import pandas as pd\n",
    "    for ele in range(len(x)):\n",
    "        if (x[ele]=='Mod') | (x[ele]=='Maj1') | (x[ele]=='Maj2') | (x[ele]=='Sev'):\n",
    "            if x[ele] in y:\n",
    "                x[ele]=-y[x[ele]]\n",
    "                \n",
    "        else:\n",
    "            if x[ele] in y:\n",
    "                x[ele]=y[x[ele]]\n",
    "        \n",
    "    d.drop(col_name, axis=1)\n",
    "    d[col_name]=pd.Series(x)\n",
    "    return d[col_name].head()\n",
    "\n",
    "convert_Functional(df, df['Functional'].tolist(), dict(df['Functional'].value_counts()/len(df)), 'Functional')"
   ]
  },
  {
   "cell_type": "code",
   "execution_count": 43,
   "metadata": {
    "scrolled": false
   },
   "outputs": [
    {
     "data": {
      "text/plain": [
       "0    0.787629\n",
       "1    0.787629\n",
       "2    0.787629\n",
       "3    0.787629\n",
       "4    0.787629\n",
       "Name: MSZoning, dtype: float64"
      ]
     },
     "execution_count": 43,
     "metadata": {},
     "output_type": "execute_result"
    }
   ],
   "source": [
    "#To convert the categorical values in the column: 'Neighborhood', 'MasVnrType', 'MoSold', \n",
    "def convert_categorical(d, x, y, col_name):\n",
    "    import pandas as pd\n",
    "    for ele in range(len(x)):\n",
    "        if x[ele] in y:\n",
    "            x[ele]=y[x[ele]]\n",
    "\n",
    "            \n",
    "    d.drop(col_name, axis=1)\n",
    "    d[col_name]=pd.Series(x)\n",
    "    return d[col_name].head()\n",
    "\n",
    "convert_categorical(df, df['KitchenQual'].tolist(), dict(df['KitchenQual'].value_counts()/len(df)), 'KitchenQual')\n",
    "\n",
    "convert_categorical(df, df['HouseStyle'].tolist(), dict(df['HouseStyle'].value_counts()/len(df)), 'HouseStyle')\n",
    "\n",
    "convert_categorical(df, df['BsmtQual'].tolist(), dict(df['BsmtQual'].value_counts()/len(df)), 'BsmtQual')\n",
    "\n",
    "convert_categorical(df, df['Electrical'].tolist(), dict(df['Electrical'].value_counts()/len(df)), 'Electrical')\n",
    "\n",
    "convert_categorical(df, df['MoSold'].tolist(), dict(df['MoSold'].value_counts()/len(df)), 'MoSold')\n",
    "\n",
    "convert_categorical(df, df['Season'].tolist(), dict(df['Season'].value_counts()/len(df)), 'Season')\n",
    "\n",
    "convert_categorical(df, df['Neighborhood'].tolist(), dict(df['Neighborhood'].value_counts()/len(df)), 'Neighborhood')\n",
    "\n",
    "convert_categorical(df, df['BldgType'].tolist(), dict(df['BldgType'].value_counts()/len(df)), 'BldgType')\n",
    "\n",
    "convert_categorical(df, df['SaleType'].tolist(), dict(df['SaleType'].value_counts()/len(df)), 'SaleType')\n",
    "\n",
    "convert_categorical(df, df['MSZoning'].tolist(), dict(df['MSZoning'].value_counts()/len(df)), 'MSZoning')\n",
    "\n"
   ]
  },
  {
   "cell_type": "code",
   "execution_count": 44,
   "metadata": {
    "scrolled": true
   },
   "outputs": [
    {
     "data": {
      "text/plain": [
       "0    0.208247\n",
       "1    0.224055\n",
       "2    0.208247\n",
       "3    0.215120\n",
       "4    0.208247\n",
       "Name: YrSold, dtype: float64"
      ]
     },
     "execution_count": 44,
     "metadata": {},
     "output_type": "execute_result"
    }
   ],
   "source": [
    "def convert_categorical(d, x, y, col_name):\n",
    "    import pandas as pd\n",
    "    for ele in range(len(x)):\n",
    "        if x[ele] in y:\n",
    "            x[ele]=y[x[ele]]\n",
    "\n",
    "            \n",
    "    d.drop(col_name, axis=1)\n",
    "    d[col_name]=pd.Series(x)\n",
    "    return d[col_name].head()\n",
    "\n",
    "convert_categorical(df, df['YrSold'].tolist(), dict(df['YrSold'].value_counts()/len(df)), 'YrSold')\n",
    "\n"
   ]
  },
  {
   "cell_type": "code",
   "execution_count": 45,
   "metadata": {
    "collapsed": true
   },
   "outputs": [],
   "source": [
    "# 'KitchenAbvGr', 'BsmtFullBath', 'BsmtUnfSF', 'Functional', 'BedroomAbvGr', 'MSZoning'"
   ]
  },
  {
   "cell_type": "code",
   "execution_count": 46,
   "metadata": {
    "collapsed": true
   },
   "outputs": [],
   "source": [
    "cols = [col for col in df.columns if col in ['LotArea', 'Neighborhood', 'GarageCars','MasVnrType', 'BsmtQual', 'TotalBsmtSF', '1stFlrSF','2ndFlrSF', 'GrLivArea', 'FullBath', 'HalfBath', 'TotRmsAbvGrd','GarageType', 'GarageArea', 'WoodDeckSF', 'MoSold', 'SaleType','SaleCondition','Age_building', 'Since_remodeled', 'Age_garage', 'BldgType', 'MSZoning', 'Season', 'KitchenQual', 'BedroomAbvGr', 'Functional', 'BsmtUnfSF','BsmtFullBath', 'KitchenAbvGr','YrSold','SalePrice']]\n",
    "df1 = df[cols]"
   ]
  },
  {
   "cell_type": "code",
   "execution_count": 47,
   "metadata": {},
   "outputs": [
    {
     "data": {
      "text/plain": [
       "32"
      ]
     },
     "execution_count": 47,
     "metadata": {},
     "output_type": "execute_result"
    }
   ],
   "source": [
    "len(df1.columns)"
   ]
  },
  {
   "cell_type": "code",
   "execution_count": 59,
   "metadata": {},
   "outputs": [
    {
     "data": {
      "text/plain": [
       "1455"
      ]
     },
     "execution_count": 59,
     "metadata": {},
     "output_type": "execute_result"
    }
   ],
   "source": [
    "len(df1)"
   ]
  },
  {
   "cell_type": "code",
   "execution_count": 48,
   "metadata": {
    "collapsed": true
   },
   "outputs": [],
   "source": [
    "y=df1['SalePrice'].values"
   ]
  },
  {
   "cell_type": "code",
   "execution_count": 49,
   "metadata": {
    "collapsed": true
   },
   "outputs": [],
   "source": [
    "df1=df1.drop('SalePrice', axis=1)\n",
    "\n",
    "\n",
    "\n"
   ]
  },
  {
   "cell_type": "code",
   "execution_count": 50,
   "metadata": {
    "collapsed": true
   },
   "outputs": [],
   "source": [
    "X=df1.values"
   ]
  },
  {
   "cell_type": "code",
   "execution_count": 51,
   "metadata": {
    "collapsed": true
   },
   "outputs": [],
   "source": [
    "from sklearn.ensemble import RandomForestRegressor\n",
    "RFR1 = RandomForestRegressor(random_state=42)\n",
    "\n"
   ]
  },
  {
   "cell_type": "code",
   "execution_count": 52,
   "metadata": {
    "collapsed": true
   },
   "outputs": [],
   "source": [
    "from sklearn.model_selection import GridSearchCV\n",
    "\n",
    "parameters ={'n_estimators':[100, 150, 200, 250], 'min_samples_split':[2, 3, 4, 5], 'min_samples_leaf':[1, 2, 3], 'max_features':[10, 11, 12, 13]}"
   ]
  },
  {
   "cell_type": "code",
   "execution_count": 89,
   "metadata": {
    "collapsed": true
   },
   "outputs": [],
   "source": [
    "# from sklearn.model_selection import StratifiedKFold\n",
    "# skf = StratifiedKFold(n_splits=10, random_state=7425, shuffle=True)\n"
   ]
  },
  {
   "cell_type": "code",
   "execution_count": 55,
   "metadata": {
    "collapsed": true
   },
   "outputs": [],
   "source": [
    "\n",
    "from sklearn.metrics import mean_squared_error\n",
    "\n",
    "# neg_mse = lambda y1, y2: -mean_squared_error(y1, y2)\n",
    "\n",
    "\n",
    "clf_rfr = GridSearchCV(RFR1, parameters, scoring='neg_mean_squared_error', cv=10)"
   ]
  },
  {
   "cell_type": "code",
   "execution_count": 56,
   "metadata": {},
   "outputs": [
    {
     "data": {
      "text/plain": [
       "GridSearchCV(cv=10, error_score='raise',\n",
       "       estimator=RandomForestRegressor(bootstrap=True, criterion='mse', max_depth=None,\n",
       "           max_features='auto', max_leaf_nodes=None,\n",
       "           min_impurity_decrease=0.0, min_impurity_split=None,\n",
       "           min_samples_leaf=1, min_samples_split=2,\n",
       "           min_weight_fraction_leaf=0.0, n_estimators=10, n_jobs=1,\n",
       "           oob_score=False, random_state=42, verbose=0, warm_start=False),\n",
       "       fit_params=None, iid=True, n_jobs=1,\n",
       "       param_grid={'min_samples_leaf': [1, 2, 3], 'min_samples_split': [2, 3, 4, 5], 'max_features': [10, 11, 12, 13], 'n_estimators': [100, 150, 200, 250]},\n",
       "       pre_dispatch='2*n_jobs', refit=True, return_train_score='warn',\n",
       "       scoring='neg_mean_squared_error', verbose=0)"
      ]
     },
     "execution_count": 56,
     "metadata": {},
     "output_type": "execute_result"
    }
   ],
   "source": [
    "clf_rfr.fit(X, y)#run at 10.01 end at 10.46"
   ]
  },
  {
   "cell_type": "code",
   "execution_count": 57,
   "metadata": {},
   "outputs": [
    {
     "data": {
      "text/plain": [
       "-719607086.6975623"
      ]
     },
     "execution_count": 57,
     "metadata": {},
     "output_type": "execute_result"
    }
   ],
   "source": [
    "clf_rfr.best_score_"
   ]
  }
 ],
 "metadata": {
  "kernelspec": {
   "display_name": "Python [conda root]",
   "language": "python",
   "name": "conda-root-py"
  },
  "language_info": {
   "codemirror_mode": {
    "name": "ipython",
    "version": 3
   },
   "file_extension": ".py",
   "mimetype": "text/x-python",
   "name": "python",
   "nbconvert_exporter": "python",
   "pygments_lexer": "ipython3",
   "version": "3.5.6"
  }
 },
 "nbformat": 4,
 "nbformat_minor": 2
}
