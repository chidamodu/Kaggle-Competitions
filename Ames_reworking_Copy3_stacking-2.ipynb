{
 "cells": [
  {
   "cell_type": "code",
   "execution_count": 4,
   "metadata": {
    "collapsed": true
   },
   "outputs": [],
   "source": [
    "import pandas as pd\n",
    "\n",
    "def file_read(fn):\n",
    "\tdf=pd.read_csv(fn)\n",
    "\tdf.drop(df.index[[523,691,1182,1298, 1169]], inplace=True)\n",
    "\tdf=df.reset_index(drop=True)\n",
    "\t# print(df['MoSold'].unique())\n",
    "\treturn df\n",
    "\n",
    "def month_season():\n",
    "\timport calendar\n",
    "\t# from time import strptime\n",
    "\t# look_up = {'1': 'Jan', '2': 'Feb', '3': 'Mar', '4': 'Apr', '5': 'May','6': 'Jun', '7': 'Jul', '8': 'Aug', '9': 'Sep', '10': 'Oct', '11': 'Nov', '12': 'Dec'}\n",
    "\t# df['MoSold']=df['MoSold'].apply(lambda x: look_up[x])\n",
    "\tdf['MoSold']=df['MoSold'].apply(lambda x: calendar.month_abbr[x])\n",
    "\tdf['Season']=df['MoSold'].copy()\n",
    "\n",
    "def season_create():\n",
    "\tdf.loc[(df['MoSold']=='Jun') | (df['MoSold']=='Jul') | (df['MoSold']=='Aug'),'Season']='Summer'\n",
    "\tdf.loc[(df['MoSold']=='Mar') | (df['MoSold']=='Apr') | (df['MoSold']=='May'),'Season']= 'Spring'\n",
    "\tdf.loc[(df['MoSold']=='Sep') | (df['MoSold']=='Oct') | (df['MoSold']=='Nov'),'Season']='Autumn'\n",
    "\tdf.loc[(df['MoSold']=='Jan') | (df['MoSold']=='Feb') | (df['MoSold']=='Dec'),'Season']='Winter'\n",
    "\n",
    "def neighborhood_convert():\n",
    "\tfrom collections import defaultdict\n",
    "\td2=defaultdict(list)\n",
    "\td=dict(df.groupby('Neighborhood')['SalePrice'].max())\n",
    "\tfor k, v in d.items():\n",
    "\t\tif v<=200000:\n",
    "\t\t\td2['g1'].append(k)\n",
    "\t\telif (v>200000) & (v<=300000):\n",
    "\t\t\td2['g2'].append(k)\n",
    "\t\telif (v>300000) & (v<=400000):\n",
    "\t\t\td2['g3'].append(k)\n",
    "\t\telse:\n",
    "\t\t\td2['g4'].append(k)\n",
    "\n",
    "\tdf.loc[(df['Neighborhood']=='IDOTRR')|(df['Neighborhood']=='MeadowV')|(df['Neighborhood']=='SWISU')|(df['Neighborhood']=='BrDale')|(df['Neighborhood']=='NPkVill')|(df['Neighborhood']=='Blueste')|(df['Neighborhood']=='Sawyer'),'Neighborhood']='g'  \n",
    "\tdf.loc[(df['Neighborhood']=='Blmngtn')|(df['Neighborhood']=='Mitchel')|(df['Neighborhood']=='BrkSide')|(df['Neighborhood']=='NWAmes'),'Neighborhood']='h' \n",
    "\tdf.loc[(df['Neighborhood']=='Veenker')|(df['Neighborhood']=='SawyerW')|(df['Neighborhood']=='ClearCr')|(df['Neighborhood']=='Edwards')|(df['Neighborhood']=='Gilbert')|(df['Neighborhood']=='NAmes')|(df['Neighborhood']=='Timber')|(df['Neighborhood']=='Crawfor'),'Neighborhood']='i' \n",
    "\tdf.loc[(df['Neighborhood']=='NoRidge')|(df['Neighborhood']=='NridgHt')|(df['Neighborhood']=='StoneBr')|(df['Neighborhood']=='OldTown')|(df['Neighborhood']=='Somerst')|(df['Neighborhood']=='CollgCr'),'Neighborhood']='j'\n",
    "\n",
    "def fill_missing_values():\n",
    "\tdf.GarageType = df.GarageType.fillna('BuiltIn')\n",
    "\tdf.loc[df['BsmtQual'].isnull(), 'BsmtQual'] = 'missing'\n",
    "\tdf.loc[df['BsmtQual']=='missing', 'BsmtQual'] = 'Fa'\n",
    "\tdf.loc[df['MasVnrType'].isnull(), 'MasVnrType'] = 'Stone'\n",
    "\tdf.GarageYrBlt = df.GarageYrBlt.fillna(df['GarageYrBlt'].median())\n",
    "\n",
    "def find_age():\n",
    "\tdf['Age_building']=(df['YrSold']-df['YearBuilt'])\n",
    "\tdf['Since_remodeled']=(df['YrSold']-df['YearRemodAdd'])\n",
    "\tdf['Age_garage']=(df['YrSold']-df['GarageYrBlt'])\n",
    "\n",
    "\n",
    "def convert_garagetype(x, y, col_name):\n",
    "\tfor ele in range(len(x)):\n",
    "\t\tif x[ele]=='Detchd':\n",
    "\t\t\tif x[ele] in y:\n",
    "\t\t\t\tx[ele]=-y[x[ele]]\n",
    "\t\telse:\n",
    "\t\t\tif x[ele] in y:\n",
    "\t\t\t\tx[ele]=y[x[ele]]\n",
    "\tdf.drop(col_name, axis=1)\n",
    "\tdf[col_name]=pd.Series(x)\n",
    "\t    # return d[col_name].head()\n",
    "\n",
    "\n",
    "\n",
    "def convert_MasVnrType(x, y, col_name):\n",
    "\tfor ele in range(len(x)):\n",
    "\t\tif x[ele]=='None':\n",
    "\t\t\tif x[ele] in y:\n",
    "\t\t\t\tx[ele]=-y[x[ele]]\n",
    "\t\n",
    "\t\telse:\n",
    "\t\t\tif x[ele] in y:\n",
    "\t\t\t\tx[ele]=y[x[ele]]\n",
    "\tdf.drop(col_name, axis=1)\n",
    "\tdf[col_name]=pd.Series(x)\n",
    "\t    # return d[col_name].head()\n",
    "\n",
    "\n",
    "\n",
    "\n",
    "def convert_SaleCondition(x, y, col_name):\n",
    "\tfor ele in range(len(x)):\n",
    "\t\tif x[ele]=='Abnorml':\n",
    "\t\t\tif x[ele] in y:\n",
    "\t\t\t\tx[ele]=-y[x[ele]]\n",
    "\t\telse:\n",
    "\t\t\tif x[ele] in y:\n",
    "\t\t\t\tx[ele]=y[x[ele]]\n",
    "\tdf.drop(col_name, axis=1)\n",
    "\tdf[col_name]=pd.Series(x)\n",
    "    # return d[col_name].head()\n",
    "\n",
    "\n",
    "def convert_BsmtUnfSF(x, col_name):\n",
    "\tfor ele in range(len(x)):\n",
    "\t\tif x[ele]!=0:\n",
    "\t\t\tx[ele]=-x[ele]\n",
    "\tdf.drop(col_name, axis=1)\n",
    "\tdf[col_name]=pd.Series(x)\n",
    "    # return d[col_name].head()\n",
    "\n",
    "\n",
    "\n",
    "\n",
    "def convert_Functional(x, y, col_name):\n",
    "\tfor ele in range(len(x)):\n",
    "\t\tif (x[ele]=='Mod') | (x[ele]=='Maj1') | (x[ele]=='Maj2') | (x[ele]=='Sev'):\n",
    "\t\t\tif x[ele] in y:\n",
    "\t\t\t\tx[ele]=-y[x[ele]]\n",
    "\t\telse:\n",
    "\t\t\tif x[ele] in y:\n",
    "\t\t\t\tx[ele]=y[x[ele]]        \n",
    "\tdf.drop(col_name, axis=1)\n",
    "\tdf[col_name]=pd.Series(x)\n",
    "    # return d[col_name].head()\n",
    "\n",
    "\n",
    "\n",
    "\n",
    "def convert_categorical(x, y, col_name):\n",
    "\tfor ele in range(len(x)):\n",
    "\t\tif x[ele] in y:\n",
    "\t\t\tx[ele]=y[x[ele]]\n",
    "\tdf.drop(col_name, axis=1)\n",
    "\tdf[col_name]=pd.Series(x)\n",
    "    # return d[col_name].head()\n",
    "\n",
    "\n",
    "def convert_yearsold(x, y, col_name):\n",
    "\tfor ele in range(len(x)):\n",
    "\t\tif x[ele] in y:\n",
    "\t\t\tx[ele]=y[x[ele]]\n",
    "\tdf.drop(col_name, axis=1)\n",
    "\tdf[col_name]=pd.Series(x)\n",
    "    # return d[col_name].head()\n",
    "\n",
    "\n",
    "def main_fn():\n",
    "\tmonth_season()\n",
    "\tseason_create()\n",
    "\tneighborhood_convert()\n",
    "\tfill_missing_values()\n",
    "\tfind_age()\n",
    "\tconvert_garagetype(df['GarageType'].tolist(), dict(df['GarageType'].value_counts()/len(df)), 'GarageType')\n",
    "\tconvert_MasVnrType(df['MasVnrType'].tolist(), dict(df['MasVnrType'].value_counts()/len(df)), 'MasVnrType')\n",
    "\tconvert_SaleCondition(df['SaleCondition'].tolist(), dict(df['SaleCondition'].value_counts()/len(df)), 'SaleCondition')\n",
    "\tconvert_BsmtUnfSF(df['BsmtUnfSF'].tolist(), 'BsmtUnfSF')\n",
    "\tconvert_Functional(df['Functional'].tolist(), dict(df['Functional'].value_counts()/len(df)), 'Functional')\n",
    "\tconvert_categorical(df['KitchenQual'].tolist(), dict(df['KitchenQual'].value_counts()/len(df)), 'KitchenQual')\n",
    "\tconvert_categorical(df['HouseStyle'].tolist(), dict(df['HouseStyle'].value_counts()/len(df)), 'HouseStyle')\n",
    "\tconvert_categorical(df['BsmtQual'].tolist(), dict(df['BsmtQual'].value_counts()/len(df)), 'BsmtQual')\n",
    "\tconvert_categorical(df['Electrical'].tolist(), dict(df['Electrical'].value_counts()/len(df)), 'Electrical')\n",
    "\tconvert_categorical(df['MoSold'].tolist(), dict(df['MoSold'].value_counts()/len(df)), 'MoSold')\n",
    "\tconvert_categorical(df['Season'].tolist(), dict(df['Season'].value_counts()/len(df)), 'Season')\n",
    "\tconvert_categorical(df['Neighborhood'].tolist(), dict(df['Neighborhood'].value_counts()/len(df)), 'Neighborhood')\n",
    "\tconvert_categorical(df['BldgType'].tolist(), dict(df['BldgType'].value_counts()/len(df)), 'BldgType')\n",
    "\tconvert_categorical(df['SaleType'].tolist(), dict(df['SaleType'].value_counts()/len(df)), 'SaleType')\n",
    "\tconvert_categorical(df['MSZoning'].tolist(), dict(df['MSZoning'].value_counts()/len(df)), 'MSZoning')\n",
    "\tconvert_yearsold(df['YrSold'].tolist(), dict(df['YrSold'].value_counts()/len(df)), 'YrSold')\n",
    "\n",
    "\n",
    "\tcols = [col for col in df.columns if col in ['LotArea', 'Neighborhood', 'GarageCars','MasVnrType', 'BsmtQual', 'TotalBsmtSF', '1stFlrSF','2ndFlrSF', 'GrLivArea', 'FullBath', 'HalfBath', 'TotRmsAbvGrd','GarageType', 'GarageArea', 'WoodDeckSF', 'MoSold', 'SaleType','SaleCondition','Age_building', 'Since_remodeled', 'Age_garage', 'BldgType', 'MSZoning', 'Season', 'KitchenQual', 'BedroomAbvGr', 'Functional', 'BsmtUnfSF','BsmtFullBath', 'KitchenAbvGr','YrSold','SalePrice']]\n",
    "\tdf1 = df[cols]\n",
    "\t# print(df1.head())\n",
    "\treturn df1\n",
    "\t#print(df1.head())\n",
    "\n",
    "df=file_read('/Users/chidam/Desktop/housing_prices_kaggle_train.csv')\n",
    "df_fair=main_fn()\n",
    "\n",
    "\n",
    "\n",
    "\n",
    "\n"
   ]
  },
  {
   "cell_type": "code",
   "execution_count": 2,
   "metadata": {
    "collapsed": true
   },
   "outputs": [],
   "source": [
    "# from sklearn.externals import joblib\n",
    "# joblib.dump(df_fair, 'dataframe_Ames_joblib')"
   ]
  },
  {
   "cell_type": "code",
   "execution_count": 1,
   "metadata": {
    "collapsed": true
   },
   "outputs": [],
   "source": [
    "from sklearn.externals import joblib"
   ]
  },
  {
   "cell_type": "code",
   "execution_count": 2,
   "metadata": {
    "collapsed": true
   },
   "outputs": [],
   "source": [
    "df_final=joblib.load('dataframe_Ames_joblib')"
   ]
  },
  {
   "cell_type": "code",
   "execution_count": 3,
   "metadata": {
    "scrolled": false
   },
   "outputs": [
    {
     "data": {
      "text/html": [
       "<div>\n",
       "<style>\n",
       "    .dataframe thead tr:only-child th {\n",
       "        text-align: right;\n",
       "    }\n",
       "\n",
       "    .dataframe thead th {\n",
       "        text-align: left;\n",
       "    }\n",
       "\n",
       "    .dataframe tbody tr th {\n",
       "        vertical-align: top;\n",
       "    }\n",
       "</style>\n",
       "<table border=\"1\" class=\"dataframe\">\n",
       "  <thead>\n",
       "    <tr style=\"text-align: right;\">\n",
       "      <th></th>\n",
       "      <th>MSZoning</th>\n",
       "      <th>LotArea</th>\n",
       "      <th>Neighborhood</th>\n",
       "      <th>BldgType</th>\n",
       "      <th>MasVnrType</th>\n",
       "      <th>BsmtQual</th>\n",
       "      <th>BsmtUnfSF</th>\n",
       "      <th>TotalBsmtSF</th>\n",
       "      <th>1stFlrSF</th>\n",
       "      <th>2ndFlrSF</th>\n",
       "      <th>...</th>\n",
       "      <th>WoodDeckSF</th>\n",
       "      <th>MoSold</th>\n",
       "      <th>YrSold</th>\n",
       "      <th>SaleType</th>\n",
       "      <th>SaleCondition</th>\n",
       "      <th>SalePrice</th>\n",
       "      <th>Season</th>\n",
       "      <th>Age_building</th>\n",
       "      <th>Since_remodeled</th>\n",
       "      <th>Age_garage</th>\n",
       "    </tr>\n",
       "  </thead>\n",
       "  <tbody>\n",
       "    <tr>\n",
       "      <th>0</th>\n",
       "      <td>0.787629</td>\n",
       "      <td>8450</td>\n",
       "      <td>0.336082</td>\n",
       "      <td>0.835052</td>\n",
       "      <td>0.304467</td>\n",
       "      <td>0.424742</td>\n",
       "      <td>-150</td>\n",
       "      <td>856</td>\n",
       "      <td>856</td>\n",
       "      <td>854</td>\n",
       "      <td>...</td>\n",
       "      <td>0</td>\n",
       "      <td>0.035739</td>\n",
       "      <td>0.208247</td>\n",
       "      <td>0.868729</td>\n",
       "      <td>0.821993</td>\n",
       "      <td>208500</td>\n",
       "      <td>0.114777</td>\n",
       "      <td>5</td>\n",
       "      <td>5</td>\n",
       "      <td>5.0</td>\n",
       "    </tr>\n",
       "    <tr>\n",
       "      <th>1</th>\n",
       "      <td>0.787629</td>\n",
       "      <td>9600</td>\n",
       "      <td>0.404811</td>\n",
       "      <td>0.835052</td>\n",
       "      <td>-0.593127</td>\n",
       "      <td>0.424742</td>\n",
       "      <td>-284</td>\n",
       "      <td>1262</td>\n",
       "      <td>1262</td>\n",
       "      <td>0</td>\n",
       "      <td>...</td>\n",
       "      <td>298</td>\n",
       "      <td>0.140206</td>\n",
       "      <td>0.224055</td>\n",
       "      <td>0.868729</td>\n",
       "      <td>0.821993</td>\n",
       "      <td>181500</td>\n",
       "      <td>0.309966</td>\n",
       "      <td>31</td>\n",
       "      <td>31</td>\n",
       "      <td>31.0</td>\n",
       "    </tr>\n",
       "    <tr>\n",
       "      <th>2</th>\n",
       "      <td>0.787629</td>\n",
       "      <td>11250</td>\n",
       "      <td>0.336082</td>\n",
       "      <td>0.835052</td>\n",
       "      <td>0.304467</td>\n",
       "      <td>0.424742</td>\n",
       "      <td>-434</td>\n",
       "      <td>920</td>\n",
       "      <td>920</td>\n",
       "      <td>866</td>\n",
       "      <td>...</td>\n",
       "      <td>0</td>\n",
       "      <td>0.043299</td>\n",
       "      <td>0.208247</td>\n",
       "      <td>0.868729</td>\n",
       "      <td>0.821993</td>\n",
       "      <td>223500</td>\n",
       "      <td>0.158076</td>\n",
       "      <td>7</td>\n",
       "      <td>6</td>\n",
       "      <td>7.0</td>\n",
       "    </tr>\n",
       "    <tr>\n",
       "      <th>3</th>\n",
       "      <td>0.787629</td>\n",
       "      <td>9550</td>\n",
       "      <td>0.404811</td>\n",
       "      <td>0.835052</td>\n",
       "      <td>-0.593127</td>\n",
       "      <td>0.446048</td>\n",
       "      <td>-540</td>\n",
       "      <td>756</td>\n",
       "      <td>961</td>\n",
       "      <td>756</td>\n",
       "      <td>...</td>\n",
       "      <td>0</td>\n",
       "      <td>0.035739</td>\n",
       "      <td>0.215120</td>\n",
       "      <td>0.868729</td>\n",
       "      <td>-0.068729</td>\n",
       "      <td>140000</td>\n",
       "      <td>0.114777</td>\n",
       "      <td>91</td>\n",
       "      <td>36</td>\n",
       "      <td>8.0</td>\n",
       "    </tr>\n",
       "    <tr>\n",
       "      <th>4</th>\n",
       "      <td>0.787629</td>\n",
       "      <td>14260</td>\n",
       "      <td>0.336082</td>\n",
       "      <td>0.835052</td>\n",
       "      <td>0.304467</td>\n",
       "      <td>0.424742</td>\n",
       "      <td>-490</td>\n",
       "      <td>1145</td>\n",
       "      <td>1145</td>\n",
       "      <td>1053</td>\n",
       "      <td>...</td>\n",
       "      <td>192</td>\n",
       "      <td>0.040550</td>\n",
       "      <td>0.208247</td>\n",
       "      <td>0.868729</td>\n",
       "      <td>0.821993</td>\n",
       "      <td>250000</td>\n",
       "      <td>0.114777</td>\n",
       "      <td>8</td>\n",
       "      <td>8</td>\n",
       "      <td>8.0</td>\n",
       "    </tr>\n",
       "  </tbody>\n",
       "</table>\n",
       "<p>5 rows × 32 columns</p>\n",
       "</div>"
      ],
      "text/plain": [
       "   MSZoning  LotArea  Neighborhood  BldgType  MasVnrType  BsmtQual  BsmtUnfSF  \\\n",
       "0  0.787629     8450      0.336082  0.835052    0.304467  0.424742       -150   \n",
       "1  0.787629     9600      0.404811  0.835052   -0.593127  0.424742       -284   \n",
       "2  0.787629    11250      0.336082  0.835052    0.304467  0.424742       -434   \n",
       "3  0.787629     9550      0.404811  0.835052   -0.593127  0.446048       -540   \n",
       "4  0.787629    14260      0.336082  0.835052    0.304467  0.424742       -490   \n",
       "\n",
       "   TotalBsmtSF  1stFlrSF  2ndFlrSF     ...      WoodDeckSF    MoSold  \\\n",
       "0          856       856       854     ...               0  0.035739   \n",
       "1         1262      1262         0     ...             298  0.140206   \n",
       "2          920       920       866     ...               0  0.043299   \n",
       "3          756       961       756     ...               0  0.035739   \n",
       "4         1145      1145      1053     ...             192  0.040550   \n",
       "\n",
       "     YrSold  SaleType  SaleCondition  SalePrice    Season  Age_building  \\\n",
       "0  0.208247  0.868729       0.821993     208500  0.114777             5   \n",
       "1  0.224055  0.868729       0.821993     181500  0.309966            31   \n",
       "2  0.208247  0.868729       0.821993     223500  0.158076             7   \n",
       "3  0.215120  0.868729      -0.068729     140000  0.114777            91   \n",
       "4  0.208247  0.868729       0.821993     250000  0.114777             8   \n",
       "\n",
       "   Since_remodeled  Age_garage  \n",
       "0                5         5.0  \n",
       "1               31        31.0  \n",
       "2                6         7.0  \n",
       "3               36         8.0  \n",
       "4                8         8.0  \n",
       "\n",
       "[5 rows x 32 columns]"
      ]
     },
     "execution_count": 3,
     "metadata": {},
     "output_type": "execute_result"
    }
   ],
   "source": [
    "df_final.head()"
   ]
  },
  {
   "cell_type": "code",
   "execution_count": 4,
   "metadata": {},
   "outputs": [
    {
     "data": {
      "text/plain": [
       "Index(['MSZoning', 'LotArea', 'Neighborhood', 'BldgType', 'MasVnrType',\n",
       "       'BsmtQual', 'BsmtUnfSF', 'TotalBsmtSF', '1stFlrSF', '2ndFlrSF',\n",
       "       'GrLivArea', 'BsmtFullBath', 'FullBath', 'HalfBath', 'BedroomAbvGr',\n",
       "       'KitchenAbvGr', 'KitchenQual', 'TotRmsAbvGrd', 'Functional',\n",
       "       'GarageType', 'GarageCars', 'GarageArea', 'WoodDeckSF', 'MoSold',\n",
       "       'YrSold', 'SaleType', 'SaleCondition', 'SalePrice', 'Season',\n",
       "       'Age_building', 'Since_remodeled', 'Age_garage'],\n",
       "      dtype='object')"
      ]
     },
     "execution_count": 4,
     "metadata": {},
     "output_type": "execute_result"
    }
   ],
   "source": [
    "df_final.columns"
   ]
  },
  {
   "cell_type": "code",
   "execution_count": 5,
   "metadata": {
    "scrolled": true
   },
   "outputs": [
    {
     "data": {
      "text/plain": [
       "Index([], dtype='object')"
      ]
     },
     "execution_count": 5,
     "metadata": {},
     "output_type": "execute_result"
    }
   ],
   "source": [
    "df_final.columns[df_final.isnull().any()]"
   ]
  },
  {
   "cell_type": "code",
   "execution_count": 6,
   "metadata": {
    "collapsed": true
   },
   "outputs": [],
   "source": [
    "numeric_features = df_final.dtypes[df_final.dtypes != \"object\"].index\n"
   ]
  },
  {
   "cell_type": "code",
   "execution_count": 7,
   "metadata": {},
   "outputs": [
    {
     "data": {
      "text/plain": [
       "Index(['MSZoning', 'LotArea', 'Neighborhood', 'BldgType', 'MasVnrType',\n",
       "       'BsmtQual', 'BsmtUnfSF', 'TotalBsmtSF', '1stFlrSF', '2ndFlrSF',\n",
       "       'GrLivArea', 'BsmtFullBath', 'FullBath', 'HalfBath', 'BedroomAbvGr',\n",
       "       'KitchenAbvGr', 'KitchenQual', 'TotRmsAbvGrd', 'Functional',\n",
       "       'GarageType', 'GarageCars', 'GarageArea', 'WoodDeckSF', 'MoSold',\n",
       "       'YrSold', 'SaleType', 'SaleCondition', 'SalePrice', 'Season',\n",
       "       'Age_building', 'Since_remodeled', 'Age_garage'],\n",
       "      dtype='object')"
      ]
     },
     "execution_count": 7,
     "metadata": {},
     "output_type": "execute_result"
    }
   ],
   "source": [
    "numeric_features"
   ]
  },
  {
   "cell_type": "code",
   "execution_count": 8,
   "metadata": {},
   "outputs": [
    {
     "name": "stdout",
     "output_type": "stream",
     "text": [
      "\n",
      "Skew in numerical features: \n",
      "\n"
     ]
    },
    {
     "data": {
      "text/html": [
       "<div>\n",
       "<style>\n",
       "    .dataframe thead tr:only-child th {\n",
       "        text-align: right;\n",
       "    }\n",
       "\n",
       "    .dataframe thead th {\n",
       "        text-align: left;\n",
       "    }\n",
       "\n",
       "    .dataframe tbody tr th {\n",
       "        vertical-align: top;\n",
       "    }\n",
       "</style>\n",
       "<table border=\"1\" class=\"dataframe\">\n",
       "  <thead>\n",
       "    <tr style=\"text-align: right;\">\n",
       "      <th></th>\n",
       "      <th>Skew</th>\n",
       "    </tr>\n",
       "  </thead>\n",
       "  <tbody>\n",
       "    <tr>\n",
       "      <th>LotArea</th>\n",
       "      <td>12.649802</td>\n",
       "    </tr>\n",
       "    <tr>\n",
       "      <th>KitchenAbvGr</th>\n",
       "      <td>4.474988</td>\n",
       "    </tr>\n",
       "    <tr>\n",
       "      <th>WoodDeckSF</th>\n",
       "      <td>1.554142</td>\n",
       "    </tr>\n",
       "    <tr>\n",
       "      <th>SalePrice</th>\n",
       "      <td>1.492896</td>\n",
       "    </tr>\n",
       "    <tr>\n",
       "      <th>1stFlrSF</th>\n",
       "      <td>0.868449</td>\n",
       "    </tr>\n",
       "    <tr>\n",
       "      <th>GrLivArea</th>\n",
       "      <td>0.804365</td>\n",
       "    </tr>\n",
       "    <tr>\n",
       "      <th>2ndFlrSF</th>\n",
       "      <td>0.766416</td>\n",
       "    </tr>\n",
       "    <tr>\n",
       "      <th>HalfBath</th>\n",
       "      <td>0.685608</td>\n",
       "    </tr>\n",
       "    <tr>\n",
       "      <th>Age_garage</th>\n",
       "      <td>0.664237</td>\n",
       "    </tr>\n",
       "    <tr>\n",
       "      <th>TotRmsAbvGrd</th>\n",
       "      <td>0.661165</td>\n",
       "    </tr>\n",
       "    <tr>\n",
       "      <th>Age_building</th>\n",
       "      <td>0.603984</td>\n",
       "    </tr>\n",
       "    <tr>\n",
       "      <th>BsmtFullBath</th>\n",
       "      <td>0.592443</td>\n",
       "    </tr>\n",
       "    <tr>\n",
       "      <th>Since_remodeled</th>\n",
       "      <td>0.497133</td>\n",
       "    </tr>\n",
       "    <tr>\n",
       "      <th>TotalBsmtSF</th>\n",
       "      <td>0.485717</td>\n",
       "    </tr>\n",
       "    <tr>\n",
       "      <th>MasVnrType</th>\n",
       "      <td>0.438480</td>\n",
       "    </tr>\n",
       "    <tr>\n",
       "      <th>BedroomAbvGr</th>\n",
       "      <td>0.216216</td>\n",
       "    </tr>\n",
       "    <tr>\n",
       "      <th>GarageArea</th>\n",
       "      <td>0.133688</td>\n",
       "    </tr>\n",
       "    <tr>\n",
       "      <th>FullBath</th>\n",
       "      <td>0.010689</td>\n",
       "    </tr>\n",
       "    <tr>\n",
       "      <th>MoSold</th>\n",
       "      <td>-0.066548</td>\n",
       "    </tr>\n",
       "    <tr>\n",
       "      <th>GarageCars</th>\n",
       "      <td>-0.343688</td>\n",
       "    </tr>\n",
       "    <tr>\n",
       "      <th>Season</th>\n",
       "      <td>-0.571289</td>\n",
       "    </tr>\n",
       "    <tr>\n",
       "      <th>GarageType</th>\n",
       "      <td>-0.609619</td>\n",
       "    </tr>\n",
       "    <tr>\n",
       "      <th>Neighborhood</th>\n",
       "      <td>-0.871011</td>\n",
       "    </tr>\n",
       "    <tr>\n",
       "      <th>BsmtUnfSF</th>\n",
       "      <td>-0.920384</td>\n",
       "    </tr>\n",
       "    <tr>\n",
       "      <th>MSZoning</th>\n",
       "      <td>-1.436930</td>\n",
       "    </tr>\n",
       "    <tr>\n",
       "      <th>SaleCondition</th>\n",
       "      <td>-1.720079</td>\n",
       "    </tr>\n",
       "    <tr>\n",
       "      <th>BldgType</th>\n",
       "      <td>-1.810278</td>\n",
       "    </tr>\n",
       "    <tr>\n",
       "      <th>YrSold</th>\n",
       "      <td>-2.044152</td>\n",
       "    </tr>\n",
       "    <tr>\n",
       "      <th>KitchenQual</th>\n",
       "      <td>-2.104422</td>\n",
       "    </tr>\n",
       "    <tr>\n",
       "      <th>BsmtQual</th>\n",
       "      <td>-2.190311</td>\n",
       "    </tr>\n",
       "    <tr>\n",
       "      <th>SaleType</th>\n",
       "      <td>-2.191597</td>\n",
       "    </tr>\n",
       "    <tr>\n",
       "      <th>Functional</th>\n",
       "      <td>-3.411067</td>\n",
       "    </tr>\n",
       "  </tbody>\n",
       "</table>\n",
       "</div>"
      ],
      "text/plain": [
       "                      Skew\n",
       "LotArea          12.649802\n",
       "KitchenAbvGr      4.474988\n",
       "WoodDeckSF        1.554142\n",
       "SalePrice         1.492896\n",
       "1stFlrSF          0.868449\n",
       "GrLivArea         0.804365\n",
       "2ndFlrSF          0.766416\n",
       "HalfBath          0.685608\n",
       "Age_garage        0.664237\n",
       "TotRmsAbvGrd      0.661165\n",
       "Age_building      0.603984\n",
       "BsmtFullBath      0.592443\n",
       "Since_remodeled   0.497133\n",
       "TotalBsmtSF       0.485717\n",
       "MasVnrType        0.438480\n",
       "BedroomAbvGr      0.216216\n",
       "GarageArea        0.133688\n",
       "FullBath          0.010689\n",
       "MoSold           -0.066548\n",
       "GarageCars       -0.343688\n",
       "Season           -0.571289\n",
       "GarageType       -0.609619\n",
       "Neighborhood     -0.871011\n",
       "BsmtUnfSF        -0.920384\n",
       "MSZoning         -1.436930\n",
       "SaleCondition    -1.720079\n",
       "BldgType         -1.810278\n",
       "YrSold           -2.044152\n",
       "KitchenQual      -2.104422\n",
       "BsmtQual         -2.190311\n",
       "SaleType         -2.191597\n",
       "Functional       -3.411067"
      ]
     },
     "execution_count": 8,
     "metadata": {},
     "output_type": "execute_result"
    }
   ],
   "source": [
    "from scipy.stats import norm, skew #for some statistics\n",
    "import pandas as pd\n",
    "skewed_feats = df_final[numeric_features].apply(lambda x: skew(x.dropna())).sort_values(ascending=False)\n",
    "print(\"\\nSkew in numerical features: \\n\")\n",
    "skewness = pd.DataFrame({'Skew' :skewed_feats})\n",
    "skewness"
   ]
  },
  {
   "cell_type": "code",
   "execution_count": 9,
   "metadata": {
    "collapsed": true
   },
   "outputs": [],
   "source": [
    "y=df_final['SalePrice'].values"
   ]
  },
  {
   "cell_type": "code",
   "execution_count": 10,
   "metadata": {
    "collapsed": true
   },
   "outputs": [],
   "source": [
    "df_final=df_final.drop('SalePrice', axis=1)"
   ]
  },
  {
   "cell_type": "code",
   "execution_count": 11,
   "metadata": {
    "collapsed": true
   },
   "outputs": [],
   "source": [
    "X=df_final.values"
   ]
  },
  {
   "cell_type": "code",
   "execution_count": 14,
   "metadata": {
    "collapsed": true
   },
   "outputs": [],
   "source": [
    "# from sklearn.model_selection import train_test_split\n",
    "# X_train, X_test, y_train, y_test = train_test_split(X, y, test_size=0.33, random_state=42)"
   ]
  },
  {
   "cell_type": "code",
   "execution_count": 13,
   "metadata": {},
   "outputs": [],
   "source": [
    "from sklearn.linear_model import ElasticNet, Lasso,  BayesianRidge, LassoLarsIC\n",
    "from sklearn.ensemble import RandomForestRegressor,  GradientBoostingRegressor\n",
    "from sklearn.kernel_ridge import KernelRidge\n",
    "from sklearn.pipeline import make_pipeline\n",
    "from sklearn.preprocessing import RobustScaler\n",
    "from sklearn.base import BaseEstimator, TransformerMixin, RegressorMixin, clone\n",
    "from sklearn.model_selection import KFold, cross_val_score, train_test_split\n",
    "from sklearn.metrics import mean_squared_error\n",
    "import xgboost as xgb\n",
    "import lightgbm as lgb"
   ]
  },
  {
   "cell_type": "code",
   "execution_count": 66,
   "metadata": {
    "collapsed": true
   },
   "outputs": [],
   "source": [
    "n_folds = 10\n",
    "kf = KFold(n_folds, shuffle=True, random_state=42).get_n_splits(X)"
   ]
  },
  {
   "cell_type": "code",
   "execution_count": 67,
   "metadata": {},
   "outputs": [
    {
     "data": {
      "text/plain": [
       "10"
      ]
     },
     "execution_count": 67,
     "metadata": {},
     "output_type": "execute_result"
    }
   ],
   "source": [
    "kf"
   ]
  },
  {
   "cell_type": "code",
   "execution_count": 44,
   "metadata": {},
   "outputs": [
    {
     "data": {
      "text/plain": [
       "{'Elastic Net Regression',\n",
       " 'Gradient Boosting Regression',\n",
       " 'Kernel Ridge Regression',\n",
       " 'Lasso'}"
      ]
     },
     "execution_count": 44,
     "metadata": {},
     "output_type": "execute_result"
    }
   ],
   "source": [
    "dc = set(da) & set(db)\n",
    "\n",
    "for i in dc:\n",
    "  print i,da[i],db[i]"
   ]
  },
  {
   "cell_type": "code",
   "execution_count": 14,
   "metadata": {
    "collapsed": true
   },
   "outputs": [],
   "source": [
    "def grid_search(models1, params1):\n",
    "    from sklearn.model_selection import GridSearchCV\n",
    "    res=[]\n",
    "    kf = KFold(n_folds, shuffle=True, random_state=42).get_n_splits(X_train)\n",
    "    #models1 = {'Lasso': Lasso(),'Elastic Net Regression': ElasticNet(),'Kernel Ridge Regression': KernelRidge(),'Gradient Boosting Regression': GradientBoostingRegressor()}\n",
    "\n",
    "    #params1 = {'Lasso': { 'alpha': [0.0005, 0.001, 0.0003] },'Elastic Net Regression': {'alpha': [0.0005, 0.003, 0.00045] , 'l1_ratio':[.9, .5, .75]},'Kernel Ridge Regression':{ 'alpha':[0.6, 0.5, 0.35], 'kernel':'polynomial', 'degree':[2, 3], 'coef0':[0, 1.5, 2.5]},'Gradient Boosting Regression': { 'n_estimators':[3000, 2500, 1200], 'learning_rate':[0.05, 0.1, 0.004], 'max_depth':4, 'max_features':['sqrt', 'log2'],'min_samples_leaf':[15, 5, 10, 4], 'min_samples_split':[10, 5, 8], 'loss':'huber'}}\n",
    "    set_dict=set(models1) & set(params1)\n",
    "    for i in set_dict:\n",
    "        gs = GridSearchCV(models1[i], params1[i], cv=kf, verbose=10, scoring=\"neg_mean_squared_error\", refit=False)\n",
    "        gs.fit(X, y)\n",
    "        res.append(gs.best_params_)\n",
    "    return res\n",
    "       "
   ]
  },
  {
   "cell_type": "code",
   "execution_count": null,
   "metadata": {
    "collapsed": true
   },
   "outputs": [],
   "source": [
    "# models1 = {'Lasso': Lasso(max_iter=3000, tol=0.0001),'Elastic Net Regression': ElasticNet(),'Kernel Ridge Regression': KernelRidge(),'Gradient Boosting Regression': GradientBoostingRegressor(loss='huber')}\n",
    "# params1 = {'Lasso': { 'alpha': [0.0005, 0.001, 0.0003]},'Elastic Net Regression': {'alpha': [0.0005, 0.003, 0.004] , 'l1_ratio':[.9, .5, .7]},'Kernel Ridge Regression':{'alpha':[0.6, 0.5, 0.3], 'kernel':'polynomial', 'degree':[2, 3], 'coef0':[0, 1.5, 2.5]},'Gradient Boosting Regression': { 'n_estimators':[3000, 2500, 1200], 'learning_rate':[0.05, 0.1, 0.004], 'max_depth':[4, 6, 5, 7], 'max_features':['sqrt', 'log2'],'min_samples_leaf':[15, 5, 10, 4], 'min_samples_split':[10, 5, 8]}}\n",
    "# grid_search(models1, params1)"
   ]
  },
  {
   "cell_type": "code",
   "execution_count": 87,
   "metadata": {},
   "outputs": [
    {
     "data": {
      "text/plain": [
       "10"
      ]
     },
     "execution_count": 87,
     "metadata": {},
     "output_type": "execute_result"
    }
   ],
   "source": [
    "kf = KFold(n_folds, shuffle=True, random_state=42).get_n_splits(X)\n",
    "kf"
   ]
  },
  {
   "cell_type": "code",
   "execution_count": 15,
   "metadata": {
    "collapsed": true
   },
   "outputs": [],
   "source": [
    "def grid_search(m, p):\n",
    "    from sklearn.model_selection import GridSearchCV\n",
    "    res=[]\n",
    "    kf = KFold(n_folds, shuffle=True, random_state=42).get_n_splits(X)\n",
    "    #models1 = {'Lasso': Lasso(),'Elastic Net Regression': ElasticNet(),'Kernel Ridge Regression': KernelRidge(),'Gradient Boosting Regression': GradientBoostingRegressor()}\n",
    "\n",
    "    #params1 = {'Lasso': { 'alpha': [0.0005, 0.001, 0.0003] },'Elastic Net Regression': {'alpha': [0.0005, 0.003, 0.00045] , 'l1_ratio':[.9, .5, .75]},'Kernel Ridge Regression':{ 'alpha':[0.6, 0.5, 0.35], 'kernel':'polynomial', 'degree':[2, 3], 'coef0':[0, 1.5, 2.5]},'Gradient Boosting Regression': { 'n_estimators':[3000, 2500, 1200], 'learning_rate':[0.05, 0.1, 0.004], 'max_depth':4, 'max_features':['sqrt', 'log2'],'min_samples_leaf':[15, 5, 10, 4], 'min_samples_split':[10, 5, 8], 'loss':'huber'}}\n",
    " \n",
    "    gs = GridSearchCV(m, p, cv=kf, verbose=10, scoring=\"neg_mean_squared_error\", refit=False)\n",
    "    gs.fit(X, y)\n",
    "    return gs.best_params_"
   ]
  },
  {
   "cell_type": "code",
   "execution_count": 93,
   "metadata": {},
   "outputs": [
    {
     "name": "stdout",
     "output_type": "stream",
     "text": [
      "Fitting 10 folds for each of 3 candidates, totalling 30 fits\n",
      "[CV] alpha=0.0005 ....................................................\n",
      "[CV] ........... alpha=0.0005, score=-686650125.9389796, total=   0.1s\n",
      "[CV] alpha=0.0005 ....................................................\n"
     ]
    },
    {
     "name": "stderr",
     "output_type": "stream",
     "text": [
      "[Parallel(n_jobs=1)]: Done   1 out of   1 | elapsed:    0.1s remaining:    0.0s\n",
      "/Users/chidam/anaconda/lib/python3.5/site-packages/sklearn/linear_model/coordinate_descent.py:491: ConvergenceWarning: Objective did not converge. You might want to increase the number of iterations. Fitting data with very small alpha may cause precision problems.\n",
      "  ConvergenceWarning)\n",
      "[Parallel(n_jobs=1)]: Done   2 out of   2 | elapsed:    0.3s remaining:    0.0s\n"
     ]
    },
    {
     "name": "stdout",
     "output_type": "stream",
     "text": [
      "[CV] ........... alpha=0.0005, score=-967340300.8318695, total=   0.1s\n",
      "[CV] alpha=0.0005 ....................................................\n",
      "[CV] ............. alpha=0.0005, score=-591911329.49809, total=   0.1s\n",
      "[CV] alpha=0.0005 ....................................................\n"
     ]
    },
    {
     "name": "stderr",
     "output_type": "stream",
     "text": [
      "[Parallel(n_jobs=1)]: Done   3 out of   3 | elapsed:    0.4s remaining:    0.0s\n",
      "[Parallel(n_jobs=1)]: Done   4 out of   4 | elapsed:    0.5s remaining:    0.0s\n"
     ]
    },
    {
     "name": "stdout",
     "output_type": "stream",
     "text": [
      "[CV] ........... alpha=0.0005, score=-754201292.1042713, total=   0.1s\n",
      "[CV] alpha=0.0005 ....................................................\n",
      "[CV] ............ alpha=0.0005, score=-963285502.770543, total=   0.1s\n",
      "[CV] alpha=0.0005 ....................................................\n"
     ]
    },
    {
     "name": "stderr",
     "output_type": "stream",
     "text": [
      "[Parallel(n_jobs=1)]: Done   5 out of   5 | elapsed:    0.6s remaining:    0.0s\n",
      "[Parallel(n_jobs=1)]: Done   6 out of   6 | elapsed:    0.7s remaining:    0.0s\n"
     ]
    },
    {
     "name": "stdout",
     "output_type": "stream",
     "text": [
      "[CV] ........... alpha=0.0005, score=-938666298.4093202, total=   0.1s\n",
      "[CV] alpha=0.0005 ....................................................\n",
      "[CV] ........... alpha=0.0005, score=-759699366.6780016, total=   0.1s\n",
      "[CV] alpha=0.0005 ....................................................\n"
     ]
    },
    {
     "name": "stderr",
     "output_type": "stream",
     "text": [
      "[Parallel(n_jobs=1)]: Done   7 out of   7 | elapsed:    0.8s remaining:    0.0s\n",
      "[Parallel(n_jobs=1)]: Done   8 out of   8 | elapsed:    0.9s remaining:    0.0s\n"
     ]
    },
    {
     "name": "stdout",
     "output_type": "stream",
     "text": [
      "[CV] ........... alpha=0.0005, score=-730874128.3573568, total=   0.1s\n",
      "[CV] alpha=0.0005 ....................................................\n",
      "[CV] ........... alpha=0.0005, score=-805327532.0423487, total=   0.1s\n",
      "[CV] alpha=0.0005 ....................................................\n"
     ]
    },
    {
     "name": "stderr",
     "output_type": "stream",
     "text": [
      "[Parallel(n_jobs=1)]: Done   9 out of   9 | elapsed:    1.0s remaining:    0.0s\n"
     ]
    },
    {
     "name": "stdout",
     "output_type": "stream",
     "text": [
      "[CV] ........... alpha=0.0005, score=-739127504.7775145, total=   0.1s\n",
      "[CV] alpha=0.001 .....................................................\n",
      "[CV] ............ alpha=0.001, score=-686650129.3161016, total=   0.1s\n",
      "[CV] alpha=0.001 .....................................................\n"
     ]
    },
    {
     "name": "stderr",
     "output_type": "stream",
     "text": [
      "/Users/chidam/anaconda/lib/python3.5/site-packages/sklearn/linear_model/coordinate_descent.py:491: ConvergenceWarning: Objective did not converge. You might want to increase the number of iterations. Fitting data with very small alpha may cause precision problems.\n",
      "  ConvergenceWarning)\n"
     ]
    },
    {
     "name": "stdout",
     "output_type": "stream",
     "text": [
      "[CV] ............ alpha=0.001, score=-967340254.9215893, total=   0.2s\n",
      "[CV] alpha=0.001 .....................................................\n",
      "[CV] ............. alpha=0.001, score=-591911282.992777, total=   0.1s\n",
      "[CV] alpha=0.001 .....................................................\n",
      "[CV] ............ alpha=0.001, score=-754201266.4107376, total=   0.1s\n",
      "[CV] alpha=0.001 .....................................................\n",
      "[CV] ............ alpha=0.001, score=-963285443.6701727, total=   0.1s\n",
      "[CV] alpha=0.001 .....................................................\n",
      "[CV] ............. alpha=0.001, score=-938666373.869734, total=   0.1s\n",
      "[CV] alpha=0.001 .....................................................\n",
      "[CV] ............. alpha=0.001, score=-759699368.883755, total=   0.1s\n",
      "[CV] alpha=0.001 .....................................................\n",
      "[CV] ............. alpha=0.001, score=-730874187.221226, total=   0.1s\n",
      "[CV] alpha=0.001 .....................................................\n",
      "[CV] ............ alpha=0.001, score=-805327643.6542832, total=   0.1s\n",
      "[CV] alpha=0.001 .....................................................\n",
      "[CV] ............. alpha=0.001, score=-739127343.711191, total=   0.1s\n",
      "[CV] alpha=0.0003 ....................................................\n",
      "[CV] ........... alpha=0.0003, score=-686650124.5888072, total=   0.1s\n",
      "[CV] alpha=0.0003 ....................................................\n",
      "[CV] ........... alpha=0.0003, score=-967340319.1965202, total=   0.1s\n",
      "[CV] alpha=0.0003 ....................................................\n"
     ]
    },
    {
     "name": "stderr",
     "output_type": "stream",
     "text": [
      "/Users/chidam/anaconda/lib/python3.5/site-packages/sklearn/linear_model/coordinate_descent.py:491: ConvergenceWarning: Objective did not converge. You might want to increase the number of iterations. Fitting data with very small alpha may cause precision problems.\n",
      "  ConvergenceWarning)\n"
     ]
    },
    {
     "name": "stdout",
     "output_type": "stream",
     "text": [
      "[CV] ........... alpha=0.0003, score=-591911348.1009387, total=   0.1s\n",
      "[CV] alpha=0.0003 ....................................................\n",
      "[CV] ........... alpha=0.0003, score=-754201302.3816558, total=   0.1s\n",
      "[CV] alpha=0.0003 ....................................................\n",
      "[CV] ........... alpha=0.0003, score=-963285526.4112604, total=   0.1s\n",
      "[CV] alpha=0.0003 ....................................................\n",
      "[CV] ........... alpha=0.0003, score=-938666268.2256811, total=   0.1s\n",
      "[CV] alpha=0.0003 ....................................................\n",
      "[CV] ........... alpha=0.0003, score=-759699365.7965016, total=   0.1s\n",
      "[CV] alpha=0.0003 ....................................................\n",
      "[CV] ........... alpha=0.0003, score=-730874104.8123469, total=   0.1s\n",
      "[CV] alpha=0.0003 ....................................................\n",
      "[CV] ........... alpha=0.0003, score=-805327487.3978958, total=   0.1s\n",
      "[CV] alpha=0.0003 ....................................................\n",
      "[CV] ........... alpha=0.0003, score=-739127569.2046088, total=   0.1s\n"
     ]
    },
    {
     "name": "stderr",
     "output_type": "stream",
     "text": [
      "[Parallel(n_jobs=1)]: Done  30 out of  30 | elapsed:    3.3s finished\n"
     ]
    },
    {
     "data": {
      "text/plain": [
       "{'alpha': 0.001}"
      ]
     },
     "execution_count": 93,
     "metadata": {},
     "output_type": "execute_result"
    }
   ],
   "source": [
    "#Lasso\n",
    "models_lasso = Lasso(max_iter=3000, tol=0.0001)\n",
    "param_lasso={'alpha': [0.0005, 0.001, 0.0003]}\n",
    "grid_search(models_lasso, param_lasso)"
   ]
  },
  {
   "cell_type": "code",
   "execution_count": 95,
   "metadata": {
    "collapsed": true
   },
   "outputs": [],
   "source": [
    "def grid_search(m, p):\n",
    "    from sklearn.model_selection import GridSearchCV\n",
    "    res=[]\n",
    "    kf = KFold(n_folds, shuffle=True, random_state=42).get_n_splits(X)\n",
    "    #models1 = {'Lasso': Lasso(),'Elastic Net Regression': ElasticNet(),'Kernel Ridge Regression': KernelRidge(),'Gradient Boosting Regression': GradientBoostingRegressor()}\n",
    "\n",
    "    #params1 = {'Lasso': { 'alpha': [0.0005, 0.001, 0.0003] },'Elastic Net Regression': {'alpha': [0.0005, 0.003, 0.00045] , 'l1_ratio':[.9, .5, .75]},'Kernel Ridge Regression':{ 'alpha':[0.6, 0.5, 0.35], 'kernel':'polynomial', 'degree':[2, 3], 'coef0':[0, 1.5, 2.5]},'Gradient Boosting Regression': { 'n_estimators':[3000, 2500, 1200], 'learning_rate':[0.05, 0.1, 0.004], 'max_depth':4, 'max_features':['sqrt', 'log2'],'min_samples_leaf':[15, 5, 10, 4], 'min_samples_split':[10, 5, 8], 'loss':'huber'}}\n",
    " \n",
    "    gs = GridSearchCV(m, p, cv=kf, verbose=10, scoring=\"neg_mean_squared_error\", refit=False)\n",
    "    gs.fit(X_train, y_train)\n",
    "    return gs.best_params_"
   ]
  },
  {
   "cell_type": "code",
   "execution_count": 97,
   "metadata": {},
   "outputs": [
    {
     "name": "stdout",
     "output_type": "stream",
     "text": [
      "Fitting 10 folds for each of 5 candidates, totalling 50 fits\n",
      "[CV] alpha=0.0005 ....................................................\n",
      "[CV] ........... alpha=0.0005, score=-825714486.0211257, total=   0.1s\n",
      "[CV] alpha=0.0005 ....................................................\n",
      "[CV] ........... alpha=0.0005, score=-959369260.4157765, total=   0.1s\n",
      "[CV] alpha=0.0005 ....................................................\n"
     ]
    },
    {
     "name": "stderr",
     "output_type": "stream",
     "text": [
      "/Users/chidam/anaconda/lib/python3.5/site-packages/sklearn/linear_model/coordinate_descent.py:491: ConvergenceWarning: Objective did not converge. You might want to increase the number of iterations. Fitting data with very small alpha may cause precision problems.\n",
      "  ConvergenceWarning)\n",
      "[Parallel(n_jobs=1)]: Done   1 out of   1 | elapsed:    0.1s remaining:    0.0s\n",
      "/Users/chidam/anaconda/lib/python3.5/site-packages/sklearn/linear_model/coordinate_descent.py:491: ConvergenceWarning: Objective did not converge. You might want to increase the number of iterations. Fitting data with very small alpha may cause precision problems.\n",
      "  ConvergenceWarning)\n",
      "[Parallel(n_jobs=1)]: Done   2 out of   2 | elapsed:    0.2s remaining:    0.0s\n",
      "/Users/chidam/anaconda/lib/python3.5/site-packages/sklearn/linear_model/coordinate_descent.py:491: ConvergenceWarning: Objective did not converge. You might want to increase the number of iterations. Fitting data with very small alpha may cause precision problems.\n",
      "  ConvergenceWarning)\n",
      "[Parallel(n_jobs=1)]: Done   3 out of   3 | elapsed:    0.2s remaining:    0.0s\n"
     ]
    },
    {
     "name": "stdout",
     "output_type": "stream",
     "text": [
      "[CV] ........... alpha=0.0005, score=-619884700.7894741, total=   0.1s\n",
      "[CV] alpha=0.0005 ....................................................\n",
      "[CV] ........... alpha=0.0005, score=-596818293.4150581, total=   0.1s\n",
      "[CV] alpha=0.0005 ....................................................\n",
      "[CV] ........... alpha=0.0005, score=-858136422.8645158, total=   0.1s\n",
      "[CV] alpha=0.0005 ....................................................\n"
     ]
    },
    {
     "name": "stderr",
     "output_type": "stream",
     "text": [
      "[Parallel(n_jobs=1)]: Done   4 out of   4 | elapsed:    0.3s remaining:    0.0s\n",
      "/Users/chidam/anaconda/lib/python3.5/site-packages/sklearn/linear_model/coordinate_descent.py:491: ConvergenceWarning: Objective did not converge. You might want to increase the number of iterations. Fitting data with very small alpha may cause precision problems.\n",
      "  ConvergenceWarning)\n",
      "[Parallel(n_jobs=1)]: Done   5 out of   5 | elapsed:    0.4s remaining:    0.0s\n",
      "[Parallel(n_jobs=1)]: Done   6 out of   6 | elapsed:    0.5s remaining:    0.0s\n"
     ]
    },
    {
     "name": "stdout",
     "output_type": "stream",
     "text": [
      "[CV] ........... alpha=0.0005, score=-693995717.4957016, total=   0.1s\n",
      "[CV] alpha=0.0005 ....................................................\n",
      "[CV] .......... alpha=0.0005, score=-1042563200.6111825, total=   0.1s\n",
      "[CV] alpha=0.0005 ....................................................\n",
      "[CV] .......... alpha=0.0005, score=-1147722983.7755032, total=   0.1s\n",
      "[CV] alpha=0.0005 ....................................................\n"
     ]
    },
    {
     "name": "stderr",
     "output_type": "stream",
     "text": [
      "/Users/chidam/anaconda/lib/python3.5/site-packages/sklearn/linear_model/coordinate_descent.py:491: ConvergenceWarning: Objective did not converge. You might want to increase the number of iterations. Fitting data with very small alpha may cause precision problems.\n",
      "  ConvergenceWarning)\n",
      "[Parallel(n_jobs=1)]: Done   7 out of   7 | elapsed:    0.6s remaining:    0.0s\n",
      "/Users/chidam/anaconda/lib/python3.5/site-packages/sklearn/linear_model/coordinate_descent.py:491: ConvergenceWarning: Objective did not converge. You might want to increase the number of iterations. Fitting data with very small alpha may cause precision problems.\n",
      "  ConvergenceWarning)\n",
      "[Parallel(n_jobs=1)]: Done   8 out of   8 | elapsed:    0.7s remaining:    0.0s\n",
      "/Users/chidam/anaconda/lib/python3.5/site-packages/sklearn/linear_model/coordinate_descent.py:491: ConvergenceWarning: Objective did not converge. You might want to increase the number of iterations. Fitting data with very small alpha may cause precision problems.\n",
      "  ConvergenceWarning)\n",
      "[Parallel(n_jobs=1)]: Done   9 out of   9 | elapsed:    0.8s remaining:    0.0s\n",
      "/Users/chidam/anaconda/lib/python3.5/site-packages/sklearn/linear_model/coordinate_descent.py:491: ConvergenceWarning: Objective did not converge. You might want to increase the number of iterations. Fitting data with very small alpha may cause precision problems.\n",
      "  ConvergenceWarning)\n",
      "/Users/chidam/anaconda/lib/python3.5/site-packages/sklearn/linear_model/coordinate_descent.py:491: ConvergenceWarning: Objective did not converge. You might want to increase the number of iterations. Fitting data with very small alpha may cause precision problems.\n",
      "  ConvergenceWarning)\n"
     ]
    },
    {
     "name": "stdout",
     "output_type": "stream",
     "text": [
      "[CV] ........... alpha=0.0005, score=-665187308.8271556, total=   0.1s\n",
      "[CV] alpha=0.0005 ....................................................\n",
      "[CV] ........... alpha=0.0005, score=-859326383.9002593, total=   0.1s\n",
      "[CV] alpha=0.001 .....................................................\n",
      "[CV] ............ alpha=0.001, score=-825714674.9224303, total=   0.1s\n",
      "[CV] alpha=0.001 .....................................................\n",
      "[CV] ............ alpha=0.001, score=-959369374.9589453, total=   0.1s\n",
      "[CV] alpha=0.001 .....................................................\n",
      "[CV] ............ alpha=0.001, score=-619884251.3629284, total=   0.1s\n",
      "[CV] alpha=0.001 .....................................................\n",
      "[CV] ............ alpha=0.001, score=-596818318.0175122, total=   0.1s\n",
      "[CV] alpha=0.001 .....................................................\n"
     ]
    },
    {
     "name": "stderr",
     "output_type": "stream",
     "text": [
      "/Users/chidam/anaconda/lib/python3.5/site-packages/sklearn/linear_model/coordinate_descent.py:491: ConvergenceWarning: Objective did not converge. You might want to increase the number of iterations. Fitting data with very small alpha may cause precision problems.\n",
      "  ConvergenceWarning)\n",
      "/Users/chidam/anaconda/lib/python3.5/site-packages/sklearn/linear_model/coordinate_descent.py:491: ConvergenceWarning: Objective did not converge. You might want to increase the number of iterations. Fitting data with very small alpha may cause precision problems.\n",
      "  ConvergenceWarning)\n"
     ]
    },
    {
     "name": "stdout",
     "output_type": "stream",
     "text": [
      "[CV] ............ alpha=0.001, score=-858136469.3708141, total=   0.1s\n",
      "[CV] alpha=0.001 .....................................................\n",
      "[CV] ............ alpha=0.001, score=-693995737.4068861, total=   0.1s\n",
      "[CV] alpha=0.001 .....................................................\n",
      "[CV] ........... alpha=0.001, score=-1042562779.0145437, total=   0.1s\n",
      "[CV] alpha=0.001 .....................................................\n"
     ]
    },
    {
     "name": "stderr",
     "output_type": "stream",
     "text": [
      "/Users/chidam/anaconda/lib/python3.5/site-packages/sklearn/linear_model/coordinate_descent.py:491: ConvergenceWarning: Objective did not converge. You might want to increase the number of iterations. Fitting data with very small alpha may cause precision problems.\n",
      "  ConvergenceWarning)\n",
      "/Users/chidam/anaconda/lib/python3.5/site-packages/sklearn/linear_model/coordinate_descent.py:491: ConvergenceWarning: Objective did not converge. You might want to increase the number of iterations. Fitting data with very small alpha may cause precision problems.\n",
      "  ConvergenceWarning)\n"
     ]
    },
    {
     "name": "stdout",
     "output_type": "stream",
     "text": [
      "[CV] ........... alpha=0.001, score=-1147723043.0071676, total=   0.1s\n",
      "[CV] alpha=0.001 .....................................................\n",
      "[CV] ............ alpha=0.001, score=-665187369.0265869, total=   0.1s\n",
      "[CV] alpha=0.001 .....................................................\n"
     ]
    },
    {
     "name": "stderr",
     "output_type": "stream",
     "text": [
      "/Users/chidam/anaconda/lib/python3.5/site-packages/sklearn/linear_model/coordinate_descent.py:491: ConvergenceWarning: Objective did not converge. You might want to increase the number of iterations. Fitting data with very small alpha may cause precision problems.\n",
      "  ConvergenceWarning)\n",
      "/Users/chidam/anaconda/lib/python3.5/site-packages/sklearn/linear_model/coordinate_descent.py:491: ConvergenceWarning: Objective did not converge. You might want to increase the number of iterations. Fitting data with very small alpha may cause precision problems.\n",
      "  ConvergenceWarning)\n",
      "/Users/chidam/anaconda/lib/python3.5/site-packages/sklearn/linear_model/coordinate_descent.py:491: ConvergenceWarning: Objective did not converge. You might want to increase the number of iterations. Fitting data with very small alpha may cause precision problems.\n",
      "  ConvergenceWarning)\n"
     ]
    },
    {
     "name": "stdout",
     "output_type": "stream",
     "text": [
      "[CV] ............ alpha=0.001, score=-859326119.5798514, total=   0.1s\n",
      "[CV] alpha=0.0003 ....................................................\n",
      "[CV] ........... alpha=0.0003, score=-825714410.4610956, total=   0.1s\n",
      "[CV] alpha=0.0003 ....................................................\n",
      "[CV] ........... alpha=0.0003, score=-959369214.5759193, total=   0.1s\n",
      "[CV] alpha=0.0003 ....................................................\n"
     ]
    },
    {
     "name": "stderr",
     "output_type": "stream",
     "text": [
      "/Users/chidam/anaconda/lib/python3.5/site-packages/sklearn/linear_model/coordinate_descent.py:491: ConvergenceWarning: Objective did not converge. You might want to increase the number of iterations. Fitting data with very small alpha may cause precision problems.\n",
      "  ConvergenceWarning)\n",
      "/Users/chidam/anaconda/lib/python3.5/site-packages/sklearn/linear_model/coordinate_descent.py:491: ConvergenceWarning: Objective did not converge. You might want to increase the number of iterations. Fitting data with very small alpha may cause precision problems.\n",
      "  ConvergenceWarning)\n",
      "/Users/chidam/anaconda/lib/python3.5/site-packages/sklearn/linear_model/coordinate_descent.py:491: ConvergenceWarning: Objective did not converge. You might want to increase the number of iterations. Fitting data with very small alpha may cause precision problems.\n",
      "  ConvergenceWarning)\n"
     ]
    },
    {
     "name": "stdout",
     "output_type": "stream",
     "text": [
      "[CV] ........... alpha=0.0003, score=-619884880.5606787, total=   0.1s\n",
      "[CV] alpha=0.0003 ....................................................\n",
      "[CV] ............ alpha=0.0003, score=-596818283.570223, total=   0.1s\n",
      "[CV] alpha=0.0003 ....................................................\n",
      "[CV] ............ alpha=0.0003, score=-858136404.262439, total=   0.1s\n",
      "[CV] alpha=0.0003 ....................................................\n"
     ]
    },
    {
     "name": "stderr",
     "output_type": "stream",
     "text": [
      "/Users/chidam/anaconda/lib/python3.5/site-packages/sklearn/linear_model/coordinate_descent.py:491: ConvergenceWarning: Objective did not converge. You might want to increase the number of iterations. Fitting data with very small alpha may cause precision problems.\n",
      "  ConvergenceWarning)\n",
      "/Users/chidam/anaconda/lib/python3.5/site-packages/sklearn/linear_model/coordinate_descent.py:491: ConvergenceWarning: Objective did not converge. You might want to increase the number of iterations. Fitting data with very small alpha may cause precision problems.\n",
      "  ConvergenceWarning)\n"
     ]
    },
    {
     "name": "stdout",
     "output_type": "stream",
     "text": [
      "[CV] ........... alpha=0.0003, score=-693995709.5317429, total=   0.1s\n",
      "[CV] alpha=0.0003 ....................................................\n",
      "[CV] .......... alpha=0.0003, score=-1042563369.2502279, total=   0.1s\n",
      "[CV] alpha=0.0003 ....................................................\n",
      "[CV] ........... alpha=0.0003, score=-1147722960.083221, total=   0.1s\n",
      "[CV] alpha=0.0003 ....................................................\n"
     ]
    },
    {
     "name": "stderr",
     "output_type": "stream",
     "text": [
      "/Users/chidam/anaconda/lib/python3.5/site-packages/sklearn/linear_model/coordinate_descent.py:491: ConvergenceWarning: Objective did not converge. You might want to increase the number of iterations. Fitting data with very small alpha may cause precision problems.\n",
      "  ConvergenceWarning)\n",
      "/Users/chidam/anaconda/lib/python3.5/site-packages/sklearn/linear_model/coordinate_descent.py:491: ConvergenceWarning: Objective did not converge. You might want to increase the number of iterations. Fitting data with very small alpha may cause precision problems.\n",
      "  ConvergenceWarning)\n"
     ]
    },
    {
     "name": "stdout",
     "output_type": "stream",
     "text": [
      "[CV] ........... alpha=0.0003, score=-665187284.7476528, total=   0.1s\n",
      "[CV] alpha=0.0003 ....................................................\n",
      "[CV] ........... alpha=0.0003, score=-859326489.6290573, total=   0.1s\n",
      "[CV] alpha=0.05 ......................................................\n",
      "[CV] ............. alpha=0.05, score=-825733195.7725084, total=   0.1s\n",
      "[CV] alpha=0.05 ......................................................\n"
     ]
    },
    {
     "name": "stderr",
     "output_type": "stream",
     "text": [
      "/Users/chidam/anaconda/lib/python3.5/site-packages/sklearn/linear_model/coordinate_descent.py:491: ConvergenceWarning: Objective did not converge. You might want to increase the number of iterations. Fitting data with very small alpha may cause precision problems.\n",
      "  ConvergenceWarning)\n",
      "/Users/chidam/anaconda/lib/python3.5/site-packages/sklearn/linear_model/coordinate_descent.py:491: ConvergenceWarning: Objective did not converge. You might want to increase the number of iterations. Fitting data with very small alpha may cause precision problems.\n",
      "  ConvergenceWarning)\n"
     ]
    },
    {
     "name": "stdout",
     "output_type": "stream",
     "text": [
      "[CV] ............. alpha=0.05, score=-959380576.5025117, total=   0.1s\n",
      "[CV] alpha=0.05 ......................................................\n",
      "[CV] .............. alpha=0.05, score=-619840225.438112, total=   0.1s\n",
      "[CV] alpha=0.05 ......................................................\n",
      "[CV] ............. alpha=0.05, score=-596820734.1105021, total=   0.1s\n",
      "[CV] alpha=0.05 ......................................................\n"
     ]
    },
    {
     "name": "stderr",
     "output_type": "stream",
     "text": [
      "/Users/chidam/anaconda/lib/python3.5/site-packages/sklearn/linear_model/coordinate_descent.py:491: ConvergenceWarning: Objective did not converge. You might want to increase the number of iterations. Fitting data with very small alpha may cause precision problems.\n",
      "  ConvergenceWarning)\n"
     ]
    },
    {
     "name": "stdout",
     "output_type": "stream",
     "text": [
      "[CV] ............. alpha=0.05, score=-858141034.7076449, total=   0.1s\n",
      "[CV] alpha=0.05 ......................................................\n",
      "[CV] ............. alpha=0.05, score=-693997694.0551381, total=   0.1s\n",
      "[CV] alpha=0.05 ......................................................\n",
      "[CV] ............ alpha=0.05, score=-1042521435.0376852, total=   0.1s\n",
      "[CV] alpha=0.05 ......................................................\n",
      "[CV] ............ alpha=0.05, score=-1147728820.6247702, total=   0.1s\n",
      "[CV] alpha=0.05 ......................................................\n",
      "[CV] ............. alpha=0.05, score=-665193275.6322082, total=   0.1s\n",
      "[CV] alpha=0.05 ......................................................\n",
      "[CV] .............. alpha=0.05, score=-859300229.868791, total=   0.1s\n",
      "[CV] alpha=0.5 .......................................................\n",
      "[CV] .............. alpha=0.5, score=-825904063.3704576, total=   0.1s\n",
      "[CV] alpha=0.5 .......................................................\n",
      "[CV] .............. alpha=0.5, score=-959484441.1016122, total=   0.0s\n",
      "[CV] alpha=0.5 .......................................................\n",
      "[CV] .............. alpha=0.5, score=-619436847.4667069, total=   0.0s\n",
      "[CV] alpha=0.5 .......................................................\n",
      "[CV] .............. alpha=0.5, score=-596843389.8985939, total=   0.0s\n",
      "[CV] alpha=0.5 .......................................................\n",
      "[CV] .............. alpha=0.5, score=-858183638.6959273, total=   0.1s\n",
      "[CV] alpha=0.5 .......................................................\n",
      "[CV] .............. alpha=0.5, score=-694016161.9979602, total=   0.1s\n",
      "[CV] alpha=0.5 .......................................................\n",
      "[CV] ............. alpha=0.5, score=-1042142372.4813238, total=   0.1s\n",
      "[CV] alpha=0.5 .......................................................\n",
      "[CV] ............. alpha=0.5, score=-1147782488.3890207, total=   0.1s\n",
      "[CV] alpha=0.5 .......................................................\n",
      "[CV] .............. alpha=0.5, score=-665247955.0345187, total=   0.1s\n",
      "[CV] alpha=0.5 .......................................................\n",
      "[CV] .............. alpha=0.5, score=-859063484.6463354, total=   0.1s\n"
     ]
    },
    {
     "name": "stderr",
     "output_type": "stream",
     "text": [
      "[Parallel(n_jobs=1)]: Done  50 out of  50 | elapsed:    4.1s finished\n"
     ]
    },
    {
     "data": {
      "text/plain": [
       "{'alpha': 0.5}"
      ]
     },
     "execution_count": 97,
     "metadata": {},
     "output_type": "execute_result"
    }
   ],
   "source": [
    "models_lasso = Lasso(max_iter=3000, tol=0.0001)\n",
    "param_lasso={'alpha': [0.0005, 0.001, 0.0003, 0.05, 0.5]}\n",
    "grid_search(models_lasso, param_lasso)\n",
    "#result: {'alpha': 0.5}"
   ]
  },
  {
   "cell_type": "code",
   "execution_count": 16,
   "metadata": {
    "collapsed": true
   },
   "outputs": [],
   "source": [
    "def grid_search1(m, p):\n",
    "    from sklearn.model_selection import GridSearchCV\n",
    "    res=[]\n",
    "    kf = KFold(n_folds, shuffle=True, random_state=42).get_n_splits(X)\n",
    "    #models1 = {'Lasso': Lasso(),'Elastic Net Regression': ElasticNet(),'Kernel Ridge Regression': KernelRidge(),'Gradient Boosting Regression': GradientBoostingRegressor()}\n",
    "\n",
    "    #params1 = {'Lasso': { 'alpha': [0.0005, 0.001, 0.0003] },'Elastic Net Regression': {'alpha': [0.0005, 0.003, 0.00045] , 'l1_ratio':[.9, .5, .75]},'Kernel Ridge Regression':{ 'alpha':[0.6, 0.5, 0.35], 'kernel':'polynomial', 'degree':[2, 3], 'coef0':[0, 1.5, 2.5]},'Gradient Boosting Regression': { 'n_estimators':[3000, 2500, 1200], 'learning_rate':[0.05, 0.1, 0.004], 'max_depth':4, 'max_features':['sqrt', 'log2'],'min_samples_leaf':[15, 5, 10, 4], 'min_samples_split':[10, 5, 8], 'loss':'huber'}}\n",
    " \n",
    "    gs = GridSearchCV(m, p, cv=kf, verbose=10, scoring=\"neg_mean_squared_error\", refit=False)\n",
    "    gs.fit(X, y)\n",
    "    return gs.best_params_"
   ]
  },
  {
   "cell_type": "code",
   "execution_count": 101,
   "metadata": {},
   "outputs": [
    {
     "name": "stdout",
     "output_type": "stream",
     "text": [
      "Fitting 10 folds for each of 9 candidates, totalling 90 fits\n",
      "[CV] l1_ratio=0.9, alpha=0.004 .......................................\n",
      "[CV]  l1_ratio=0.9, alpha=0.004, score=-684622601.6364416, total=   0.1s\n",
      "[CV] l1_ratio=0.9, alpha=0.004 .......................................\n",
      "[CV]  l1_ratio=0.9, alpha=0.004, score=-965475850.3990587, total=   0.0s\n",
      "[CV] l1_ratio=0.9, alpha=0.004 .......................................\n",
      "[CV]  l1_ratio=0.9, alpha=0.004, score=-592346527.8175867, total=   0.0s\n",
      "[CV] l1_ratio=0.9, alpha=0.004 .......................................\n",
      "[CV]  l1_ratio=0.9, alpha=0.004, score=-752037056.5841314, total=   0.0s\n",
      "[CV] l1_ratio=0.9, alpha=0.004 .......................................\n"
     ]
    },
    {
     "name": "stderr",
     "output_type": "stream",
     "text": [
      "/Users/chidam/anaconda/lib/python3.5/site-packages/sklearn/linear_model/coordinate_descent.py:491: ConvergenceWarning: Objective did not converge. You might want to increase the number of iterations. Fitting data with very small alpha may cause precision problems.\n",
      "  ConvergenceWarning)\n",
      "[Parallel(n_jobs=1)]: Done   1 out of   1 | elapsed:    0.1s remaining:    0.0s\n",
      "/Users/chidam/anaconda/lib/python3.5/site-packages/sklearn/linear_model/coordinate_descent.py:491: ConvergenceWarning: Objective did not converge. You might want to increase the number of iterations. Fitting data with very small alpha may cause precision problems.\n",
      "  ConvergenceWarning)\n",
      "[Parallel(n_jobs=1)]: Done   2 out of   2 | elapsed:    0.1s remaining:    0.0s\n",
      "/Users/chidam/anaconda/lib/python3.5/site-packages/sklearn/linear_model/coordinate_descent.py:491: ConvergenceWarning: Objective did not converge. You might want to increase the number of iterations. Fitting data with very small alpha may cause precision problems.\n",
      "  ConvergenceWarning)\n",
      "[Parallel(n_jobs=1)]: Done   3 out of   3 | elapsed:    0.2s remaining:    0.0s\n",
      "/Users/chidam/anaconda/lib/python3.5/site-packages/sklearn/linear_model/coordinate_descent.py:491: ConvergenceWarning: Objective did not converge. You might want to increase the number of iterations. Fitting data with very small alpha may cause precision problems.\n",
      "  ConvergenceWarning)\n",
      "[Parallel(n_jobs=1)]: Done   4 out of   4 | elapsed:    0.2s remaining:    0.0s\n",
      "/Users/chidam/anaconda/lib/python3.5/site-packages/sklearn/linear_model/coordinate_descent.py:491: ConvergenceWarning: Objective did not converge. You might want to increase the number of iterations. Fitting data with very small alpha may cause precision problems.\n",
      "  ConvergenceWarning)\n",
      "[Parallel(n_jobs=1)]: Done   5 out of   5 | elapsed:    0.3s remaining:    0.0s\n"
     ]
    },
    {
     "name": "stdout",
     "output_type": "stream",
     "text": [
      "[CV]  l1_ratio=0.9, alpha=0.004, score=-958977756.4225556, total=   0.1s\n",
      "[CV] l1_ratio=0.9, alpha=0.004 .......................................\n",
      "[CV]  l1_ratio=0.9, alpha=0.004, score=-939259769.3754162, total=   0.1s\n",
      "[CV] l1_ratio=0.9, alpha=0.004 .......................................\n",
      "[CV]  l1_ratio=0.9, alpha=0.004, score=-760375917.4642296, total=   0.0s\n",
      "[CV] l1_ratio=0.9, alpha=0.004 .......................................\n",
      "[CV]  l1_ratio=0.9, alpha=0.004, score=-732145330.1042995, total=   0.0s\n",
      "[CV] l1_ratio=0.9, alpha=0.004 .......................................\n"
     ]
    },
    {
     "name": "stderr",
     "output_type": "stream",
     "text": [
      "/Users/chidam/anaconda/lib/python3.5/site-packages/sklearn/linear_model/coordinate_descent.py:491: ConvergenceWarning: Objective did not converge. You might want to increase the number of iterations. Fitting data with very small alpha may cause precision problems.\n",
      "  ConvergenceWarning)\n",
      "[Parallel(n_jobs=1)]: Done   6 out of   6 | elapsed:    0.3s remaining:    0.0s\n",
      "/Users/chidam/anaconda/lib/python3.5/site-packages/sklearn/linear_model/coordinate_descent.py:491: ConvergenceWarning: Objective did not converge. You might want to increase the number of iterations. Fitting data with very small alpha may cause precision problems.\n",
      "  ConvergenceWarning)\n",
      "[Parallel(n_jobs=1)]: Done   7 out of   7 | elapsed:    0.4s remaining:    0.0s\n",
      "/Users/chidam/anaconda/lib/python3.5/site-packages/sklearn/linear_model/coordinate_descent.py:491: ConvergenceWarning: Objective did not converge. You might want to increase the number of iterations. Fitting data with very small alpha may cause precision problems.\n",
      "  ConvergenceWarning)\n",
      "[Parallel(n_jobs=1)]: Done   8 out of   8 | elapsed:    0.4s remaining:    0.0s\n",
      "/Users/chidam/anaconda/lib/python3.5/site-packages/sklearn/linear_model/coordinate_descent.py:491: ConvergenceWarning: Objective did not converge. You might want to increase the number of iterations. Fitting data with very small alpha may cause precision problems.\n",
      "  ConvergenceWarning)\n",
      "[Parallel(n_jobs=1)]: Done   9 out of   9 | elapsed:    0.5s remaining:    0.0s\n"
     ]
    },
    {
     "name": "stdout",
     "output_type": "stream",
     "text": [
      "[CV]  l1_ratio=0.9, alpha=0.004, score=-809389460.9370447, total=   0.1s\n",
      "[CV] l1_ratio=0.9, alpha=0.004 .......................................\n",
      "[CV]  l1_ratio=0.9, alpha=0.004, score=-738646117.2115169, total=   0.1s\n",
      "[CV] l1_ratio=0.5, alpha=0.004 .......................................\n",
      "[CV]  l1_ratio=0.5, alpha=0.004, score=-681798400.8476292, total=   0.1s\n",
      "[CV] l1_ratio=0.5, alpha=0.004 .......................................\n",
      "[CV]  l1_ratio=0.5, alpha=0.004, score=-963320152.1595936, total=   0.0s\n",
      "[CV] l1_ratio=0.5, alpha=0.004 .......................................\n"
     ]
    },
    {
     "name": "stderr",
     "output_type": "stream",
     "text": [
      "/Users/chidam/anaconda/lib/python3.5/site-packages/sklearn/linear_model/coordinate_descent.py:491: ConvergenceWarning: Objective did not converge. You might want to increase the number of iterations. Fitting data with very small alpha may cause precision problems.\n",
      "  ConvergenceWarning)\n",
      "/Users/chidam/anaconda/lib/python3.5/site-packages/sklearn/linear_model/coordinate_descent.py:491: ConvergenceWarning: Objective did not converge. You might want to increase the number of iterations. Fitting data with very small alpha may cause precision problems.\n",
      "  ConvergenceWarning)\n",
      "/Users/chidam/anaconda/lib/python3.5/site-packages/sklearn/linear_model/coordinate_descent.py:491: ConvergenceWarning: Objective did not converge. You might want to increase the number of iterations. Fitting data with very small alpha may cause precision problems.\n",
      "  ConvergenceWarning)\n",
      "/Users/chidam/anaconda/lib/python3.5/site-packages/sklearn/linear_model/coordinate_descent.py:491: ConvergenceWarning: Objective did not converge. You might want to increase the number of iterations. Fitting data with very small alpha may cause precision problems.\n",
      "  ConvergenceWarning)\n"
     ]
    },
    {
     "name": "stdout",
     "output_type": "stream",
     "text": [
      "[CV]  l1_ratio=0.5, alpha=0.004, score=-595144508.4606209, total=   0.1s\n",
      "[CV] l1_ratio=0.5, alpha=0.004 .......................................\n",
      "[CV]  l1_ratio=0.5, alpha=0.004, score=-747017089.7336202, total=   0.1s\n",
      "[CV] l1_ratio=0.5, alpha=0.004 .......................................\n",
      "[CV]  l1_ratio=0.5, alpha=0.004, score=-949413772.0641768, total=   0.1s\n",
      "[CV] l1_ratio=0.5, alpha=0.004 .......................................\n",
      "[CV]  l1_ratio=0.5, alpha=0.004, score=-940537108.3266745, total=   0.1s\n",
      "[CV] l1_ratio=0.5, alpha=0.004 .......................................\n"
     ]
    },
    {
     "name": "stderr",
     "output_type": "stream",
     "text": [
      "/Users/chidam/anaconda/lib/python3.5/site-packages/sklearn/linear_model/coordinate_descent.py:491: ConvergenceWarning: Objective did not converge. You might want to increase the number of iterations. Fitting data with very small alpha may cause precision problems.\n",
      "  ConvergenceWarning)\n",
      "/Users/chidam/anaconda/lib/python3.5/site-packages/sklearn/linear_model/coordinate_descent.py:491: ConvergenceWarning: Objective did not converge. You might want to increase the number of iterations. Fitting data with very small alpha may cause precision problems.\n",
      "  ConvergenceWarning)\n",
      "/Users/chidam/anaconda/lib/python3.5/site-packages/sklearn/linear_model/coordinate_descent.py:491: ConvergenceWarning: Objective did not converge. You might want to increase the number of iterations. Fitting data with very small alpha may cause precision problems.\n",
      "  ConvergenceWarning)\n",
      "/Users/chidam/anaconda/lib/python3.5/site-packages/sklearn/linear_model/coordinate_descent.py:491: ConvergenceWarning: Objective did not converge. You might want to increase the number of iterations. Fitting data with very small alpha may cause precision problems.\n",
      "  ConvergenceWarning)\n"
     ]
    },
    {
     "name": "stdout",
     "output_type": "stream",
     "text": [
      "[CV]  l1_ratio=0.5, alpha=0.004, score=-769856039.5594813, total=   0.1s\n",
      "[CV] l1_ratio=0.5, alpha=0.004 .......................................\n",
      "[CV]  l1_ratio=0.5, alpha=0.004, score=-736654538.6116885, total=   0.1s\n",
      "[CV] l1_ratio=0.5, alpha=0.004 .......................................\n",
      "[CV]  l1_ratio=0.5, alpha=0.004, score=-825873079.0800781, total=   0.1s\n",
      "[CV] l1_ratio=0.5, alpha=0.004 .......................................\n",
      "[CV]  l1_ratio=0.5, alpha=0.004, score=-741798827.0686245, total=   0.0s\n",
      "[CV] l1_ratio=0.7, alpha=0.004 .......................................\n"
     ]
    },
    {
     "name": "stderr",
     "output_type": "stream",
     "text": [
      "/Users/chidam/anaconda/lib/python3.5/site-packages/sklearn/linear_model/coordinate_descent.py:491: ConvergenceWarning: Objective did not converge. You might want to increase the number of iterations. Fitting data with very small alpha may cause precision problems.\n",
      "  ConvergenceWarning)\n",
      "/Users/chidam/anaconda/lib/python3.5/site-packages/sklearn/linear_model/coordinate_descent.py:491: ConvergenceWarning: Objective did not converge. You might want to increase the number of iterations. Fitting data with very small alpha may cause precision problems.\n",
      "  ConvergenceWarning)\n",
      "/Users/chidam/anaconda/lib/python3.5/site-packages/sklearn/linear_model/coordinate_descent.py:491: ConvergenceWarning: Objective did not converge. You might want to increase the number of iterations. Fitting data with very small alpha may cause precision problems.\n",
      "  ConvergenceWarning)\n",
      "/Users/chidam/anaconda/lib/python3.5/site-packages/sklearn/linear_model/coordinate_descent.py:491: ConvergenceWarning: Objective did not converge. You might want to increase the number of iterations. Fitting data with very small alpha may cause precision problems.\n",
      "  ConvergenceWarning)\n",
      "/Users/chidam/anaconda/lib/python3.5/site-packages/sklearn/linear_model/coordinate_descent.py:491: ConvergenceWarning: Objective did not converge. You might want to increase the number of iterations. Fitting data with very small alpha may cause precision problems.\n",
      "  ConvergenceWarning)\n"
     ]
    },
    {
     "name": "stdout",
     "output_type": "stream",
     "text": [
      "[CV]  l1_ratio=0.7, alpha=0.004, score=-682601534.8895489, total=   0.0s\n",
      "[CV] l1_ratio=0.7, alpha=0.004 .......................................\n",
      "[CV]  l1_ratio=0.7, alpha=0.004, score=-963785692.9218603, total=   0.0s\n",
      "[CV] l1_ratio=0.7, alpha=0.004 .......................................\n",
      "[CV]  l1_ratio=0.7, alpha=0.004, score=-593621665.4175876, total=   0.0s\n",
      "[CV] l1_ratio=0.7, alpha=0.004 .......................................\n",
      "[CV]  l1_ratio=0.7, alpha=0.004, score=-748980967.8798875, total=   0.1s\n",
      "[CV] l1_ratio=0.7, alpha=0.004 .......................................\n"
     ]
    },
    {
     "name": "stderr",
     "output_type": "stream",
     "text": [
      "/Users/chidam/anaconda/lib/python3.5/site-packages/sklearn/linear_model/coordinate_descent.py:491: ConvergenceWarning: Objective did not converge. You might want to increase the number of iterations. Fitting data with very small alpha may cause precision problems.\n",
      "  ConvergenceWarning)\n",
      "/Users/chidam/anaconda/lib/python3.5/site-packages/sklearn/linear_model/coordinate_descent.py:491: ConvergenceWarning: Objective did not converge. You might want to increase the number of iterations. Fitting data with very small alpha may cause precision problems.\n",
      "  ConvergenceWarning)\n",
      "/Users/chidam/anaconda/lib/python3.5/site-packages/sklearn/linear_model/coordinate_descent.py:491: ConvergenceWarning: Objective did not converge. You might want to increase the number of iterations. Fitting data with very small alpha may cause precision problems.\n",
      "  ConvergenceWarning)\n",
      "/Users/chidam/anaconda/lib/python3.5/site-packages/sklearn/linear_model/coordinate_descent.py:491: ConvergenceWarning: Objective did not converge. You might want to increase the number of iterations. Fitting data with very small alpha may cause precision problems.\n",
      "  ConvergenceWarning)\n"
     ]
    },
    {
     "name": "stdout",
     "output_type": "stream",
     "text": [
      "[CV]  l1_ratio=0.7, alpha=0.004, score=-953310393.3329165, total=   0.1s\n",
      "[CV] l1_ratio=0.7, alpha=0.004 .......................................\n",
      "[CV]  l1_ratio=0.7, alpha=0.004, score=-939948383.8391315, total=   0.1s\n",
      "[CV] l1_ratio=0.7, alpha=0.004 .......................................\n",
      "[CV]  l1_ratio=0.7, alpha=0.004, score=-764904804.1348677, total=   0.1s\n",
      "[CV] l1_ratio=0.7, alpha=0.004 .......................................\n",
      "[CV]  l1_ratio=0.7, alpha=0.004, score=-734363698.6938007, total=   0.1s\n",
      "[CV] l1_ratio=0.7, alpha=0.004 .......................................\n"
     ]
    },
    {
     "name": "stderr",
     "output_type": "stream",
     "text": [
      "/Users/chidam/anaconda/lib/python3.5/site-packages/sklearn/linear_model/coordinate_descent.py:491: ConvergenceWarning: Objective did not converge. You might want to increase the number of iterations. Fitting data with very small alpha may cause precision problems.\n",
      "  ConvergenceWarning)\n",
      "/Users/chidam/anaconda/lib/python3.5/site-packages/sklearn/linear_model/coordinate_descent.py:491: ConvergenceWarning: Objective did not converge. You might want to increase the number of iterations. Fitting data with very small alpha may cause precision problems.\n",
      "  ConvergenceWarning)\n",
      "/Users/chidam/anaconda/lib/python3.5/site-packages/sklearn/linear_model/coordinate_descent.py:491: ConvergenceWarning: Objective did not converge. You might want to increase the number of iterations. Fitting data with very small alpha may cause precision problems.\n",
      "  ConvergenceWarning)\n",
      "/Users/chidam/anaconda/lib/python3.5/site-packages/sklearn/linear_model/coordinate_descent.py:491: ConvergenceWarning: Objective did not converge. You might want to increase the number of iterations. Fitting data with very small alpha may cause precision problems.\n",
      "  ConvergenceWarning)\n"
     ]
    },
    {
     "name": "stdout",
     "output_type": "stream",
     "text": [
      "[CV]  l1_ratio=0.7, alpha=0.004, score=-817716958.7156465, total=   0.1s\n",
      "[CV] l1_ratio=0.7, alpha=0.004 .......................................\n",
      "[CV]  l1_ratio=0.7, alpha=0.004, score=-739868764.742337, total=   0.0s\n",
      "[CV] l1_ratio=0.9, alpha=0.05 ........................................\n",
      "[CV]  l1_ratio=0.9, alpha=0.05, score=-683822044.7233845, total=   0.0s\n",
      "[CV] l1_ratio=0.9, alpha=0.05 ........................................\n",
      "[CV]  l1_ratio=0.9, alpha=0.05, score=-967162946.5126745, total=   0.1s\n",
      "[CV] l1_ratio=0.9, alpha=0.05 ........................................\n"
     ]
    },
    {
     "name": "stderr",
     "output_type": "stream",
     "text": [
      "/Users/chidam/anaconda/lib/python3.5/site-packages/sklearn/linear_model/coordinate_descent.py:491: ConvergenceWarning: Objective did not converge. You might want to increase the number of iterations. Fitting data with very small alpha may cause precision problems.\n",
      "  ConvergenceWarning)\n",
      "/Users/chidam/anaconda/lib/python3.5/site-packages/sklearn/linear_model/coordinate_descent.py:491: ConvergenceWarning: Objective did not converge. You might want to increase the number of iterations. Fitting data with very small alpha may cause precision problems.\n",
      "  ConvergenceWarning)\n",
      "/Users/chidam/anaconda/lib/python3.5/site-packages/sklearn/linear_model/coordinate_descent.py:491: ConvergenceWarning: Objective did not converge. You might want to increase the number of iterations. Fitting data with very small alpha may cause precision problems.\n",
      "  ConvergenceWarning)\n",
      "/Users/chidam/anaconda/lib/python3.5/site-packages/sklearn/linear_model/coordinate_descent.py:491: ConvergenceWarning: Objective did not converge. You might want to increase the number of iterations. Fitting data with very small alpha may cause precision problems.\n",
      "  ConvergenceWarning)\n"
     ]
    },
    {
     "name": "stdout",
     "output_type": "stream",
     "text": [
      "[CV]  l1_ratio=0.9, alpha=0.05, score=-602935073.9402224, total=   0.1s\n",
      "[CV] l1_ratio=0.9, alpha=0.05 ........................................\n",
      "[CV]  l1_ratio=0.9, alpha=0.05, score=-745794519.0381403, total=   0.1s\n",
      "[CV] l1_ratio=0.9, alpha=0.05 ........................................\n",
      "[CV]  l1_ratio=0.9, alpha=0.05, score=-943787821.1503698, total=   0.1s\n",
      "[CV] l1_ratio=0.9, alpha=0.05 ........................................\n",
      "[CV]  l1_ratio=0.9, alpha=0.05, score=-943815938.9962101, total=   0.0s\n",
      "[CV] l1_ratio=0.9, alpha=0.05 ........................................\n"
     ]
    },
    {
     "name": "stderr",
     "output_type": "stream",
     "text": [
      "/Users/chidam/anaconda/lib/python3.5/site-packages/sklearn/linear_model/coordinate_descent.py:491: ConvergenceWarning: Objective did not converge. You might want to increase the number of iterations. Fitting data with very small alpha may cause precision problems.\n",
      "  ConvergenceWarning)\n",
      "/Users/chidam/anaconda/lib/python3.5/site-packages/sklearn/linear_model/coordinate_descent.py:491: ConvergenceWarning: Objective did not converge. You might want to increase the number of iterations. Fitting data with very small alpha may cause precision problems.\n",
      "  ConvergenceWarning)\n",
      "/Users/chidam/anaconda/lib/python3.5/site-packages/sklearn/linear_model/coordinate_descent.py:491: ConvergenceWarning: Objective did not converge. You might want to increase the number of iterations. Fitting data with very small alpha may cause precision problems.\n",
      "  ConvergenceWarning)\n",
      "/Users/chidam/anaconda/lib/python3.5/site-packages/sklearn/linear_model/coordinate_descent.py:491: ConvergenceWarning: Objective did not converge. You might want to increase the number of iterations. Fitting data with very small alpha may cause precision problems.\n",
      "  ConvergenceWarning)\n",
      "/Users/chidam/anaconda/lib/python3.5/site-packages/sklearn/linear_model/coordinate_descent.py:491: ConvergenceWarning: Objective did not converge. You might want to increase the number of iterations. Fitting data with very small alpha may cause precision problems.\n",
      "  ConvergenceWarning)\n"
     ]
    },
    {
     "name": "stdout",
     "output_type": "stream",
     "text": [
      "[CV]  l1_ratio=0.9, alpha=0.05, score=-788487095.9492811, total=   0.0s\n",
      "[CV] l1_ratio=0.9, alpha=0.05 ........................................\n",
      "[CV]  l1_ratio=0.9, alpha=0.05, score=-746910008.4008379, total=   0.0s\n",
      "[CV] l1_ratio=0.9, alpha=0.05 ........................................\n",
      "[CV]  l1_ratio=0.9, alpha=0.05, score=-853968890.3977163, total=   0.0s\n",
      "[CV] l1_ratio=0.9, alpha=0.05 ........................................\n",
      "[CV]  l1_ratio=0.9, alpha=0.05, score=-750933175.248524, total=   0.1s\n",
      "[CV] l1_ratio=0.5, alpha=0.05 ........................................\n"
     ]
    },
    {
     "name": "stderr",
     "output_type": "stream",
     "text": [
      "/Users/chidam/anaconda/lib/python3.5/site-packages/sklearn/linear_model/coordinate_descent.py:491: ConvergenceWarning: Objective did not converge. You might want to increase the number of iterations. Fitting data with very small alpha may cause precision problems.\n",
      "  ConvergenceWarning)\n",
      "/Users/chidam/anaconda/lib/python3.5/site-packages/sklearn/linear_model/coordinate_descent.py:491: ConvergenceWarning: Objective did not converge. You might want to increase the number of iterations. Fitting data with very small alpha may cause precision problems.\n",
      "  ConvergenceWarning)\n",
      "/Users/chidam/anaconda/lib/python3.5/site-packages/sklearn/linear_model/coordinate_descent.py:491: ConvergenceWarning: Objective did not converge. You might want to increase the number of iterations. Fitting data with very small alpha may cause precision problems.\n",
      "  ConvergenceWarning)\n",
      "/Users/chidam/anaconda/lib/python3.5/site-packages/sklearn/linear_model/coordinate_descent.py:491: ConvergenceWarning: Objective did not converge. You might want to increase the number of iterations. Fitting data with very small alpha may cause precision problems.\n",
      "  ConvergenceWarning)\n"
     ]
    },
    {
     "name": "stdout",
     "output_type": "stream",
     "text": [
      "[CV]  l1_ratio=0.5, alpha=0.05, score=-732881739.0660325, total=   0.1s\n",
      "[CV] l1_ratio=0.5, alpha=0.05 ........................................\n",
      "[CV]  l1_ratio=0.5, alpha=0.05, score=-1026733835.5981165, total=   0.1s\n",
      "[CV] l1_ratio=0.5, alpha=0.05 ........................................\n",
      "[CV]  l1_ratio=0.5, alpha=0.05, score=-662673276.4313538, total=   0.1s\n",
      "[CV] l1_ratio=0.5, alpha=0.05 ........................................\n",
      "[CV]  l1_ratio=0.5, alpha=0.05, score=-790144357.4968032, total=   0.1s\n",
      "[CV] l1_ratio=0.5, alpha=0.05 ........................................\n"
     ]
    },
    {
     "name": "stderr",
     "output_type": "stream",
     "text": [
      "/Users/chidam/anaconda/lib/python3.5/site-packages/sklearn/linear_model/coordinate_descent.py:491: ConvergenceWarning: Objective did not converge. You might want to increase the number of iterations. Fitting data with very small alpha may cause precision problems.\n",
      "  ConvergenceWarning)\n",
      "/Users/chidam/anaconda/lib/python3.5/site-packages/sklearn/linear_model/coordinate_descent.py:491: ConvergenceWarning: Objective did not converge. You might want to increase the number of iterations. Fitting data with very small alpha may cause precision problems.\n",
      "  ConvergenceWarning)\n",
      "/Users/chidam/anaconda/lib/python3.5/site-packages/sklearn/linear_model/coordinate_descent.py:491: ConvergenceWarning: Objective did not converge. You might want to increase the number of iterations. Fitting data with very small alpha may cause precision problems.\n",
      "  ConvergenceWarning)\n",
      "/Users/chidam/anaconda/lib/python3.5/site-packages/sklearn/linear_model/coordinate_descent.py:491: ConvergenceWarning: Objective did not converge. You might want to increase the number of iterations. Fitting data with very small alpha may cause precision problems.\n",
      "  ConvergenceWarning)\n",
      "/Users/chidam/anaconda/lib/python3.5/site-packages/sklearn/linear_model/coordinate_descent.py:491: ConvergenceWarning: Objective did not converge. You might want to increase the number of iterations. Fitting data with very small alpha may cause precision problems.\n",
      "  ConvergenceWarning)\n"
     ]
    },
    {
     "name": "stdout",
     "output_type": "stream",
     "text": [
      "[CV]  l1_ratio=0.5, alpha=0.05, score=-990252399.8551619, total=   0.0s\n",
      "[CV] l1_ratio=0.5, alpha=0.05 ........................................\n",
      "[CV]  l1_ratio=0.5, alpha=0.05, score=-976784690.3846997, total=   0.0s\n",
      "[CV] l1_ratio=0.5, alpha=0.05 ........................................\n",
      "[CV]  l1_ratio=0.5, alpha=0.05, score=-883230849.4608539, total=   0.0s\n",
      "[CV] l1_ratio=0.5, alpha=0.05 ........................................\n",
      "[CV]  l1_ratio=0.5, alpha=0.05, score=-815666514.143109, total=   0.0s\n",
      "[CV] l1_ratio=0.5, alpha=0.05 ........................................\n",
      "[CV]  l1_ratio=0.5, alpha=0.05, score=-970465636.3430681, total=   0.0s\n",
      "[CV] l1_ratio=0.5, alpha=0.05 ........................................\n"
     ]
    },
    {
     "name": "stderr",
     "output_type": "stream",
     "text": [
      "/Users/chidam/anaconda/lib/python3.5/site-packages/sklearn/linear_model/coordinate_descent.py:491: ConvergenceWarning: Objective did not converge. You might want to increase the number of iterations. Fitting data with very small alpha may cause precision problems.\n",
      "  ConvergenceWarning)\n",
      "/Users/chidam/anaconda/lib/python3.5/site-packages/sklearn/linear_model/coordinate_descent.py:491: ConvergenceWarning: Objective did not converge. You might want to increase the number of iterations. Fitting data with very small alpha may cause precision problems.\n",
      "  ConvergenceWarning)\n",
      "/Users/chidam/anaconda/lib/python3.5/site-packages/sklearn/linear_model/coordinate_descent.py:491: ConvergenceWarning: Objective did not converge. You might want to increase the number of iterations. Fitting data with very small alpha may cause precision problems.\n",
      "  ConvergenceWarning)\n",
      "/Users/chidam/anaconda/lib/python3.5/site-packages/sklearn/linear_model/coordinate_descent.py:491: ConvergenceWarning: Objective did not converge. You might want to increase the number of iterations. Fitting data with very small alpha may cause precision problems.\n",
      "  ConvergenceWarning)\n",
      "/Users/chidam/anaconda/lib/python3.5/site-packages/sklearn/linear_model/coordinate_descent.py:491: ConvergenceWarning: Objective did not converge. You might want to increase the number of iterations. Fitting data with very small alpha may cause precision problems.\n",
      "  ConvergenceWarning)\n"
     ]
    },
    {
     "name": "stdout",
     "output_type": "stream",
     "text": [
      "[CV]  l1_ratio=0.5, alpha=0.05, score=-806064248.5909154, total=   0.0s\n",
      "[CV] l1_ratio=0.7, alpha=0.05 ........................................\n",
      "[CV]  l1_ratio=0.7, alpha=0.05, score=-707629807.5103971, total=   0.0s\n",
      "[CV] l1_ratio=0.7, alpha=0.05 ........................................\n",
      "[CV]  l1_ratio=0.7, alpha=0.05, score=-997518617.2688774, total=   0.0s\n",
      "[CV] l1_ratio=0.7, alpha=0.05 ........................................\n",
      "[CV]  l1_ratio=0.7, alpha=0.05, score=-635067785.4029027, total=   0.0s\n",
      "[CV] l1_ratio=0.7, alpha=0.05 ........................................\n",
      "[CV]  l1_ratio=0.7, alpha=0.05, score=-765814035.5133154, total=   0.0s\n",
      "[CV] l1_ratio=0.7, alpha=0.05 ........................................\n"
     ]
    },
    {
     "name": "stderr",
     "output_type": "stream",
     "text": [
      "/Users/chidam/anaconda/lib/python3.5/site-packages/sklearn/linear_model/coordinate_descent.py:491: ConvergenceWarning: Objective did not converge. You might want to increase the number of iterations. Fitting data with very small alpha may cause precision problems.\n",
      "  ConvergenceWarning)\n",
      "/Users/chidam/anaconda/lib/python3.5/site-packages/sklearn/linear_model/coordinate_descent.py:491: ConvergenceWarning: Objective did not converge. You might want to increase the number of iterations. Fitting data with very small alpha may cause precision problems.\n",
      "  ConvergenceWarning)\n",
      "/Users/chidam/anaconda/lib/python3.5/site-packages/sklearn/linear_model/coordinate_descent.py:491: ConvergenceWarning: Objective did not converge. You might want to increase the number of iterations. Fitting data with very small alpha may cause precision problems.\n",
      "  ConvergenceWarning)\n",
      "/Users/chidam/anaconda/lib/python3.5/site-packages/sklearn/linear_model/coordinate_descent.py:491: ConvergenceWarning: Objective did not converge. You might want to increase the number of iterations. Fitting data with very small alpha may cause precision problems.\n",
      "  ConvergenceWarning)\n"
     ]
    },
    {
     "name": "stdout",
     "output_type": "stream",
     "text": [
      "[CV]  l1_ratio=0.7, alpha=0.05, score=-962289964.1383307, total=   0.1s\n",
      "[CV] l1_ratio=0.7, alpha=0.05 ........................................\n",
      "[CV]  l1_ratio=0.7, alpha=0.05, score=-960706749.5527178, total=   0.1s\n",
      "[CV] l1_ratio=0.7, alpha=0.05 ........................................\n",
      "[CV]  l1_ratio=0.7, alpha=0.05, score=-842740830.5047783, total=   0.1s\n",
      "[CV] l1_ratio=0.7, alpha=0.05 ........................................\n",
      "[CV]  l1_ratio=0.7, alpha=0.05, score=-784670629.6505015, total=   0.1s\n",
      "[CV] l1_ratio=0.7, alpha=0.05 ........................................\n"
     ]
    },
    {
     "name": "stderr",
     "output_type": "stream",
     "text": [
      "/Users/chidam/anaconda/lib/python3.5/site-packages/sklearn/linear_model/coordinate_descent.py:491: ConvergenceWarning: Objective did not converge. You might want to increase the number of iterations. Fitting data with very small alpha may cause precision problems.\n",
      "  ConvergenceWarning)\n",
      "/Users/chidam/anaconda/lib/python3.5/site-packages/sklearn/linear_model/coordinate_descent.py:491: ConvergenceWarning: Objective did not converge. You might want to increase the number of iterations. Fitting data with very small alpha may cause precision problems.\n",
      "  ConvergenceWarning)\n",
      "/Users/chidam/anaconda/lib/python3.5/site-packages/sklearn/linear_model/coordinate_descent.py:491: ConvergenceWarning: Objective did not converge. You might want to increase the number of iterations. Fitting data with very small alpha may cause precision problems.\n",
      "  ConvergenceWarning)\n",
      "/Users/chidam/anaconda/lib/python3.5/site-packages/sklearn/linear_model/coordinate_descent.py:491: ConvergenceWarning: Objective did not converge. You might want to increase the number of iterations. Fitting data with very small alpha may cause precision problems.\n",
      "  ConvergenceWarning)\n",
      "/Users/chidam/anaconda/lib/python3.5/site-packages/sklearn/linear_model/coordinate_descent.py:491: ConvergenceWarning: Objective did not converge. You might want to increase the number of iterations. Fitting data with very small alpha may cause precision problems.\n",
      "  ConvergenceWarning)\n"
     ]
    },
    {
     "name": "stdout",
     "output_type": "stream",
     "text": [
      "[CV]  l1_ratio=0.7, alpha=0.05, score=-923766915.7173942, total=   0.0s\n",
      "[CV] l1_ratio=0.7, alpha=0.05 ........................................\n",
      "[CV]  l1_ratio=0.7, alpha=0.05, score=-782143172.7237047, total=   0.0s\n",
      "[CV] l1_ratio=0.9, alpha=0.5 .........................................\n",
      "[CV] . l1_ratio=0.9, alpha=0.5, score=-781259708.845244, total=   0.0s\n",
      "[CV] l1_ratio=0.9, alpha=0.5 .........................................\n",
      "[CV]  l1_ratio=0.9, alpha=0.5, score=-1078843068.4530091, total=   0.0s\n",
      "[CV] l1_ratio=0.9, alpha=0.5 .........................................\n",
      "[CV]  l1_ratio=0.9, alpha=0.5, score=-710297830.6863708, total=   0.0s\n",
      "[CV] l1_ratio=0.9, alpha=0.5 .........................................\n"
     ]
    },
    {
     "name": "stderr",
     "output_type": "stream",
     "text": [
      "/Users/chidam/anaconda/lib/python3.5/site-packages/sklearn/linear_model/coordinate_descent.py:491: ConvergenceWarning: Objective did not converge. You might want to increase the number of iterations. Fitting data with very small alpha may cause precision problems.\n",
      "  ConvergenceWarning)\n",
      "/Users/chidam/anaconda/lib/python3.5/site-packages/sklearn/linear_model/coordinate_descent.py:491: ConvergenceWarning: Objective did not converge. You might want to increase the number of iterations. Fitting data with very small alpha may cause precision problems.\n",
      "  ConvergenceWarning)\n",
      "/Users/chidam/anaconda/lib/python3.5/site-packages/sklearn/linear_model/coordinate_descent.py:491: ConvergenceWarning: Objective did not converge. You might want to increase the number of iterations. Fitting data with very small alpha may cause precision problems.\n",
      "  ConvergenceWarning)\n",
      "/Users/chidam/anaconda/lib/python3.5/site-packages/sklearn/linear_model/coordinate_descent.py:491: ConvergenceWarning: Objective did not converge. You might want to increase the number of iterations. Fitting data with very small alpha may cause precision problems.\n",
      "  ConvergenceWarning)\n"
     ]
    },
    {
     "name": "stdout",
     "output_type": "stream",
     "text": [
      "[CV]  l1_ratio=0.9, alpha=0.5, score=-838115050.4065827, total=   0.0s\n",
      "[CV] l1_ratio=0.9, alpha=0.5 .........................................\n",
      "[CV]  l1_ratio=0.9, alpha=0.5, score=-1047866129.7320962, total=   0.1s\n",
      "[CV] l1_ratio=0.9, alpha=0.5 .........................................\n",
      "[CV]  l1_ratio=0.9, alpha=0.5, score=-1006115584.329845, total=   0.1s\n",
      "[CV] l1_ratio=0.9, alpha=0.5 .........................................\n",
      "[CV]  l1_ratio=0.9, alpha=0.5, score=-950093999.4576738, total=   0.0s\n",
      "[CV] l1_ratio=0.9, alpha=0.5 .........................................\n"
     ]
    },
    {
     "name": "stderr",
     "output_type": "stream",
     "text": [
      "/Users/chidam/anaconda/lib/python3.5/site-packages/sklearn/linear_model/coordinate_descent.py:491: ConvergenceWarning: Objective did not converge. You might want to increase the number of iterations. Fitting data with very small alpha may cause precision problems.\n",
      "  ConvergenceWarning)\n",
      "/Users/chidam/anaconda/lib/python3.5/site-packages/sklearn/linear_model/coordinate_descent.py:491: ConvergenceWarning: Objective did not converge. You might want to increase the number of iterations. Fitting data with very small alpha may cause precision problems.\n",
      "  ConvergenceWarning)\n",
      "/Users/chidam/anaconda/lib/python3.5/site-packages/sklearn/linear_model/coordinate_descent.py:491: ConvergenceWarning: Objective did not converge. You might want to increase the number of iterations. Fitting data with very small alpha may cause precision problems.\n",
      "  ConvergenceWarning)\n",
      "/Users/chidam/anaconda/lib/python3.5/site-packages/sklearn/linear_model/coordinate_descent.py:491: ConvergenceWarning: Objective did not converge. You might want to increase the number of iterations. Fitting data with very small alpha may cause precision problems.\n",
      "  ConvergenceWarning)\n",
      "/Users/chidam/anaconda/lib/python3.5/site-packages/sklearn/linear_model/coordinate_descent.py:491: ConvergenceWarning: Objective did not converge. You might want to increase the number of iterations. Fitting data with very small alpha may cause precision problems.\n",
      "  ConvergenceWarning)\n"
     ]
    },
    {
     "name": "stdout",
     "output_type": "stream",
     "text": [
      "[CV]  l1_ratio=0.9, alpha=0.5, score=-867799400.0905671, total=   0.1s\n",
      "[CV] l1_ratio=0.9, alpha=0.5 .........................................\n",
      "[CV]  l1_ratio=0.9, alpha=0.5, score=-1041736712.3261427, total=   0.0s\n",
      "[CV] l1_ratio=0.9, alpha=0.5 .........................................\n",
      "[CV] . l1_ratio=0.9, alpha=0.5, score=-844392819.282298, total=   0.0s\n",
      "[CV] l1_ratio=0.5, alpha=0.5 .........................................\n",
      "[CV]  l1_ratio=0.5, alpha=0.5, score=-917025580.5058749, total=   0.0s\n",
      "[CV] l1_ratio=0.5, alpha=0.5 .........................................\n",
      "[CV]  l1_ratio=0.5, alpha=0.5, score=-1215207300.4779763, total=   0.0s\n",
      "[CV] l1_ratio=0.5, alpha=0.5 .........................................\n"
     ]
    },
    {
     "name": "stderr",
     "output_type": "stream",
     "text": [
      "/Users/chidam/anaconda/lib/python3.5/site-packages/sklearn/linear_model/coordinate_descent.py:491: ConvergenceWarning: Objective did not converge. You might want to increase the number of iterations. Fitting data with very small alpha may cause precision problems.\n",
      "  ConvergenceWarning)\n",
      "/Users/chidam/anaconda/lib/python3.5/site-packages/sklearn/linear_model/coordinate_descent.py:491: ConvergenceWarning: Objective did not converge. You might want to increase the number of iterations. Fitting data with very small alpha may cause precision problems.\n",
      "  ConvergenceWarning)\n",
      "/Users/chidam/anaconda/lib/python3.5/site-packages/sklearn/linear_model/coordinate_descent.py:491: ConvergenceWarning: Objective did not converge. You might want to increase the number of iterations. Fitting data with very small alpha may cause precision problems.\n",
      "  ConvergenceWarning)\n",
      "/Users/chidam/anaconda/lib/python3.5/site-packages/sklearn/linear_model/coordinate_descent.py:491: ConvergenceWarning: Objective did not converge. You might want to increase the number of iterations. Fitting data with very small alpha may cause precision problems.\n",
      "  ConvergenceWarning)\n"
     ]
    },
    {
     "name": "stdout",
     "output_type": "stream",
     "text": [
      "[CV]  l1_ratio=0.5, alpha=0.5, score=-827226581.7008554, total=   0.1s\n",
      "[CV] l1_ratio=0.5, alpha=0.5 .........................................\n",
      "[CV] . l1_ratio=0.5, alpha=0.5, score=-976478768.888661, total=   0.1s\n",
      "[CV] l1_ratio=0.5, alpha=0.5 .........................................\n",
      "[CV]  l1_ratio=0.5, alpha=0.5, score=-1212743069.8628867, total=   0.1s\n",
      "[CV] l1_ratio=0.5, alpha=0.5 .........................................\n",
      "[CV]  l1_ratio=0.5, alpha=0.5, score=-1082598856.2756002, total=   0.1s\n",
      "[CV] l1_ratio=0.5, alpha=0.5 .........................................\n"
     ]
    },
    {
     "name": "stderr",
     "output_type": "stream",
     "text": [
      "/Users/chidam/anaconda/lib/python3.5/site-packages/sklearn/linear_model/coordinate_descent.py:491: ConvergenceWarning: Objective did not converge. You might want to increase the number of iterations. Fitting data with very small alpha may cause precision problems.\n",
      "  ConvergenceWarning)\n",
      "/Users/chidam/anaconda/lib/python3.5/site-packages/sklearn/linear_model/coordinate_descent.py:491: ConvergenceWarning: Objective did not converge. You might want to increase the number of iterations. Fitting data with very small alpha may cause precision problems.\n",
      "  ConvergenceWarning)\n",
      "/Users/chidam/anaconda/lib/python3.5/site-packages/sklearn/linear_model/coordinate_descent.py:491: ConvergenceWarning: Objective did not converge. You might want to increase the number of iterations. Fitting data with very small alpha may cause precision problems.\n",
      "  ConvergenceWarning)\n",
      "/Users/chidam/anaconda/lib/python3.5/site-packages/sklearn/linear_model/coordinate_descent.py:491: ConvergenceWarning: Objective did not converge. You might want to increase the number of iterations. Fitting data with very small alpha may cause precision problems.\n",
      "  ConvergenceWarning)\n"
     ]
    },
    {
     "name": "stdout",
     "output_type": "stream",
     "text": [
      "[CV]  l1_ratio=0.5, alpha=0.5, score=-1119989701.0344553, total=   0.1s\n",
      "[CV] l1_ratio=0.5, alpha=0.5 .........................................\n",
      "[CV]  l1_ratio=0.5, alpha=0.5, score=-989688533.9611742, total=   0.1s\n",
      "[CV] l1_ratio=0.5, alpha=0.5 .........................................\n",
      "[CV]  l1_ratio=0.5, alpha=0.5, score=-1194550018.8919477, total=   0.0s\n",
      "[CV] l1_ratio=0.5, alpha=0.5 .........................................\n",
      "[CV]  l1_ratio=0.5, alpha=0.5, score=-930557739.0411004, total=   0.0s\n",
      "[CV] l1_ratio=0.7, alpha=0.5 .........................................\n"
     ]
    },
    {
     "name": "stderr",
     "output_type": "stream",
     "text": [
      "/Users/chidam/anaconda/lib/python3.5/site-packages/sklearn/linear_model/coordinate_descent.py:491: ConvergenceWarning: Objective did not converge. You might want to increase the number of iterations. Fitting data with very small alpha may cause precision problems.\n",
      "  ConvergenceWarning)\n",
      "/Users/chidam/anaconda/lib/python3.5/site-packages/sklearn/linear_model/coordinate_descent.py:491: ConvergenceWarning: Objective did not converge. You might want to increase the number of iterations. Fitting data with very small alpha may cause precision problems.\n",
      "  ConvergenceWarning)\n",
      "/Users/chidam/anaconda/lib/python3.5/site-packages/sklearn/linear_model/coordinate_descent.py:491: ConvergenceWarning: Objective did not converge. You might want to increase the number of iterations. Fitting data with very small alpha may cause precision problems.\n",
      "  ConvergenceWarning)\n",
      "/Users/chidam/anaconda/lib/python3.5/site-packages/sklearn/linear_model/coordinate_descent.py:491: ConvergenceWarning: Objective did not converge. You might want to increase the number of iterations. Fitting data with very small alpha may cause precision problems.\n",
      "  ConvergenceWarning)\n"
     ]
    },
    {
     "name": "stdout",
     "output_type": "stream",
     "text": [
      "[CV]  l1_ratio=0.7, alpha=0.5, score=-874373012.7474293, total=   0.1s\n",
      "[CV] l1_ratio=0.7, alpha=0.5 .........................................\n",
      "[CV]  l1_ratio=0.7, alpha=0.5, score=-1172688588.7436836, total=   0.0s\n",
      "[CV] l1_ratio=0.7, alpha=0.5 .........................................\n",
      "[CV] . l1_ratio=0.7, alpha=0.5, score=-792349122.616209, total=   0.1s\n",
      "[CV] l1_ratio=0.7, alpha=0.5 .........................................\n",
      "[CV] . l1_ratio=0.7, alpha=0.5, score=-932489917.276984, total=   0.1s\n",
      "[CV] l1_ratio=0.7, alpha=0.5 .........................................\n"
     ]
    },
    {
     "name": "stderr",
     "output_type": "stream",
     "text": [
      "/Users/chidam/anaconda/lib/python3.5/site-packages/sklearn/linear_model/coordinate_descent.py:491: ConvergenceWarning: Objective did not converge. You might want to increase the number of iterations. Fitting data with very small alpha may cause precision problems.\n",
      "  ConvergenceWarning)\n",
      "/Users/chidam/anaconda/lib/python3.5/site-packages/sklearn/linear_model/coordinate_descent.py:491: ConvergenceWarning: Objective did not converge. You might want to increase the number of iterations. Fitting data with very small alpha may cause precision problems.\n",
      "  ConvergenceWarning)\n",
      "/Users/chidam/anaconda/lib/python3.5/site-packages/sklearn/linear_model/coordinate_descent.py:491: ConvergenceWarning: Objective did not converge. You might want to increase the number of iterations. Fitting data with very small alpha may cause precision problems.\n",
      "  ConvergenceWarning)\n",
      "/Users/chidam/anaconda/lib/python3.5/site-packages/sklearn/linear_model/coordinate_descent.py:491: ConvergenceWarning: Objective did not converge. You might want to increase the number of iterations. Fitting data with very small alpha may cause precision problems.\n",
      "  ConvergenceWarning)\n"
     ]
    },
    {
     "name": "stdout",
     "output_type": "stream",
     "text": [
      "[CV]  l1_ratio=0.7, alpha=0.5, score=-1161409042.7168097, total=   0.1s\n",
      "[CV] l1_ratio=0.7, alpha=0.5 .........................................\n",
      "[CV]  l1_ratio=0.7, alpha=0.5, score=-1059451156.9810492, total=   0.0s\n",
      "[CV] l1_ratio=0.7, alpha=0.5 .........................................\n",
      "[CV]  l1_ratio=0.7, alpha=0.5, score=-1067584418.7021716, total=   0.0s\n",
      "[CV] l1_ratio=0.7, alpha=0.5 .........................................\n",
      "[CV]  l1_ratio=0.7, alpha=0.5, score=-954416315.8185223, total=   0.0s\n",
      "[CV] l1_ratio=0.7, alpha=0.5 .........................................\n",
      "[CV]  l1_ratio=0.7, alpha=0.5, score=-1151371436.2612205, total=   0.0s\n",
      "[CV] l1_ratio=0.7, alpha=0.5 .........................................\n",
      "[CV]  l1_ratio=0.7, alpha=0.5, score=-905576245.0048034, total=   0.0s\n"
     ]
    },
    {
     "name": "stderr",
     "output_type": "stream",
     "text": [
      "/Users/chidam/anaconda/lib/python3.5/site-packages/sklearn/linear_model/coordinate_descent.py:491: ConvergenceWarning: Objective did not converge. You might want to increase the number of iterations. Fitting data with very small alpha may cause precision problems.\n",
      "  ConvergenceWarning)\n",
      "/Users/chidam/anaconda/lib/python3.5/site-packages/sklearn/linear_model/coordinate_descent.py:491: ConvergenceWarning: Objective did not converge. You might want to increase the number of iterations. Fitting data with very small alpha may cause precision problems.\n",
      "  ConvergenceWarning)\n",
      "/Users/chidam/anaconda/lib/python3.5/site-packages/sklearn/linear_model/coordinate_descent.py:491: ConvergenceWarning: Objective did not converge. You might want to increase the number of iterations. Fitting data with very small alpha may cause precision problems.\n",
      "  ConvergenceWarning)\n",
      "[Parallel(n_jobs=1)]: Done  90 out of  90 | elapsed:    4.8s finished\n"
     ]
    },
    {
     "data": {
      "text/plain": [
       "{'alpha': 0.004, 'l1_ratio': 0.9}"
      ]
     },
     "execution_count": 101,
     "metadata": {},
     "output_type": "execute_result"
    }
   ],
   "source": [
    "models_elastic = ElasticNet()\n",
    "param_elastic={'alpha': [0.0005, 0.003, 0.004, 0.05, 0.5] , 'l1_ratio':[.9, .5, .7]}\n",
    "grid_search1(models_elastic, param_elastic)\n",
    "#result: {'alpha': 0.004, 'l1_ratio': 0.9}"
   ]
  },
  {
   "cell_type": "code",
   "execution_count": 104,
   "metadata": {
    "collapsed": true
   },
   "outputs": [],
   "source": [
    "# import numpy as np\n",
    "# models_lasso = Lasso(random_state=0)\n",
    "# param_lasso={'alpha': np.logspace(-4, -0.5, 30)}\n",
    "# grid_search(models_lasso, param_lasso)\n",
    "\n"
   ]
  },
  {
   "cell_type": "code",
   "execution_count": 106,
   "metadata": {},
   "outputs": [
    {
     "name": "stdout",
     "output_type": "stream",
     "text": [
      "Fitting 10 folds for each of 9 candidates, totalling 90 fits\n",
      "[CV] coef0=0, alpha=0.6 ..............................................\n"
     ]
    },
    {
     "name": "stderr",
     "output_type": "stream",
     "text": [
      "/Users/chidam/anaconda/lib/python3.5/site-packages/sklearn/linear_model/ridge.py:154: UserWarning: Singular matrix in solving dual problem. Using least-squares solution instead.\n",
      "  warnings.warn(\"Singular matrix in solving dual problem. Using \"\n",
      "/Users/chidam/anaconda/lib/python3.5/site-packages/scipy/linalg/basic.py:1226: RuntimeWarning: internal gelsd driver lwork query error, required iwork dimension not returned. This is likely the result of LAPACK bug 0038, fixed in LAPACK 3.2.2 (released July 21, 2010). Falling back to 'gelss' driver.\n",
      "  warnings.warn(mesg, RuntimeWarning)\n"
     ]
    },
    {
     "name": "stdout",
     "output_type": "stream",
     "text": [
      "[CV] .... coef0=0, alpha=0.6, score=-1015335544.5536064, total=  23.8s\n",
      "[CV] coef0=0, alpha=0.6 ..............................................\n"
     ]
    },
    {
     "name": "stderr",
     "output_type": "stream",
     "text": [
      "[Parallel(n_jobs=1)]: Done   1 out of   1 | elapsed:   23.8s remaining:    0.0s\n",
      "/Users/chidam/anaconda/lib/python3.5/site-packages/sklearn/linear_model/ridge.py:154: UserWarning: Singular matrix in solving dual problem. Using least-squares solution instead.\n",
      "  warnings.warn(\"Singular matrix in solving dual problem. Using \"\n"
     ]
    },
    {
     "name": "stdout",
     "output_type": "stream",
     "text": [
      "[CV] .... coef0=0, alpha=0.6, score=-2803373862.9064484, total=  25.5s\n",
      "[CV] coef0=0, alpha=0.6 ..............................................\n"
     ]
    },
    {
     "name": "stderr",
     "output_type": "stream",
     "text": [
      "[Parallel(n_jobs=1)]: Done   2 out of   2 | elapsed:   49.4s remaining:    0.0s\n",
      "/Users/chidam/anaconda/lib/python3.5/site-packages/sklearn/linear_model/ridge.py:154: UserWarning: Singular matrix in solving dual problem. Using least-squares solution instead.\n",
      "  warnings.warn(\"Singular matrix in solving dual problem. Using \"\n"
     ]
    },
    {
     "name": "stdout",
     "output_type": "stream",
     "text": [
      "[CV] .... coef0=0, alpha=0.6, score=-14285184014.412685, total=  25.1s\n",
      "[CV] coef0=0, alpha=0.6 ..............................................\n"
     ]
    },
    {
     "name": "stderr",
     "output_type": "stream",
     "text": [
      "[Parallel(n_jobs=1)]: Done   3 out of   3 | elapsed:  1.2min remaining:    0.0s\n",
      "/Users/chidam/anaconda/lib/python3.5/site-packages/sklearn/linear_model/ridge.py:154: UserWarning: Singular matrix in solving dual problem. Using least-squares solution instead.\n",
      "  warnings.warn(\"Singular matrix in solving dual problem. Using \"\n"
     ]
    },
    {
     "name": "stdout",
     "output_type": "stream",
     "text": [
      "[CV] ...... coef0=0, alpha=0.6, score=-756830118.498199, total=  23.7s\n",
      "[CV] coef0=0, alpha=0.6 ..............................................\n"
     ]
    },
    {
     "name": "stderr",
     "output_type": "stream",
     "text": [
      "[Parallel(n_jobs=1)]: Done   4 out of   4 | elapsed:  1.6min remaining:    0.0s\n",
      "/Users/chidam/anaconda/lib/python3.5/site-packages/sklearn/linear_model/ridge.py:154: UserWarning: Singular matrix in solving dual problem. Using least-squares solution instead.\n",
      "  warnings.warn(\"Singular matrix in solving dual problem. Using \"\n"
     ]
    },
    {
     "name": "stdout",
     "output_type": "stream",
     "text": [
      "[CV] .... coef0=0, alpha=0.6, score=-1092950208.1145856, total=  24.5s\n",
      "[CV] coef0=0, alpha=0.6 ..............................................\n"
     ]
    },
    {
     "name": "stderr",
     "output_type": "stream",
     "text": [
      "[Parallel(n_jobs=1)]: Done   5 out of   5 | elapsed:  2.0min remaining:    0.0s\n",
      "/Users/chidam/anaconda/lib/python3.5/site-packages/sklearn/linear_model/ridge.py:154: UserWarning: Singular matrix in solving dual problem. Using least-squares solution instead.\n",
      "  warnings.warn(\"Singular matrix in solving dual problem. Using \"\n"
     ]
    },
    {
     "name": "stdout",
     "output_type": "stream",
     "text": [
      "[CV] ..... coef0=0, alpha=0.6, score=-977655424.5508621, total=  19.2s\n",
      "[CV] coef0=0, alpha=0.6 ..............................................\n"
     ]
    },
    {
     "name": "stderr",
     "output_type": "stream",
     "text": [
      "[Parallel(n_jobs=1)]: Done   6 out of   6 | elapsed:  2.4min remaining:    0.0s\n",
      "/Users/chidam/anaconda/lib/python3.5/site-packages/sklearn/linear_model/ridge.py:154: UserWarning: Singular matrix in solving dual problem. Using least-squares solution instead.\n",
      "  warnings.warn(\"Singular matrix in solving dual problem. Using \"\n"
     ]
    },
    {
     "name": "stdout",
     "output_type": "stream",
     "text": [
      "[CV] .... coef0=0, alpha=0.6, score=-1187287384.9113142, total=  20.1s\n",
      "[CV] coef0=0, alpha=0.6 ..............................................\n"
     ]
    },
    {
     "name": "stderr",
     "output_type": "stream",
     "text": [
      "[Parallel(n_jobs=1)]: Done   7 out of   7 | elapsed:  2.7min remaining:    0.0s\n",
      "/Users/chidam/anaconda/lib/python3.5/site-packages/sklearn/linear_model/ridge.py:154: UserWarning: Singular matrix in solving dual problem. Using least-squares solution instead.\n",
      "  warnings.warn(\"Singular matrix in solving dual problem. Using \"\n"
     ]
    },
    {
     "name": "stdout",
     "output_type": "stream",
     "text": [
      "[CV] ..... coef0=0, alpha=0.6, score=-834391584.3747284, total=  23.5s\n",
      "[CV] coef0=0, alpha=0.6 ..............................................\n"
     ]
    },
    {
     "name": "stderr",
     "output_type": "stream",
     "text": [
      "[Parallel(n_jobs=1)]: Done   8 out of   8 | elapsed:  3.1min remaining:    0.0s\n",
      "/Users/chidam/anaconda/lib/python3.5/site-packages/sklearn/linear_model/ridge.py:154: UserWarning: Singular matrix in solving dual problem. Using least-squares solution instead.\n",
      "  warnings.warn(\"Singular matrix in solving dual problem. Using \"\n"
     ]
    },
    {
     "name": "stdout",
     "output_type": "stream",
     "text": [
      "[CV] ..... coef0=0, alpha=0.6, score=-835376166.9098797, total=  22.3s\n",
      "[CV] coef0=0, alpha=0.6 ..............................................\n"
     ]
    },
    {
     "name": "stderr",
     "output_type": "stream",
     "text": [
      "[Parallel(n_jobs=1)]: Done   9 out of   9 | elapsed:  3.5min remaining:    0.0s\n",
      "/Users/chidam/anaconda/lib/python3.5/site-packages/sklearn/linear_model/ridge.py:154: UserWarning: Singular matrix in solving dual problem. Using least-squares solution instead.\n",
      "  warnings.warn(\"Singular matrix in solving dual problem. Using \"\n"
     ]
    },
    {
     "name": "stdout",
     "output_type": "stream",
     "text": [
      "[CV] .... coef0=0, alpha=0.6, score=-1619387797.2032816, total=  18.2s\n",
      "[CV] coef0=1.5, alpha=0.6 ............................................\n"
     ]
    },
    {
     "name": "stderr",
     "output_type": "stream",
     "text": [
      "/Users/chidam/anaconda/lib/python3.5/site-packages/sklearn/linear_model/ridge.py:154: UserWarning: Singular matrix in solving dual problem. Using least-squares solution instead.\n",
      "  warnings.warn(\"Singular matrix in solving dual problem. Using \"\n"
     ]
    },
    {
     "name": "stdout",
     "output_type": "stream",
     "text": [
      "[CV] ... coef0=1.5, alpha=0.6, score=-591771558.7944424, total=  23.6s\n",
      "[CV] coef0=1.5, alpha=0.6 ............................................\n"
     ]
    },
    {
     "name": "stderr",
     "output_type": "stream",
     "text": [
      "/Users/chidam/anaconda/lib/python3.5/site-packages/sklearn/linear_model/ridge.py:154: UserWarning: Singular matrix in solving dual problem. Using least-squares solution instead.\n",
      "  warnings.warn(\"Singular matrix in solving dual problem. Using \"\n"
     ]
    },
    {
     "name": "stdout",
     "output_type": "stream",
     "text": [
      "[CV] .. coef0=1.5, alpha=0.6, score=-1692136084.6222053, total=  23.2s\n",
      "[CV] coef0=1.5, alpha=0.6 ............................................\n"
     ]
    },
    {
     "name": "stderr",
     "output_type": "stream",
     "text": [
      "/Users/chidam/anaconda/lib/python3.5/site-packages/sklearn/linear_model/ridge.py:154: UserWarning: Singular matrix in solving dual problem. Using least-squares solution instead.\n",
      "  warnings.warn(\"Singular matrix in solving dual problem. Using \"\n"
     ]
    },
    {
     "name": "stdout",
     "output_type": "stream",
     "text": [
      "[CV] .. coef0=1.5, alpha=0.6, score=-1172432840.0286095, total=  23.6s\n",
      "[CV] coef0=1.5, alpha=0.6 ............................................\n"
     ]
    },
    {
     "name": "stderr",
     "output_type": "stream",
     "text": [
      "/Users/chidam/anaconda/lib/python3.5/site-packages/sklearn/linear_model/ridge.py:154: UserWarning: Singular matrix in solving dual problem. Using least-squares solution instead.\n",
      "  warnings.warn(\"Singular matrix in solving dual problem. Using \"\n"
     ]
    },
    {
     "name": "stdout",
     "output_type": "stream",
     "text": [
      "[CV] ... coef0=1.5, alpha=0.6, score=-673422146.2762094, total=  24.7s\n",
      "[CV] coef0=1.5, alpha=0.6 ............................................\n"
     ]
    },
    {
     "name": "stderr",
     "output_type": "stream",
     "text": [
      "/Users/chidam/anaconda/lib/python3.5/site-packages/sklearn/linear_model/ridge.py:154: UserWarning: Singular matrix in solving dual problem. Using least-squares solution instead.\n",
      "  warnings.warn(\"Singular matrix in solving dual problem. Using \"\n"
     ]
    },
    {
     "name": "stdout",
     "output_type": "stream",
     "text": [
      "[CV] ... coef0=1.5, alpha=0.6, score=-906971592.3065683, total=  23.6s\n",
      "[CV] coef0=1.5, alpha=0.6 ............................................\n"
     ]
    },
    {
     "name": "stderr",
     "output_type": "stream",
     "text": [
      "/Users/chidam/anaconda/lib/python3.5/site-packages/sklearn/linear_model/ridge.py:154: UserWarning: Singular matrix in solving dual problem. Using least-squares solution instead.\n",
      "  warnings.warn(\"Singular matrix in solving dual problem. Using \"\n"
     ]
    },
    {
     "name": "stdout",
     "output_type": "stream",
     "text": [
      "[CV] ... coef0=1.5, alpha=0.6, score=-798725599.4727602, total=  17.3s\n",
      "[CV] coef0=1.5, alpha=0.6 ............................................\n"
     ]
    },
    {
     "name": "stderr",
     "output_type": "stream",
     "text": [
      "/Users/chidam/anaconda/lib/python3.5/site-packages/sklearn/linear_model/ridge.py:154: UserWarning: Singular matrix in solving dual problem. Using least-squares solution instead.\n",
      "  warnings.warn(\"Singular matrix in solving dual problem. Using \"\n"
     ]
    },
    {
     "name": "stdout",
     "output_type": "stream",
     "text": [
      "[CV] ... coef0=1.5, alpha=0.6, score=-628217517.5473171, total=  17.2s\n",
      "[CV] coef0=1.5, alpha=0.6 ............................................\n"
     ]
    },
    {
     "name": "stderr",
     "output_type": "stream",
     "text": [
      "/Users/chidam/anaconda/lib/python3.5/site-packages/sklearn/linear_model/ridge.py:154: UserWarning: Singular matrix in solving dual problem. Using least-squares solution instead.\n",
      "  warnings.warn(\"Singular matrix in solving dual problem. Using \"\n"
     ]
    },
    {
     "name": "stdout",
     "output_type": "stream",
     "text": [
      "[CV] ... coef0=1.5, alpha=0.6, score=-611718901.9115634, total=  18.2s\n",
      "[CV] coef0=1.5, alpha=0.6 ............................................\n"
     ]
    },
    {
     "name": "stderr",
     "output_type": "stream",
     "text": [
      "/Users/chidam/anaconda/lib/python3.5/site-packages/sklearn/linear_model/ridge.py:154: UserWarning: Singular matrix in solving dual problem. Using least-squares solution instead.\n",
      "  warnings.warn(\"Singular matrix in solving dual problem. Using \"\n"
     ]
    },
    {
     "name": "stdout",
     "output_type": "stream",
     "text": [
      "[CV] ... coef0=1.5, alpha=0.6, score=-606674912.0903486, total=  18.4s\n",
      "[CV] coef0=1.5, alpha=0.6 ............................................\n"
     ]
    },
    {
     "name": "stderr",
     "output_type": "stream",
     "text": [
      "/Users/chidam/anaconda/lib/python3.5/site-packages/sklearn/linear_model/ridge.py:154: UserWarning: Singular matrix in solving dual problem. Using least-squares solution instead.\n",
      "  warnings.warn(\"Singular matrix in solving dual problem. Using \"\n"
     ]
    },
    {
     "name": "stdout",
     "output_type": "stream",
     "text": [
      "[CV] ... coef0=1.5, alpha=0.6, score=-996350730.3523636, total=  18.6s\n",
      "[CV] coef0=2.5, alpha=0.6 ............................................\n"
     ]
    },
    {
     "name": "stderr",
     "output_type": "stream",
     "text": [
      "/Users/chidam/anaconda/lib/python3.5/site-packages/sklearn/linear_model/ridge.py:154: UserWarning: Singular matrix in solving dual problem. Using least-squares solution instead.\n",
      "  warnings.warn(\"Singular matrix in solving dual problem. Using \"\n"
     ]
    },
    {
     "name": "stdout",
     "output_type": "stream",
     "text": [
      "[CV] ... coef0=2.5, alpha=0.6, score=-606632253.9220774, total=  23.8s\n",
      "[CV] coef0=2.5, alpha=0.6 ............................................\n"
     ]
    },
    {
     "name": "stderr",
     "output_type": "stream",
     "text": [
      "/Users/chidam/anaconda/lib/python3.5/site-packages/sklearn/linear_model/ridge.py:154: UserWarning: Singular matrix in solving dual problem. Using least-squares solution instead.\n",
      "  warnings.warn(\"Singular matrix in solving dual problem. Using \"\n"
     ]
    },
    {
     "name": "stdout",
     "output_type": "stream",
     "text": [
      "[CV] .. coef0=2.5, alpha=0.6, score=-1500961660.9013872, total=  24.7s\n",
      "[CV] coef0=2.5, alpha=0.6 ............................................\n"
     ]
    },
    {
     "name": "stderr",
     "output_type": "stream",
     "text": [
      "/Users/chidam/anaconda/lib/python3.5/site-packages/sklearn/linear_model/ridge.py:154: UserWarning: Singular matrix in solving dual problem. Using least-squares solution instead.\n",
      "  warnings.warn(\"Singular matrix in solving dual problem. Using \"\n"
     ]
    },
    {
     "name": "stdout",
     "output_type": "stream",
     "text": [
      "[CV] .. coef0=2.5, alpha=0.6, score=-1654138257.5534806, total=  24.5s\n",
      "[CV] coef0=2.5, alpha=0.6 ............................................\n"
     ]
    },
    {
     "name": "stderr",
     "output_type": "stream",
     "text": [
      "/Users/chidam/anaconda/lib/python3.5/site-packages/sklearn/linear_model/ridge.py:154: UserWarning: Singular matrix in solving dual problem. Using least-squares solution instead.\n",
      "  warnings.warn(\"Singular matrix in solving dual problem. Using \"\n"
     ]
    },
    {
     "name": "stdout",
     "output_type": "stream",
     "text": [
      "[CV] .... coef0=2.5, alpha=0.6, score=-681668475.927001, total=  23.8s\n",
      "[CV] coef0=2.5, alpha=0.6 ............................................\n"
     ]
    },
    {
     "name": "stderr",
     "output_type": "stream",
     "text": [
      "/Users/chidam/anaconda/lib/python3.5/site-packages/sklearn/linear_model/ridge.py:154: UserWarning: Singular matrix in solving dual problem. Using least-squares solution instead.\n",
      "  warnings.warn(\"Singular matrix in solving dual problem. Using \"\n"
     ]
    },
    {
     "name": "stdout",
     "output_type": "stream",
     "text": [
      "[CV] ... coef0=2.5, alpha=0.6, score=-942972889.1895785, total=  24.7s\n",
      "[CV] coef0=2.5, alpha=0.6 ............................................\n"
     ]
    },
    {
     "name": "stderr",
     "output_type": "stream",
     "text": [
      "/Users/chidam/anaconda/lib/python3.5/site-packages/sklearn/linear_model/ridge.py:154: UserWarning: Singular matrix in solving dual problem. Using least-squares solution instead.\n",
      "  warnings.warn(\"Singular matrix in solving dual problem. Using \"\n"
     ]
    },
    {
     "name": "stdout",
     "output_type": "stream",
     "text": [
      "[CV] ... coef0=2.5, alpha=0.6, score=-802343605.3160466, total=  20.2s\n",
      "[CV] coef0=2.5, alpha=0.6 ............................................\n"
     ]
    },
    {
     "name": "stderr",
     "output_type": "stream",
     "text": [
      "/Users/chidam/anaconda/lib/python3.5/site-packages/sklearn/linear_model/ridge.py:154: UserWarning: Singular matrix in solving dual problem. Using least-squares solution instead.\n",
      "  warnings.warn(\"Singular matrix in solving dual problem. Using \"\n"
     ]
    },
    {
     "name": "stdout",
     "output_type": "stream",
     "text": [
      "[CV] ... coef0=2.5, alpha=0.6, score=-605398438.3829228, total=  18.0s\n",
      "[CV] coef0=2.5, alpha=0.6 ............................................\n"
     ]
    },
    {
     "name": "stderr",
     "output_type": "stream",
     "text": [
      "/Users/chidam/anaconda/lib/python3.5/site-packages/sklearn/linear_model/ridge.py:154: UserWarning: Singular matrix in solving dual problem. Using least-squares solution instead.\n",
      "  warnings.warn(\"Singular matrix in solving dual problem. Using \"\n"
     ]
    },
    {
     "name": "stdout",
     "output_type": "stream",
     "text": [
      "[CV] ... coef0=2.5, alpha=0.6, score=-616353216.9836997, total=  18.6s\n",
      "[CV] coef0=2.5, alpha=0.6 ............................................\n"
     ]
    },
    {
     "name": "stderr",
     "output_type": "stream",
     "text": [
      "/Users/chidam/anaconda/lib/python3.5/site-packages/sklearn/linear_model/ridge.py:154: UserWarning: Singular matrix in solving dual problem. Using least-squares solution instead.\n",
      "  warnings.warn(\"Singular matrix in solving dual problem. Using \"\n"
     ]
    },
    {
     "name": "stdout",
     "output_type": "stream",
     "text": [
      "[CV] ... coef0=2.5, alpha=0.6, score=-605633934.3277574, total=  21.4s\n",
      "[CV] coef0=2.5, alpha=0.6 ............................................\n"
     ]
    },
    {
     "name": "stderr",
     "output_type": "stream",
     "text": [
      "/Users/chidam/anaconda/lib/python3.5/site-packages/sklearn/linear_model/ridge.py:154: UserWarning: Singular matrix in solving dual problem. Using least-squares solution instead.\n",
      "  warnings.warn(\"Singular matrix in solving dual problem. Using \"\n"
     ]
    },
    {
     "name": "stdout",
     "output_type": "stream",
     "text": [
      "[CV] .. coef0=2.5, alpha=0.6, score=-1029671954.7291714, total=  21.5s\n",
      "[CV] coef0=0, alpha=0.5 ..............................................\n"
     ]
    },
    {
     "name": "stderr",
     "output_type": "stream",
     "text": [
      "/Users/chidam/anaconda/lib/python3.5/site-packages/sklearn/linear_model/ridge.py:154: UserWarning: Singular matrix in solving dual problem. Using least-squares solution instead.\n",
      "  warnings.warn(\"Singular matrix in solving dual problem. Using \"\n"
     ]
    },
    {
     "name": "stdout",
     "output_type": "stream",
     "text": [
      "[CV] ....... coef0=0, alpha=0.5, score=-960360001.95315, total=  24.2s\n",
      "[CV] coef0=0, alpha=0.5 ..............................................\n"
     ]
    },
    {
     "name": "stderr",
     "output_type": "stream",
     "text": [
      "/Users/chidam/anaconda/lib/python3.5/site-packages/sklearn/linear_model/ridge.py:154: UserWarning: Singular matrix in solving dual problem. Using least-squares solution instead.\n",
      "  warnings.warn(\"Singular matrix in solving dual problem. Using \"\n"
     ]
    },
    {
     "name": "stdout",
     "output_type": "stream",
     "text": [
      "[CV] .... coef0=0, alpha=0.5, score=-2639632436.6890774, total=  24.6s\n",
      "[CV] coef0=0, alpha=0.5 ..............................................\n"
     ]
    },
    {
     "name": "stderr",
     "output_type": "stream",
     "text": [
      "/Users/chidam/anaconda/lib/python3.5/site-packages/sklearn/linear_model/ridge.py:154: UserWarning: Singular matrix in solving dual problem. Using least-squares solution instead.\n",
      "  warnings.warn(\"Singular matrix in solving dual problem. Using \"\n"
     ]
    },
    {
     "name": "stdout",
     "output_type": "stream",
     "text": [
      "[CV] .... coef0=0, alpha=0.5, score=-12515482607.253748, total=  25.0s\n",
      "[CV] coef0=0, alpha=0.5 ..............................................\n"
     ]
    },
    {
     "name": "stderr",
     "output_type": "stream",
     "text": [
      "/Users/chidam/anaconda/lib/python3.5/site-packages/sklearn/linear_model/ridge.py:154: UserWarning: Singular matrix in solving dual problem. Using least-squares solution instead.\n",
      "  warnings.warn(\"Singular matrix in solving dual problem. Using \"\n"
     ]
    },
    {
     "name": "stdout",
     "output_type": "stream",
     "text": [
      "[CV] ..... coef0=0, alpha=0.5, score=-756958589.1941897, total=  24.7s\n",
      "[CV] coef0=0, alpha=0.5 ..............................................\n"
     ]
    },
    {
     "name": "stderr",
     "output_type": "stream",
     "text": [
      "/Users/chidam/anaconda/lib/python3.5/site-packages/sklearn/linear_model/ridge.py:154: UserWarning: Singular matrix in solving dual problem. Using least-squares solution instead.\n",
      "  warnings.warn(\"Singular matrix in solving dual problem. Using \"\n"
     ]
    },
    {
     "name": "stdout",
     "output_type": "stream",
     "text": [
      "[CV] .... coef0=0, alpha=0.5, score=-1102355714.5179932, total=  25.5s\n",
      "[CV] coef0=0, alpha=0.5 ..............................................\n"
     ]
    },
    {
     "name": "stderr",
     "output_type": "stream",
     "text": [
      "/Users/chidam/anaconda/lib/python3.5/site-packages/sklearn/linear_model/ridge.py:154: UserWarning: Singular matrix in solving dual problem. Using least-squares solution instead.\n",
      "  warnings.warn(\"Singular matrix in solving dual problem. Using \"\n"
     ]
    },
    {
     "name": "stdout",
     "output_type": "stream",
     "text": [
      "[CV] ..... coef0=0, alpha=0.5, score=-970770948.4339374, total=  20.3s\n",
      "[CV] coef0=0, alpha=0.5 ..............................................\n"
     ]
    },
    {
     "name": "stderr",
     "output_type": "stream",
     "text": [
      "/Users/chidam/anaconda/lib/python3.5/site-packages/sklearn/linear_model/ridge.py:154: UserWarning: Singular matrix in solving dual problem. Using least-squares solution instead.\n",
      "  warnings.warn(\"Singular matrix in solving dual problem. Using \"\n"
     ]
    },
    {
     "name": "stdout",
     "output_type": "stream",
     "text": [
      "[CV] .... coef0=0, alpha=0.5, score=-1191561481.8667681, total=  19.0s\n",
      "[CV] coef0=0, alpha=0.5 ..............................................\n"
     ]
    },
    {
     "name": "stderr",
     "output_type": "stream",
     "text": [
      "/Users/chidam/anaconda/lib/python3.5/site-packages/sklearn/linear_model/ridge.py:154: UserWarning: Singular matrix in solving dual problem. Using least-squares solution instead.\n",
      "  warnings.warn(\"Singular matrix in solving dual problem. Using \"\n"
     ]
    },
    {
     "name": "stdout",
     "output_type": "stream",
     "text": [
      "[CV] ..... coef0=0, alpha=0.5, score=-838713025.3396959, total=  25.3s\n",
      "[CV] coef0=0, alpha=0.5 ..............................................\n"
     ]
    },
    {
     "name": "stderr",
     "output_type": "stream",
     "text": [
      "/Users/chidam/anaconda/lib/python3.5/site-packages/sklearn/linear_model/ridge.py:154: UserWarning: Singular matrix in solving dual problem. Using least-squares solution instead.\n",
      "  warnings.warn(\"Singular matrix in solving dual problem. Using \"\n"
     ]
    },
    {
     "name": "stdout",
     "output_type": "stream",
     "text": [
      "[CV] ..... coef0=0, alpha=0.5, score=-836567179.6667789, total=  18.9s\n",
      "[CV] coef0=0, alpha=0.5 ..............................................\n"
     ]
    },
    {
     "name": "stderr",
     "output_type": "stream",
     "text": [
      "/Users/chidam/anaconda/lib/python3.5/site-packages/sklearn/linear_model/ridge.py:154: UserWarning: Singular matrix in solving dual problem. Using least-squares solution instead.\n",
      "  warnings.warn(\"Singular matrix in solving dual problem. Using \"\n"
     ]
    },
    {
     "name": "stdout",
     "output_type": "stream",
     "text": [
      "[CV] .... coef0=0, alpha=0.5, score=-1633079687.3673158, total=  19.7s\n",
      "[CV] coef0=1.5, alpha=0.5 ............................................\n"
     ]
    },
    {
     "name": "stderr",
     "output_type": "stream",
     "text": [
      "/Users/chidam/anaconda/lib/python3.5/site-packages/sklearn/linear_model/ridge.py:154: UserWarning: Singular matrix in solving dual problem. Using least-squares solution instead.\n",
      "  warnings.warn(\"Singular matrix in solving dual problem. Using \"\n"
     ]
    },
    {
     "name": "stdout",
     "output_type": "stream",
     "text": [
      "[CV] ... coef0=1.5, alpha=0.5, score=-592824877.6307628, total=  23.8s\n",
      "[CV] coef0=1.5, alpha=0.5 ............................................\n"
     ]
    },
    {
     "name": "stderr",
     "output_type": "stream",
     "text": [
      "/Users/chidam/anaconda/lib/python3.5/site-packages/sklearn/linear_model/ridge.py:154: UserWarning: Singular matrix in solving dual problem. Using least-squares solution instead.\n",
      "  warnings.warn(\"Singular matrix in solving dual problem. Using \"\n"
     ]
    },
    {
     "name": "stdout",
     "output_type": "stream",
     "text": [
      "[CV] .. coef0=1.5, alpha=0.5, score=-1629154057.0304809, total=  24.0s\n",
      "[CV] coef0=1.5, alpha=0.5 ............................................\n"
     ]
    },
    {
     "name": "stderr",
     "output_type": "stream",
     "text": [
      "/Users/chidam/anaconda/lib/python3.5/site-packages/sklearn/linear_model/ridge.py:154: UserWarning: Singular matrix in solving dual problem. Using least-squares solution instead.\n",
      "  warnings.warn(\"Singular matrix in solving dual problem. Using \"\n"
     ]
    },
    {
     "name": "stdout",
     "output_type": "stream",
     "text": [
      "[CV] ... coef0=1.5, alpha=0.5, score=-1502018837.688052, total=  25.0s\n",
      "[CV] coef0=1.5, alpha=0.5 ............................................\n"
     ]
    },
    {
     "name": "stderr",
     "output_type": "stream",
     "text": [
      "/Users/chidam/anaconda/lib/python3.5/site-packages/sklearn/linear_model/ridge.py:154: UserWarning: Singular matrix in solving dual problem. Using least-squares solution instead.\n",
      "  warnings.warn(\"Singular matrix in solving dual problem. Using \"\n"
     ]
    },
    {
     "name": "stdout",
     "output_type": "stream",
     "text": [
      "[CV] ... coef0=1.5, alpha=0.5, score=-666972407.7888552, total=  24.9s\n",
      "[CV] coef0=1.5, alpha=0.5 ............................................\n"
     ]
    },
    {
     "name": "stderr",
     "output_type": "stream",
     "text": [
      "/Users/chidam/anaconda/lib/python3.5/site-packages/sklearn/linear_model/ridge.py:154: UserWarning: Singular matrix in solving dual problem. Using least-squares solution instead.\n",
      "  warnings.warn(\"Singular matrix in solving dual problem. Using \"\n"
     ]
    },
    {
     "name": "stdout",
     "output_type": "stream",
     "text": [
      "[CV] ... coef0=1.5, alpha=0.5, score=-917866159.5416499, total=  24.5s\n",
      "[CV] coef0=1.5, alpha=0.5 ............................................\n"
     ]
    },
    {
     "name": "stderr",
     "output_type": "stream",
     "text": [
      "/Users/chidam/anaconda/lib/python3.5/site-packages/sklearn/linear_model/ridge.py:154: UserWarning: Singular matrix in solving dual problem. Using least-squares solution instead.\n",
      "  warnings.warn(\"Singular matrix in solving dual problem. Using \"\n"
     ]
    },
    {
     "name": "stdout",
     "output_type": "stream",
     "text": [
      "[CV] ... coef0=1.5, alpha=0.5, score=-802379509.4088157, total=  19.3s\n",
      "[CV] coef0=1.5, alpha=0.5 ............................................\n"
     ]
    },
    {
     "name": "stderr",
     "output_type": "stream",
     "text": [
      "/Users/chidam/anaconda/lib/python3.5/site-packages/sklearn/linear_model/ridge.py:154: UserWarning: Singular matrix in solving dual problem. Using least-squares solution instead.\n",
      "  warnings.warn(\"Singular matrix in solving dual problem. Using \"\n"
     ]
    },
    {
     "name": "stdout",
     "output_type": "stream",
     "text": [
      "[CV] ... coef0=1.5, alpha=0.5, score=-606599117.7636034, total=  19.1s\n",
      "[CV] coef0=1.5, alpha=0.5 ............................................\n"
     ]
    },
    {
     "name": "stderr",
     "output_type": "stream",
     "text": [
      "/Users/chidam/anaconda/lib/python3.5/site-packages/sklearn/linear_model/ridge.py:154: UserWarning: Singular matrix in solving dual problem. Using least-squares solution instead.\n",
      "  warnings.warn(\"Singular matrix in solving dual problem. Using \"\n"
     ]
    },
    {
     "name": "stdout",
     "output_type": "stream",
     "text": [
      "[CV] ... coef0=1.5, alpha=0.5, score=-632899983.7919548, total=  19.2s\n",
      "[CV] coef0=1.5, alpha=0.5 ............................................\n"
     ]
    },
    {
     "name": "stderr",
     "output_type": "stream",
     "text": [
      "/Users/chidam/anaconda/lib/python3.5/site-packages/sklearn/linear_model/ridge.py:154: UserWarning: Singular matrix in solving dual problem. Using least-squares solution instead.\n",
      "  warnings.warn(\"Singular matrix in solving dual problem. Using \"\n"
     ]
    },
    {
     "name": "stdout",
     "output_type": "stream",
     "text": [
      "[CV] ... coef0=1.5, alpha=0.5, score=-604132661.8076625, total=  20.9s\n",
      "[CV] coef0=1.5, alpha=0.5 ............................................\n"
     ]
    },
    {
     "name": "stderr",
     "output_type": "stream",
     "text": [
      "/Users/chidam/anaconda/lib/python3.5/site-packages/sklearn/linear_model/ridge.py:154: UserWarning: Singular matrix in solving dual problem. Using least-squares solution instead.\n",
      "  warnings.warn(\"Singular matrix in solving dual problem. Using \"\n"
     ]
    },
    {
     "name": "stdout",
     "output_type": "stream",
     "text": [
      "[CV] ... coef0=1.5, alpha=0.5, score=-990414576.3904073, total=  19.7s\n",
      "[CV] coef0=2.5, alpha=0.5 ............................................\n"
     ]
    },
    {
     "name": "stderr",
     "output_type": "stream",
     "text": [
      "/Users/chidam/anaconda/lib/python3.5/site-packages/sklearn/linear_model/ridge.py:154: UserWarning: Singular matrix in solving dual problem. Using least-squares solution instead.\n",
      "  warnings.warn(\"Singular matrix in solving dual problem. Using \"\n"
     ]
    },
    {
     "name": "stdout",
     "output_type": "stream",
     "text": [
      "[CV] ... coef0=2.5, alpha=0.5, score=-609796134.7207664, total=  24.3s\n",
      "[CV] coef0=2.5, alpha=0.5 ............................................\n"
     ]
    },
    {
     "name": "stderr",
     "output_type": "stream",
     "text": [
      "/Users/chidam/anaconda/lib/python3.5/site-packages/sklearn/linear_model/ridge.py:154: UserWarning: Singular matrix in solving dual problem. Using least-squares solution instead.\n",
      "  warnings.warn(\"Singular matrix in solving dual problem. Using \"\n"
     ]
    },
    {
     "name": "stdout",
     "output_type": "stream",
     "text": [
      "[CV] .. coef0=2.5, alpha=0.5, score=-1878386435.7937815, total=  23.6s\n",
      "[CV] coef0=2.5, alpha=0.5 ............................................\n"
     ]
    },
    {
     "name": "stderr",
     "output_type": "stream",
     "text": [
      "/Users/chidam/anaconda/lib/python3.5/site-packages/sklearn/linear_model/ridge.py:154: UserWarning: Singular matrix in solving dual problem. Using least-squares solution instead.\n",
      "  warnings.warn(\"Singular matrix in solving dual problem. Using \"\n"
     ]
    },
    {
     "name": "stdout",
     "output_type": "stream",
     "text": [
      "[CV] ... coef0=2.5, alpha=0.5, score=-679726682.9347801, total=  24.9s\n",
      "[CV] coef0=2.5, alpha=0.5 ............................................\n"
     ]
    },
    {
     "name": "stderr",
     "output_type": "stream",
     "text": [
      "/Users/chidam/anaconda/lib/python3.5/site-packages/sklearn/linear_model/ridge.py:154: UserWarning: Singular matrix in solving dual problem. Using least-squares solution instead.\n",
      "  warnings.warn(\"Singular matrix in solving dual problem. Using \"\n"
     ]
    },
    {
     "name": "stdout",
     "output_type": "stream",
     "text": [
      "[CV] ... coef0=2.5, alpha=0.5, score=-670399754.6612624, total=  23.5s\n",
      "[CV] coef0=2.5, alpha=0.5 ............................................\n"
     ]
    },
    {
     "name": "stderr",
     "output_type": "stream",
     "text": [
      "/Users/chidam/anaconda/lib/python3.5/site-packages/sklearn/linear_model/ridge.py:154: UserWarning: Singular matrix in solving dual problem. Using least-squares solution instead.\n",
      "  warnings.warn(\"Singular matrix in solving dual problem. Using \"\n"
     ]
    },
    {
     "name": "stdout",
     "output_type": "stream",
     "text": [
      "[CV] ... coef0=2.5, alpha=0.5, score=-929071420.9217916, total=  24.3s\n",
      "[CV] coef0=2.5, alpha=0.5 ............................................\n"
     ]
    },
    {
     "name": "stderr",
     "output_type": "stream",
     "text": [
      "/Users/chidam/anaconda/lib/python3.5/site-packages/sklearn/linear_model/ridge.py:154: UserWarning: Singular matrix in solving dual problem. Using least-squares solution instead.\n",
      "  warnings.warn(\"Singular matrix in solving dual problem. Using \"\n"
     ]
    },
    {
     "name": "stdout",
     "output_type": "stream",
     "text": [
      "[CV] ... coef0=2.5, alpha=0.5, score=-795834419.5053381, total=  20.3s\n",
      "[CV] coef0=2.5, alpha=0.5 ............................................\n"
     ]
    },
    {
     "name": "stderr",
     "output_type": "stream",
     "text": [
      "/Users/chidam/anaconda/lib/python3.5/site-packages/sklearn/linear_model/ridge.py:154: UserWarning: Singular matrix in solving dual problem. Using least-squares solution instead.\n",
      "  warnings.warn(\"Singular matrix in solving dual problem. Using \"\n"
     ]
    },
    {
     "name": "stdout",
     "output_type": "stream",
     "text": [
      "[CV] .... coef0=2.5, alpha=0.5, score=-610744012.277346, total=  18.0s\n",
      "[CV] coef0=2.5, alpha=0.5 ............................................\n"
     ]
    },
    {
     "name": "stderr",
     "output_type": "stream",
     "text": [
      "/Users/chidam/anaconda/lib/python3.5/site-packages/sklearn/linear_model/ridge.py:154: UserWarning: Singular matrix in solving dual problem. Using least-squares solution instead.\n",
      "  warnings.warn(\"Singular matrix in solving dual problem. Using \"\n"
     ]
    },
    {
     "name": "stdout",
     "output_type": "stream",
     "text": [
      "[CV] ... coef0=2.5, alpha=0.5, score=-619158917.2456115, total=  18.0s\n",
      "[CV] coef0=2.5, alpha=0.5 ............................................\n"
     ]
    },
    {
     "name": "stderr",
     "output_type": "stream",
     "text": [
      "/Users/chidam/anaconda/lib/python3.5/site-packages/sklearn/linear_model/ridge.py:154: UserWarning: Singular matrix in solving dual problem. Using least-squares solution instead.\n",
      "  warnings.warn(\"Singular matrix in solving dual problem. Using \"\n"
     ]
    },
    {
     "name": "stdout",
     "output_type": "stream",
     "text": [
      "[CV] ... coef0=2.5, alpha=0.5, score=-605688978.1766094, total=  22.6s\n",
      "[CV] coef0=2.5, alpha=0.5 ............................................\n"
     ]
    },
    {
     "name": "stderr",
     "output_type": "stream",
     "text": [
      "/Users/chidam/anaconda/lib/python3.5/site-packages/sklearn/linear_model/ridge.py:154: UserWarning: Singular matrix in solving dual problem. Using least-squares solution instead.\n",
      "  warnings.warn(\"Singular matrix in solving dual problem. Using \"\n"
     ]
    },
    {
     "name": "stdout",
     "output_type": "stream",
     "text": [
      "[CV] .. coef0=2.5, alpha=0.5, score=-1026081427.4166021, total=  20.5s\n",
      "[CV] coef0=0, alpha=0.3 ..............................................\n"
     ]
    },
    {
     "name": "stderr",
     "output_type": "stream",
     "text": [
      "/Users/chidam/anaconda/lib/python3.5/site-packages/sklearn/linear_model/ridge.py:154: UserWarning: Singular matrix in solving dual problem. Using least-squares solution instead.\n",
      "  warnings.warn(\"Singular matrix in solving dual problem. Using \"\n"
     ]
    },
    {
     "name": "stdout",
     "output_type": "stream",
     "text": [
      "[CV] .... coef0=0, alpha=0.3, score=-1007080411.3684542, total=  26.0s\n",
      "[CV] coef0=0, alpha=0.3 ..............................................\n"
     ]
    },
    {
     "name": "stderr",
     "output_type": "stream",
     "text": [
      "/Users/chidam/anaconda/lib/python3.5/site-packages/sklearn/linear_model/ridge.py:154: UserWarning: Singular matrix in solving dual problem. Using least-squares solution instead.\n",
      "  warnings.warn(\"Singular matrix in solving dual problem. Using \"\n"
     ]
    },
    {
     "name": "stdout",
     "output_type": "stream",
     "text": [
      "[CV] ..... coef0=0, alpha=0.3, score=-2772586909.275106, total=  27.6s\n",
      "[CV] coef0=0, alpha=0.3 ..............................................\n"
     ]
    },
    {
     "name": "stderr",
     "output_type": "stream",
     "text": [
      "/Users/chidam/anaconda/lib/python3.5/site-packages/sklearn/linear_model/ridge.py:154: UserWarning: Singular matrix in solving dual problem. Using least-squares solution instead.\n",
      "  warnings.warn(\"Singular matrix in solving dual problem. Using \"\n"
     ]
    },
    {
     "name": "stdout",
     "output_type": "stream",
     "text": [
      "[CV] .... coef0=0, alpha=0.3, score=-11204882388.336948, total=  29.0s\n",
      "[CV] coef0=0, alpha=0.3 ..............................................\n"
     ]
    },
    {
     "name": "stderr",
     "output_type": "stream",
     "text": [
      "/Users/chidam/anaconda/lib/python3.5/site-packages/sklearn/linear_model/ridge.py:154: UserWarning: Singular matrix in solving dual problem. Using least-squares solution instead.\n",
      "  warnings.warn(\"Singular matrix in solving dual problem. Using \"\n"
     ]
    },
    {
     "name": "stdout",
     "output_type": "stream",
     "text": [
      "[CV] ..... coef0=0, alpha=0.3, score=-755985828.8878947, total=  25.8s\n",
      "[CV] coef0=0, alpha=0.3 ..............................................\n"
     ]
    },
    {
     "name": "stderr",
     "output_type": "stream",
     "text": [
      "/Users/chidam/anaconda/lib/python3.5/site-packages/sklearn/linear_model/ridge.py:154: UserWarning: Singular matrix in solving dual problem. Using least-squares solution instead.\n",
      "  warnings.warn(\"Singular matrix in solving dual problem. Using \"\n"
     ]
    },
    {
     "name": "stdout",
     "output_type": "stream",
     "text": [
      "[CV] .... coef0=0, alpha=0.3, score=-1092991676.5746381, total=  25.4s\n",
      "[CV] coef0=0, alpha=0.3 ..............................................\n"
     ]
    },
    {
     "name": "stderr",
     "output_type": "stream",
     "text": [
      "/Users/chidam/anaconda/lib/python3.5/site-packages/sklearn/linear_model/ridge.py:154: UserWarning: Singular matrix in solving dual problem. Using least-squares solution instead.\n",
      "  warnings.warn(\"Singular matrix in solving dual problem. Using \"\n"
     ]
    },
    {
     "name": "stdout",
     "output_type": "stream",
     "text": [
      "[CV] ..... coef0=0, alpha=0.3, score=-977191350.7448789, total=  22.2s\n",
      "[CV] coef0=0, alpha=0.3 ..............................................\n"
     ]
    },
    {
     "name": "stderr",
     "output_type": "stream",
     "text": [
      "/Users/chidam/anaconda/lib/python3.5/site-packages/sklearn/linear_model/ridge.py:154: UserWarning: Singular matrix in solving dual problem. Using least-squares solution instead.\n",
      "  warnings.warn(\"Singular matrix in solving dual problem. Using \"\n"
     ]
    },
    {
     "name": "stdout",
     "output_type": "stream",
     "text": [
      "[CV] ..... coef0=0, alpha=0.3, score=-1181925491.325932, total=  23.4s\n",
      "[CV] coef0=0, alpha=0.3 ..............................................\n"
     ]
    },
    {
     "name": "stderr",
     "output_type": "stream",
     "text": [
      "/Users/chidam/anaconda/lib/python3.5/site-packages/sklearn/linear_model/ridge.py:154: UserWarning: Singular matrix in solving dual problem. Using least-squares solution instead.\n",
      "  warnings.warn(\"Singular matrix in solving dual problem. Using \"\n"
     ]
    },
    {
     "name": "stdout",
     "output_type": "stream",
     "text": [
      "[CV] ..... coef0=0, alpha=0.3, score=-839869495.6759766, total=  21.1s\n",
      "[CV] coef0=0, alpha=0.3 ..............................................\n"
     ]
    },
    {
     "name": "stderr",
     "output_type": "stream",
     "text": [
      "/Users/chidam/anaconda/lib/python3.5/site-packages/sklearn/linear_model/ridge.py:154: UserWarning: Singular matrix in solving dual problem. Using least-squares solution instead.\n",
      "  warnings.warn(\"Singular matrix in solving dual problem. Using \"\n"
     ]
    },
    {
     "name": "stdout",
     "output_type": "stream",
     "text": [
      "[CV] ..... coef0=0, alpha=0.3, score=-838127896.6849294, total=  22.6s\n",
      "[CV] coef0=0, alpha=0.3 ..............................................\n"
     ]
    },
    {
     "name": "stderr",
     "output_type": "stream",
     "text": [
      "/Users/chidam/anaconda/lib/python3.5/site-packages/sklearn/linear_model/ridge.py:154: UserWarning: Singular matrix in solving dual problem. Using least-squares solution instead.\n",
      "  warnings.warn(\"Singular matrix in solving dual problem. Using \"\n"
     ]
    },
    {
     "name": "stdout",
     "output_type": "stream",
     "text": [
      "[CV] .... coef0=0, alpha=0.3, score=-1618416372.7045236, total=  23.7s\n",
      "[CV] coef0=1.5, alpha=0.3 ............................................\n"
     ]
    },
    {
     "name": "stderr",
     "output_type": "stream",
     "text": [
      "/Users/chidam/anaconda/lib/python3.5/site-packages/sklearn/linear_model/ridge.py:154: UserWarning: Singular matrix in solving dual problem. Using least-squares solution instead.\n",
      "  warnings.warn(\"Singular matrix in solving dual problem. Using \"\n"
     ]
    },
    {
     "name": "stdout",
     "output_type": "stream",
     "text": [
      "[CV] ... coef0=1.5, alpha=0.3, score=-593164589.6142427, total=  24.8s\n",
      "[CV] coef0=1.5, alpha=0.3 ............................................\n"
     ]
    },
    {
     "name": "stderr",
     "output_type": "stream",
     "text": [
      "/Users/chidam/anaconda/lib/python3.5/site-packages/sklearn/linear_model/ridge.py:154: UserWarning: Singular matrix in solving dual problem. Using least-squares solution instead.\n",
      "  warnings.warn(\"Singular matrix in solving dual problem. Using \"\n"
     ]
    },
    {
     "name": "stdout",
     "output_type": "stream",
     "text": [
      "[CV] .. coef0=1.5, alpha=0.3, score=-1658483411.0073106, total=  24.8s\n",
      "[CV] coef0=1.5, alpha=0.3 ............................................\n"
     ]
    },
    {
     "name": "stderr",
     "output_type": "stream",
     "text": [
      "/Users/chidam/anaconda/lib/python3.5/site-packages/sklearn/linear_model/ridge.py:154: UserWarning: Singular matrix in solving dual problem. Using least-squares solution instead.\n",
      "  warnings.warn(\"Singular matrix in solving dual problem. Using \"\n"
     ]
    },
    {
     "name": "stdout",
     "output_type": "stream",
     "text": [
      "[CV] .. coef0=1.5, alpha=0.3, score=-1486717777.3923633, total=  24.1s\n",
      "[CV] coef0=1.5, alpha=0.3 ............................................\n"
     ]
    },
    {
     "name": "stderr",
     "output_type": "stream",
     "text": [
      "/Users/chidam/anaconda/lib/python3.5/site-packages/sklearn/linear_model/ridge.py:154: UserWarning: Singular matrix in solving dual problem. Using least-squares solution instead.\n",
      "  warnings.warn(\"Singular matrix in solving dual problem. Using \"\n"
     ]
    },
    {
     "name": "stdout",
     "output_type": "stream",
     "text": [
      "[CV] ... coef0=1.5, alpha=0.3, score=-669684504.7691299, total=  25.0s\n",
      "[CV] coef0=1.5, alpha=0.3 ............................................\n"
     ]
    },
    {
     "name": "stderr",
     "output_type": "stream",
     "text": [
      "/Users/chidam/anaconda/lib/python3.5/site-packages/sklearn/linear_model/ridge.py:154: UserWarning: Singular matrix in solving dual problem. Using least-squares solution instead.\n",
      "  warnings.warn(\"Singular matrix in solving dual problem. Using \"\n"
     ]
    },
    {
     "name": "stdout",
     "output_type": "stream",
     "text": [
      "[CV] ... coef0=1.5, alpha=0.3, score=-917762465.8714867, total=  26.2s\n",
      "[CV] coef0=1.5, alpha=0.3 ............................................\n"
     ]
    },
    {
     "name": "stderr",
     "output_type": "stream",
     "text": [
      "/Users/chidam/anaconda/lib/python3.5/site-packages/sklearn/linear_model/ridge.py:154: UserWarning: Singular matrix in solving dual problem. Using least-squares solution instead.\n",
      "  warnings.warn(\"Singular matrix in solving dual problem. Using \"\n"
     ]
    },
    {
     "name": "stdout",
     "output_type": "stream",
     "text": [
      "[CV] ... coef0=1.5, alpha=0.3, score=-788246785.1326084, total=  19.3s\n",
      "[CV] coef0=1.5, alpha=0.3 ............................................\n"
     ]
    },
    {
     "name": "stderr",
     "output_type": "stream",
     "text": [
      "/Users/chidam/anaconda/lib/python3.5/site-packages/sklearn/linear_model/ridge.py:154: UserWarning: Singular matrix in solving dual problem. Using least-squares solution instead.\n",
      "  warnings.warn(\"Singular matrix in solving dual problem. Using \"\n"
     ]
    },
    {
     "name": "stdout",
     "output_type": "stream",
     "text": [
      "[CV] ... coef0=1.5, alpha=0.3, score=-640139424.0321599, total=  22.4s\n",
      "[CV] coef0=1.5, alpha=0.3 ............................................\n"
     ]
    },
    {
     "name": "stderr",
     "output_type": "stream",
     "text": [
      "/Users/chidam/anaconda/lib/python3.5/site-packages/sklearn/linear_model/ridge.py:154: UserWarning: Singular matrix in solving dual problem. Using least-squares solution instead.\n",
      "  warnings.warn(\"Singular matrix in solving dual problem. Using \"\n"
     ]
    },
    {
     "name": "stdout",
     "output_type": "stream",
     "text": [
      "[CV] ... coef0=1.5, alpha=0.3, score=-621770713.9495585, total=  21.8s\n",
      "[CV] coef0=1.5, alpha=0.3 ............................................\n"
     ]
    },
    {
     "name": "stderr",
     "output_type": "stream",
     "text": [
      "/Users/chidam/anaconda/lib/python3.5/site-packages/sklearn/linear_model/ridge.py:154: UserWarning: Singular matrix in solving dual problem. Using least-squares solution instead.\n",
      "  warnings.warn(\"Singular matrix in solving dual problem. Using \"\n"
     ]
    },
    {
     "name": "stdout",
     "output_type": "stream",
     "text": [
      "[CV] .... coef0=1.5, alpha=0.3, score=-606619313.388627, total=  21.7s\n",
      "[CV] coef0=1.5, alpha=0.3 ............................................\n"
     ]
    },
    {
     "name": "stderr",
     "output_type": "stream",
     "text": [
      "/Users/chidam/anaconda/lib/python3.5/site-packages/sklearn/linear_model/ridge.py:154: UserWarning: Singular matrix in solving dual problem. Using least-squares solution instead.\n",
      "  warnings.warn(\"Singular matrix in solving dual problem. Using \"\n"
     ]
    },
    {
     "name": "stdout",
     "output_type": "stream",
     "text": [
      "[CV] ... coef0=1.5, alpha=0.3, score=-996381012.4352874, total=  21.8s\n",
      "[CV] coef0=2.5, alpha=0.3 ............................................\n"
     ]
    },
    {
     "name": "stderr",
     "output_type": "stream",
     "text": [
      "/Users/chidam/anaconda/lib/python3.5/site-packages/sklearn/linear_model/ridge.py:154: UserWarning: Singular matrix in solving dual problem. Using least-squares solution instead.\n",
      "  warnings.warn(\"Singular matrix in solving dual problem. Using \"\n"
     ]
    },
    {
     "name": "stdout",
     "output_type": "stream",
     "text": [
      "[CV] ... coef0=2.5, alpha=0.3, score=-610453388.5361855, total=  25.1s\n",
      "[CV] coef0=2.5, alpha=0.3 ............................................\n"
     ]
    },
    {
     "name": "stderr",
     "output_type": "stream",
     "text": [
      "/Users/chidam/anaconda/lib/python3.5/site-packages/sklearn/linear_model/ridge.py:154: UserWarning: Singular matrix in solving dual problem. Using least-squares solution instead.\n",
      "  warnings.warn(\"Singular matrix in solving dual problem. Using \"\n"
     ]
    },
    {
     "name": "stdout",
     "output_type": "stream",
     "text": [
      "[CV] .. coef0=2.5, alpha=0.3, score=-1834083720.9452958, total=  22.4s\n",
      "[CV] coef0=2.5, alpha=0.3 ............................................\n"
     ]
    },
    {
     "name": "stderr",
     "output_type": "stream",
     "text": [
      "/Users/chidam/anaconda/lib/python3.5/site-packages/sklearn/linear_model/ridge.py:154: UserWarning: Singular matrix in solving dual problem. Using least-squares solution instead.\n",
      "  warnings.warn(\"Singular matrix in solving dual problem. Using \"\n"
     ]
    },
    {
     "name": "stdout",
     "output_type": "stream",
     "text": [
      "[CV] ... coef0=2.5, alpha=0.3, score=-1628351613.806228, total=  23.1s\n",
      "[CV] coef0=2.5, alpha=0.3 ............................................\n"
     ]
    },
    {
     "name": "stderr",
     "output_type": "stream",
     "text": [
      "/Users/chidam/anaconda/lib/python3.5/site-packages/sklearn/linear_model/ridge.py:154: UserWarning: Singular matrix in solving dual problem. Using least-squares solution instead.\n",
      "  warnings.warn(\"Singular matrix in solving dual problem. Using \"\n"
     ]
    },
    {
     "name": "stdout",
     "output_type": "stream",
     "text": [
      "[CV] ... coef0=2.5, alpha=0.3, score=-676601930.5924202, total=  22.9s\n",
      "[CV] coef0=2.5, alpha=0.3 ............................................\n"
     ]
    },
    {
     "name": "stderr",
     "output_type": "stream",
     "text": [
      "/Users/chidam/anaconda/lib/python3.5/site-packages/sklearn/linear_model/ridge.py:154: UserWarning: Singular matrix in solving dual problem. Using least-squares solution instead.\n",
      "  warnings.warn(\"Singular matrix in solving dual problem. Using \"\n"
     ]
    },
    {
     "name": "stdout",
     "output_type": "stream",
     "text": [
      "[CV] ... coef0=2.5, alpha=0.3, score=-941411414.4084061, total=  23.0s\n",
      "[CV] coef0=2.5, alpha=0.3 ............................................\n"
     ]
    },
    {
     "name": "stderr",
     "output_type": "stream",
     "text": [
      "/Users/chidam/anaconda/lib/python3.5/site-packages/sklearn/linear_model/ridge.py:154: UserWarning: Singular matrix in solving dual problem. Using least-squares solution instead.\n",
      "  warnings.warn(\"Singular matrix in solving dual problem. Using \"\n"
     ]
    },
    {
     "name": "stdout",
     "output_type": "stream",
     "text": [
      "[CV] ... coef0=2.5, alpha=0.3, score=-800743478.3360395, total=  19.2s\n",
      "[CV] coef0=2.5, alpha=0.3 ............................................\n"
     ]
    },
    {
     "name": "stderr",
     "output_type": "stream",
     "text": [
      "/Users/chidam/anaconda/lib/python3.5/site-packages/sklearn/linear_model/ridge.py:154: UserWarning: Singular matrix in solving dual problem. Using least-squares solution instead.\n",
      "  warnings.warn(\"Singular matrix in solving dual problem. Using \"\n"
     ]
    },
    {
     "name": "stdout",
     "output_type": "stream",
     "text": [
      "[CV] ... coef0=2.5, alpha=0.3, score=-622385973.0603628, total=  20.1s\n",
      "[CV] coef0=2.5, alpha=0.3 ............................................\n"
     ]
    },
    {
     "name": "stderr",
     "output_type": "stream",
     "text": [
      "/Users/chidam/anaconda/lib/python3.5/site-packages/sklearn/linear_model/ridge.py:154: UserWarning: Singular matrix in solving dual problem. Using least-squares solution instead.\n",
      "  warnings.warn(\"Singular matrix in solving dual problem. Using \"\n"
     ]
    },
    {
     "name": "stdout",
     "output_type": "stream",
     "text": [
      "[CV] ... coef0=2.5, alpha=0.3, score=-615171285.1898906, total=  21.4s\n",
      "[CV] coef0=2.5, alpha=0.3 ............................................\n"
     ]
    },
    {
     "name": "stderr",
     "output_type": "stream",
     "text": [
      "/Users/chidam/anaconda/lib/python3.5/site-packages/sklearn/linear_model/ridge.py:154: UserWarning: Singular matrix in solving dual problem. Using least-squares solution instead.\n",
      "  warnings.warn(\"Singular matrix in solving dual problem. Using \"\n"
     ]
    },
    {
     "name": "stdout",
     "output_type": "stream",
     "text": [
      "[CV] ... coef0=2.5, alpha=0.3, score=-607952498.5979533, total=  19.1s\n",
      "[CV] coef0=2.5, alpha=0.3 ............................................\n"
     ]
    },
    {
     "name": "stderr",
     "output_type": "stream",
     "text": [
      "/Users/chidam/anaconda/lib/python3.5/site-packages/sklearn/linear_model/ridge.py:154: UserWarning: Singular matrix in solving dual problem. Using least-squares solution instead.\n",
      "  warnings.warn(\"Singular matrix in solving dual problem. Using \"\n"
     ]
    },
    {
     "name": "stdout",
     "output_type": "stream",
     "text": [
      "[CV] .. coef0=2.5, alpha=0.3, score=-1027349298.0604364, total=  18.6s\n"
     ]
    },
    {
     "name": "stderr",
     "output_type": "stream",
     "text": [
      "[Parallel(n_jobs=1)]: Done  90 out of  90 | elapsed: 33.7min finished\n"
     ]
    },
    {
     "data": {
      "text/plain": [
       "{'alpha': 0.5, 'coef0': 2.5}"
      ]
     },
     "execution_count": 106,
     "metadata": {},
     "output_type": "execute_result"
    }
   ],
   "source": [
    "model_ridge=KernelRidge(kernel='polynomial', degree=2)\n",
    "param_ridge={'alpha':[0.6, 0.5, 0.3], 'coef0':[0, 1.5, 2.5]}\n",
    "grid_search1(model_ridge, param_ridge)\n",
    "#result: {'alpha': 0.5, 'coef0': 2.5}"
   ]
  },
  {
   "cell_type": "code",
   "execution_count": 18,
   "metadata": {
    "collapsed": true
   },
   "outputs": [],
   "source": [
    "def grid_search1(m, p):\n",
    "    n_folds=10\n",
    "    from sklearn.model_selection import GridSearchCV\n",
    "    res=[]\n",
    "    kf = KFold(n_folds, shuffle=True, random_state=42).get_n_splits(X)\n",
    "    #models1 = {'Lasso': Lasso(),'Elastic Net Regression': ElasticNet(),'Kernel Ridge Regression': KernelRidge(),'Gradient Boosting Regression': GradientBoostingRegressor()}\n",
    "\n",
    "    #params1 = {'Lasso': { 'alpha': [0.0005, 0.001, 0.0003] },'Elastic Net Regression': {'alpha': [0.0005, 0.003, 0.00045] , 'l1_ratio':[.9, .5, .75]},'Kernel Ridge Regression':{ 'alpha':[0.6, 0.5, 0.35], 'kernel':'polynomial', 'degree':[2, 3], 'coef0':[0, 1.5, 2.5]},'Gradient Boosting Regression': { 'n_estimators':[3000, 2500, 1200], 'learning_rate':[0.05, 0.1, 0.004], 'max_depth':4, 'max_features':['sqrt', 'log2'],'min_samples_leaf':[15, 5, 10, 4], 'min_samples_split':[10, 5, 8], 'loss':'huber'}}\n",
    " \n",
    "    gs = GridSearchCV(m, p, cv=kf, verbose=10, scoring=\"neg_mean_squared_error\", refit=False)\n",
    "    gs.fit(X, y)\n",
    "    return gs.best_params_"
   ]
  },
  {
   "cell_type": "code",
   "execution_count": 19,
   "metadata": {
    "scrolled": true
   },
   "outputs": [
    {
     "name": "stdout",
     "output_type": "stream",
     "text": [
      "Fitting 10 folds for each of 32 candidates, totalling 320 fits\n",
      "[CV] learning_rate=0.05, n_estimators=3500, max_depth=4, min_samples_split=10, min_samples_leaf=15 \n",
      "[CV]  learning_rate=0.05, n_estimators=3500, max_depth=4, min_samples_split=10, min_samples_leaf=15, score=-486477947.87913483, total=  11.8s\n",
      "[CV] learning_rate=0.05, n_estimators=3500, max_depth=4, min_samples_split=10, min_samples_leaf=15 \n"
     ]
    },
    {
     "name": "stderr",
     "output_type": "stream",
     "text": [
      "[Parallel(n_jobs=1)]: Done   1 out of   1 | elapsed:   12.0s remaining:    0.0s\n"
     ]
    },
    {
     "name": "stdout",
     "output_type": "stream",
     "text": [
      "[CV]  learning_rate=0.05, n_estimators=3500, max_depth=4, min_samples_split=10, min_samples_leaf=15, score=-767603225.3028283, total=  11.6s\n",
      "[CV] learning_rate=0.05, n_estimators=3500, max_depth=4, min_samples_split=10, min_samples_leaf=15 \n"
     ]
    },
    {
     "name": "stderr",
     "output_type": "stream",
     "text": [
      "[Parallel(n_jobs=1)]: Done   2 out of   2 | elapsed:   23.7s remaining:    0.0s\n"
     ]
    },
    {
     "name": "stdout",
     "output_type": "stream",
     "text": [
      "[CV]  learning_rate=0.05, n_estimators=3500, max_depth=4, min_samples_split=10, min_samples_leaf=15, score=-567088795.9931427, total=  12.0s\n",
      "[CV] learning_rate=0.05, n_estimators=3500, max_depth=4, min_samples_split=10, min_samples_leaf=15 \n"
     ]
    },
    {
     "name": "stderr",
     "output_type": "stream",
     "text": [
      "[Parallel(n_jobs=1)]: Done   3 out of   3 | elapsed:   35.8s remaining:    0.0s\n"
     ]
    },
    {
     "name": "stdout",
     "output_type": "stream",
     "text": [
      "[CV]  learning_rate=0.05, n_estimators=3500, max_depth=4, min_samples_split=10, min_samples_leaf=15, score=-789014010.7068226, total=  14.5s\n",
      "[CV] learning_rate=0.05, n_estimators=3500, max_depth=4, min_samples_split=10, min_samples_leaf=15 \n"
     ]
    },
    {
     "name": "stderr",
     "output_type": "stream",
     "text": [
      "[Parallel(n_jobs=1)]: Done   4 out of   4 | elapsed:   50.4s remaining:    0.0s\n"
     ]
    },
    {
     "name": "stdout",
     "output_type": "stream",
     "text": [
      "[CV]  learning_rate=0.05, n_estimators=3500, max_depth=4, min_samples_split=10, min_samples_leaf=15, score=-720852270.4098216, total=  11.4s\n",
      "[CV] learning_rate=0.05, n_estimators=3500, max_depth=4, min_samples_split=10, min_samples_leaf=15 \n"
     ]
    },
    {
     "name": "stderr",
     "output_type": "stream",
     "text": [
      "[Parallel(n_jobs=1)]: Done   5 out of   5 | elapsed:  1.0min remaining:    0.0s\n"
     ]
    },
    {
     "name": "stdout",
     "output_type": "stream",
     "text": [
      "[CV]  learning_rate=0.05, n_estimators=3500, max_depth=4, min_samples_split=10, min_samples_leaf=15, score=-726193387.0753698, total=  13.5s\n",
      "[CV] learning_rate=0.05, n_estimators=3500, max_depth=4, min_samples_split=10, min_samples_leaf=15 \n"
     ]
    },
    {
     "name": "stderr",
     "output_type": "stream",
     "text": [
      "[Parallel(n_jobs=1)]: Done   6 out of   6 | elapsed:  1.3min remaining:    0.0s\n"
     ]
    },
    {
     "name": "stdout",
     "output_type": "stream",
     "text": [
      "[CV]  learning_rate=0.05, n_estimators=3500, max_depth=4, min_samples_split=10, min_samples_leaf=15, score=-454443802.72130364, total=  13.1s\n",
      "[CV] learning_rate=0.05, n_estimators=3500, max_depth=4, min_samples_split=10, min_samples_leaf=15 \n"
     ]
    },
    {
     "name": "stderr",
     "output_type": "stream",
     "text": [
      "[Parallel(n_jobs=1)]: Done   7 out of   7 | elapsed:  1.5min remaining:    0.0s\n"
     ]
    },
    {
     "name": "stdout",
     "output_type": "stream",
     "text": [
      "[CV]  learning_rate=0.05, n_estimators=3500, max_depth=4, min_samples_split=10, min_samples_leaf=15, score=-481060780.7993765, total=  13.6s\n",
      "[CV] learning_rate=0.05, n_estimators=3500, max_depth=4, min_samples_split=10, min_samples_leaf=15 \n"
     ]
    },
    {
     "name": "stderr",
     "output_type": "stream",
     "text": [
      "[Parallel(n_jobs=1)]: Done   8 out of   8 | elapsed:  1.7min remaining:    0.0s\n"
     ]
    },
    {
     "name": "stdout",
     "output_type": "stream",
     "text": [
      "[CV]  learning_rate=0.05, n_estimators=3500, max_depth=4, min_samples_split=10, min_samples_leaf=15, score=-601800934.6239185, total=  10.8s\n",
      "[CV] learning_rate=0.05, n_estimators=3500, max_depth=4, min_samples_split=10, min_samples_leaf=15 \n"
     ]
    },
    {
     "name": "stderr",
     "output_type": "stream",
     "text": [
      "[Parallel(n_jobs=1)]: Done   9 out of   9 | elapsed:  1.9min remaining:    0.0s\n"
     ]
    },
    {
     "name": "stdout",
     "output_type": "stream",
     "text": [
      "[CV]  learning_rate=0.05, n_estimators=3500, max_depth=4, min_samples_split=10, min_samples_leaf=15, score=-826001655.4092437, total=  10.2s\n",
      "[CV] learning_rate=0.05, n_estimators=3000, max_depth=4, min_samples_split=10, min_samples_leaf=15 \n",
      "[CV]  learning_rate=0.05, n_estimators=3000, max_depth=4, min_samples_split=10, min_samples_leaf=15, score=-503847513.79333913, total=   9.0s\n",
      "[CV] learning_rate=0.05, n_estimators=3000, max_depth=4, min_samples_split=10, min_samples_leaf=15 \n",
      "[CV]  learning_rate=0.05, n_estimators=3000, max_depth=4, min_samples_split=10, min_samples_leaf=15, score=-781324950.1221924, total=   9.5s\n",
      "[CV] learning_rate=0.05, n_estimators=3000, max_depth=4, min_samples_split=10, min_samples_leaf=15 \n",
      "[CV]  learning_rate=0.05, n_estimators=3000, max_depth=4, min_samples_split=10, min_samples_leaf=15, score=-572948976.3505859, total=   9.3s\n",
      "[CV] learning_rate=0.05, n_estimators=3000, max_depth=4, min_samples_split=10, min_samples_leaf=15 \n",
      "[CV]  learning_rate=0.05, n_estimators=3000, max_depth=4, min_samples_split=10, min_samples_leaf=15, score=-782590567.7368128, total=   9.2s\n",
      "[CV] learning_rate=0.05, n_estimators=3000, max_depth=4, min_samples_split=10, min_samples_leaf=15 \n",
      "[CV]  learning_rate=0.05, n_estimators=3000, max_depth=4, min_samples_split=10, min_samples_leaf=15, score=-700414493.1659069, total=   8.7s\n",
      "[CV] learning_rate=0.05, n_estimators=3000, max_depth=4, min_samples_split=10, min_samples_leaf=15 \n",
      "[CV]  learning_rate=0.05, n_estimators=3000, max_depth=4, min_samples_split=10, min_samples_leaf=15, score=-638051241.1726348, total=   9.3s\n",
      "[CV] learning_rate=0.05, n_estimators=3000, max_depth=4, min_samples_split=10, min_samples_leaf=15 \n",
      "[CV]  learning_rate=0.05, n_estimators=3000, max_depth=4, min_samples_split=10, min_samples_leaf=15, score=-461631340.56579405, total=   8.4s\n",
      "[CV] learning_rate=0.05, n_estimators=3000, max_depth=4, min_samples_split=10, min_samples_leaf=15 \n",
      "[CV]  learning_rate=0.05, n_estimators=3000, max_depth=4, min_samples_split=10, min_samples_leaf=15, score=-480749707.8158733, total=   8.7s\n",
      "[CV] learning_rate=0.05, n_estimators=3000, max_depth=4, min_samples_split=10, min_samples_leaf=15 \n",
      "[CV]  learning_rate=0.05, n_estimators=3000, max_depth=4, min_samples_split=10, min_samples_leaf=15, score=-594218926.6856784, total=   8.9s\n",
      "[CV] learning_rate=0.05, n_estimators=3000, max_depth=4, min_samples_split=10, min_samples_leaf=15 \n",
      "[CV]  learning_rate=0.05, n_estimators=3000, max_depth=4, min_samples_split=10, min_samples_leaf=15, score=-754041974.8117698, total=   8.5s\n",
      "[CV] learning_rate=0.05, n_estimators=3500, max_depth=4, min_samples_split=8, min_samples_leaf=15 \n",
      "[CV]  learning_rate=0.05, n_estimators=3500, max_depth=4, min_samples_split=8, min_samples_leaf=15, score=-456465253.2906666, total=   9.4s\n",
      "[CV] learning_rate=0.05, n_estimators=3500, max_depth=4, min_samples_split=8, min_samples_leaf=15 \n",
      "[CV]  learning_rate=0.05, n_estimators=3500, max_depth=4, min_samples_split=8, min_samples_leaf=15, score=-766869562.2529819, total=   9.0s\n",
      "[CV] learning_rate=0.05, n_estimators=3500, max_depth=4, min_samples_split=8, min_samples_leaf=15 \n",
      "[CV]  learning_rate=0.05, n_estimators=3500, max_depth=4, min_samples_split=8, min_samples_leaf=15, score=-536217278.6104711, total=   8.8s\n",
      "[CV] learning_rate=0.05, n_estimators=3500, max_depth=4, min_samples_split=8, min_samples_leaf=15 \n",
      "[CV]  learning_rate=0.05, n_estimators=3500, max_depth=4, min_samples_split=8, min_samples_leaf=15, score=-817819558.0466756, total=   9.0s\n",
      "[CV] learning_rate=0.05, n_estimators=3500, max_depth=4, min_samples_split=8, min_samples_leaf=15 \n",
      "[CV]  learning_rate=0.05, n_estimators=3500, max_depth=4, min_samples_split=8, min_samples_leaf=15, score=-707137123.2079521, total=   9.5s\n",
      "[CV] learning_rate=0.05, n_estimators=3500, max_depth=4, min_samples_split=8, min_samples_leaf=15 \n",
      "[CV]  learning_rate=0.05, n_estimators=3500, max_depth=4, min_samples_split=8, min_samples_leaf=15, score=-658705872.5705637, total=  10.1s\n",
      "[CV] learning_rate=0.05, n_estimators=3500, max_depth=4, min_samples_split=8, min_samples_leaf=15 \n",
      "[CV]  learning_rate=0.05, n_estimators=3500, max_depth=4, min_samples_split=8, min_samples_leaf=15, score=-444401935.3450388, total=  10.3s\n",
      "[CV] learning_rate=0.05, n_estimators=3500, max_depth=4, min_samples_split=8, min_samples_leaf=15 \n",
      "[CV]  learning_rate=0.05, n_estimators=3500, max_depth=4, min_samples_split=8, min_samples_leaf=15, score=-487274103.12890214, total=   9.9s\n",
      "[CV] learning_rate=0.05, n_estimators=3500, max_depth=4, min_samples_split=8, min_samples_leaf=15 \n",
      "[CV]  learning_rate=0.05, n_estimators=3500, max_depth=4, min_samples_split=8, min_samples_leaf=15, score=-588465129.0397459, total=  10.0s\n",
      "[CV] learning_rate=0.05, n_estimators=3500, max_depth=4, min_samples_split=8, min_samples_leaf=15 \n",
      "[CV]  learning_rate=0.05, n_estimators=3500, max_depth=4, min_samples_split=8, min_samples_leaf=15, score=-763622431.4451765, total=   8.4s\n",
      "[CV] learning_rate=0.05, n_estimators=3000, max_depth=4, min_samples_split=8, min_samples_leaf=15 \n",
      "[CV]  learning_rate=0.05, n_estimators=3000, max_depth=4, min_samples_split=8, min_samples_leaf=15, score=-467670135.68920493, total=   7.3s\n",
      "[CV] learning_rate=0.05, n_estimators=3000, max_depth=4, min_samples_split=8, min_samples_leaf=15 \n",
      "[CV]  learning_rate=0.05, n_estimators=3000, max_depth=4, min_samples_split=8, min_samples_leaf=15, score=-693637297.0926955, total=   7.4s\n",
      "[CV] learning_rate=0.05, n_estimators=3000, max_depth=4, min_samples_split=8, min_samples_leaf=15 \n",
      "[CV]  learning_rate=0.05, n_estimators=3000, max_depth=4, min_samples_split=8, min_samples_leaf=15, score=-579040294.0645738, total=   7.8s\n",
      "[CV] learning_rate=0.05, n_estimators=3000, max_depth=4, min_samples_split=8, min_samples_leaf=15 \n",
      "[CV]  learning_rate=0.05, n_estimators=3000, max_depth=4, min_samples_split=8, min_samples_leaf=15, score=-706164206.4011431, total=   7.9s\n",
      "[CV] learning_rate=0.05, n_estimators=3000, max_depth=4, min_samples_split=8, min_samples_leaf=15 \n",
      "[CV]  learning_rate=0.05, n_estimators=3000, max_depth=4, min_samples_split=8, min_samples_leaf=15, score=-723296450.0651202, total=   7.3s\n",
      "[CV] learning_rate=0.05, n_estimators=3000, max_depth=4, min_samples_split=8, min_samples_leaf=15 \n",
      "[CV]  learning_rate=0.05, n_estimators=3000, max_depth=4, min_samples_split=8, min_samples_leaf=15, score=-644149456.0025604, total=   7.3s\n",
      "[CV] learning_rate=0.05, n_estimators=3000, max_depth=4, min_samples_split=8, min_samples_leaf=15 \n",
      "[CV]  learning_rate=0.05, n_estimators=3000, max_depth=4, min_samples_split=8, min_samples_leaf=15, score=-466519996.02248, total=   7.3s\n",
      "[CV] learning_rate=0.05, n_estimators=3000, max_depth=4, min_samples_split=8, min_samples_leaf=15 \n",
      "[CV]  learning_rate=0.05, n_estimators=3000, max_depth=4, min_samples_split=8, min_samples_leaf=15, score=-487434081.884265, total=   7.4s\n",
      "[CV] learning_rate=0.05, n_estimators=3000, max_depth=4, min_samples_split=8, min_samples_leaf=15 \n",
      "[CV]  learning_rate=0.05, n_estimators=3000, max_depth=4, min_samples_split=8, min_samples_leaf=15, score=-590386887.6234808, total=   7.3s\n",
      "[CV] learning_rate=0.05, n_estimators=3000, max_depth=4, min_samples_split=8, min_samples_leaf=15 \n",
      "[CV]  learning_rate=0.05, n_estimators=3000, max_depth=4, min_samples_split=8, min_samples_leaf=15, score=-753306843.6832055, total=   7.0s\n",
      "[CV] learning_rate=0.05, n_estimators=3500, max_depth=4, min_samples_split=10, min_samples_leaf=10 \n",
      "[CV]  learning_rate=0.05, n_estimators=3500, max_depth=4, min_samples_split=10, min_samples_leaf=10, score=-470876309.7319433, total=   9.1s\n",
      "[CV] learning_rate=0.05, n_estimators=3500, max_depth=4, min_samples_split=10, min_samples_leaf=10 \n",
      "[CV]  learning_rate=0.05, n_estimators=3500, max_depth=4, min_samples_split=10, min_samples_leaf=10, score=-739124246.6679229, total=   9.0s\n",
      "[CV] learning_rate=0.05, n_estimators=3500, max_depth=4, min_samples_split=10, min_samples_leaf=10 \n",
      "[CV]  learning_rate=0.05, n_estimators=3500, max_depth=4, min_samples_split=10, min_samples_leaf=10, score=-587172376.6398193, total=   9.1s\n",
      "[CV] learning_rate=0.05, n_estimators=3500, max_depth=4, min_samples_split=10, min_samples_leaf=10 \n",
      "[CV]  learning_rate=0.05, n_estimators=3500, max_depth=4, min_samples_split=10, min_samples_leaf=10, score=-753681051.7140423, total=   9.8s\n",
      "[CV] learning_rate=0.05, n_estimators=3500, max_depth=4, min_samples_split=10, min_samples_leaf=10 \n"
     ]
    },
    {
     "name": "stdout",
     "output_type": "stream",
     "text": [
      "[CV]  learning_rate=0.05, n_estimators=3500, max_depth=4, min_samples_split=10, min_samples_leaf=10, score=-736243881.1129106, total=   9.4s\n",
      "[CV] learning_rate=0.05, n_estimators=3500, max_depth=4, min_samples_split=10, min_samples_leaf=10 \n",
      "[CV]  learning_rate=0.05, n_estimators=3500, max_depth=4, min_samples_split=10, min_samples_leaf=10, score=-618037642.064418, total=   9.1s\n",
      "[CV] learning_rate=0.05, n_estimators=3500, max_depth=4, min_samples_split=10, min_samples_leaf=10 \n",
      "[CV]  learning_rate=0.05, n_estimators=3500, max_depth=4, min_samples_split=10, min_samples_leaf=10, score=-410716385.5873692, total=   9.5s\n",
      "[CV] learning_rate=0.05, n_estimators=3500, max_depth=4, min_samples_split=10, min_samples_leaf=10 \n",
      "[CV]  learning_rate=0.05, n_estimators=3500, max_depth=4, min_samples_split=10, min_samples_leaf=10, score=-486424774.37666297, total=   9.8s\n",
      "[CV] learning_rate=0.05, n_estimators=3500, max_depth=4, min_samples_split=10, min_samples_leaf=10 \n",
      "[CV]  learning_rate=0.05, n_estimators=3500, max_depth=4, min_samples_split=10, min_samples_leaf=10, score=-541613770.5300112, total=   9.3s\n",
      "[CV] learning_rate=0.05, n_estimators=3500, max_depth=4, min_samples_split=10, min_samples_leaf=10 \n",
      "[CV]  learning_rate=0.05, n_estimators=3500, max_depth=4, min_samples_split=10, min_samples_leaf=10, score=-777488128.2192608, total=  10.3s\n",
      "[CV] learning_rate=0.05, n_estimators=3000, max_depth=4, min_samples_split=10, min_samples_leaf=10 \n",
      "[CV]  learning_rate=0.05, n_estimators=3000, max_depth=4, min_samples_split=10, min_samples_leaf=10, score=-466145984.0026485, total=   9.2s\n",
      "[CV] learning_rate=0.05, n_estimators=3000, max_depth=4, min_samples_split=10, min_samples_leaf=10 \n",
      "[CV]  learning_rate=0.05, n_estimators=3000, max_depth=4, min_samples_split=10, min_samples_leaf=10, score=-780499675.1449604, total=   8.2s\n",
      "[CV] learning_rate=0.05, n_estimators=3000, max_depth=4, min_samples_split=10, min_samples_leaf=10 \n",
      "[CV]  learning_rate=0.05, n_estimators=3000, max_depth=4, min_samples_split=10, min_samples_leaf=10, score=-557581524.2494302, total=   8.4s\n",
      "[CV] learning_rate=0.05, n_estimators=3000, max_depth=4, min_samples_split=10, min_samples_leaf=10 \n",
      "[CV]  learning_rate=0.05, n_estimators=3000, max_depth=4, min_samples_split=10, min_samples_leaf=10, score=-734095361.8731478, total=   8.4s\n",
      "[CV] learning_rate=0.05, n_estimators=3000, max_depth=4, min_samples_split=10, min_samples_leaf=10 \n",
      "[CV]  learning_rate=0.05, n_estimators=3000, max_depth=4, min_samples_split=10, min_samples_leaf=10, score=-759296421.4597478, total=   8.6s\n",
      "[CV] learning_rate=0.05, n_estimators=3000, max_depth=4, min_samples_split=10, min_samples_leaf=10 \n",
      "[CV]  learning_rate=0.05, n_estimators=3000, max_depth=4, min_samples_split=10, min_samples_leaf=10, score=-649300359.8918775, total=   8.1s\n",
      "[CV] learning_rate=0.05, n_estimators=3000, max_depth=4, min_samples_split=10, min_samples_leaf=10 \n",
      "[CV]  learning_rate=0.05, n_estimators=3000, max_depth=4, min_samples_split=10, min_samples_leaf=10, score=-431065549.4174681, total=   9.0s\n",
      "[CV] learning_rate=0.05, n_estimators=3000, max_depth=4, min_samples_split=10, min_samples_leaf=10 \n",
      "[CV]  learning_rate=0.05, n_estimators=3000, max_depth=4, min_samples_split=10, min_samples_leaf=10, score=-489962465.49966913, total=   8.4s\n",
      "[CV] learning_rate=0.05, n_estimators=3000, max_depth=4, min_samples_split=10, min_samples_leaf=10 \n",
      "[CV]  learning_rate=0.05, n_estimators=3000, max_depth=4, min_samples_split=10, min_samples_leaf=10, score=-597874161.9395748, total=   8.0s\n",
      "[CV] learning_rate=0.05, n_estimators=3000, max_depth=4, min_samples_split=10, min_samples_leaf=10 \n",
      "[CV]  learning_rate=0.05, n_estimators=3000, max_depth=4, min_samples_split=10, min_samples_leaf=10, score=-785312483.3587507, total=   8.6s\n",
      "[CV] learning_rate=0.05, n_estimators=3500, max_depth=4, min_samples_split=8, min_samples_leaf=10 \n",
      "[CV]  learning_rate=0.05, n_estimators=3500, max_depth=4, min_samples_split=8, min_samples_leaf=10, score=-472791220.7936429, total=  10.9s\n",
      "[CV] learning_rate=0.05, n_estimators=3500, max_depth=4, min_samples_split=8, min_samples_leaf=10 \n",
      "[CV]  learning_rate=0.05, n_estimators=3500, max_depth=4, min_samples_split=8, min_samples_leaf=10, score=-769448635.9297258, total=  10.4s\n",
      "[CV] learning_rate=0.05, n_estimators=3500, max_depth=4, min_samples_split=8, min_samples_leaf=10 \n",
      "[CV]  learning_rate=0.05, n_estimators=3500, max_depth=4, min_samples_split=8, min_samples_leaf=10, score=-565726602.0395033, total=  11.2s\n",
      "[CV] learning_rate=0.05, n_estimators=3500, max_depth=4, min_samples_split=8, min_samples_leaf=10 \n",
      "[CV]  learning_rate=0.05, n_estimators=3500, max_depth=4, min_samples_split=8, min_samples_leaf=10, score=-712518513.2179239, total=  10.8s\n",
      "[CV] learning_rate=0.05, n_estimators=3500, max_depth=4, min_samples_split=8, min_samples_leaf=10 \n",
      "[CV]  learning_rate=0.05, n_estimators=3500, max_depth=4, min_samples_split=8, min_samples_leaf=10, score=-720186392.2920824, total=  12.7s\n",
      "[CV] learning_rate=0.05, n_estimators=3500, max_depth=4, min_samples_split=8, min_samples_leaf=10 \n",
      "[CV]  learning_rate=0.05, n_estimators=3500, max_depth=4, min_samples_split=8, min_samples_leaf=10, score=-646262391.5304757, total=  11.3s\n",
      "[CV] learning_rate=0.05, n_estimators=3500, max_depth=4, min_samples_split=8, min_samples_leaf=10 \n",
      "[CV]  learning_rate=0.05, n_estimators=3500, max_depth=4, min_samples_split=8, min_samples_leaf=10, score=-381841638.7203105, total=  11.8s\n",
      "[CV] learning_rate=0.05, n_estimators=3500, max_depth=4, min_samples_split=8, min_samples_leaf=10 \n",
      "[CV]  learning_rate=0.05, n_estimators=3500, max_depth=4, min_samples_split=8, min_samples_leaf=10, score=-492139347.37710047, total=   9.2s\n",
      "[CV] learning_rate=0.05, n_estimators=3500, max_depth=4, min_samples_split=8, min_samples_leaf=10 \n",
      "[CV]  learning_rate=0.05, n_estimators=3500, max_depth=4, min_samples_split=8, min_samples_leaf=10, score=-540129287.5706931, total=   9.1s\n",
      "[CV] learning_rate=0.05, n_estimators=3500, max_depth=4, min_samples_split=8, min_samples_leaf=10 \n",
      "[CV]  learning_rate=0.05, n_estimators=3500, max_depth=4, min_samples_split=8, min_samples_leaf=10, score=-820290489.9417363, total=   9.9s\n",
      "[CV] learning_rate=0.05, n_estimators=3000, max_depth=4, min_samples_split=8, min_samples_leaf=10 \n",
      "[CV]  learning_rate=0.05, n_estimators=3000, max_depth=4, min_samples_split=8, min_samples_leaf=10, score=-449038975.2697432, total=  10.4s\n",
      "[CV] learning_rate=0.05, n_estimators=3000, max_depth=4, min_samples_split=8, min_samples_leaf=10 \n",
      "[CV]  learning_rate=0.05, n_estimators=3000, max_depth=4, min_samples_split=8, min_samples_leaf=10, score=-844868023.7537684, total=   8.7s\n",
      "[CV] learning_rate=0.05, n_estimators=3000, max_depth=4, min_samples_split=8, min_samples_leaf=10 \n",
      "[CV]  learning_rate=0.05, n_estimators=3000, max_depth=4, min_samples_split=8, min_samples_leaf=10, score=-625570161.6045587, total=   9.8s\n",
      "[CV] learning_rate=0.05, n_estimators=3000, max_depth=4, min_samples_split=8, min_samples_leaf=10 \n",
      "[CV]  learning_rate=0.05, n_estimators=3000, max_depth=4, min_samples_split=8, min_samples_leaf=10, score=-713466844.5984839, total=   8.4s\n",
      "[CV] learning_rate=0.05, n_estimators=3000, max_depth=4, min_samples_split=8, min_samples_leaf=10 \n",
      "[CV]  learning_rate=0.05, n_estimators=3000, max_depth=4, min_samples_split=8, min_samples_leaf=10, score=-767010122.43678, total=   8.0s\n",
      "[CV] learning_rate=0.05, n_estimators=3000, max_depth=4, min_samples_split=8, min_samples_leaf=10 \n",
      "[CV]  learning_rate=0.05, n_estimators=3000, max_depth=4, min_samples_split=8, min_samples_leaf=10, score=-636421268.9617583, total=  10.3s\n",
      "[CV] learning_rate=0.05, n_estimators=3000, max_depth=4, min_samples_split=8, min_samples_leaf=10 \n",
      "[CV]  learning_rate=0.05, n_estimators=3000, max_depth=4, min_samples_split=8, min_samples_leaf=10, score=-398564181.09242654, total=  10.1s\n",
      "[CV] learning_rate=0.05, n_estimators=3000, max_depth=4, min_samples_split=8, min_samples_leaf=10 \n",
      "[CV]  learning_rate=0.05, n_estimators=3000, max_depth=4, min_samples_split=8, min_samples_leaf=10, score=-487714075.14629287, total=  10.2s\n",
      "[CV] learning_rate=0.05, n_estimators=3000, max_depth=4, min_samples_split=8, min_samples_leaf=10 \n",
      "[CV]  learning_rate=0.05, n_estimators=3000, max_depth=4, min_samples_split=8, min_samples_leaf=10, score=-510433558.1489867, total=   8.2s\n",
      "[CV] learning_rate=0.05, n_estimators=3000, max_depth=4, min_samples_split=8, min_samples_leaf=10 \n"
     ]
    },
    {
     "name": "stdout",
     "output_type": "stream",
     "text": [
      "[CV]  learning_rate=0.05, n_estimators=3000, max_depth=4, min_samples_split=8, min_samples_leaf=10, score=-766233774.4066432, total=   8.0s\n",
      "[CV] learning_rate=0.05, n_estimators=3500, max_depth=6, min_samples_split=10, min_samples_leaf=15 \n",
      "[CV]  learning_rate=0.05, n_estimators=3500, max_depth=6, min_samples_split=10, min_samples_leaf=15, score=-530367804.7483143, total=  13.9s\n",
      "[CV] learning_rate=0.05, n_estimators=3500, max_depth=6, min_samples_split=10, min_samples_leaf=15 \n",
      "[CV]  learning_rate=0.05, n_estimators=3500, max_depth=6, min_samples_split=10, min_samples_leaf=15, score=-756494644.5086632, total=  13.5s\n",
      "[CV] learning_rate=0.05, n_estimators=3500, max_depth=6, min_samples_split=10, min_samples_leaf=15 \n",
      "[CV]  learning_rate=0.05, n_estimators=3500, max_depth=6, min_samples_split=10, min_samples_leaf=15, score=-560967314.1847544, total=  13.0s\n",
      "[CV] learning_rate=0.05, n_estimators=3500, max_depth=6, min_samples_split=10, min_samples_leaf=15 \n",
      "[CV]  learning_rate=0.05, n_estimators=3500, max_depth=6, min_samples_split=10, min_samples_leaf=15, score=-792668002.0586627, total=  13.1s\n",
      "[CV] learning_rate=0.05, n_estimators=3500, max_depth=6, min_samples_split=10, min_samples_leaf=15 \n",
      "[CV]  learning_rate=0.05, n_estimators=3500, max_depth=6, min_samples_split=10, min_samples_leaf=15, score=-731936849.0051056, total=  13.4s\n",
      "[CV] learning_rate=0.05, n_estimators=3500, max_depth=6, min_samples_split=10, min_samples_leaf=15 \n",
      "[CV]  learning_rate=0.05, n_estimators=3500, max_depth=6, min_samples_split=10, min_samples_leaf=15, score=-654550325.3341916, total=  15.2s\n",
      "[CV] learning_rate=0.05, n_estimators=3500, max_depth=6, min_samples_split=10, min_samples_leaf=15 \n",
      "[CV]  learning_rate=0.05, n_estimators=3500, max_depth=6, min_samples_split=10, min_samples_leaf=15, score=-459462808.09919256, total=  14.2s\n",
      "[CV] learning_rate=0.05, n_estimators=3500, max_depth=6, min_samples_split=10, min_samples_leaf=15 \n",
      "[CV]  learning_rate=0.05, n_estimators=3500, max_depth=6, min_samples_split=10, min_samples_leaf=15, score=-542732467.3040468, total=  16.9s\n",
      "[CV] learning_rate=0.05, n_estimators=3500, max_depth=6, min_samples_split=10, min_samples_leaf=15 \n",
      "[CV]  learning_rate=0.05, n_estimators=3500, max_depth=6, min_samples_split=10, min_samples_leaf=15, score=-587067081.1381878, total=  19.5s\n",
      "[CV] learning_rate=0.05, n_estimators=3500, max_depth=6, min_samples_split=10, min_samples_leaf=15 \n",
      "[CV]  learning_rate=0.05, n_estimators=3500, max_depth=6, min_samples_split=10, min_samples_leaf=15, score=-744196711.9364533, total=  23.4s\n",
      "[CV] learning_rate=0.05, n_estimators=3000, max_depth=6, min_samples_split=10, min_samples_leaf=15 \n",
      "[CV]  learning_rate=0.05, n_estimators=3000, max_depth=6, min_samples_split=10, min_samples_leaf=15, score=-474145794.23411113, total=  18.0s\n",
      "[CV] learning_rate=0.05, n_estimators=3000, max_depth=6, min_samples_split=10, min_samples_leaf=15 \n",
      "[CV]  learning_rate=0.05, n_estimators=3000, max_depth=6, min_samples_split=10, min_samples_leaf=15, score=-769240875.520394, total=  11.4s\n",
      "[CV] learning_rate=0.05, n_estimators=3000, max_depth=6, min_samples_split=10, min_samples_leaf=15 \n",
      "[CV]  learning_rate=0.05, n_estimators=3000, max_depth=6, min_samples_split=10, min_samples_leaf=15, score=-625624007.748832, total=  11.4s\n",
      "[CV] learning_rate=0.05, n_estimators=3000, max_depth=6, min_samples_split=10, min_samples_leaf=15 \n",
      "[CV]  learning_rate=0.05, n_estimators=3000, max_depth=6, min_samples_split=10, min_samples_leaf=15, score=-841437592.103769, total=  11.9s\n",
      "[CV] learning_rate=0.05, n_estimators=3000, max_depth=6, min_samples_split=10, min_samples_leaf=15 \n",
      "[CV]  learning_rate=0.05, n_estimators=3000, max_depth=6, min_samples_split=10, min_samples_leaf=15, score=-710300580.8933133, total=  11.5s\n",
      "[CV] learning_rate=0.05, n_estimators=3000, max_depth=6, min_samples_split=10, min_samples_leaf=15 \n",
      "[CV]  learning_rate=0.05, n_estimators=3000, max_depth=6, min_samples_split=10, min_samples_leaf=15, score=-650442513.2807997, total=  12.5s\n",
      "[CV] learning_rate=0.05, n_estimators=3000, max_depth=6, min_samples_split=10, min_samples_leaf=15 \n",
      "[CV]  learning_rate=0.05, n_estimators=3000, max_depth=6, min_samples_split=10, min_samples_leaf=15, score=-502639424.80001706, total=  12.5s\n",
      "[CV] learning_rate=0.05, n_estimators=3000, max_depth=6, min_samples_split=10, min_samples_leaf=15 \n",
      "[CV]  learning_rate=0.05, n_estimators=3000, max_depth=6, min_samples_split=10, min_samples_leaf=15, score=-518263188.3373391, total=  11.8s\n",
      "[CV] learning_rate=0.05, n_estimators=3000, max_depth=6, min_samples_split=10, min_samples_leaf=15 \n",
      "[CV]  learning_rate=0.05, n_estimators=3000, max_depth=6, min_samples_split=10, min_samples_leaf=15, score=-522551630.3074486, total=  12.3s\n",
      "[CV] learning_rate=0.05, n_estimators=3000, max_depth=6, min_samples_split=10, min_samples_leaf=15 \n",
      "[CV]  learning_rate=0.05, n_estimators=3000, max_depth=6, min_samples_split=10, min_samples_leaf=15, score=-768180829.7522588, total=  12.3s\n",
      "[CV] learning_rate=0.05, n_estimators=3500, max_depth=6, min_samples_split=8, min_samples_leaf=15 \n",
      "[CV]  learning_rate=0.05, n_estimators=3500, max_depth=6, min_samples_split=8, min_samples_leaf=15, score=-487289041.13903254, total=  14.4s\n",
      "[CV] learning_rate=0.05, n_estimators=3500, max_depth=6, min_samples_split=8, min_samples_leaf=15 \n",
      "[CV]  learning_rate=0.05, n_estimators=3500, max_depth=6, min_samples_split=8, min_samples_leaf=15, score=-786037329.6181535, total=  16.0s\n",
      "[CV] learning_rate=0.05, n_estimators=3500, max_depth=6, min_samples_split=8, min_samples_leaf=15 \n",
      "[CV]  learning_rate=0.05, n_estimators=3500, max_depth=6, min_samples_split=8, min_samples_leaf=15, score=-670729533.1481454, total=  24.8s\n",
      "[CV] learning_rate=0.05, n_estimators=3500, max_depth=6, min_samples_split=8, min_samples_leaf=15 \n",
      "[CV]  learning_rate=0.05, n_estimators=3500, max_depth=6, min_samples_split=8, min_samples_leaf=15, score=-762121487.200921, total=  20.1s\n",
      "[CV] learning_rate=0.05, n_estimators=3500, max_depth=6, min_samples_split=8, min_samples_leaf=15 \n",
      "[CV]  learning_rate=0.05, n_estimators=3500, max_depth=6, min_samples_split=8, min_samples_leaf=15, score=-693486999.160646, total=  15.5s\n",
      "[CV] learning_rate=0.05, n_estimators=3500, max_depth=6, min_samples_split=8, min_samples_leaf=15 \n",
      "[CV]  learning_rate=0.05, n_estimators=3500, max_depth=6, min_samples_split=8, min_samples_leaf=15, score=-725334765.6254485, total=  16.1s\n",
      "[CV] learning_rate=0.05, n_estimators=3500, max_depth=6, min_samples_split=8, min_samples_leaf=15 \n",
      "[CV]  learning_rate=0.05, n_estimators=3500, max_depth=6, min_samples_split=8, min_samples_leaf=15, score=-469442993.51733965, total=  16.0s\n",
      "[CV] learning_rate=0.05, n_estimators=3500, max_depth=6, min_samples_split=8, min_samples_leaf=15 \n",
      "[CV]  learning_rate=0.05, n_estimators=3500, max_depth=6, min_samples_split=8, min_samples_leaf=15, score=-468370773.58560663, total=  17.9s\n",
      "[CV] learning_rate=0.05, n_estimators=3500, max_depth=6, min_samples_split=8, min_samples_leaf=15 \n",
      "[CV]  learning_rate=0.05, n_estimators=3500, max_depth=6, min_samples_split=8, min_samples_leaf=15, score=-586849078.4521672, total=  20.7s\n",
      "[CV] learning_rate=0.05, n_estimators=3500, max_depth=6, min_samples_split=8, min_samples_leaf=15 \n",
      "[CV]  learning_rate=0.05, n_estimators=3500, max_depth=6, min_samples_split=8, min_samples_leaf=15, score=-747676620.0642886, total=  23.7s\n",
      "[CV] learning_rate=0.05, n_estimators=3000, max_depth=6, min_samples_split=8, min_samples_leaf=15 \n",
      "[CV]  learning_rate=0.05, n_estimators=3000, max_depth=6, min_samples_split=8, min_samples_leaf=15, score=-494784293.9592747, total=  12.8s\n",
      "[CV] learning_rate=0.05, n_estimators=3000, max_depth=6, min_samples_split=8, min_samples_leaf=15 \n",
      "[CV]  learning_rate=0.05, n_estimators=3000, max_depth=6, min_samples_split=8, min_samples_leaf=15, score=-766588068.3966403, total=  18.0s\n",
      "[CV] learning_rate=0.05, n_estimators=3000, max_depth=6, min_samples_split=8, min_samples_leaf=15 \n",
      "[CV]  learning_rate=0.05, n_estimators=3000, max_depth=6, min_samples_split=8, min_samples_leaf=15, score=-572029666.9832485, total=  12.8s\n",
      "[CV] learning_rate=0.05, n_estimators=3000, max_depth=6, min_samples_split=8, min_samples_leaf=15 \n",
      "[CV]  learning_rate=0.05, n_estimators=3000, max_depth=6, min_samples_split=8, min_samples_leaf=15, score=-753859883.9189636, total=  14.3s\n",
      "[CV] learning_rate=0.05, n_estimators=3000, max_depth=6, min_samples_split=8, min_samples_leaf=15 \n"
     ]
    },
    {
     "name": "stdout",
     "output_type": "stream",
     "text": [
      "[CV]  learning_rate=0.05, n_estimators=3000, max_depth=6, min_samples_split=8, min_samples_leaf=15, score=-752022132.7755623, total=  15.4s\n",
      "[CV] learning_rate=0.05, n_estimators=3000, max_depth=6, min_samples_split=8, min_samples_leaf=15 \n",
      "[CV]  learning_rate=0.05, n_estimators=3000, max_depth=6, min_samples_split=8, min_samples_leaf=15, score=-653392965.5762142, total=  15.0s\n",
      "[CV] learning_rate=0.05, n_estimators=3000, max_depth=6, min_samples_split=8, min_samples_leaf=15 \n",
      "[CV]  learning_rate=0.05, n_estimators=3000, max_depth=6, min_samples_split=8, min_samples_leaf=15, score=-445573604.2866348, total=  14.0s\n",
      "[CV] learning_rate=0.05, n_estimators=3000, max_depth=6, min_samples_split=8, min_samples_leaf=15 \n",
      "[CV]  learning_rate=0.05, n_estimators=3000, max_depth=6, min_samples_split=8, min_samples_leaf=15, score=-502898217.78096354, total=  13.8s\n",
      "[CV] learning_rate=0.05, n_estimators=3000, max_depth=6, min_samples_split=8, min_samples_leaf=15 \n",
      "[CV]  learning_rate=0.05, n_estimators=3000, max_depth=6, min_samples_split=8, min_samples_leaf=15, score=-508929923.4484539, total=  14.8s\n",
      "[CV] learning_rate=0.05, n_estimators=3000, max_depth=6, min_samples_split=8, min_samples_leaf=15 \n",
      "[CV]  learning_rate=0.05, n_estimators=3000, max_depth=6, min_samples_split=8, min_samples_leaf=15, score=-813373525.6592624, total=  13.6s\n",
      "[CV] learning_rate=0.05, n_estimators=3500, max_depth=6, min_samples_split=10, min_samples_leaf=10 \n",
      "[CV]  learning_rate=0.05, n_estimators=3500, max_depth=6, min_samples_split=10, min_samples_leaf=10, score=-493328057.8775686, total=  16.5s\n",
      "[CV] learning_rate=0.05, n_estimators=3500, max_depth=6, min_samples_split=10, min_samples_leaf=10 \n",
      "[CV]  learning_rate=0.05, n_estimators=3500, max_depth=6, min_samples_split=10, min_samples_leaf=10, score=-872747158.3599147, total=  18.9s\n",
      "[CV] learning_rate=0.05, n_estimators=3500, max_depth=6, min_samples_split=10, min_samples_leaf=10 \n",
      "[CV]  learning_rate=0.05, n_estimators=3500, max_depth=6, min_samples_split=10, min_samples_leaf=10, score=-578019344.8508728, total=  19.1s\n",
      "[CV] learning_rate=0.05, n_estimators=3500, max_depth=6, min_samples_split=10, min_samples_leaf=10 \n",
      "[CV]  learning_rate=0.05, n_estimators=3500, max_depth=6, min_samples_split=10, min_samples_leaf=10, score=-831414088.1183294, total=  21.0s\n",
      "[CV] learning_rate=0.05, n_estimators=3500, max_depth=6, min_samples_split=10, min_samples_leaf=10 \n",
      "[CV]  learning_rate=0.05, n_estimators=3500, max_depth=6, min_samples_split=10, min_samples_leaf=10, score=-790953646.593656, total=  16.5s\n",
      "[CV] learning_rate=0.05, n_estimators=3500, max_depth=6, min_samples_split=10, min_samples_leaf=10 \n",
      "[CV]  learning_rate=0.05, n_estimators=3500, max_depth=6, min_samples_split=10, min_samples_leaf=10, score=-666950468.4614838, total=  14.0s\n",
      "[CV] learning_rate=0.05, n_estimators=3500, max_depth=6, min_samples_split=10, min_samples_leaf=10 \n",
      "[CV]  learning_rate=0.05, n_estimators=3500, max_depth=6, min_samples_split=10, min_samples_leaf=10, score=-446211781.64199734, total=  16.4s\n",
      "[CV] learning_rate=0.05, n_estimators=3500, max_depth=6, min_samples_split=10, min_samples_leaf=10 \n",
      "[CV]  learning_rate=0.05, n_estimators=3500, max_depth=6, min_samples_split=10, min_samples_leaf=10, score=-503654263.35060585, total=  21.3s\n",
      "[CV] learning_rate=0.05, n_estimators=3500, max_depth=6, min_samples_split=10, min_samples_leaf=10 \n",
      "[CV]  learning_rate=0.05, n_estimators=3500, max_depth=6, min_samples_split=10, min_samples_leaf=10, score=-512477574.8065272, total=  16.4s\n",
      "[CV] learning_rate=0.05, n_estimators=3500, max_depth=6, min_samples_split=10, min_samples_leaf=10 \n",
      "[CV]  learning_rate=0.05, n_estimators=3500, max_depth=6, min_samples_split=10, min_samples_leaf=10, score=-799317610.127397, total=  13.7s\n",
      "[CV] learning_rate=0.05, n_estimators=3000, max_depth=6, min_samples_split=10, min_samples_leaf=10 \n",
      "[CV]  learning_rate=0.05, n_estimators=3000, max_depth=6, min_samples_split=10, min_samples_leaf=10, score=-510104643.3821386, total=  13.8s\n",
      "[CV] learning_rate=0.05, n_estimators=3000, max_depth=6, min_samples_split=10, min_samples_leaf=10 \n",
      "[CV]  learning_rate=0.05, n_estimators=3000, max_depth=6, min_samples_split=10, min_samples_leaf=10, score=-777478350.6425577, total=  11.7s\n",
      "[CV] learning_rate=0.05, n_estimators=3000, max_depth=6, min_samples_split=10, min_samples_leaf=10 \n",
      "[CV]  learning_rate=0.05, n_estimators=3000, max_depth=6, min_samples_split=10, min_samples_leaf=10, score=-566849533.1613587, total=  12.1s\n",
      "[CV] learning_rate=0.05, n_estimators=3000, max_depth=6, min_samples_split=10, min_samples_leaf=10 \n",
      "[CV]  learning_rate=0.05, n_estimators=3000, max_depth=6, min_samples_split=10, min_samples_leaf=10, score=-838148201.6620363, total=  12.8s\n",
      "[CV] learning_rate=0.05, n_estimators=3000, max_depth=6, min_samples_split=10, min_samples_leaf=10 \n",
      "[CV]  learning_rate=0.05, n_estimators=3000, max_depth=6, min_samples_split=10, min_samples_leaf=10, score=-804295246.8595649, total=  11.8s\n",
      "[CV] learning_rate=0.05, n_estimators=3000, max_depth=6, min_samples_split=10, min_samples_leaf=10 \n",
      "[CV]  learning_rate=0.05, n_estimators=3000, max_depth=6, min_samples_split=10, min_samples_leaf=10, score=-671913295.2777176, total=  13.7s\n",
      "[CV] learning_rate=0.05, n_estimators=3000, max_depth=6, min_samples_split=10, min_samples_leaf=10 \n",
      "[CV]  learning_rate=0.05, n_estimators=3000, max_depth=6, min_samples_split=10, min_samples_leaf=10, score=-430350343.83655745, total=  15.3s\n",
      "[CV] learning_rate=0.05, n_estimators=3000, max_depth=6, min_samples_split=10, min_samples_leaf=10 \n",
      "[CV]  learning_rate=0.05, n_estimators=3000, max_depth=6, min_samples_split=10, min_samples_leaf=10, score=-513447620.71264523, total=  17.1s\n",
      "[CV] learning_rate=0.05, n_estimators=3000, max_depth=6, min_samples_split=10, min_samples_leaf=10 \n",
      "[CV]  learning_rate=0.05, n_estimators=3000, max_depth=6, min_samples_split=10, min_samples_leaf=10, score=-501205606.5965789, total=  15.7s\n",
      "[CV] learning_rate=0.05, n_estimators=3000, max_depth=6, min_samples_split=10, min_samples_leaf=10 \n",
      "[CV]  learning_rate=0.05, n_estimators=3000, max_depth=6, min_samples_split=10, min_samples_leaf=10, score=-752351298.3031212, total=  14.0s\n",
      "[CV] learning_rate=0.05, n_estimators=3500, max_depth=6, min_samples_split=8, min_samples_leaf=10 \n",
      "[CV]  learning_rate=0.05, n_estimators=3500, max_depth=6, min_samples_split=8, min_samples_leaf=10, score=-476638063.92408806, total=  14.1s\n",
      "[CV] learning_rate=0.05, n_estimators=3500, max_depth=6, min_samples_split=8, min_samples_leaf=10 \n",
      "[CV]  learning_rate=0.05, n_estimators=3500, max_depth=6, min_samples_split=8, min_samples_leaf=10, score=-811803340.2659577, total=  13.8s\n",
      "[CV] learning_rate=0.05, n_estimators=3500, max_depth=6, min_samples_split=8, min_samples_leaf=10 \n",
      "[CV]  learning_rate=0.05, n_estimators=3500, max_depth=6, min_samples_split=8, min_samples_leaf=10, score=-661266098.8339875, total=  14.4s\n",
      "[CV] learning_rate=0.05, n_estimators=3500, max_depth=6, min_samples_split=8, min_samples_leaf=10 \n",
      "[CV]  learning_rate=0.05, n_estimators=3500, max_depth=6, min_samples_split=8, min_samples_leaf=10, score=-830582640.3323855, total=  14.9s\n",
      "[CV] learning_rate=0.05, n_estimators=3500, max_depth=6, min_samples_split=8, min_samples_leaf=10 \n",
      "[CV]  learning_rate=0.05, n_estimators=3500, max_depth=6, min_samples_split=8, min_samples_leaf=10, score=-809036388.4296024, total=  14.9s\n",
      "[CV] learning_rate=0.05, n_estimators=3500, max_depth=6, min_samples_split=8, min_samples_leaf=10 \n",
      "[CV]  learning_rate=0.05, n_estimators=3500, max_depth=6, min_samples_split=8, min_samples_leaf=10, score=-692215088.833683, total=  17.2s\n",
      "[CV] learning_rate=0.05, n_estimators=3500, max_depth=6, min_samples_split=8, min_samples_leaf=10 \n",
      "[CV]  learning_rate=0.05, n_estimators=3500, max_depth=6, min_samples_split=8, min_samples_leaf=10, score=-408713727.8428934, total=  15.7s\n",
      "[CV] learning_rate=0.05, n_estimators=3500, max_depth=6, min_samples_split=8, min_samples_leaf=10 \n",
      "[CV]  learning_rate=0.05, n_estimators=3500, max_depth=6, min_samples_split=8, min_samples_leaf=10, score=-518078346.2477216, total=  19.4s\n",
      "[CV] learning_rate=0.05, n_estimators=3500, max_depth=6, min_samples_split=8, min_samples_leaf=10 \n",
      "[CV]  learning_rate=0.05, n_estimators=3500, max_depth=6, min_samples_split=8, min_samples_leaf=10, score=-519485539.58954865, total=  14.1s\n",
      "[CV] learning_rate=0.05, n_estimators=3500, max_depth=6, min_samples_split=8, min_samples_leaf=10 \n"
     ]
    },
    {
     "name": "stdout",
     "output_type": "stream",
     "text": [
      "[CV]  learning_rate=0.05, n_estimators=3500, max_depth=6, min_samples_split=8, min_samples_leaf=10, score=-785521545.9870325, total=  14.2s\n",
      "[CV] learning_rate=0.05, n_estimators=3000, max_depth=6, min_samples_split=8, min_samples_leaf=10 \n",
      "[CV]  learning_rate=0.05, n_estimators=3000, max_depth=6, min_samples_split=8, min_samples_leaf=10, score=-508308756.70929813, total=  12.2s\n",
      "[CV] learning_rate=0.05, n_estimators=3000, max_depth=6, min_samples_split=8, min_samples_leaf=10 \n",
      "[CV]  learning_rate=0.05, n_estimators=3000, max_depth=6, min_samples_split=8, min_samples_leaf=10, score=-773218224.1064081, total=  12.1s\n",
      "[CV] learning_rate=0.05, n_estimators=3000, max_depth=6, min_samples_split=8, min_samples_leaf=10 \n",
      "[CV]  learning_rate=0.05, n_estimators=3000, max_depth=6, min_samples_split=8, min_samples_leaf=10, score=-591431938.2531663, total=  12.3s\n",
      "[CV] learning_rate=0.05, n_estimators=3000, max_depth=6, min_samples_split=8, min_samples_leaf=10 \n",
      "[CV]  learning_rate=0.05, n_estimators=3000, max_depth=6, min_samples_split=8, min_samples_leaf=10, score=-814953175.6009645, total=  12.8s\n",
      "[CV] learning_rate=0.05, n_estimators=3000, max_depth=6, min_samples_split=8, min_samples_leaf=10 \n",
      "[CV]  learning_rate=0.05, n_estimators=3000, max_depth=6, min_samples_split=8, min_samples_leaf=10, score=-739196453.5617013, total=  12.2s\n",
      "[CV] learning_rate=0.05, n_estimators=3000, max_depth=6, min_samples_split=8, min_samples_leaf=10 \n",
      "[CV]  learning_rate=0.05, n_estimators=3000, max_depth=6, min_samples_split=8, min_samples_leaf=10, score=-677317511.1176795, total=  11.7s\n",
      "[CV] learning_rate=0.05, n_estimators=3000, max_depth=6, min_samples_split=8, min_samples_leaf=10 \n",
      "[CV]  learning_rate=0.05, n_estimators=3000, max_depth=6, min_samples_split=8, min_samples_leaf=10, score=-444984121.0713239, total=  12.2s\n",
      "[CV] learning_rate=0.05, n_estimators=3000, max_depth=6, min_samples_split=8, min_samples_leaf=10 \n",
      "[CV]  learning_rate=0.05, n_estimators=3000, max_depth=6, min_samples_split=8, min_samples_leaf=10, score=-504662346.02163625, total=  12.0s\n",
      "[CV] learning_rate=0.05, n_estimators=3000, max_depth=6, min_samples_split=8, min_samples_leaf=10 \n",
      "[CV]  learning_rate=0.05, n_estimators=3000, max_depth=6, min_samples_split=8, min_samples_leaf=10, score=-552855442.3646312, total=  12.7s\n",
      "[CV] learning_rate=0.05, n_estimators=3000, max_depth=6, min_samples_split=8, min_samples_leaf=10 \n",
      "[CV]  learning_rate=0.05, n_estimators=3000, max_depth=6, min_samples_split=8, min_samples_leaf=10, score=-777519226.1981655, total=  12.0s\n",
      "[CV] learning_rate=0.5, n_estimators=3500, max_depth=4, min_samples_split=10, min_samples_leaf=15 \n",
      "[CV]  learning_rate=0.5, n_estimators=3500, max_depth=4, min_samples_split=10, min_samples_leaf=15, score=-707733660.0828884, total=   9.5s\n",
      "[CV] learning_rate=0.5, n_estimators=3500, max_depth=4, min_samples_split=10, min_samples_leaf=15 \n",
      "[CV]  learning_rate=0.5, n_estimators=3500, max_depth=4, min_samples_split=10, min_samples_leaf=15, score=-1112176079.155085, total=  10.6s\n",
      "[CV] learning_rate=0.5, n_estimators=3500, max_depth=4, min_samples_split=10, min_samples_leaf=15 \n",
      "[CV]  learning_rate=0.5, n_estimators=3500, max_depth=4, min_samples_split=10, min_samples_leaf=15, score=-693399540.5792633, total=  12.5s\n",
      "[CV] learning_rate=0.5, n_estimators=3500, max_depth=4, min_samples_split=10, min_samples_leaf=15 \n",
      "[CV]  learning_rate=0.5, n_estimators=3500, max_depth=4, min_samples_split=10, min_samples_leaf=15, score=-1054431331.6321955, total=   9.9s\n",
      "[CV] learning_rate=0.5, n_estimators=3500, max_depth=4, min_samples_split=10, min_samples_leaf=15 \n",
      "[CV]  learning_rate=0.5, n_estimators=3500, max_depth=4, min_samples_split=10, min_samples_leaf=15, score=-1069803803.5919908, total=  10.9s\n",
      "[CV] learning_rate=0.5, n_estimators=3500, max_depth=4, min_samples_split=10, min_samples_leaf=15 \n",
      "[CV]  learning_rate=0.5, n_estimators=3500, max_depth=4, min_samples_split=10, min_samples_leaf=15, score=-1045313174.5808733, total=  10.0s\n",
      "[CV] learning_rate=0.5, n_estimators=3500, max_depth=4, min_samples_split=10, min_samples_leaf=15 \n",
      "[CV]  learning_rate=0.5, n_estimators=3500, max_depth=4, min_samples_split=10, min_samples_leaf=15, score=-750222397.1399313, total=   9.9s\n",
      "[CV] learning_rate=0.5, n_estimators=3500, max_depth=4, min_samples_split=10, min_samples_leaf=15 \n",
      "[CV]  learning_rate=0.5, n_estimators=3500, max_depth=4, min_samples_split=10, min_samples_leaf=15, score=-822314718.1070193, total=  10.3s\n",
      "[CV] learning_rate=0.5, n_estimators=3500, max_depth=4, min_samples_split=10, min_samples_leaf=15 \n",
      "[CV]  learning_rate=0.5, n_estimators=3500, max_depth=4, min_samples_split=10, min_samples_leaf=15, score=-869797361.6327864, total=  10.6s\n",
      "[CV] learning_rate=0.5, n_estimators=3500, max_depth=4, min_samples_split=10, min_samples_leaf=15 \n",
      "[CV]  learning_rate=0.5, n_estimators=3500, max_depth=4, min_samples_split=10, min_samples_leaf=15, score=-960570666.2432859, total=  11.3s\n",
      "[CV] learning_rate=0.5, n_estimators=3000, max_depth=4, min_samples_split=10, min_samples_leaf=15 \n",
      "[CV]  learning_rate=0.5, n_estimators=3000, max_depth=4, min_samples_split=10, min_samples_leaf=15, score=-633879050.7727067, total=  10.1s\n",
      "[CV] learning_rate=0.5, n_estimators=3000, max_depth=4, min_samples_split=10, min_samples_leaf=15 \n",
      "[CV]  learning_rate=0.5, n_estimators=3000, max_depth=4, min_samples_split=10, min_samples_leaf=15, score=-1121527003.3260715, total=  10.9s\n",
      "[CV] learning_rate=0.5, n_estimators=3000, max_depth=4, min_samples_split=10, min_samples_leaf=15 \n",
      "[CV]  learning_rate=0.5, n_estimators=3000, max_depth=4, min_samples_split=10, min_samples_leaf=15, score=-799340631.0314023, total=   9.6s\n",
      "[CV] learning_rate=0.5, n_estimators=3000, max_depth=4, min_samples_split=10, min_samples_leaf=15 \n",
      "[CV]  learning_rate=0.5, n_estimators=3000, max_depth=4, min_samples_split=10, min_samples_leaf=15, score=-1060536734.657942, total=   9.9s\n",
      "[CV] learning_rate=0.5, n_estimators=3000, max_depth=4, min_samples_split=10, min_samples_leaf=15 \n",
      "[CV]  learning_rate=0.5, n_estimators=3000, max_depth=4, min_samples_split=10, min_samples_leaf=15, score=-1049148744.2043637, total=   8.5s\n",
      "[CV] learning_rate=0.5, n_estimators=3000, max_depth=4, min_samples_split=10, min_samples_leaf=15 \n",
      "[CV]  learning_rate=0.5, n_estimators=3000, max_depth=4, min_samples_split=10, min_samples_leaf=15, score=-822518693.2323697, total=   8.3s\n",
      "[CV] learning_rate=0.5, n_estimators=3000, max_depth=4, min_samples_split=10, min_samples_leaf=15 \n",
      "[CV]  learning_rate=0.5, n_estimators=3000, max_depth=4, min_samples_split=10, min_samples_leaf=15, score=-672436053.668882, total=   8.5s\n",
      "[CV] learning_rate=0.5, n_estimators=3000, max_depth=4, min_samples_split=10, min_samples_leaf=15 \n",
      "[CV]  learning_rate=0.5, n_estimators=3000, max_depth=4, min_samples_split=10, min_samples_leaf=15, score=-624652712.4414032, total=   8.4s\n",
      "[CV] learning_rate=0.5, n_estimators=3000, max_depth=4, min_samples_split=10, min_samples_leaf=15 \n",
      "[CV]  learning_rate=0.5, n_estimators=3000, max_depth=4, min_samples_split=10, min_samples_leaf=15, score=-899150183.5871692, total=   8.7s\n",
      "[CV] learning_rate=0.5, n_estimators=3000, max_depth=4, min_samples_split=10, min_samples_leaf=15 \n",
      "[CV]  learning_rate=0.5, n_estimators=3000, max_depth=4, min_samples_split=10, min_samples_leaf=15, score=-893903458.2968719, total=   9.8s\n",
      "[CV] learning_rate=0.5, n_estimators=3500, max_depth=4, min_samples_split=8, min_samples_leaf=15 \n",
      "[CV]  learning_rate=0.5, n_estimators=3500, max_depth=4, min_samples_split=8, min_samples_leaf=15, score=-649871305.9149673, total=  11.2s\n",
      "[CV] learning_rate=0.5, n_estimators=3500, max_depth=4, min_samples_split=8, min_samples_leaf=15 \n",
      "[CV]  learning_rate=0.5, n_estimators=3500, max_depth=4, min_samples_split=8, min_samples_leaf=15, score=-756156117.301435, total=   9.6s\n",
      "[CV] learning_rate=0.5, n_estimators=3500, max_depth=4, min_samples_split=8, min_samples_leaf=15 \n",
      "[CV]  learning_rate=0.5, n_estimators=3500, max_depth=4, min_samples_split=8, min_samples_leaf=15, score=-674037063.4466394, total=  10.3s\n",
      "[CV] learning_rate=0.5, n_estimators=3500, max_depth=4, min_samples_split=8, min_samples_leaf=15 \n",
      "[CV]  learning_rate=0.5, n_estimators=3500, max_depth=4, min_samples_split=8, min_samples_leaf=15, score=-873640918.3537585, total=  10.9s\n",
      "[CV] learning_rate=0.5, n_estimators=3500, max_depth=4, min_samples_split=8, min_samples_leaf=15 \n"
     ]
    },
    {
     "name": "stdout",
     "output_type": "stream",
     "text": [
      "[CV]  learning_rate=0.5, n_estimators=3500, max_depth=4, min_samples_split=8, min_samples_leaf=15, score=-978575890.3913816, total=  10.9s\n",
      "[CV] learning_rate=0.5, n_estimators=3500, max_depth=4, min_samples_split=8, min_samples_leaf=15 \n",
      "[CV]  learning_rate=0.5, n_estimators=3500, max_depth=4, min_samples_split=8, min_samples_leaf=15, score=-886015511.1441627, total=  10.0s\n",
      "[CV] learning_rate=0.5, n_estimators=3500, max_depth=4, min_samples_split=8, min_samples_leaf=15 \n",
      "[CV]  learning_rate=0.5, n_estimators=3500, max_depth=4, min_samples_split=8, min_samples_leaf=15, score=-686010178.5399207, total=  10.2s\n",
      "[CV] learning_rate=0.5, n_estimators=3500, max_depth=4, min_samples_split=8, min_samples_leaf=15 \n",
      "[CV]  learning_rate=0.5, n_estimators=3500, max_depth=4, min_samples_split=8, min_samples_leaf=15, score=-782760320.1947434, total=  11.1s\n",
      "[CV] learning_rate=0.5, n_estimators=3500, max_depth=4, min_samples_split=8, min_samples_leaf=15 \n",
      "[CV]  learning_rate=0.5, n_estimators=3500, max_depth=4, min_samples_split=8, min_samples_leaf=15, score=-809117762.9377793, total=   9.6s\n",
      "[CV] learning_rate=0.5, n_estimators=3500, max_depth=4, min_samples_split=8, min_samples_leaf=15 \n",
      "[CV]  learning_rate=0.5, n_estimators=3500, max_depth=4, min_samples_split=8, min_samples_leaf=15, score=-1074586091.8958945, total=   9.7s\n",
      "[CV] learning_rate=0.5, n_estimators=3000, max_depth=4, min_samples_split=8, min_samples_leaf=15 \n",
      "[CV]  learning_rate=0.5, n_estimators=3000, max_depth=4, min_samples_split=8, min_samples_leaf=15, score=-678347147.4513953, total=   8.2s\n",
      "[CV] learning_rate=0.5, n_estimators=3000, max_depth=4, min_samples_split=8, min_samples_leaf=15 \n",
      "[CV]  learning_rate=0.5, n_estimators=3000, max_depth=4, min_samples_split=8, min_samples_leaf=15, score=-1115291379.1037138, total=   9.5s\n",
      "[CV] learning_rate=0.5, n_estimators=3000, max_depth=4, min_samples_split=8, min_samples_leaf=15 \n",
      "[CV]  learning_rate=0.5, n_estimators=3000, max_depth=4, min_samples_split=8, min_samples_leaf=15, score=-987125244.4763079, total=   8.5s\n",
      "[CV] learning_rate=0.5, n_estimators=3000, max_depth=4, min_samples_split=8, min_samples_leaf=15 \n",
      "[CV]  learning_rate=0.5, n_estimators=3000, max_depth=4, min_samples_split=8, min_samples_leaf=15, score=-1062747069.2530944, total=   9.1s\n",
      "[CV] learning_rate=0.5, n_estimators=3000, max_depth=4, min_samples_split=8, min_samples_leaf=15 \n",
      "[CV]  learning_rate=0.5, n_estimators=3000, max_depth=4, min_samples_split=8, min_samples_leaf=15, score=-882078969.129856, total=   8.9s\n",
      "[CV] learning_rate=0.5, n_estimators=3000, max_depth=4, min_samples_split=8, min_samples_leaf=15 \n",
      "[CV]  learning_rate=0.5, n_estimators=3000, max_depth=4, min_samples_split=8, min_samples_leaf=15, score=-923726592.7303579, total=  10.3s\n",
      "[CV] learning_rate=0.5, n_estimators=3000, max_depth=4, min_samples_split=8, min_samples_leaf=15 \n",
      "[CV]  learning_rate=0.5, n_estimators=3000, max_depth=4, min_samples_split=8, min_samples_leaf=15, score=-648851659.7542739, total=  10.6s\n",
      "[CV] learning_rate=0.5, n_estimators=3000, max_depth=4, min_samples_split=8, min_samples_leaf=15 \n",
      "[CV]  learning_rate=0.5, n_estimators=3000, max_depth=4, min_samples_split=8, min_samples_leaf=15, score=-728569343.0966736, total=   8.7s\n",
      "[CV] learning_rate=0.5, n_estimators=3000, max_depth=4, min_samples_split=8, min_samples_leaf=15 \n",
      "[CV]  learning_rate=0.5, n_estimators=3000, max_depth=4, min_samples_split=8, min_samples_leaf=15, score=-635770667.616265, total=   8.5s\n",
      "[CV] learning_rate=0.5, n_estimators=3000, max_depth=4, min_samples_split=8, min_samples_leaf=15 \n",
      "[CV]  learning_rate=0.5, n_estimators=3000, max_depth=4, min_samples_split=8, min_samples_leaf=15, score=-841489845.334444, total=   9.5s\n",
      "[CV] learning_rate=0.5, n_estimators=3500, max_depth=4, min_samples_split=10, min_samples_leaf=10 \n",
      "[CV]  learning_rate=0.5, n_estimators=3500, max_depth=4, min_samples_split=10, min_samples_leaf=10, score=-877297806.4960719, total=  12.7s\n",
      "[CV] learning_rate=0.5, n_estimators=3500, max_depth=4, min_samples_split=10, min_samples_leaf=10 \n",
      "[CV]  learning_rate=0.5, n_estimators=3500, max_depth=4, min_samples_split=10, min_samples_leaf=10, score=-1071707649.9294634, total=  14.9s\n",
      "[CV] learning_rate=0.5, n_estimators=3500, max_depth=4, min_samples_split=10, min_samples_leaf=10 \n",
      "[CV]  learning_rate=0.5, n_estimators=3500, max_depth=4, min_samples_split=10, min_samples_leaf=10, score=-880248150.2561182, total=  13.5s\n",
      "[CV] learning_rate=0.5, n_estimators=3500, max_depth=4, min_samples_split=10, min_samples_leaf=10 \n",
      "[CV]  learning_rate=0.5, n_estimators=3500, max_depth=4, min_samples_split=10, min_samples_leaf=10, score=-1028312923.77079, total=  11.4s\n",
      "[CV] learning_rate=0.5, n_estimators=3500, max_depth=4, min_samples_split=10, min_samples_leaf=10 \n",
      "[CV]  learning_rate=0.5, n_estimators=3500, max_depth=4, min_samples_split=10, min_samples_leaf=10, score=-1045129964.0380784, total=  11.8s\n",
      "[CV] learning_rate=0.5, n_estimators=3500, max_depth=4, min_samples_split=10, min_samples_leaf=10 \n",
      "[CV]  learning_rate=0.5, n_estimators=3500, max_depth=4, min_samples_split=10, min_samples_leaf=10, score=-786507803.6016122, total=  17.9s\n",
      "[CV] learning_rate=0.5, n_estimators=3500, max_depth=4, min_samples_split=10, min_samples_leaf=10 \n",
      "[CV]  learning_rate=0.5, n_estimators=3500, max_depth=4, min_samples_split=10, min_samples_leaf=10, score=-680273914.495274, total=  12.7s\n",
      "[CV] learning_rate=0.5, n_estimators=3500, max_depth=4, min_samples_split=10, min_samples_leaf=10 \n",
      "[CV]  learning_rate=0.5, n_estimators=3500, max_depth=4, min_samples_split=10, min_samples_leaf=10, score=-821076362.8191284, total=  15.4s\n",
      "[CV] learning_rate=0.5, n_estimators=3500, max_depth=4, min_samples_split=10, min_samples_leaf=10 \n",
      "[CV]  learning_rate=0.5, n_estimators=3500, max_depth=4, min_samples_split=10, min_samples_leaf=10, score=-844534629.0122701, total=  11.0s\n",
      "[CV] learning_rate=0.5, n_estimators=3500, max_depth=4, min_samples_split=10, min_samples_leaf=10 \n",
      "[CV]  learning_rate=0.5, n_estimators=3500, max_depth=4, min_samples_split=10, min_samples_leaf=10, score=-903897473.6509355, total=  11.4s\n",
      "[CV] learning_rate=0.5, n_estimators=3000, max_depth=4, min_samples_split=10, min_samples_leaf=10 \n",
      "[CV]  learning_rate=0.5, n_estimators=3000, max_depth=4, min_samples_split=10, min_samples_leaf=10, score=-748481145.6969193, total=  10.6s\n",
      "[CV] learning_rate=0.5, n_estimators=3000, max_depth=4, min_samples_split=10, min_samples_leaf=10 \n",
      "[CV]  learning_rate=0.5, n_estimators=3000, max_depth=4, min_samples_split=10, min_samples_leaf=10, score=-965573643.2829323, total=   9.9s\n",
      "[CV] learning_rate=0.5, n_estimators=3000, max_depth=4, min_samples_split=10, min_samples_leaf=10 \n",
      "[CV]  learning_rate=0.5, n_estimators=3000, max_depth=4, min_samples_split=10, min_samples_leaf=10, score=-1021600094.7588121, total=   8.5s\n",
      "[CV] learning_rate=0.5, n_estimators=3000, max_depth=4, min_samples_split=10, min_samples_leaf=10 \n",
      "[CV]  learning_rate=0.5, n_estimators=3000, max_depth=4, min_samples_split=10, min_samples_leaf=10, score=-896166716.0710374, total=  11.7s\n",
      "[CV] learning_rate=0.5, n_estimators=3000, max_depth=4, min_samples_split=10, min_samples_leaf=10 \n",
      "[CV]  learning_rate=0.5, n_estimators=3000, max_depth=4, min_samples_split=10, min_samples_leaf=10, score=-998114719.6229781, total=  11.9s\n",
      "[CV] learning_rate=0.5, n_estimators=3000, max_depth=4, min_samples_split=10, min_samples_leaf=10 \n",
      "[CV]  learning_rate=0.5, n_estimators=3000, max_depth=4, min_samples_split=10, min_samples_leaf=10, score=-825772932.5232049, total=  13.6s\n",
      "[CV] learning_rate=0.5, n_estimators=3000, max_depth=4, min_samples_split=10, min_samples_leaf=10 \n",
      "[CV]  learning_rate=0.5, n_estimators=3000, max_depth=4, min_samples_split=10, min_samples_leaf=10, score=-631793250.1302408, total=  12.8s\n",
      "[CV] learning_rate=0.5, n_estimators=3000, max_depth=4, min_samples_split=10, min_samples_leaf=10 \n",
      "[CV]  learning_rate=0.5, n_estimators=3000, max_depth=4, min_samples_split=10, min_samples_leaf=10, score=-599530732.7907106, total=  12.2s\n",
      "[CV] learning_rate=0.5, n_estimators=3000, max_depth=4, min_samples_split=10, min_samples_leaf=10 \n",
      "[CV]  learning_rate=0.5, n_estimators=3000, max_depth=4, min_samples_split=10, min_samples_leaf=10, score=-571733807.1619107, total=   9.5s\n",
      "[CV] learning_rate=0.5, n_estimators=3000, max_depth=4, min_samples_split=10, min_samples_leaf=10 \n"
     ]
    },
    {
     "name": "stdout",
     "output_type": "stream",
     "text": [
      "[CV]  learning_rate=0.5, n_estimators=3000, max_depth=4, min_samples_split=10, min_samples_leaf=10, score=-920957213.8871081, total=   8.7s\n",
      "[CV] learning_rate=0.5, n_estimators=3500, max_depth=4, min_samples_split=8, min_samples_leaf=10 \n",
      "[CV]  learning_rate=0.5, n_estimators=3500, max_depth=4, min_samples_split=8, min_samples_leaf=10, score=-889074493.1965642, total=  10.1s\n",
      "[CV] learning_rate=0.5, n_estimators=3500, max_depth=4, min_samples_split=8, min_samples_leaf=10 \n",
      "[CV]  learning_rate=0.5, n_estimators=3500, max_depth=4, min_samples_split=8, min_samples_leaf=10, score=-1090216694.9949126, total=  11.2s\n",
      "[CV] learning_rate=0.5, n_estimators=3500, max_depth=4, min_samples_split=8, min_samples_leaf=10 \n",
      "[CV]  learning_rate=0.5, n_estimators=3500, max_depth=4, min_samples_split=8, min_samples_leaf=10, score=-899007564.10534, total=  11.1s\n",
      "[CV] learning_rate=0.5, n_estimators=3500, max_depth=4, min_samples_split=8, min_samples_leaf=10 \n",
      "[CV]  learning_rate=0.5, n_estimators=3500, max_depth=4, min_samples_split=8, min_samples_leaf=10, score=-720501753.6942896, total=  10.6s\n",
      "[CV] learning_rate=0.5, n_estimators=3500, max_depth=4, min_samples_split=8, min_samples_leaf=10 \n",
      "[CV]  learning_rate=0.5, n_estimators=3500, max_depth=4, min_samples_split=8, min_samples_leaf=10, score=-921792245.3854152, total=  10.4s\n",
      "[CV] learning_rate=0.5, n_estimators=3500, max_depth=4, min_samples_split=8, min_samples_leaf=10 \n",
      "[CV]  learning_rate=0.5, n_estimators=3500, max_depth=4, min_samples_split=8, min_samples_leaf=10, score=-963242511.3022431, total=  11.6s\n",
      "[CV] learning_rate=0.5, n_estimators=3500, max_depth=4, min_samples_split=8, min_samples_leaf=10 \n",
      "[CV]  learning_rate=0.5, n_estimators=3500, max_depth=4, min_samples_split=8, min_samples_leaf=10, score=-589417511.5034548, total=  11.5s\n",
      "[CV] learning_rate=0.5, n_estimators=3500, max_depth=4, min_samples_split=8, min_samples_leaf=10 \n",
      "[CV]  learning_rate=0.5, n_estimators=3500, max_depth=4, min_samples_split=8, min_samples_leaf=10, score=-849961807.2740418, total=  10.3s\n",
      "[CV] learning_rate=0.5, n_estimators=3500, max_depth=4, min_samples_split=8, min_samples_leaf=10 \n",
      "[CV]  learning_rate=0.5, n_estimators=3500, max_depth=4, min_samples_split=8, min_samples_leaf=10, score=-833636382.5512841, total=  12.6s\n",
      "[CV] learning_rate=0.5, n_estimators=3500, max_depth=4, min_samples_split=8, min_samples_leaf=10 \n",
      "[CV]  learning_rate=0.5, n_estimators=3500, max_depth=4, min_samples_split=8, min_samples_leaf=10, score=-1054774709.5093434, total=  11.2s\n",
      "[CV] learning_rate=0.5, n_estimators=3000, max_depth=4, min_samples_split=8, min_samples_leaf=10 \n",
      "[CV]  learning_rate=0.5, n_estimators=3000, max_depth=4, min_samples_split=8, min_samples_leaf=10, score=-789677122.689855, total=   8.6s\n",
      "[CV] learning_rate=0.5, n_estimators=3000, max_depth=4, min_samples_split=8, min_samples_leaf=10 \n",
      "[CV]  learning_rate=0.5, n_estimators=3000, max_depth=4, min_samples_split=8, min_samples_leaf=10, score=-983883566.758336, total=   9.0s\n",
      "[CV] learning_rate=0.5, n_estimators=3000, max_depth=4, min_samples_split=8, min_samples_leaf=10 \n",
      "[CV]  learning_rate=0.5, n_estimators=3000, max_depth=4, min_samples_split=8, min_samples_leaf=10, score=-994677399.9672652, total=   8.7s\n",
      "[CV] learning_rate=0.5, n_estimators=3000, max_depth=4, min_samples_split=8, min_samples_leaf=10 \n",
      "[CV]  learning_rate=0.5, n_estimators=3000, max_depth=4, min_samples_split=8, min_samples_leaf=10, score=-942123642.3188696, total=   8.4s\n",
      "[CV] learning_rate=0.5, n_estimators=3000, max_depth=4, min_samples_split=8, min_samples_leaf=10 \n",
      "[CV]  learning_rate=0.5, n_estimators=3000, max_depth=4, min_samples_split=8, min_samples_leaf=10, score=-859267339.932727, total=   9.1s\n",
      "[CV] learning_rate=0.5, n_estimators=3000, max_depth=4, min_samples_split=8, min_samples_leaf=10 \n",
      "[CV]  learning_rate=0.5, n_estimators=3000, max_depth=4, min_samples_split=8, min_samples_leaf=10, score=-811760456.7082677, total=   8.6s\n",
      "[CV] learning_rate=0.5, n_estimators=3000, max_depth=4, min_samples_split=8, min_samples_leaf=10 \n",
      "[CV]  learning_rate=0.5, n_estimators=3000, max_depth=4, min_samples_split=8, min_samples_leaf=10, score=-718039136.9286038, total=   9.4s\n",
      "[CV] learning_rate=0.5, n_estimators=3000, max_depth=4, min_samples_split=8, min_samples_leaf=10 \n",
      "[CV]  learning_rate=0.5, n_estimators=3000, max_depth=4, min_samples_split=8, min_samples_leaf=10, score=-692168324.196268, total=   9.4s\n",
      "[CV] learning_rate=0.5, n_estimators=3000, max_depth=4, min_samples_split=8, min_samples_leaf=10 \n",
      "[CV]  learning_rate=0.5, n_estimators=3000, max_depth=4, min_samples_split=8, min_samples_leaf=10, score=-811396331.3226565, total=   9.4s\n",
      "[CV] learning_rate=0.5, n_estimators=3000, max_depth=4, min_samples_split=8, min_samples_leaf=10 \n",
      "[CV]  learning_rate=0.5, n_estimators=3000, max_depth=4, min_samples_split=8, min_samples_leaf=10, score=-1049633833.8760381, total=  10.5s\n",
      "[CV] learning_rate=0.5, n_estimators=3500, max_depth=6, min_samples_split=10, min_samples_leaf=15 \n",
      "[CV]  learning_rate=0.5, n_estimators=3500, max_depth=6, min_samples_split=10, min_samples_leaf=15, score=-606061556.9764748, total=  15.5s\n",
      "[CV] learning_rate=0.5, n_estimators=3500, max_depth=6, min_samples_split=10, min_samples_leaf=15 \n",
      "[CV]  learning_rate=0.5, n_estimators=3500, max_depth=6, min_samples_split=10, min_samples_leaf=15, score=-911613155.1333555, total=  15.1s\n",
      "[CV] learning_rate=0.5, n_estimators=3500, max_depth=6, min_samples_split=10, min_samples_leaf=15 \n",
      "[CV]  learning_rate=0.5, n_estimators=3500, max_depth=6, min_samples_split=10, min_samples_leaf=15, score=-848863827.7402594, total=  17.6s\n",
      "[CV] learning_rate=0.5, n_estimators=3500, max_depth=6, min_samples_split=10, min_samples_leaf=15 \n",
      "[CV]  learning_rate=0.5, n_estimators=3500, max_depth=6, min_samples_split=10, min_samples_leaf=15, score=-1059788757.7431887, total=  15.4s\n",
      "[CV] learning_rate=0.5, n_estimators=3500, max_depth=6, min_samples_split=10, min_samples_leaf=15 \n",
      "[CV]  learning_rate=0.5, n_estimators=3500, max_depth=6, min_samples_split=10, min_samples_leaf=15, score=-863106337.9885929, total=  14.1s\n",
      "[CV] learning_rate=0.5, n_estimators=3500, max_depth=6, min_samples_split=10, min_samples_leaf=15 \n",
      "[CV]  learning_rate=0.5, n_estimators=3500, max_depth=6, min_samples_split=10, min_samples_leaf=15, score=-964490507.801279, total=  14.7s\n",
      "[CV] learning_rate=0.5, n_estimators=3500, max_depth=6, min_samples_split=10, min_samples_leaf=15 \n",
      "[CV]  learning_rate=0.5, n_estimators=3500, max_depth=6, min_samples_split=10, min_samples_leaf=15, score=-614884866.6066747, total=  16.1s\n",
      "[CV] learning_rate=0.5, n_estimators=3500, max_depth=6, min_samples_split=10, min_samples_leaf=15 \n",
      "[CV]  learning_rate=0.5, n_estimators=3500, max_depth=6, min_samples_split=10, min_samples_leaf=15, score=-742439764.5209159, total=  18.0s\n",
      "[CV] learning_rate=0.5, n_estimators=3500, max_depth=6, min_samples_split=10, min_samples_leaf=15 \n",
      "[CV]  learning_rate=0.5, n_estimators=3500, max_depth=6, min_samples_split=10, min_samples_leaf=15, score=-1102207389.4758346, total=  18.8s\n",
      "[CV] learning_rate=0.5, n_estimators=3500, max_depth=6, min_samples_split=10, min_samples_leaf=15 \n",
      "[CV]  learning_rate=0.5, n_estimators=3500, max_depth=6, min_samples_split=10, min_samples_leaf=15, score=-1011283893.5585517, total=  23.2s\n",
      "[CV] learning_rate=0.5, n_estimators=3000, max_depth=6, min_samples_split=10, min_samples_leaf=15 \n",
      "[CV]  learning_rate=0.5, n_estimators=3000, max_depth=6, min_samples_split=10, min_samples_leaf=15, score=-935520562.9523407, total=  13.7s\n",
      "[CV] learning_rate=0.5, n_estimators=3000, max_depth=6, min_samples_split=10, min_samples_leaf=15 \n",
      "[CV]  learning_rate=0.5, n_estimators=3000, max_depth=6, min_samples_split=10, min_samples_leaf=15, score=-1148796636.945237, total=  15.6s\n",
      "[CV] learning_rate=0.5, n_estimators=3000, max_depth=6, min_samples_split=10, min_samples_leaf=15 \n",
      "[CV]  learning_rate=0.5, n_estimators=3000, max_depth=6, min_samples_split=10, min_samples_leaf=15, score=-1058015038.1577063, total=  14.9s\n",
      "[CV] learning_rate=0.5, n_estimators=3000, max_depth=6, min_samples_split=10, min_samples_leaf=15 \n",
      "[CV]  learning_rate=0.5, n_estimators=3000, max_depth=6, min_samples_split=10, min_samples_leaf=15, score=-1068452672.6089649, total=  12.7s\n",
      "[CV] learning_rate=0.5, n_estimators=3000, max_depth=6, min_samples_split=10, min_samples_leaf=15 \n"
     ]
    },
    {
     "name": "stdout",
     "output_type": "stream",
     "text": [
      "[CV]  learning_rate=0.5, n_estimators=3000, max_depth=6, min_samples_split=10, min_samples_leaf=15, score=-853652571.1103797, total=  15.1s\n",
      "[CV] learning_rate=0.5, n_estimators=3000, max_depth=6, min_samples_split=10, min_samples_leaf=15 \n",
      "[CV]  learning_rate=0.5, n_estimators=3000, max_depth=6, min_samples_split=10, min_samples_leaf=15, score=-842463700.5923148, total=  13.7s\n",
      "[CV] learning_rate=0.5, n_estimators=3000, max_depth=6, min_samples_split=10, min_samples_leaf=15 \n",
      "[CV]  learning_rate=0.5, n_estimators=3000, max_depth=6, min_samples_split=10, min_samples_leaf=15, score=-647353277.9971142, total=  12.5s\n",
      "[CV] learning_rate=0.5, n_estimators=3000, max_depth=6, min_samples_split=10, min_samples_leaf=15 \n",
      "[CV]  learning_rate=0.5, n_estimators=3000, max_depth=6, min_samples_split=10, min_samples_leaf=15, score=-747988465.239331, total=  12.9s\n",
      "[CV] learning_rate=0.5, n_estimators=3000, max_depth=6, min_samples_split=10, min_samples_leaf=15 \n",
      "[CV]  learning_rate=0.5, n_estimators=3000, max_depth=6, min_samples_split=10, min_samples_leaf=15, score=-800831139.2002939, total=  15.7s\n",
      "[CV] learning_rate=0.5, n_estimators=3000, max_depth=6, min_samples_split=10, min_samples_leaf=15 \n",
      "[CV]  learning_rate=0.5, n_estimators=3000, max_depth=6, min_samples_split=10, min_samples_leaf=15, score=-1202477118.003442, total=  12.8s\n",
      "[CV] learning_rate=0.5, n_estimators=3500, max_depth=6, min_samples_split=8, min_samples_leaf=15 \n",
      "[CV]  learning_rate=0.5, n_estimators=3500, max_depth=6, min_samples_split=8, min_samples_leaf=15, score=-924878873.8023586, total=  15.6s\n",
      "[CV] learning_rate=0.5, n_estimators=3500, max_depth=6, min_samples_split=8, min_samples_leaf=15 \n",
      "[CV]  learning_rate=0.5, n_estimators=3500, max_depth=6, min_samples_split=8, min_samples_leaf=15, score=-1185853464.348004, total=  13.2s\n",
      "[CV] learning_rate=0.5, n_estimators=3500, max_depth=6, min_samples_split=8, min_samples_leaf=15 \n",
      "[CV]  learning_rate=0.5, n_estimators=3500, max_depth=6, min_samples_split=8, min_samples_leaf=15, score=-806226064.9490563, total=  12.4s\n",
      "[CV] learning_rate=0.5, n_estimators=3500, max_depth=6, min_samples_split=8, min_samples_leaf=15 \n",
      "[CV]  learning_rate=0.5, n_estimators=3500, max_depth=6, min_samples_split=8, min_samples_leaf=15, score=-834135534.1733043, total=  13.8s\n",
      "[CV] learning_rate=0.5, n_estimators=3500, max_depth=6, min_samples_split=8, min_samples_leaf=15 \n",
      "[CV]  learning_rate=0.5, n_estimators=3500, max_depth=6, min_samples_split=8, min_samples_leaf=15, score=-1177033981.8026834, total=  14.9s\n",
      "[CV] learning_rate=0.5, n_estimators=3500, max_depth=6, min_samples_split=8, min_samples_leaf=15 \n",
      "[CV]  learning_rate=0.5, n_estimators=3500, max_depth=6, min_samples_split=8, min_samples_leaf=15, score=-898475563.1903653, total=  13.8s\n",
      "[CV] learning_rate=0.5, n_estimators=3500, max_depth=6, min_samples_split=8, min_samples_leaf=15 \n",
      "[CV]  learning_rate=0.5, n_estimators=3500, max_depth=6, min_samples_split=8, min_samples_leaf=15, score=-639570833.3690499, total=  21.0s\n",
      "[CV] learning_rate=0.5, n_estimators=3500, max_depth=6, min_samples_split=8, min_samples_leaf=15 \n",
      "[CV]  learning_rate=0.5, n_estimators=3500, max_depth=6, min_samples_split=8, min_samples_leaf=15, score=-593025014.0516099, total=  18.5s\n",
      "[CV] learning_rate=0.5, n_estimators=3500, max_depth=6, min_samples_split=8, min_samples_leaf=15 \n",
      "[CV]  learning_rate=0.5, n_estimators=3500, max_depth=6, min_samples_split=8, min_samples_leaf=15, score=-824864421.0983909, total=  17.8s\n",
      "[CV] learning_rate=0.5, n_estimators=3500, max_depth=6, min_samples_split=8, min_samples_leaf=15 \n",
      "[CV]  learning_rate=0.5, n_estimators=3500, max_depth=6, min_samples_split=8, min_samples_leaf=15, score=-1007632780.527835, total=  16.9s\n",
      "[CV] learning_rate=0.5, n_estimators=3000, max_depth=6, min_samples_split=8, min_samples_leaf=15 \n",
      "[CV]  learning_rate=0.5, n_estimators=3000, max_depth=6, min_samples_split=8, min_samples_leaf=15, score=-715529962.6016876, total=  14.6s\n",
      "[CV] learning_rate=0.5, n_estimators=3000, max_depth=6, min_samples_split=8, min_samples_leaf=15 \n",
      "[CV]  learning_rate=0.5, n_estimators=3000, max_depth=6, min_samples_split=8, min_samples_leaf=15, score=-1090662805.8008735, total=  12.0s\n",
      "[CV] learning_rate=0.5, n_estimators=3000, max_depth=6, min_samples_split=8, min_samples_leaf=15 \n",
      "[CV]  learning_rate=0.5, n_estimators=3000, max_depth=6, min_samples_split=8, min_samples_leaf=15, score=-930941088.2995664, total=  12.5s\n",
      "[CV] learning_rate=0.5, n_estimators=3000, max_depth=6, min_samples_split=8, min_samples_leaf=15 \n",
      "[CV]  learning_rate=0.5, n_estimators=3000, max_depth=6, min_samples_split=8, min_samples_leaf=15, score=-1052385614.8440343, total=  12.8s\n",
      "[CV] learning_rate=0.5, n_estimators=3000, max_depth=6, min_samples_split=8, min_samples_leaf=15 \n",
      "[CV]  learning_rate=0.5, n_estimators=3000, max_depth=6, min_samples_split=8, min_samples_leaf=15, score=-967505187.5891185, total=  12.7s\n",
      "[CV] learning_rate=0.5, n_estimators=3000, max_depth=6, min_samples_split=8, min_samples_leaf=15 \n",
      "[CV]  learning_rate=0.5, n_estimators=3000, max_depth=6, min_samples_split=8, min_samples_leaf=15, score=-784647208.105266, total=  17.6s\n",
      "[CV] learning_rate=0.5, n_estimators=3000, max_depth=6, min_samples_split=8, min_samples_leaf=15 \n",
      "[CV]  learning_rate=0.5, n_estimators=3000, max_depth=6, min_samples_split=8, min_samples_leaf=15, score=-734933454.1761708, total=  11.7s\n",
      "[CV] learning_rate=0.5, n_estimators=3000, max_depth=6, min_samples_split=8, min_samples_leaf=15 \n",
      "[CV]  learning_rate=0.5, n_estimators=3000, max_depth=6, min_samples_split=8, min_samples_leaf=15, score=-695051227.6617544, total=  12.0s\n",
      "[CV] learning_rate=0.5, n_estimators=3000, max_depth=6, min_samples_split=8, min_samples_leaf=15 \n",
      "[CV]  learning_rate=0.5, n_estimators=3000, max_depth=6, min_samples_split=8, min_samples_leaf=15, score=-873624754.0785812, total=  14.0s\n",
      "[CV] learning_rate=0.5, n_estimators=3000, max_depth=6, min_samples_split=8, min_samples_leaf=15 \n",
      "[CV]  learning_rate=0.5, n_estimators=3000, max_depth=6, min_samples_split=8, min_samples_leaf=15, score=-1066130262.9337562, total=  15.7s\n",
      "[CV] learning_rate=0.5, n_estimators=3500, max_depth=6, min_samples_split=10, min_samples_leaf=10 \n",
      "[CV]  learning_rate=0.5, n_estimators=3500, max_depth=6, min_samples_split=10, min_samples_leaf=10, score=-848352113.8003646, total=  13.8s\n",
      "[CV] learning_rate=0.5, n_estimators=3500, max_depth=6, min_samples_split=10, min_samples_leaf=10 \n",
      "[CV]  learning_rate=0.5, n_estimators=3500, max_depth=6, min_samples_split=10, min_samples_leaf=10, score=-1184613031.8581553, total=  18.0s\n",
      "[CV] learning_rate=0.5, n_estimators=3500, max_depth=6, min_samples_split=10, min_samples_leaf=10 \n",
      "[CV]  learning_rate=0.5, n_estimators=3500, max_depth=6, min_samples_split=10, min_samples_leaf=10, score=-935650505.9374262, total=  15.0s\n",
      "[CV] learning_rate=0.5, n_estimators=3500, max_depth=6, min_samples_split=10, min_samples_leaf=10 \n",
      "[CV]  learning_rate=0.5, n_estimators=3500, max_depth=6, min_samples_split=10, min_samples_leaf=10, score=-1133241578.3246589, total=  17.0s\n",
      "[CV] learning_rate=0.5, n_estimators=3500, max_depth=6, min_samples_split=10, min_samples_leaf=10 \n",
      "[CV]  learning_rate=0.5, n_estimators=3500, max_depth=6, min_samples_split=10, min_samples_leaf=10, score=-947894024.029541, total=  17.0s\n",
      "[CV] learning_rate=0.5, n_estimators=3500, max_depth=6, min_samples_split=10, min_samples_leaf=10 \n",
      "[CV]  learning_rate=0.5, n_estimators=3500, max_depth=6, min_samples_split=10, min_samples_leaf=10, score=-868059198.9398206, total=  17.6s\n",
      "[CV] learning_rate=0.5, n_estimators=3500, max_depth=6, min_samples_split=10, min_samples_leaf=10 \n",
      "[CV]  learning_rate=0.5, n_estimators=3500, max_depth=6, min_samples_split=10, min_samples_leaf=10, score=-575015812.0481791, total=  20.0s\n",
      "[CV] learning_rate=0.5, n_estimators=3500, max_depth=6, min_samples_split=10, min_samples_leaf=10 \n",
      "[CV]  learning_rate=0.5, n_estimators=3500, max_depth=6, min_samples_split=10, min_samples_leaf=10, score=-682042029.1298096, total=  14.4s\n",
      "[CV] learning_rate=0.5, n_estimators=3500, max_depth=6, min_samples_split=10, min_samples_leaf=10 \n",
      "[CV]  learning_rate=0.5, n_estimators=3500, max_depth=6, min_samples_split=10, min_samples_leaf=10, score=-830815930.6710302, total=  19.4s\n",
      "[CV] learning_rate=0.5, n_estimators=3500, max_depth=6, min_samples_split=10, min_samples_leaf=10 \n"
     ]
    },
    {
     "name": "stdout",
     "output_type": "stream",
     "text": [
      "[CV]  learning_rate=0.5, n_estimators=3500, max_depth=6, min_samples_split=10, min_samples_leaf=10, score=-1182786591.5008337, total=  14.3s\n",
      "[CV] learning_rate=0.5, n_estimators=3000, max_depth=6, min_samples_split=10, min_samples_leaf=10 \n",
      "[CV]  learning_rate=0.5, n_estimators=3000, max_depth=6, min_samples_split=10, min_samples_leaf=10, score=-600042822.9071792, total=  15.4s\n",
      "[CV] learning_rate=0.5, n_estimators=3000, max_depth=6, min_samples_split=10, min_samples_leaf=10 \n",
      "[CV]  learning_rate=0.5, n_estimators=3000, max_depth=6, min_samples_split=10, min_samples_leaf=10, score=-1239926213.9415593, total=  10.9s\n",
      "[CV] learning_rate=0.5, n_estimators=3000, max_depth=6, min_samples_split=10, min_samples_leaf=10 \n",
      "[CV]  learning_rate=0.5, n_estimators=3000, max_depth=6, min_samples_split=10, min_samples_leaf=10, score=-826711609.7243687, total=  13.6s\n",
      "[CV] learning_rate=0.5, n_estimators=3000, max_depth=6, min_samples_split=10, min_samples_leaf=10 \n",
      "[CV]  learning_rate=0.5, n_estimators=3000, max_depth=6, min_samples_split=10, min_samples_leaf=10, score=-836474638.2518556, total=  13.6s\n",
      "[CV] learning_rate=0.5, n_estimators=3000, max_depth=6, min_samples_split=10, min_samples_leaf=10 \n",
      "[CV]  learning_rate=0.5, n_estimators=3000, max_depth=6, min_samples_split=10, min_samples_leaf=10, score=-934986080.7754087, total=  16.6s\n",
      "[CV] learning_rate=0.5, n_estimators=3000, max_depth=6, min_samples_split=10, min_samples_leaf=10 \n",
      "[CV]  learning_rate=0.5, n_estimators=3000, max_depth=6, min_samples_split=10, min_samples_leaf=10, score=-921713905.0014727, total=  15.8s\n",
      "[CV] learning_rate=0.5, n_estimators=3000, max_depth=6, min_samples_split=10, min_samples_leaf=10 \n",
      "[CV]  learning_rate=0.5, n_estimators=3000, max_depth=6, min_samples_split=10, min_samples_leaf=10, score=-725203569.3862195, total=  13.3s\n",
      "[CV] learning_rate=0.5, n_estimators=3000, max_depth=6, min_samples_split=10, min_samples_leaf=10 \n",
      "[CV]  learning_rate=0.5, n_estimators=3000, max_depth=6, min_samples_split=10, min_samples_leaf=10, score=-745689450.4257584, total=  18.4s\n",
      "[CV] learning_rate=0.5, n_estimators=3000, max_depth=6, min_samples_split=10, min_samples_leaf=10 \n",
      "[CV]  learning_rate=0.5, n_estimators=3000, max_depth=6, min_samples_split=10, min_samples_leaf=10, score=-817461224.9450231, total=  18.1s\n",
      "[CV] learning_rate=0.5, n_estimators=3000, max_depth=6, min_samples_split=10, min_samples_leaf=10 \n",
      "[CV]  learning_rate=0.5, n_estimators=3000, max_depth=6, min_samples_split=10, min_samples_leaf=10, score=-960053592.256139, total=  14.9s\n",
      "[CV] learning_rate=0.5, n_estimators=3500, max_depth=6, min_samples_split=8, min_samples_leaf=10 \n",
      "[CV]  learning_rate=0.5, n_estimators=3500, max_depth=6, min_samples_split=8, min_samples_leaf=10, score=-505643231.6874656, total=  12.1s\n",
      "[CV] learning_rate=0.5, n_estimators=3500, max_depth=6, min_samples_split=8, min_samples_leaf=10 \n",
      "[CV]  learning_rate=0.5, n_estimators=3500, max_depth=6, min_samples_split=8, min_samples_leaf=10, score=-1015356123.1863223, total=  17.3s\n",
      "[CV] learning_rate=0.5, n_estimators=3500, max_depth=6, min_samples_split=8, min_samples_leaf=10 \n",
      "[CV]  learning_rate=0.5, n_estimators=3500, max_depth=6, min_samples_split=8, min_samples_leaf=10, score=-810187067.282325, total=  16.2s\n",
      "[CV] learning_rate=0.5, n_estimators=3500, max_depth=6, min_samples_split=8, min_samples_leaf=10 \n",
      "[CV]  learning_rate=0.5, n_estimators=3500, max_depth=6, min_samples_split=8, min_samples_leaf=10, score=-1120970422.5641854, total=  16.4s\n",
      "[CV] learning_rate=0.5, n_estimators=3500, max_depth=6, min_samples_split=8, min_samples_leaf=10 \n",
      "[CV]  learning_rate=0.5, n_estimators=3500, max_depth=6, min_samples_split=8, min_samples_leaf=10, score=-1182384406.8059936, total=  12.6s\n",
      "[CV] learning_rate=0.5, n_estimators=3500, max_depth=6, min_samples_split=8, min_samples_leaf=10 \n",
      "[CV]  learning_rate=0.5, n_estimators=3500, max_depth=6, min_samples_split=8, min_samples_leaf=10, score=-855638470.331213, total=  16.8s\n",
      "[CV] learning_rate=0.5, n_estimators=3500, max_depth=6, min_samples_split=8, min_samples_leaf=10 \n",
      "[CV]  learning_rate=0.5, n_estimators=3500, max_depth=6, min_samples_split=8, min_samples_leaf=10, score=-651195959.0594571, total=  15.8s\n",
      "[CV] learning_rate=0.5, n_estimators=3500, max_depth=6, min_samples_split=8, min_samples_leaf=10 \n",
      "[CV]  learning_rate=0.5, n_estimators=3500, max_depth=6, min_samples_split=8, min_samples_leaf=10, score=-818083739.8661109, total=  16.8s\n",
      "[CV] learning_rate=0.5, n_estimators=3500, max_depth=6, min_samples_split=8, min_samples_leaf=10 \n",
      "[CV]  learning_rate=0.5, n_estimators=3500, max_depth=6, min_samples_split=8, min_samples_leaf=10, score=-679443037.6637552, total=  15.8s\n",
      "[CV] learning_rate=0.5, n_estimators=3500, max_depth=6, min_samples_split=8, min_samples_leaf=10 \n",
      "[CV]  learning_rate=0.5, n_estimators=3500, max_depth=6, min_samples_split=8, min_samples_leaf=10, score=-1203365235.538304, total=  16.7s\n",
      "[CV] learning_rate=0.5, n_estimators=3000, max_depth=6, min_samples_split=8, min_samples_leaf=10 \n",
      "[CV]  learning_rate=0.5, n_estimators=3000, max_depth=6, min_samples_split=8, min_samples_leaf=10, score=-732451484.0457458, total=  13.4s\n",
      "[CV] learning_rate=0.5, n_estimators=3000, max_depth=6, min_samples_split=8, min_samples_leaf=10 \n",
      "[CV]  learning_rate=0.5, n_estimators=3000, max_depth=6, min_samples_split=8, min_samples_leaf=10, score=-1057228390.8072767, total=  15.1s\n",
      "[CV] learning_rate=0.5, n_estimators=3000, max_depth=6, min_samples_split=8, min_samples_leaf=10 \n",
      "[CV]  learning_rate=0.5, n_estimators=3000, max_depth=6, min_samples_split=8, min_samples_leaf=10, score=-892128756.7000507, total=  13.9s\n",
      "[CV] learning_rate=0.5, n_estimators=3000, max_depth=6, min_samples_split=8, min_samples_leaf=10 \n",
      "[CV]  learning_rate=0.5, n_estimators=3000, max_depth=6, min_samples_split=8, min_samples_leaf=10, score=-1135286599.7330332, total=  14.5s\n",
      "[CV] learning_rate=0.5, n_estimators=3000, max_depth=6, min_samples_split=8, min_samples_leaf=10 \n",
      "[CV]  learning_rate=0.5, n_estimators=3000, max_depth=6, min_samples_split=8, min_samples_leaf=10, score=-977207156.3558885, total=  14.5s\n",
      "[CV] learning_rate=0.5, n_estimators=3000, max_depth=6, min_samples_split=8, min_samples_leaf=10 \n",
      "[CV]  learning_rate=0.5, n_estimators=3000, max_depth=6, min_samples_split=8, min_samples_leaf=10, score=-1152015592.349002, total=  14.6s\n",
      "[CV] learning_rate=0.5, n_estimators=3000, max_depth=6, min_samples_split=8, min_samples_leaf=10 \n",
      "[CV]  learning_rate=0.5, n_estimators=3000, max_depth=6, min_samples_split=8, min_samples_leaf=10, score=-703084825.5439222, total=  14.1s\n",
      "[CV] learning_rate=0.5, n_estimators=3000, max_depth=6, min_samples_split=8, min_samples_leaf=10 \n",
      "[CV]  learning_rate=0.5, n_estimators=3000, max_depth=6, min_samples_split=8, min_samples_leaf=10, score=-676672126.6898535, total=  14.2s\n",
      "[CV] learning_rate=0.5, n_estimators=3000, max_depth=6, min_samples_split=8, min_samples_leaf=10 \n",
      "[CV]  learning_rate=0.5, n_estimators=3000, max_depth=6, min_samples_split=8, min_samples_leaf=10, score=-867016963.5227116, total=  12.4s\n",
      "[CV] learning_rate=0.5, n_estimators=3000, max_depth=6, min_samples_split=8, min_samples_leaf=10 \n",
      "[CV]  learning_rate=0.5, n_estimators=3000, max_depth=6, min_samples_split=8, min_samples_leaf=10, score=-1003913764.9965837, total=  14.4s\n"
     ]
    },
    {
     "name": "stderr",
     "output_type": "stream",
     "text": [
      "[Parallel(n_jobs=1)]: Done 320 out of 320 | elapsed: 67.5min finished\n"
     ]
    },
    {
     "data": {
      "text/plain": [
       "{'learning_rate': 0.05,\n",
       " 'max_depth': 4,\n",
       " 'min_samples_leaf': 15,\n",
       " 'min_samples_split': 8,\n",
       " 'n_estimators': 3000}"
      ]
     },
     "execution_count": 19,
     "metadata": {},
     "output_type": "execute_result"
    }
   ],
   "source": [
    "#GradientBoostingRegressor (started grid searching at 1.45 pm)\n",
    "model_boost=GradientBoostingRegressor(loss='huber', max_features='sqrt')\n",
    "param_boost={ 'n_estimators':[3500, 3000], 'learning_rate':[0.05, 0.5], 'max_depth':[4, 6], 'min_samples_leaf':[15, 10], 'min_samples_split':[10, 8]}\n",
    "grid_search1(model_boost, param_boost)"
   ]
  },
  {
   "cell_type": "code",
   "execution_count": 29,
   "metadata": {
    "collapsed": true
   },
   "outputs": [],
   "source": [
    "def random_search(m, p):\n",
    "    from sklearn.model_selection import RandomizedSearchCV\n",
    "    #kf = KFold(n_folds=5, shuffle=True, random_state=42)\n",
    "    #models1 = {'Lasso': Lasso(),'Elastic Net Regression': ElasticNet(),'Kernel Ridge Regression': KernelRidge(),'Gradient Boosting Regression': GradientBoostingRegressor()}\n",
    "\n",
    "    #params1 = {'Lasso': { 'alpha': [0.0005, 0.001, 0.0003] },'Elastic Net Regression': {'alpha': [0.0005, 0.003, 0.00045] , 'l1_ratio':[.9, .5, .75]},'Kernel Ridge Regression':{ 'alpha':[0.6, 0.5, 0.35], 'kernel':'polynomial', 'degree':[2, 3], 'coef0':[0, 1.5, 2.5]},'Gradient Boosting Regression': { 'n_estimators':[3000, 2500, 1200], 'learning_rate':[0.05, 0.1, 0.004], 'max_depth':4, 'max_features':['sqrt', 'log2'],'min_samples_leaf':[15, 5, 10, 4], 'min_samples_split':[10, 5, 8], 'loss':'huber'}}\n",
    " \n",
    "    rs = RandomizedSearchCV(m, p, n_iter=50, scoring=\"neg_mean_squared_error\", refit=True)\n",
    "    rs.fit(X, y)\n",
    "    return rs.best_params_"
   ]
  },
  {
   "cell_type": "code",
   "execution_count": 30,
   "metadata": {},
   "outputs": [
    {
     "data": {
      "text/plain": [
       "{'colsample_bytree': 0.4,\n",
       " 'gamma': 0.5,\n",
       " 'learning_rate': 0.05,\n",
       " 'max_depth': 8,\n",
       " 'min_child_weight': 5,\n",
       " 'n_estimators': 3500,\n",
       " 'reg_alpha': 0.9,\n",
       " 'reg_lambda': 1.5,\n",
       " 'subsample': 0.6}"
      ]
     },
     "execution_count": 30,
     "metadata": {},
     "output_type": "execute_result"
    }
   ],
   "source": [
    "#XGBoost : started at 4.29 till 6.49 didn't stop\n",
    "#so trying RandomizedSearchCV at 6.50 now let me see! and done at 6.51\n",
    "#at 6.54 and checked at 7pm Whoa!\n",
    "# 19\n",
    "\n",
    "# 16*3*2*2*2*2 = 16*16*3*19\n",
    "# 14592\n",
    "\n",
    "\n",
    "    \n",
    "model_xg=xgb.XGBRegressor(objective='reg:linear',silent=True, nthread=-1)\n",
    "param_xg={'min_child_weight': [5, 3],'gamma': [0.5, 0.04, 0.05],'subsample': [0.6, 0.8],'colsample_bytree': [0.8, 0.4, 0.6],'max_depth': [3, 4, 6, 8],'learning_rate':[0.05,0.021,0.5],'n_estimators':[2500, 1800, 3500],'reg_alpha':[0.4, 0.9, 1.0], 'reg_lambda':[0.9, 1.5, 0.6]}\n",
    "random_search(model_xg, param_xg)"
   ]
  },
  {
   "cell_type": "code",
   "execution_count": null,
   "metadata": {
    "collapsed": true
   },
   "outputs": [],
   "source": [
    "10 iterations:    \n",
    "{'colsample_bytree': 0.6,\n",
    " 'gamma': 0.04,\n",
    " 'learning_rate': 0.021,\n",
    " 'max_depth': 4,\n",
    " 'min_child_weight': 5,\n",
    " 'n_estimators': 1800,\n",
    " 'reg_alpha': 1.0,\n",
    " 'reg_lambda': 0.6,\n",
    " 'subsample': 0.8}\n",
    "\n",
    "50 iterations:\n",
    "{'colsample_bytree': 0.4,\n",
    " 'gamma': 0.5,\n",
    " 'learning_rate': 0.021,\n",
    " 'max_depth': 3,\n",
    " 'min_child_weight': 5,\n",
    " 'n_estimators': 2500,\n",
    " 'reg_alpha': 0.4,\n",
    " 'reg_lambda': 0.9,\n",
    " 'subsample': 0.6}\n",
    "\n",
    "50 iterations and nthread=-1:\n",
    "{'colsample_bytree': 0.4,\n",
    " 'gamma': 0.5,\n",
    " 'learning_rate': 0.05,\n",
    " 'max_depth': 8,\n",
    " 'min_child_weight': 5,\n",
    " 'n_estimators': 3500,\n",
    " 'reg_alpha': 0.9,\n",
    " 'reg_lambda': 1.5,\n",
    " 'subsample': 0.6}"
   ]
  },
  {
   "cell_type": "code",
   "execution_count": null,
   "metadata": {
    "collapsed": true
   },
   "outputs": [],
   "source": [
    "XGBoost :\n",
    "# param = {'max_depth': 2, 'eta': 1, 'silent': 1, 'objective': 'binary:logistic'}\n",
    "# param['nthread'] = 4\n",
    "# param['eval_metric'] = 'auc'\n",
    "\n",
    "#params = {'min_child_weight': [2, 5, 3],'gamma': [0.5, 0.04, 1.5],'subsample': [0.6, 0.8, 1.0],'colsample_bytree': [0.6, 0.8, 1.0, 0.4],'max_depth': [3, 4, 5],'learning_rate':[0.05, 0.005, 0.1],'n_estimators':[2200, 1500],'reg_alpha':[0.4, 0.6, 1.5], 'reg_lambda':[0.9, 1.5, 3]}"
   ]
  },
  {
   "cell_type": "code",
   "execution_count": null,
   "metadata": {
    "collapsed": true
   },
   "outputs": [],
   "source": [
    "LightGBM :\n",
    "#gridParams = {'learning_rate': [0.05, 0.5, 0.02], 'n_estimators': [800, 1000, 750], 'num_leaves': [5,6,8],'max_depth': [4, 5],'max_bin':[50, 40, 30],'min_data_in_leaf':[6, 10, 15],'min_sum_hessian_in_leaf':[11, 9, 15],'bagging_fraction':[0.5, 0.8, 1.0], 'bagging_freq': [3, 5]}\n",
    "\n"
   ]
  },
  {
   "cell_type": "code",
   "execution_count": null,
   "metadata": {
    "collapsed": true
   },
   "outputs": [],
   "source": [
    "def random_search(m, p):\n",
    "    from sklearn.model_selection import RandomizedSearchCV\n",
    "    kf = KFold(n_folds=5, shuffle=True, random_state=42)\n",
    "    #models1 = {'Lasso': Lasso(),'Elastic Net Regression': ElasticNet(),'Kernel Ridge Regression': KernelRidge(),'Gradient Boosting Regression': GradientBoostingRegressor()}\n",
    "\n",
    "    #params1 = {'Lasso': { 'alpha': [0.0005, 0.001, 0.0003] },'Elastic Net Regression': {'alpha': [0.0005, 0.003, 0.00045] , 'l1_ratio':[.9, .5, .75]},'Kernel Ridge Regression':{ 'alpha':[0.6, 0.5, 0.35], 'kernel':'polynomial', 'degree':[2, 3], 'coef0':[0, 1.5, 2.5]},'Gradient Boosting Regression': { 'n_estimators':[3000, 2500, 1200], 'learning_rate':[0.05, 0.1, 0.004], 'max_depth':4, 'max_features':['sqrt', 'log2'],'min_samples_leaf':[15, 5, 10, 4], 'min_samples_split':[10, 5, 8], 'loss':'huber'}}\n",
    " \n",
    "    rs = RandomizedSearchCV(m, p, n_iter=10, cv=kf, scoring=\"neg_mean_squared_error\", refit=True)\n",
    "    rs.fit(X, y)\n",
    "    return rs.best_params_"
   ]
  },
  {
   "cell_type": "code",
   "execution_count": 32,
   "metadata": {},
   "outputs": [
    {
     "data": {
      "text/plain": [
       "{'bagging_fraction': 0.6,\n",
       " 'bagging_freq': 3,\n",
       " 'learning_rate': 0.05,\n",
       " 'max_bin': 70,\n",
       " 'max_depth': 4,\n",
       " 'min_data_in_leaf': 10,\n",
       " 'min_sum_hessian_in_leaf': 8,\n",
       " 'n_estimators': 750,\n",
       " 'num_leaves': 10}"
      ]
     },
     "execution_count": 32,
     "metadata": {},
     "output_type": "execute_result"
    }
   ],
   "source": [
    "#LightGBM :    \n",
    "model_lgbm=lgb.LGBMRegressor(objective='regression', random_state=500, feature_fraction_seed=9, bagging_seed=9)\n",
    "param_lgbm={'learning_rate': [0.05, 0.5, 0.07], 'n_estimators': [1000, 750, 2000], 'num_leaves': [5,8,6,10],'max_depth': [4, 5, 7],'max_bin':[50, 70],'min_data_in_leaf':[6, 10],'min_sum_hessian_in_leaf':[8, 11, 14],'bagging_fraction':[0.8, 1.0, 0.6, 0.9], 'bagging_freq': [3, 5, 6, 7]}\n",
    "random_search(model_lgbm, param_lgbm)"
   ]
  },
  {
   "cell_type": "code",
   "execution_count": 16,
   "metadata": {
    "collapsed": true
   },
   "outputs": [],
   "source": [
    "#Now that I have run grid search for every chosen model it is now time to train the base models on training data. \n",
    "#Validation function\n",
    "\n",
    "\n",
    "def cross_validation(model):\n",
    "    import numpy as np\n",
    "    n_folds =10\n",
    "    kf = KFold(n_folds, shuffle=True, random_state=42)\n",
    "    #.get_n_splits(X_train)\n",
    "    rmse= np.sqrt(-cross_val_score(model, X, y, scoring=\"neg_mean_squared_error\", cv = kf))\n",
    "    return(rmse)\n",
    "\n"
   ]
  },
  {
   "cell_type": "code",
   "execution_count": 38,
   "metadata": {
    "collapsed": true
   },
   "outputs": [],
   "source": [
    "#Lasso {'alpha': 0.5}\n",
    "lasso = make_pipeline(RobustScaler(), Lasso(alpha =0.5, random_state=1))"
   ]
  },
  {
   "cell_type": "code",
   "execution_count": 18,
   "metadata": {
    "scrolled": true
   },
   "outputs": [
    {
     "name": "stdout",
     "output_type": "stream",
     "text": [
      "[27233.95036388 27032.58649853 27236.61404768 28378.39897267\n",
      " 28685.38528653 23870.85439319 27331.96298845 30876.62657735\n",
      " 32074.7762019  27395.05910021]\n"
     ]
    }
   ],
   "source": [
    "score = cross_validation(lasso)\n",
    "print(score )\n",
    "#print(\"Lasso: mean_score={}, Standard.dev={})\".format(score.mean(), score.std()))"
   ]
  },
  {
   "cell_type": "code",
   "execution_count": 19,
   "metadata": {
    "collapsed": true
   },
   "outputs": [],
   "source": [
    "lasso1 = make_pipeline(RobustScaler(), Lasso(alpha =25.5, random_state=1))"
   ]
  },
  {
   "cell_type": "code",
   "execution_count": 20,
   "metadata": {},
   "outputs": [
    {
     "name": "stdout",
     "output_type": "stream",
     "text": [
      "Lasso1: mean_score=28001.117019967518, Standard.dev=2161.6351990759676)\n"
     ]
    }
   ],
   "source": [
    "score_lasso1 = cross_validation(lasso1)\n",
    "print(\"Lasso1: mean_score={}, Standard.dev={})\".format(score_lasso1.mean(), score_lasso1.std()))"
   ]
  },
  {
   "cell_type": "code",
   "execution_count": 21,
   "metadata": {
    "collapsed": true
   },
   "outputs": [],
   "source": [
    "from sklearn.linear_model import ElasticNet, Lasso,  BayesianRidge, LassoLarsIC\n",
    "from sklearn.ensemble import RandomForestRegressor,  GradientBoostingRegressor\n",
    "from sklearn.kernel_ridge import KernelRidge\n",
    "from sklearn.pipeline import make_pipeline\n",
    "from sklearn.preprocessing import RobustScaler\n",
    "from sklearn.base import BaseEstimator, TransformerMixin, RegressorMixin, clone\n",
    "from sklearn.model_selection import KFold, cross_val_score, train_test_split\n",
    "from sklearn.metrics import mean_squared_error\n",
    "import xgboost as xgb\n",
    "import lightgbm as lgb"
   ]
  },
  {
   "cell_type": "code",
   "execution_count": 14,
   "metadata": {
    "collapsed": true
   },
   "outputs": [],
   "source": [
    "#Elastic Net Regression: {'alpha': 0.004, 'l1_ratio': 0.9}\n",
    "Enet = make_pipeline(RobustScaler(), ElasticNet(alpha=0.04, l1_ratio=0.9, random_state=3))\n"
   ]
  },
  {
   "cell_type": "code",
   "execution_count": 38,
   "metadata": {},
   "outputs": [
    {
     "name": "stdout",
     "output_type": "stream",
     "text": [
      "ENet: mean_score=27960.50700462174, Standard.dev=2215.546411598622)\n"
     ]
    }
   ],
   "source": [
    "score_enet = cross_validation(Enet)\n",
    "print(\"ENet: mean_score={}, Standard.dev={})\".format(score_enet.mean(), score_enet.std()))"
   ]
  },
  {
   "cell_type": "code",
   "execution_count": 15,
   "metadata": {
    "collapsed": true
   },
   "outputs": [],
   "source": [
    "#Kernel Ridge Regression :{'alpha': 0.5, 'coef0': 2.5}\n",
    "\n",
    "Krr = KernelRidge(alpha=0.04, kernel='linear', degree=3, coef0=2.5)\n",
    "\n",
    "#when degree=2; kernel=linear, Krr: mean_score=28933.67422833956, Standard.dev=2355.189282909615"
   ]
  },
  {
   "cell_type": "code",
   "execution_count": 61,
   "metadata": {},
   "outputs": [
    {
     "name": "stdout",
     "output_type": "stream",
     "text": [
      "Krr: mean_score=28933.59763814668, Standard.dev=2352.435843008077)\n"
     ]
    }
   ],
   "source": [
    "score_Krr = cross_validation(Krr)\n",
    "print(\"Krr: mean_score={}, Standard.dev={})\".format(score_Krr.mean(), score_Krr.std()))"
   ]
  },
  {
   "cell_type": "code",
   "execution_count": 16,
   "metadata": {
    "collapsed": true
   },
   "outputs": [],
   "source": [
    "#Gradient Boosting Regression : \n",
    "# {'learning_rate': 0.05,\n",
    "#  'max_depth': 4,\n",
    "#  'min_samples_leaf': 15,\n",
    "#  'min_samples_split': 8,\n",
    "#  'n_estimators': 3000}\n",
    "\n",
    "Gboost=GradientBoostingRegressor(learning_rate=0.05, max_depth=4, min_samples_leaf=15, min_samples_split=8, n_estimators=3000, loss='huber', max_features='sqrt')\n"
   ]
  },
  {
   "cell_type": "code",
   "execution_count": 27,
   "metadata": {},
   "outputs": [
    {
     "name": "stdout",
     "output_type": "stream",
     "text": [
      "\n",
      "GBoost score: 24314.8367 (3344.3374)\n",
      "\n"
     ]
    }
   ],
   "source": [
    "score_gboost = cross_validation(Gboost)\n",
    "#print(\"GBoost: mean_score={}, Standard.dev={})\".format(score_gboost.mean(), score_gboost.std()))\n",
    "print(\"\\nGBoost score: {:.4f} ({:.4f})\\n\".format(score_gboost.mean(), score_gboost.std()))"
   ]
  },
  {
   "cell_type": "code",
   "execution_count": 17,
   "metadata": {
    "collapsed": true
   },
   "outputs": [],
   "source": [
    "Xgboost=xgb.XGBRegressor(objective='reg:linear',silent=True, nthread=-1, colsample_bytree= 0.4, gamma=0.5,learning_rate=0.05,max_depth=8,min_child_weight=5,n_estimators=3500,reg_alpha=0.9,reg_lambda=1.5,subsample=0.6)\n",
    "\n"
   ]
  },
  {
   "cell_type": "code",
   "execution_count": 29,
   "metadata": {},
   "outputs": [
    {
     "name": "stdout",
     "output_type": "stream",
     "text": [
      "xGBoost: mean_score=24362.818685334085, Standard.dev=2951.3732970338388)\n"
     ]
    }
   ],
   "source": [
    "score_xgboost = cross_validation(Xgboost)\n",
    "print(\"xGBoost: mean_score={}, Standard.dev={})\".format(score_xgboost.mean(), score_xgboost.std()))"
   ]
  },
  {
   "cell_type": "code",
   "execution_count": 18,
   "metadata": {
    "collapsed": true
   },
   "outputs": [],
   "source": [
    "lightgbm=lgb.LGBMRegressor(objective='regression', random_state=500, feature_fraction_seed=9, bagging_seed=9, bagging_fraction=0.6,bagging_freq=3,learning_rate=0.05,max_bin=70,max_depth=4,min_data_in_leaf=10,min_sum_hessian_in_leaf=8,n_estimators=750,num_leaves=10)\n",
    "\n"
   ]
  },
  {
   "cell_type": "code",
   "execution_count": 31,
   "metadata": {},
   "outputs": [
    {
     "name": "stdout",
     "output_type": "stream",
     "text": [
      "lightgbm: mean_score=25271.170499355176, Standard.dev=3924.8850897991742)\n"
     ]
    }
   ],
   "source": [
    "score_lightgbm = cross_validation(lightgbm)\n",
    "print(\"lightgbm: mean_score={}, Standard.dev={})\".format(score_lightgbm.mean(), score_lightgbm.std()))"
   ]
  },
  {
   "cell_type": "code",
   "execution_count": 19,
   "metadata": {
    "collapsed": true
   },
   "outputs": [],
   "source": [
    "from scipy import stats\n",
    "class AveragingModels(BaseEstimator, RegressorMixin, TransformerMixin):\n",
    "    def __init__(self, models):\n",
    "        self.models = models\n",
    "        \n",
    "    # we define clones of the original models to fit the data in\n",
    "    def fit(self, X, y):\n",
    "        self.models_ = [clone(x) for x in self.models]\n",
    "        \n",
    "        # Train cloned base models\n",
    "        for model in self.models_:\n",
    "            model.fit(X, y)\n",
    "\n",
    "        return self\n",
    "    \n",
    "    #Now we do the predictions for cloned models and average them\n",
    "    def predict(self, X):\n",
    "        predictions = np.column_stack([model.predict(X) for model in self.models_])\n",
    "        return np.mean(predictions, axis=1) "
   ]
  },
  {
   "cell_type": "code",
   "execution_count": 63,
   "metadata": {},
   "outputs": [
    {
     "name": "stdout",
     "output_type": "stream",
     "text": [
      " Averaged base models score: 23965.4802 (2679.9318)\n",
      "\n"
     ]
    }
   ],
   "source": [
    "import numpy as np\n",
    "averaged_models = AveragingModels(models = (Enet, Krr, Gboost, Xgboost, lightgbm))\n",
    "\n",
    "stacked_models_score = cross_validation(averaged_models)\n",
    "print(\" Averaged base models score: {:.4f} ({:.4f})\\n\".format(stacked_models_score.mean(), stacked_models_score.std()))"
   ]
  },
  {
   "cell_type": "code",
   "execution_count": 64,
   "metadata": {},
   "outputs": [
    {
     "name": "stdout",
     "output_type": "stream",
     "text": [
      " Averaged base models score: 24062.1519 (3445.0301)\n",
      "\n"
     ]
    }
   ],
   "source": [
    "averaged_models = AveragingModels(models = (Gboost, Xgboost, lightgbm))\n",
    "\n",
    "stacked_models_score = cross_validation(averaged_models)\n",
    "print(\" Averaged base models score: {:.4f} ({:.4f})\\n\".format(stacked_models_score.mean(), stacked_models_score.std()))"
   ]
  },
  {
   "cell_type": "code",
   "execution_count": 36,
   "metadata": {},
   "outputs": [
    {
     "data": {
      "text/plain": [
       "(GradientBoostingRegressor(alpha=0.9, criterion='friedman_mse', init=None,\n",
       "              learning_rate=0.05, loss='huber', max_depth=4,\n",
       "              max_features='sqrt', max_leaf_nodes=None,\n",
       "              min_impurity_decrease=0.0, min_impurity_split=None,\n",
       "              min_samples_leaf=15, min_samples_split=8,\n",
       "              min_weight_fraction_leaf=0.0, n_estimators=3000,\n",
       "              presort='auto', random_state=None, subsample=1.0, verbose=0,\n",
       "              warm_start=False),\n",
       " XGBRegressor(base_score=0.5, booster='gbtree', colsample_bylevel=1,\n",
       "        colsample_bytree=0.4, gamma=0.5, learning_rate=0.05,\n",
       "        max_delta_step=0, max_depth=8, min_child_weight=5, missing=None,\n",
       "        n_estimators=3500, n_jobs=1, nthread=-1, objective='reg:linear',\n",
       "        random_state=0, reg_alpha=0.9, reg_lambda=1.5, scale_pos_weight=1,\n",
       "        seed=None, silent=True, subsample=0.6),\n",
       " LGBMRegressor(bagging_fraction=0.6, bagging_freq=3, bagging_seed=9,\n",
       "        boosting_type='gbdt', class_weight=None, colsample_bytree=1.0,\n",
       "        feature_fraction_seed=9, importance_type='split',\n",
       "        learning_rate=0.05, max_bin=70, max_depth=4, min_child_samples=20,\n",
       "        min_child_weight=0.001, min_data_in_leaf=10, min_split_gain=0.0,\n",
       "        min_sum_hessian_in_leaf=8, n_estimators=750, n_jobs=-1,\n",
       "        num_leaves=10, objective='regression', random_state=500,\n",
       "        reg_alpha=0.0, reg_lambda=0.0, silent=True, subsample=1.0,\n",
       "        subsample_for_bin=200000, subsample_freq=0))"
      ]
     },
     "execution_count": 36,
     "metadata": {},
     "output_type": "execute_result"
    }
   ],
   "source": [
    "averaged_models.models"
   ]
  },
  {
   "cell_type": "code",
   "execution_count": 31,
   "metadata": {
    "collapsed": true
   },
   "outputs": [],
   "source": [
    "\n",
    "class stack_average_models(BaseEstimator, RegressorMixin, TransformerMixin):\n",
    "    \n",
    "    def __init__(self, basemodels, metamodel, n_folds=5):\n",
    "        self.basemodels=basemodels\n",
    "        self.metamodel=metamodel\n",
    "        self.n_folds=n_folds\n",
    "#         print(self.basemodels)\n",
    "        \n",
    "    def fit(self, X, y):\n",
    "        import numpy as np\n",
    "        self.basemodels_ = [list() for x in self.basemodels]\n",
    "        self.metamodel_ = clone(self.metamodel)\n",
    "        kfold = KFold(n_splits=self.n_folds, shuffle=True, random_state=156)\n",
    "        \n",
    "        holdout_predictions = np.zeros((X.shape[0], len(self.basemodels)))\n",
    "        for ind, model in enumerate(self.basemodels):\n",
    "            for train_ind, holdout_ind in kfold.split(X, y):\n",
    "                instance = clone(model)\n",
    "                self.basemodels_[ind].append(instance)\n",
    "                instance.fit(X[train_ind], y[train_ind])\n",
    "                y_pred = instance.predict(X[holdout_ind])\n",
    "                holdout_predictions[holdout_ind, ind] = y_pred\n",
    "                \n",
    "         \n",
    "        self.metamodel_.fit(holdout_predictions, y)\n",
    "        return self\n",
    "   \n",
    "    #Do the predictions of all base models on the test data and use the averaged predictions as \n",
    "    #meta-features for the final prediction which is done by the meta-model\n",
    "    def predict(self, X):\n",
    "        import numpy as np\n",
    "        meta_features = np.column_stack([np.column_stack([model.predict(X) for model in basemodels]).mean(axis=1) for basemodels in self.basemodels_ ])\n",
    "        return self.metamodel_.predict(meta_features)\n",
    "        "
   ]
  },
  {
   "cell_type": "code",
   "execution_count": 32,
   "metadata": {
    "collapsed": true
   },
   "outputs": [],
   "source": [
    "def cross_validation(model):\n",
    "    import numpy as np\n",
    "    n_folds =5\n",
    "    kf = KFold(n_folds, shuffle=True, random_state=42)\n",
    "    #.get_n_splits(X_train)\n",
    "    rmse= np.sqrt(-cross_val_score(model, X, y, scoring=\"neg_mean_squared_error\", cv = kf))\n",
    "    return(rmse)"
   ]
  },
  {
   "cell_type": "code",
   "execution_count": 35,
   "metadata": {},
   "outputs": [],
   "source": [
    "\n",
    "stacked_meta_Enet = stack_average_models(basemodels = (Gboost, Xgboost, lightgbm),\n",
    "                                                 metamodel = Enet)\n",
    "\n",
    "# score_enet = cross_validation(stacked_meta_Enet)\n",
    "# print(\"Stacking Averaged models score: {:.4f} ({:.4f})\".format(score_enet.mean(), score_enet.std()))"
   ]
  },
  {
   "cell_type": "code",
   "execution_count": 36,
   "metadata": {},
   "outputs": [
    {
     "data": {
      "text/plain": [
       "['stacked_meta_enet']"
      ]
     },
     "execution_count": 36,
     "metadata": {},
     "output_type": "execute_result"
    }
   ],
   "source": [
    "# from sklearn.externals import joblib\n",
    "joblib.dump(stacked_meta_Enet, 'stacked_meta_enet')"
   ]
  },
  {
   "cell_type": "code",
   "execution_count": null,
   "metadata": {
    "collapsed": true
   },
   "outputs": [],
   "source": [
    "# stacked_meta_lasso = stack_average_models(basemodels = (Gboost, Xgboost, lightgbm),\n",
    "#                                                  metamodel = lasso)\n",
    "\n",
    "# score_lasso = cross_validation(stacked_meta_lasso)\n",
    "# print(\"Stacking Averaged models score: {:.4f} ({:.4f})\".format(score_lasso.mean(), score_lasso.std()))"
   ]
  },
  {
   "cell_type": "code",
   "execution_count": null,
   "metadata": {
    "collapsed": true
   },
   "outputs": [],
   "source": [
    "# joblib.dump(stacked_meta_Enet, 'stacked_meta_enet')"
   ]
  },
  {
   "cell_type": "code",
   "execution_count": null,
   "metadata": {
    "collapsed": true
   },
   "outputs": [],
   "source": [
    "# stacked_meta_krr = stack_average_models(basemodels = (Gboost, Xgboost, lightgbm),\n",
    "#                                                  metamodel = krr)\n",
    "\n",
    "# score_krr = cross_validation(stacked_meta_krr)\n",
    "# print(\"Stacking Averaged models score: {:.4f} ({:.4f})\".format(score_krr.mean(), score_krr.std()))"
   ]
  },
  {
   "cell_type": "code",
   "execution_count": 39,
   "metadata": {
    "scrolled": true
   },
   "outputs": [],
   "source": [
    "stacked_meta_lasso2 = stack_average_models(basemodels = (Gboost, Krr, Enet),\n",
    "                                                 metamodel = lasso)\n",
    "\n",
    "# score_lasso2 = cross_validation(stacked_meta_lasso2)\n",
    "# print(\"Stacking Averaged models score: {:.4f} ({:.4f})\".format(score_lasso2.mean(), score_lasso2.std()))"
   ]
  },
  {
   "cell_type": "code",
   "execution_count": 40,
   "metadata": {},
   "outputs": [
    {
     "data": {
      "text/plain": [
       "['stacked_meta_lasso2']"
      ]
     },
     "execution_count": 40,
     "metadata": {},
     "output_type": "execute_result"
    }
   ],
   "source": [
    "joblib.dump(stacked_meta_lasso2, 'stacked_meta_lasso2')"
   ]
  },
  {
   "cell_type": "code",
   "execution_count": 41,
   "metadata": {},
   "outputs": [],
   "source": [
    "# stacked_models = stack_average_models(basemodels = (Enet, Krr, Gboost, Xgboost, lightgbm),\n",
    "#                                                  metamodel = lasso)\n",
    "\n",
    "# score = cross_validation(stacked_models)\n",
    "# print(\"Stacking Averaged models score: {:.4f} ({:.4f})\".format(score.mean(), score.std()))"
   ]
  },
  {
   "cell_type": "code",
   "execution_count": 43,
   "metadata": {
    "collapsed": true
   },
   "outputs": [],
   "source": [
    "#Root Mean Squared Logarithmic Error\n",
    "from sklearn.metrics import mean_squared_error\n",
    "def rmsle(y, y_pred):\n",
    "    return np.sqrt(mean_squared_error(y, y_pred))"
   ]
  },
  {
   "cell_type": "code",
   "execution_count": null,
   "metadata": {
    "collapsed": true
   },
   "outputs": [],
   "source": []
  },
  {
   "cell_type": "code",
   "execution_count": 47,
   "metadata": {},
   "outputs": [
    {
     "name": "stderr",
     "output_type": "stream",
     "text": [
      "/Users/chidam/anaconda/lib/python3.5/site-packages/ipykernel/__main__.py:4: RuntimeWarning: overflow encountered in exp\n"
     ]
    },
    {
     "ename": "ValueError",
     "evalue": "Input contains NaN, infinity or a value too large for dtype('float64').",
     "output_type": "error",
     "traceback": [
      "\u001b[0;31m---------------------------------------------------------------------------\u001b[0m",
      "\u001b[0;31mValueError\u001b[0m                                Traceback (most recent call last)",
      "\u001b[0;32m<ipython-input-47-b27e984c3c35>\u001b[0m in \u001b[0;36m<module>\u001b[0;34m()\u001b[0m\n\u001b[1;32m      6\u001b[0m \u001b[0;31m#stacked_pred = np.expm1(stacked_averaged_models.predict(X_test))\u001b[0m\u001b[0;34m\u001b[0m\u001b[0;34m\u001b[0m\u001b[0m\n\u001b[1;32m      7\u001b[0m \u001b[0;34m\u001b[0m\u001b[0m\n\u001b[0;32m----> 8\u001b[0;31m \u001b[0mprint\u001b[0m\u001b[0;34m(\u001b[0m\u001b[0mrmsle\u001b[0m\u001b[0;34m(\u001b[0m\u001b[0my\u001b[0m\u001b[0;34m,\u001b[0m \u001b[0mstacked_meta_Enet_pred\u001b[0m\u001b[0;34m)\u001b[0m\u001b[0;34m)\u001b[0m\u001b[0;34m\u001b[0m\u001b[0m\n\u001b[0m",
      "\u001b[0;32m<ipython-input-43-aa4c7d299a04>\u001b[0m in \u001b[0;36mrmsle\u001b[0;34m(y, y_pred)\u001b[0m\n\u001b[1;32m      2\u001b[0m \u001b[0;32mfrom\u001b[0m \u001b[0msklearn\u001b[0m\u001b[0;34m.\u001b[0m\u001b[0mmetrics\u001b[0m \u001b[0;32mimport\u001b[0m \u001b[0mmean_squared_error\u001b[0m\u001b[0;34m\u001b[0m\u001b[0m\n\u001b[1;32m      3\u001b[0m \u001b[0;32mdef\u001b[0m \u001b[0mrmsle\u001b[0m\u001b[0;34m(\u001b[0m\u001b[0my\u001b[0m\u001b[0;34m,\u001b[0m \u001b[0my_pred\u001b[0m\u001b[0;34m)\u001b[0m\u001b[0;34m:\u001b[0m\u001b[0;34m\u001b[0m\u001b[0m\n\u001b[0;32m----> 4\u001b[0;31m     \u001b[0;32mreturn\u001b[0m \u001b[0mnp\u001b[0m\u001b[0;34m.\u001b[0m\u001b[0msqrt\u001b[0m\u001b[0;34m(\u001b[0m\u001b[0mmean_squared_error\u001b[0m\u001b[0;34m(\u001b[0m\u001b[0my\u001b[0m\u001b[0;34m,\u001b[0m \u001b[0my_pred\u001b[0m\u001b[0;34m)\u001b[0m\u001b[0;34m)\u001b[0m\u001b[0;34m\u001b[0m\u001b[0m\n\u001b[0m",
      "\u001b[0;32m~/anaconda/lib/python3.5/site-packages/sklearn/metrics/regression.py\u001b[0m in \u001b[0;36mmean_squared_error\u001b[0;34m(y_true, y_pred, sample_weight, multioutput)\u001b[0m\n\u001b[1;32m    236\u001b[0m     \"\"\"\n\u001b[1;32m    237\u001b[0m     y_type, y_true, y_pred, multioutput = _check_reg_targets(\n\u001b[0;32m--> 238\u001b[0;31m         y_true, y_pred, multioutput)\n\u001b[0m\u001b[1;32m    239\u001b[0m     output_errors = np.average((y_true - y_pred) ** 2, axis=0,\n\u001b[1;32m    240\u001b[0m                                weights=sample_weight)\n",
      "\u001b[0;32m~/anaconda/lib/python3.5/site-packages/sklearn/metrics/regression.py\u001b[0m in \u001b[0;36m_check_reg_targets\u001b[0;34m(y_true, y_pred, multioutput)\u001b[0m\n\u001b[1;32m     75\u001b[0m     \u001b[0mcheck_consistent_length\u001b[0m\u001b[0;34m(\u001b[0m\u001b[0my_true\u001b[0m\u001b[0;34m,\u001b[0m \u001b[0my_pred\u001b[0m\u001b[0;34m)\u001b[0m\u001b[0;34m\u001b[0m\u001b[0m\n\u001b[1;32m     76\u001b[0m     \u001b[0my_true\u001b[0m \u001b[0;34m=\u001b[0m \u001b[0mcheck_array\u001b[0m\u001b[0;34m(\u001b[0m\u001b[0my_true\u001b[0m\u001b[0;34m,\u001b[0m \u001b[0mensure_2d\u001b[0m\u001b[0;34m=\u001b[0m\u001b[0;32mFalse\u001b[0m\u001b[0;34m)\u001b[0m\u001b[0;34m\u001b[0m\u001b[0m\n\u001b[0;32m---> 77\u001b[0;31m     \u001b[0my_pred\u001b[0m \u001b[0;34m=\u001b[0m \u001b[0mcheck_array\u001b[0m\u001b[0;34m(\u001b[0m\u001b[0my_pred\u001b[0m\u001b[0;34m,\u001b[0m \u001b[0mensure_2d\u001b[0m\u001b[0;34m=\u001b[0m\u001b[0;32mFalse\u001b[0m\u001b[0;34m)\u001b[0m\u001b[0;34m\u001b[0m\u001b[0m\n\u001b[0m\u001b[1;32m     78\u001b[0m \u001b[0;34m\u001b[0m\u001b[0m\n\u001b[1;32m     79\u001b[0m     \u001b[0;32mif\u001b[0m \u001b[0my_true\u001b[0m\u001b[0;34m.\u001b[0m\u001b[0mndim\u001b[0m \u001b[0;34m==\u001b[0m \u001b[0;36m1\u001b[0m\u001b[0;34m:\u001b[0m\u001b[0;34m\u001b[0m\u001b[0m\n",
      "\u001b[0;32m~/anaconda/lib/python3.5/site-packages/sklearn/utils/validation.py\u001b[0m in \u001b[0;36mcheck_array\u001b[0;34m(array, accept_sparse, dtype, order, copy, force_all_finite, ensure_2d, allow_nd, ensure_min_samples, ensure_min_features, warn_on_dtype, estimator)\u001b[0m\n\u001b[1;32m    451\u001b[0m                              % (array.ndim, estimator_name))\n\u001b[1;32m    452\u001b[0m         \u001b[0;32mif\u001b[0m \u001b[0mforce_all_finite\u001b[0m\u001b[0;34m:\u001b[0m\u001b[0;34m\u001b[0m\u001b[0m\n\u001b[0;32m--> 453\u001b[0;31m             \u001b[0m_assert_all_finite\u001b[0m\u001b[0;34m(\u001b[0m\u001b[0marray\u001b[0m\u001b[0;34m)\u001b[0m\u001b[0;34m\u001b[0m\u001b[0m\n\u001b[0m\u001b[1;32m    454\u001b[0m \u001b[0;34m\u001b[0m\u001b[0m\n\u001b[1;32m    455\u001b[0m     \u001b[0mshape_repr\u001b[0m \u001b[0;34m=\u001b[0m \u001b[0m_shape_repr\u001b[0m\u001b[0;34m(\u001b[0m\u001b[0marray\u001b[0m\u001b[0;34m.\u001b[0m\u001b[0mshape\u001b[0m\u001b[0;34m)\u001b[0m\u001b[0;34m\u001b[0m\u001b[0m\n",
      "\u001b[0;32m~/anaconda/lib/python3.5/site-packages/sklearn/utils/validation.py\u001b[0m in \u001b[0;36m_assert_all_finite\u001b[0;34m(X)\u001b[0m\n\u001b[1;32m     42\u001b[0m             and not np.isfinite(X).all()):\n\u001b[1;32m     43\u001b[0m         raise ValueError(\"Input contains NaN, infinity\"\n\u001b[0;32m---> 44\u001b[0;31m                          \" or a value too large for %r.\" % X.dtype)\n\u001b[0m\u001b[1;32m     45\u001b[0m \u001b[0;34m\u001b[0m\u001b[0m\n\u001b[1;32m     46\u001b[0m \u001b[0;34m\u001b[0m\u001b[0m\n",
      "\u001b[0;31mValueError\u001b[0m: Input contains NaN, infinity or a value too large for dtype('float64')."
     ]
    }
   ],
   "source": [
    "import numpy as np\n",
    "stacked_meta_Enet.fit(X, y)\n",
    "\n",
    "stacked_meta_Enet_pred = np.exp(stacked_meta_Enet.predict(X))\n",
    "\n",
    "#stacked_pred = np.expm1(stacked_averaged_models.predict(X_test))\n",
    "\n",
    "print(rmsle(y, stacked_meta_Enet_pred))"
   ]
  },
  {
   "cell_type": "code",
   "execution_count": 46,
   "metadata": {},
   "outputs": [
    {
     "data": {
      "text/plain": [
       "array([inf, inf, inf, ..., inf, inf, inf])"
      ]
     },
     "execution_count": 46,
     "metadata": {},
     "output_type": "execute_result"
    }
   ],
   "source": [
    "stacked_meta_Enet_pred"
   ]
  },
  {
   "cell_type": "code",
   "execution_count": null,
   "metadata": {
    "collapsed": true
   },
   "outputs": [],
   "source": []
  }
 ],
 "metadata": {
  "kernelspec": {
   "display_name": "Python [conda root]",
   "language": "python",
   "name": "conda-root-py"
  },
  "language_info": {
   "codemirror_mode": {
    "name": "ipython",
    "version": 3
   },
   "file_extension": ".py",
   "mimetype": "text/x-python",
   "name": "python",
   "nbconvert_exporter": "python",
   "pygments_lexer": "ipython3",
   "version": "3.5.6"
  }
 },
 "nbformat": 4,
 "nbformat_minor": 2
}
