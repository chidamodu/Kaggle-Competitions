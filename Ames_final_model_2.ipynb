{
 "cells": [
  {
   "cell_type": "code",
   "execution_count": 147,
   "metadata": {
    "scrolled": true
   },
   "outputs": [
    {
     "data": {
      "text/plain": [
       "'/Users/chidam'"
      ]
     },
     "execution_count": 147,
     "metadata": {},
     "output_type": "execute_result"
    }
   ],
   "source": [
    "import os\n",
    "os.getcwd()"
   ]
  },
  {
   "cell_type": "code",
   "execution_count": 148,
   "metadata": {
    "collapsed": true
   },
   "outputs": [],
   "source": [
    "import pandas as pd\n",
    "df=pd.read_csv('/Users/chidam/Desktop/housing_prices_kaggle_train.csv')"
   ]
  },
  {
   "cell_type": "code",
   "execution_count": 149,
   "metadata": {
    "collapsed": true
   },
   "outputs": [],
   "source": [
    "df.drop(df.index[[523,691,1182,1298, 1169]], inplace=True)\n",
    "df=df.reset_index(drop=True)#here drop=True means to drop the alreading existing index column"
   ]
  },
  {
   "cell_type": "code",
   "execution_count": 150,
   "metadata": {},
   "outputs": [
    {
     "data": {
      "text/plain": [
       "RL         1146\n",
       "RM          218\n",
       "FV           65\n",
       "RH           16\n",
       "C (all)      10\n",
       "Name: MSZoning, dtype: int64"
      ]
     },
     "execution_count": 150,
     "metadata": {},
     "output_type": "execute_result"
    }
   ],
   "source": [
    "df['MSZoning'].value_counts()"
   ]
  },
  {
   "cell_type": "code",
   "execution_count": 151,
   "metadata": {},
   "outputs": [
    {
     "data": {
      "text/plain": [
       "3    802\n",
       "2    358\n",
       "4    210\n",
       "1     50\n",
       "5     21\n",
       "6      7\n",
       "0      6\n",
       "8      1\n",
       "Name: BedroomAbvGr, dtype: int64"
      ]
     },
     "execution_count": 151,
     "metadata": {},
     "output_type": "execute_result"
    }
   ],
   "source": [
    "df['BedroomAbvGr'].value_counts()"
   ]
  },
  {
   "cell_type": "code",
   "execution_count": 152,
   "metadata": {},
   "outputs": [
    {
     "data": {
      "text/plain": [
       "Typ     1355\n",
       "Min2      34\n",
       "Min1      31\n",
       "Mod       15\n",
       "Maj1      14\n",
       "Maj2       5\n",
       "Sev        1\n",
       "Name: Functional, dtype: int64"
      ]
     },
     "execution_count": 152,
     "metadata": {},
     "output_type": "execute_result"
    }
   ],
   "source": [
    "df['Functional'].value_counts()"
   ]
  },
  {
   "cell_type": "code",
   "execution_count": 153,
   "metadata": {},
   "outputs": [
    {
     "data": {
      "text/plain": [
       "0       118\n",
       "728       9\n",
       "384       8\n",
       "572       7\n",
       "600       7\n",
       "440       6\n",
       "625       6\n",
       "300       6\n",
       "280       6\n",
       "672       6\n",
       "270       6\n",
       "162       5\n",
       "108       5\n",
       "490       5\n",
       "390       5\n",
       "80        5\n",
       "326       5\n",
       "816       5\n",
       "698       5\n",
       "319       5\n",
       "264       5\n",
       "216       5\n",
       "410       5\n",
       "638       4\n",
       "768       4\n",
       "780       4\n",
       "660       4\n",
       "420       4\n",
       "840       4\n",
       "556       4\n",
       "       ... \n",
       "707       1\n",
       "705       1\n",
       "701       1\n",
       "693       1\n",
       "721       1\n",
       "692       1\n",
       "691       1\n",
       "690       1\n",
       "1515      1\n",
       "680       1\n",
       "1528      1\n",
       "717       1\n",
       "722       1\n",
       "758       1\n",
       "739       1\n",
       "752       1\n",
       "750       1\n",
       "1497      1\n",
       "744       1\n",
       "741       1\n",
       "740       1\n",
       "735       1\n",
       "724       1\n",
       "734       1\n",
       "733       1\n",
       "731       1\n",
       "730       1\n",
       "726       1\n",
       "725       1\n",
       "2046      1\n",
       "Name: BsmtUnfSF, Length: 778, dtype: int64"
      ]
     },
     "execution_count": 153,
     "metadata": {},
     "output_type": "execute_result"
    }
   ],
   "source": [
    "df['BsmtUnfSF'].value_counts()"
   ]
  },
  {
   "cell_type": "code",
   "execution_count": 154,
   "metadata": {},
   "outputs": [
    {
     "data": {
      "text/plain": [
       "0    855\n",
       "1    585\n",
       "2     14\n",
       "3      1\n",
       "Name: BsmtFullBath, dtype: int64"
      ]
     },
     "execution_count": 154,
     "metadata": {},
     "output_type": "execute_result"
    }
   ],
   "source": [
    "df['BsmtFullBath'].value_counts()"
   ]
  },
  {
   "cell_type": "code",
   "execution_count": 155,
   "metadata": {
    "collapsed": true
   },
   "outputs": [],
   "source": [
    "import calendar\n",
    "df['MoSold'] = df['MoSold'].apply(lambda x: calendar.month_abbr[x])\n",
    "\n",
    "\n",
    "\n"
   ]
  },
  {
   "cell_type": "code",
   "execution_count": 156,
   "metadata": {
    "collapsed": true
   },
   "outputs": [],
   "source": [
    "df['Season']=df['MoSold'].copy()"
   ]
  },
  {
   "cell_type": "code",
   "execution_count": 157,
   "metadata": {},
   "outputs": [
    {
     "data": {
      "text/plain": [
       "False"
      ]
     },
     "execution_count": 157,
     "metadata": {},
     "output_type": "execute_result"
    }
   ],
   "source": [
    "df['Season'].isnull().any()"
   ]
  },
  {
   "cell_type": "code",
   "execution_count": 158,
   "metadata": {
    "collapsed": true
   },
   "outputs": [],
   "source": [
    "#To group months according to season: summer, winter, autumn, and spring\n",
    "\n",
    "df.loc[(df['MoSold']=='Jun') | (df['MoSold']=='Jul') | (df['MoSold']=='Aug'),'Season']='Summer'\n",
    "df.loc[(df['MoSold']=='Mar') | (df['MoSold']=='Apr') | (df['MoSold']=='May'),'Season']= 'Spring'\n",
    "df.loc[(df['MoSold']=='Sep') | (df['MoSold']=='Oct') | (df['MoSold']=='Nov'),'Season']='Autumn'\n",
    "df.loc[(df['MoSold']=='Jan') | (df['MoSold']=='Feb') | (df['MoSold']=='Dec'),'Season']='Winter'\n",
    "\n"
   ]
  },
  {
   "cell_type": "code",
   "execution_count": 159,
   "metadata": {},
   "outputs": [
    {
     "data": {
      "text/plain": [
       "False"
      ]
     },
     "execution_count": 159,
     "metadata": {},
     "output_type": "execute_result"
    }
   ],
   "source": [
    "df['Season'].isnull().any()"
   ]
  },
  {
   "cell_type": "code",
   "execution_count": 160,
   "metadata": {
    "collapsed": true
   },
   "outputs": [],
   "source": [
    "#To group the neighborhoods according to maximum SalePrice\n",
    "def neighborhood_convert(d):\n",
    "    from collections import defaultdict\n",
    "    d2=defaultdict(list)\n",
    "    for k, v in d.items():\n",
    "        if v<=200000:\n",
    "            d2['g1'].append(k)     \n",
    "        elif (v>200000) & (v<=300000):\n",
    "            d2['g2'].append(k)\n",
    "        elif (v>300000) & (v<=400000):\n",
    "            d2['g3'].append(k)\n",
    "        else:\n",
    "            d2['g4'].append(k)\n",
    "            \n",
    "    return d2\n",
    "            \n",
    "            "
   ]
  },
  {
   "cell_type": "code",
   "execution_count": 161,
   "metadata": {},
   "outputs": [
    {
     "data": {
      "text/plain": [
       "defaultdict(list,\n",
       "            {'g1': ['BrDale',\n",
       "              'IDOTRR',\n",
       "              'NPkVill',\n",
       "              'Sawyer',\n",
       "              'Blueste',\n",
       "              'MeadowV',\n",
       "              'SWISU'],\n",
       "             'g2': ['BrkSide', 'Mitchel', 'NWAmes', 'Blmngtn'],\n",
       "             'g3': ['Veenker',\n",
       "              'Crawfor',\n",
       "              'Timber',\n",
       "              'NAmes',\n",
       "              'Edwards',\n",
       "              'ClearCr',\n",
       "              'SawyerW',\n",
       "              'Gilbert'],\n",
       "             'g4': ['StoneBr',\n",
       "              'CollgCr',\n",
       "              'NoRidge',\n",
       "              'Somerst',\n",
       "              'NridgHt',\n",
       "              'OldTown']})"
      ]
     },
     "execution_count": 161,
     "metadata": {},
     "output_type": "execute_result"
    }
   ],
   "source": [
    "neighborhood_convert(dict(df.groupby('Neighborhood')['SalePrice'].max()))"
   ]
  },
  {
   "cell_type": "code",
   "execution_count": 162,
   "metadata": {
    "collapsed": true
   },
   "outputs": [],
   "source": [
    "df.loc[(df['Neighborhood']=='IDOTRR'), 'Neighborhood']='g'\n",
    "\n",
    "df.loc[(df['Neighborhood']=='MeadowV')|(df['Neighborhood']=='SWISU')|(df['Neighborhood']=='BrDale')|(df['Neighborhood']=='NPkVill')|(df['Neighborhood']=='Blueste')|(df['Neighborhood']=='Sawyer'),'Neighborhood']='g' \n",
    "    \n",
    "df.loc[(df['Neighborhood']=='Blmngtn')|(df['Neighborhood']=='Mitchel')|(df['Neighborhood']=='BrkSide')|(df['Neighborhood']=='NWAmes'),'Neighborhood']='h' \n",
    "\n",
    "df.loc[(df['Neighborhood']=='Veenker')|(df['Neighborhood']=='SawyerW')|(df['Neighborhood']=='ClearCr')|(df['Neighborhood']=='Edwards')|(df['Neighborhood']=='Gilbert')|(df['Neighborhood']=='NAmes')|(df['Neighborhood']=='Timber')|(df['Neighborhood']=='Crawfor'),'Neighborhood']='i' \n",
    "\n",
    "df.loc[(df['Neighborhood']=='NoRidge')|(df['Neighborhood']=='NridgHt')|(df['Neighborhood']=='StoneBr')|(df['Neighborhood']=='OldTown')|(df['Neighborhood']=='Somerst')|(df['Neighborhood']=='CollgCr'),'Neighborhood']='j' \n",
    "         "
   ]
  },
  {
   "cell_type": "code",
   "execution_count": 163,
   "metadata": {},
   "outputs": [
    {
     "data": {
      "text/plain": [
       "array(['j', 'i', 'h', 'g'], dtype=object)"
      ]
     },
     "execution_count": 163,
     "metadata": {},
     "output_type": "execute_result"
    }
   ],
   "source": [
    "df['Neighborhood'].unique()"
   ]
  },
  {
   "cell_type": "code",
   "execution_count": 164,
   "metadata": {
    "collapsed": true
   },
   "outputs": [],
   "source": [
    "#Filling in the missing values in GarageType with BuiltIn as it is a popular choice but there are not many values from \n",
    "#that category\n",
    "df.GarageType = df.GarageType.fillna('BuiltIn')"
   ]
  },
  {
   "cell_type": "code",
   "execution_count": 165,
   "metadata": {},
   "outputs": [
    {
     "data": {
      "text/plain": [
       "TA     649\n",
       "Gd     618\n",
       "Ex     116\n",
       "NaN     37\n",
       "Fa      35\n",
       "Name: BsmtQual, dtype: int64"
      ]
     },
     "execution_count": 165,
     "metadata": {},
     "output_type": "execute_result"
    }
   ],
   "source": [
    "#BsmtQual\n",
    "\n",
    "df['BsmtQual'].value_counts(dropna=False)"
   ]
  },
  {
   "cell_type": "code",
   "execution_count": 166,
   "metadata": {
    "collapsed": true
   },
   "outputs": [],
   "source": [
    "df.loc[df['BsmtQual'].isnull(), 'BsmtQual'] = 'missing'"
   ]
  },
  {
   "cell_type": "code",
   "execution_count": 167,
   "metadata": {},
   "outputs": [
    {
     "data": {
      "text/plain": [
       "BsmtQual\n",
       "Ex         317500\n",
       "Fa         112000\n",
       "Gd         192070\n",
       "TA         135500\n",
       "missing    101800\n",
       "Name: SalePrice, dtype: int64"
      ]
     },
     "execution_count": 167,
     "metadata": {},
     "output_type": "execute_result"
    }
   ],
   "source": [
    "df.groupby('BsmtQual')['SalePrice'].median()"
   ]
  },
  {
   "cell_type": "code",
   "execution_count": 168,
   "metadata": {
    "collapsed": true
   },
   "outputs": [],
   "source": [
    "# Because the median SalePrice for the missing category is 101800 and is close to Fair median SalePrice I am converting missing \n",
    "# to Fa\n",
    "\n",
    "\n",
    "df.loc[df['BsmtQual']=='missing', 'BsmtQual'] = 'Fa'\n",
    "\n",
    "\n"
   ]
  },
  {
   "cell_type": "code",
   "execution_count": 169,
   "metadata": {},
   "outputs": [
    {
     "data": {
      "text/plain": [
       "None       863\n",
       "BrkFace    443\n",
       "Stone      126\n",
       "BrkCmn      15\n",
       "NaN          8\n",
       "Name: MasVnrType, dtype: int64"
      ]
     },
     "execution_count": 169,
     "metadata": {},
     "output_type": "execute_result"
    }
   ],
   "source": [
    "#To get value_counts() of 'MasVnrType'\n",
    "\n",
    "df['MasVnrType'].value_counts(dropna=False)\n",
    "        "
   ]
  },
  {
   "cell_type": "code",
   "execution_count": 170,
   "metadata": {
    "collapsed": true
   },
   "outputs": [],
   "source": [
    "df.loc[df['MasVnrType'].isnull(), 'MasVnrType'] = 'Stone'"
   ]
  },
  {
   "cell_type": "code",
   "execution_count": 171,
   "metadata": {},
   "outputs": [
    {
     "data": {
      "text/plain": [
       "0    0.595189\n",
       "1    0.595189\n",
       "2    0.595189\n",
       "3   -0.265979\n",
       "4    0.595189\n",
       "Name: GarageType, dtype: float64"
      ]
     },
     "execution_count": 171,
     "metadata": {},
     "output_type": "execute_result"
    }
   ],
   "source": [
    "def convert_garagetype(d, x, y, col_name):\n",
    "    import pandas as pd\n",
    "    for ele in range(len(x)):\n",
    "        if x[ele]=='Detchd':\n",
    "            if x[ele] in y:\n",
    "                x[ele]=-y[x[ele]]\n",
    "                \n",
    "        else:\n",
    "            if x[ele] in y:\n",
    "                x[ele]=y[x[ele]]\n",
    "        \n",
    "    d.drop(col_name, axis=1)\n",
    "    d[col_name]=pd.Series(x)\n",
    "    return d[col_name].head()\n",
    "\n",
    "convert_garagetype(df, df['GarageType'].tolist(), dict(df['GarageType'].value_counts()/len(df)), 'GarageType')"
   ]
  },
  {
   "cell_type": "code",
   "execution_count": 172,
   "metadata": {},
   "outputs": [
    {
     "data": {
      "text/plain": [
       "False"
      ]
     },
     "execution_count": 172,
     "metadata": {},
     "output_type": "execute_result"
    }
   ],
   "source": [
    "df['GarageType'].isnull().any()"
   ]
  },
  {
   "cell_type": "code",
   "execution_count": 173,
   "metadata": {},
   "outputs": [
    {
     "data": {
      "text/plain": [
       "0    0.304467\n",
       "1   -0.593127\n",
       "2    0.304467\n",
       "3   -0.593127\n",
       "4    0.304467\n",
       "Name: MasVnrType, dtype: float64"
      ]
     },
     "execution_count": 173,
     "metadata": {},
     "output_type": "execute_result"
    }
   ],
   "source": [
    "#Convert 'MasVnrType' into numerical: None means no veneer type at all\n",
    "\n",
    "def convert_MasVnrType(d, x, y, col_name):\n",
    "    import pandas as pd\n",
    "    for ele in range(len(x)):\n",
    "        if x[ele]=='None':\n",
    "            if x[ele] in y:\n",
    "                x[ele]=-y[x[ele]]\n",
    "                \n",
    "        else:\n",
    "            if x[ele] in y:\n",
    "                x[ele]=y[x[ele]]\n",
    "        \n",
    "    d.drop(col_name, axis=1)\n",
    "    d[col_name]=pd.Series(x)\n",
    "    return d[col_name].head()\n",
    "\n",
    "convert_MasVnrType(df, df['MasVnrType'].tolist(), dict(df['MasVnrType'].value_counts()/len(df)), 'MasVnrType')"
   ]
  },
  {
   "cell_type": "code",
   "execution_count": 174,
   "metadata": {},
   "outputs": [
    {
     "data": {
      "text/plain": [
       "False"
      ]
     },
     "execution_count": 174,
     "metadata": {},
     "output_type": "execute_result"
    }
   ],
   "source": [
    "df['MasVnrType'].isnull().any()"
   ]
  },
  {
   "cell_type": "code",
   "execution_count": 175,
   "metadata": {},
   "outputs": [
    {
     "data": {
      "text/plain": [
       "0    0.821993\n",
       "1    0.821993\n",
       "2    0.821993\n",
       "3   -0.068729\n",
       "4    0.821993\n",
       "Name: SaleCondition, dtype: float64"
      ]
     },
     "execution_count": 175,
     "metadata": {},
     "output_type": "execute_result"
    }
   ],
   "source": [
    "#Don't include SaleType instead include SaleCondition\n",
    "def convert_SaleCondition(d, x, y, col_name):\n",
    "    import pandas as pd\n",
    "    for ele in range(len(x)):\n",
    "        if x[ele]=='Abnorml':\n",
    "            if x[ele] in y:\n",
    "                x[ele]=-y[x[ele]]\n",
    "                \n",
    "        else:\n",
    "            if x[ele] in y:\n",
    "                x[ele]=y[x[ele]]\n",
    "        \n",
    "    d.drop(col_name, axis=1)\n",
    "    d[col_name]=pd.Series(x)\n",
    "    return d[col_name].head()\n",
    "\n",
    "convert_SaleCondition(df, df['SaleCondition'].tolist(), dict(df['SaleCondition'].value_counts()/len(df)), 'SaleCondition')"
   ]
  },
  {
   "cell_type": "code",
   "execution_count": 176,
   "metadata": {
    "collapsed": true
   },
   "outputs": [],
   "source": [
    "#To find the age of a building by subtracting 'YearBuilt' from 'YrSold' \n",
    "df['Age_building']=(df['YrSold']-df['YearBuilt'])"
   ]
  },
  {
   "cell_type": "code",
   "execution_count": 177,
   "metadata": {
    "collapsed": true
   },
   "outputs": [],
   "source": [
    "#To find the number of years since a building had been remodeled before the time it was sold by subtracting 'YearRemodAdd' from\n",
    "#'YrSold'\n",
    "df['Since_remodeled']=(df['YrSold']-df['YearRemodAdd'])\n",
    "\n",
    "\n"
   ]
  },
  {
   "cell_type": "code",
   "execution_count": 178,
   "metadata": {
    "collapsed": true
   },
   "outputs": [],
   "source": [
    "#Filling in the missing values in 'GarageYrBlt'\n",
    "df.GarageYrBlt = df.GarageYrBlt.fillna(df['GarageYrBlt'].median())"
   ]
  },
  {
   "cell_type": "code",
   "execution_count": 179,
   "metadata": {
    "collapsed": true
   },
   "outputs": [],
   "source": [
    "#GarageYrBlt Vs. SalePrice It is possible to get the info on whether the garage is a old one or recently built and thereby\n",
    "#check how that had affected the SalePrice\n",
    "\n",
    "#To find the age of a building by subtracting 'YearBuilt' from 'YrSold' \n",
    "df['Age_garage']=(df['YrSold']-df['GarageYrBlt'])"
   ]
  },
  {
   "cell_type": "code",
   "execution_count": 180,
   "metadata": {
    "scrolled": true
   },
   "outputs": [
    {
     "data": {
      "text/plain": [
       "1    1387\n",
       "2      65\n",
       "3       2\n",
       "0       1\n",
       "Name: KitchenAbvGr, dtype: int64"
      ]
     },
     "execution_count": 180,
     "metadata": {},
     "output_type": "execute_result"
    }
   ],
   "source": [
    "df['KitchenAbvGr'].value_counts()"
   ]
  },
  {
   "cell_type": "code",
   "execution_count": 181,
   "metadata": {},
   "outputs": [
    {
     "data": {
      "text/plain": [
       "RL         1146\n",
       "RM          218\n",
       "FV           65\n",
       "RH           16\n",
       "C (all)      10\n",
       "Name: MSZoning, dtype: int64"
      ]
     },
     "execution_count": 181,
     "metadata": {},
     "output_type": "execute_result"
    }
   ],
   "source": [
    "df['MSZoning'].value_counts()"
   ]
  },
  {
   "cell_type": "code",
   "execution_count": 182,
   "metadata": {
    "scrolled": false
   },
   "outputs": [
    {
     "data": {
      "text/plain": [
       "0    0.787629\n",
       "1    0.787629\n",
       "2    0.787629\n",
       "3    0.787629\n",
       "4    0.787629\n",
       "Name: MSZoning, dtype: float64"
      ]
     },
     "execution_count": 182,
     "metadata": {},
     "output_type": "execute_result"
    }
   ],
   "source": [
    "def convert_MSzoning(d, x, y, col_name):\n",
    "    import pandas as pd\n",
    "    for ele in range(len(x)):\n",
    "        if (x[ele]=='FV') | (x[ele]=='C (all)'):\n",
    "            if x[ele] in y:\n",
    "                x[ele]=-y[x[ele]]\n",
    "                \n",
    "        else:\n",
    "            if x[ele] in y:\n",
    "                x[ele]=y[x[ele]]\n",
    "        \n",
    "    d.drop(col_name, axis=1)\n",
    "    d[col_name]=pd.Series(x)\n",
    "    return d[col_name].head()\n",
    "\n",
    "convert_MSzoning(df, df['MSZoning'].tolist(), dict(df['MSZoning'].value_counts()/len(df)), 'MSZoning')"
   ]
  },
  {
   "cell_type": "code",
   "execution_count": 183,
   "metadata": {
    "scrolled": true
   },
   "outputs": [
    {
     "data": {
      "text/plain": [
       "0   -150\n",
       "1   -284\n",
       "2   -434\n",
       "3   -540\n",
       "4   -490\n",
       "Name: BsmtUnfSF, dtype: int64"
      ]
     },
     "execution_count": 183,
     "metadata": {},
     "output_type": "execute_result"
    }
   ],
   "source": [
    "#To negate the values in 'BsmtUnfSF'\n",
    "\n",
    "def convert_BsmtUnfSF(d, x, col_name):\n",
    "    import pandas as pd\n",
    "    for ele in range(len(x)):\n",
    "        if x[ele]!=0:\n",
    "            x[ele]=-x[ele]\n",
    "        \n",
    "    d.drop(col_name, axis=1)\n",
    "    d[col_name]=pd.Series(x)\n",
    "    return d[col_name].head()\n",
    "\n",
    "convert_BsmtUnfSF(df, df['BsmtUnfSF'].tolist(), 'BsmtUnfSF')"
   ]
  },
  {
   "cell_type": "code",
   "execution_count": 184,
   "metadata": {},
   "outputs": [
    {
     "data": {
      "text/plain": [
       "Typ     1355\n",
       "Min2      34\n",
       "Min1      31\n",
       "Mod       15\n",
       "Maj1      14\n",
       "Maj2       5\n",
       "Sev        1\n",
       "Name: Functional, dtype: int64"
      ]
     },
     "execution_count": 184,
     "metadata": {},
     "output_type": "execute_result"
    }
   ],
   "source": [
    "df['Functional'].value_counts()"
   ]
  },
  {
   "cell_type": "code",
   "execution_count": 185,
   "metadata": {},
   "outputs": [
    {
     "data": {
      "text/plain": [
       "0    0.931271\n",
       "1    0.931271\n",
       "2    0.931271\n",
       "3    0.931271\n",
       "4    0.931271\n",
       "Name: Functional, dtype: float64"
      ]
     },
     "execution_count": 185,
     "metadata": {},
     "output_type": "execute_result"
    }
   ],
   "source": [
    "#To convert 'Functional'\n",
    "\n",
    "def convert_Functional(d, x, y, col_name):\n",
    "    import pandas as pd\n",
    "    for ele in range(len(x)):\n",
    "        if (x[ele]=='Mod') | (x[ele]=='Maj1') | (x[ele]=='Maj2') | (x[ele]=='Sev'):\n",
    "            if x[ele] in y:\n",
    "                x[ele]=-y[x[ele]]\n",
    "                \n",
    "        else:\n",
    "            if x[ele] in y:\n",
    "                x[ele]=y[x[ele]]\n",
    "        \n",
    "    d.drop(col_name, axis=1)\n",
    "    d[col_name]=pd.Series(x)\n",
    "    return d[col_name].head()\n",
    "\n",
    "convert_Functional(df, df['Functional'].tolist(), dict(df['Functional'].value_counts()/len(df)), 'Functional')"
   ]
  },
  {
   "cell_type": "code",
   "execution_count": 186,
   "metadata": {
    "scrolled": false
   },
   "outputs": [
    {
     "data": {
      "text/plain": [
       "0    0.868729\n",
       "1    0.868729\n",
       "2    0.868729\n",
       "3    0.868729\n",
       "4    0.868729\n",
       "Name: SaleType, dtype: float64"
      ]
     },
     "execution_count": 186,
     "metadata": {},
     "output_type": "execute_result"
    }
   ],
   "source": [
    "#To convert the categorical values in the column: 'Neighborhood', 'MasVnrType', 'MoSold', \n",
    "def convert_categorical(d, x, y, col_name):\n",
    "    import pandas as pd\n",
    "    for ele in range(len(x)):\n",
    "        if x[ele] in y:\n",
    "            x[ele]=y[x[ele]]\n",
    "\n",
    "            \n",
    "    d.drop(col_name, axis=1)\n",
    "    d[col_name]=pd.Series(x)\n",
    "    return d[col_name].head()\n",
    "\n",
    "convert_categorical(df, df['KitchenQual'].tolist(), dict(df['KitchenQual'].value_counts()/len(df)), 'KitchenQual')\n",
    "\n",
    "convert_categorical(df, df['HouseStyle'].tolist(), dict(df['HouseStyle'].value_counts()/len(df)), 'HouseStyle')\n",
    "\n",
    "convert_categorical(df, df['BsmtQual'].tolist(), dict(df['BsmtQual'].value_counts()/len(df)), 'BsmtQual')\n",
    "\n",
    "convert_categorical(df, df['Electrical'].tolist(), dict(df['Electrical'].value_counts()/len(df)), 'Electrical')\n",
    "\n",
    "convert_categorical(df, df['MoSold'].tolist(), dict(df['MoSold'].value_counts()/len(df)), 'MoSold')\n",
    "\n",
    "convert_categorical(df, df['Season'].tolist(), dict(df['Season'].value_counts()/len(df)), 'Season')\n",
    "\n",
    "convert_categorical(df, df['Neighborhood'].tolist(), dict(df['Neighborhood'].value_counts()/len(df)), 'Neighborhood')\n",
    "\n",
    "convert_categorical(df, df['BldgType'].tolist(), dict(df['BldgType'].value_counts()/len(df)), 'BldgType')\n",
    "\n",
    "convert_categorical(df, df['SaleType'].tolist(), dict(df['SaleType'].value_counts()/len(df)), 'SaleType')\n",
    "\n"
   ]
  },
  {
   "cell_type": "code",
   "execution_count": 187,
   "metadata": {
    "scrolled": true
   },
   "outputs": [
    {
     "data": {
      "text/plain": [
       "0    0.208247\n",
       "1    0.224055\n",
       "2    0.208247\n",
       "3    0.215120\n",
       "4    0.208247\n",
       "Name: YrSold, dtype: float64"
      ]
     },
     "execution_count": 187,
     "metadata": {},
     "output_type": "execute_result"
    }
   ],
   "source": [
    "def convert_categorical(d, x, y, col_name):\n",
    "    import pandas as pd\n",
    "    for ele in range(len(x)):\n",
    "        if x[ele] in y:\n",
    "            x[ele]=y[x[ele]]\n",
    "\n",
    "            \n",
    "    d.drop(col_name, axis=1)\n",
    "    d[col_name]=pd.Series(x)\n",
    "    return d[col_name].head()\n",
    "\n",
    "convert_categorical(df, df['YrSold'].tolist(), dict(df['YrSold'].value_counts()/len(df)), 'YrSold')\n",
    "\n"
   ]
  },
  {
   "cell_type": "code",
   "execution_count": 188,
   "metadata": {
    "collapsed": true
   },
   "outputs": [],
   "source": [
    "# 'KitchenAbvGr', 'BsmtFullBath', 'BsmtUnfSF', 'Functional', 'BedroomAbvGr', 'MSZoning'"
   ]
  },
  {
   "cell_type": "code",
   "execution_count": 189,
   "metadata": {},
   "outputs": [
    {
     "data": {
      "text/plain": [
       "5     397\n",
       "6     374\n",
       "7     319\n",
       "8     168\n",
       "4     116\n",
       "9      43\n",
       "3      20\n",
       "10     13\n",
       "2       3\n",
       "1       2\n",
       "Name: OverallQual, dtype: int64"
      ]
     },
     "execution_count": 189,
     "metadata": {},
     "output_type": "execute_result"
    }
   ],
   "source": [
    "df['OverallQual'].value_counts()"
   ]
  },
  {
   "cell_type": "code",
   "execution_count": 190,
   "metadata": {
    "scrolled": true
   },
   "outputs": [
    {
     "data": {
      "text/plain": [
       "TA    906\n",
       "Gd    486\n",
       "Ex     49\n",
       "Fa     14\n",
       "Name: ExterQual, dtype: int64"
      ]
     },
     "execution_count": 190,
     "metadata": {},
     "output_type": "execute_result"
    }
   ],
   "source": [
    "df['ExterQual'].value_counts()"
   ]
  },
  {
   "cell_type": "code",
   "execution_count": 191,
   "metadata": {},
   "outputs": [
    {
     "data": {
      "text/plain": [
       "Ex    736\n",
       "TA    428\n",
       "Gd    241\n",
       "Fa     49\n",
       "Po      1\n",
       "Name: HeatingQC, dtype: int64"
      ]
     },
     "execution_count": 191,
     "metadata": {},
     "output_type": "execute_result"
    }
   ],
   "source": [
    "df['HeatingQC'].value_counts()"
   ]
  },
  {
   "cell_type": "code",
   "execution_count": 192,
   "metadata": {},
   "outputs": [
    {
     "data": {
      "text/plain": [
       "Unf    605\n",
       "RFn    422\n",
       "Fin    347\n",
       "Name: GarageFinish, dtype: int64"
      ]
     },
     "execution_count": 192,
     "metadata": {},
     "output_type": "execute_result"
    }
   ],
   "source": [
    "df['GarageFinish'].value_counts()"
   ]
  },
  {
   "cell_type": "code",
   "execution_count": 193,
   "metadata": {
    "collapsed": true
   },
   "outputs": [],
   "source": [
    "##Converting the categorical values in 'CentralAir' into numerical\n",
    "\n",
    "df.loc[df['CentralAir']=='Y', 'CentralAir']=1\n",
    "df.loc[df['CentralAir']=='N', 'CentralAir']=0"
   ]
  },
  {
   "cell_type": "code",
   "execution_count": 194,
   "metadata": {
    "scrolled": true
   },
   "outputs": [
    {
     "data": {
      "text/plain": [
       "0    0.505842\n",
       "1    0.505842\n",
       "2    0.505842\n",
       "3    0.165636\n",
       "4    0.505842\n",
       "Name: HeatingQC, dtype: float64"
      ]
     },
     "execution_count": 194,
     "metadata": {},
     "output_type": "execute_result"
    }
   ],
   "source": [
    "convert_categorical(df, df['Foundation'].tolist(), dict(df['Foundation'].value_counts()/len(df)), 'Foundation')\n",
    "convert_categorical(df, df['LotShape'].tolist(), dict(df['LotShape'].value_counts()/len(df)), 'LotShape')\n",
    "convert_categorical(df, df['HouseStyle'].tolist(), dict(df['HouseStyle'].value_counts()/len(df)), 'HouseStyle')\n",
    "convert_categorical(df, df['Heating'].tolist(), dict(df['Heating'].value_counts()/len(df)), 'Heating')\n",
    "convert_categorical(df, df['Electrical'].tolist(), dict(df['Electrical'].value_counts()/len(df)), 'Electrical')\n",
    "convert_categorical(df, df['HeatingQC'].tolist(), dict(df['HeatingQC'].value_counts()/len(df)), 'HeatingQC')\n"
   ]
  },
  {
   "cell_type": "code",
   "execution_count": 195,
   "metadata": {},
   "outputs": [
    {
     "data": {
      "text/plain": [
       "0    0.334021\n",
       "1    0.622680\n",
       "2    0.334021\n",
       "3    0.622680\n",
       "4    0.334021\n",
       "Name: ExterQual, dtype: float64"
      ]
     },
     "execution_count": 195,
     "metadata": {},
     "output_type": "execute_result"
    }
   ],
   "source": [
    "\n",
    "\n",
    "convert_categorical(df, df['Exterior1st'].tolist(), dict(df['Exterior1st'].value_counts()/len(df)), 'Exterior1st')\n",
    "convert_categorical(df, df['Exterior2nd'].tolist(), dict(df['Exterior2nd'].value_counts()/len(df)), 'Exterior2nd')\n",
    "convert_categorical(df, df['MSSubClass'].tolist(), dict(df['MSSubClass'].value_counts()/len(df)), 'MSSubClass')\n",
    "convert_categorical(df, df['OverallQual'].tolist(), dict(df['OverallQual'].value_counts()/len(df)), 'OverallQual')\n",
    "convert_categorical(df, df['ExterQual'].tolist(), dict(df['ExterQual'].value_counts()/len(df)), 'ExterQual')\n",
    "\n",
    "\n"
   ]
  },
  {
   "cell_type": "code",
   "execution_count": 196,
   "metadata": {
    "scrolled": true
   },
   "outputs": [
    {
     "data": {
      "text/plain": [
       "Index(['LotFrontage', 'Alley', 'MasVnrArea', 'BsmtCond', 'BsmtExposure',\n",
       "       'BsmtFinType1', 'BsmtFinType2', 'Electrical', 'FireplaceQu',\n",
       "       'GarageFinish', 'GarageQual', 'GarageCond', 'PoolQC', 'Fence',\n",
       "       'MiscFeature'],\n",
       "      dtype='object')"
      ]
     },
     "execution_count": 196,
     "metadata": {},
     "output_type": "execute_result"
    }
   ],
   "source": [
    "df.columns[df.isnull().any()]"
   ]
  },
  {
   "cell_type": "code",
   "execution_count": 197,
   "metadata": {},
   "outputs": [
    {
     "data": {
      "text/plain": [
       "NaN       259\n",
       " 60.0     143\n",
       " 70.0      70\n",
       " 80.0      69\n",
       " 50.0      57\n",
       " 75.0      53\n",
       " 65.0      44\n",
       " 85.0      40\n",
       " 78.0      25\n",
       " 21.0      23\n",
       " 90.0      23\n",
       " 64.0      19\n",
       " 24.0      19\n",
       " 68.0      19\n",
       " 73.0      18\n",
       " 79.0      17\n",
       " 55.0      17\n",
       " 63.0      17\n",
       " 72.0      17\n",
       " 100.0     16\n",
       " 66.0      15\n",
       " 51.0      15\n",
       " 74.0      15\n",
       " 52.0      14\n",
       " 59.0      13\n",
       " 40.0      12\n",
       " 43.0      12\n",
       " 82.0      12\n",
       " 57.0      12\n",
       " 67.0      12\n",
       "         ... \n",
       " 109.0      2\n",
       " 130.0      2\n",
       " 115.0      2\n",
       " 129.0      2\n",
       " 114.0      2\n",
       " 116.0      2\n",
       " 124.0      2\n",
       " 104.0      2\n",
       " 122.0      2\n",
       " 144.0      1\n",
       " 182.0      1\n",
       " 38.0       1\n",
       " 138.0      1\n",
       " 111.0      1\n",
       " 150.0      1\n",
       " 118.0      1\n",
       " 39.0       1\n",
       " 140.0      1\n",
       " 153.0      1\n",
       " 128.0      1\n",
       " 168.0      1\n",
       " 152.0      1\n",
       " 112.0      1\n",
       " 46.0       1\n",
       " 313.0      1\n",
       " 141.0      1\n",
       " 33.0       1\n",
       " 149.0      1\n",
       " 106.0      1\n",
       " 137.0      1\n",
       "Name: LotFrontage, Length: 110, dtype: int64"
      ]
     },
     "execution_count": 197,
     "metadata": {},
     "output_type": "execute_result"
    }
   ],
   "source": [
    "df['LotFrontage'].value_counts(dropna=False)"
   ]
  },
  {
   "cell_type": "code",
   "execution_count": 198,
   "metadata": {
    "collapsed": true
   },
   "outputs": [],
   "source": [
    "df.loc[df['LotFrontage'].isnull(), 'LotFrontage'] = 'missing'"
   ]
  },
  {
   "cell_type": "code",
   "execution_count": 199,
   "metadata": {},
   "outputs": [
    {
     "data": {
      "text/plain": [
       "LotFrontage\n",
       "21.0        91000.0\n",
       "24.0       147400.0\n",
       "30.0       151000.0\n",
       "32.0       162000.0\n",
       "33.0       113000.0\n",
       "34.0       178500.0\n",
       "35.0       148000.0\n",
       "36.0       143750.0\n",
       "37.0       142500.0\n",
       "38.0       245500.0\n",
       "39.0       236500.0\n",
       "40.0       134700.0\n",
       "41.0       204250.0\n",
       "42.0       243200.0\n",
       "43.0       188425.0\n",
       "44.0       224000.0\n",
       "45.0        67000.0\n",
       "46.0       215000.0\n",
       "47.0       207500.0\n",
       "48.0       228450.0\n",
       "49.0       204548.5\n",
       "50.0       119000.0\n",
       "51.0       132000.0\n",
       "52.0       111250.0\n",
       "53.0       173250.0\n",
       "54.0       142200.0\n",
       "55.0       132500.0\n",
       "56.0       115000.0\n",
       "57.0       142200.0\n",
       "58.0       173000.0\n",
       "             ...   \n",
       "109.0      204500.0\n",
       "110.0      326250.0\n",
       "111.0      342643.0\n",
       "112.0      145000.0\n",
       "114.0      282450.0\n",
       "115.0      152500.0\n",
       "116.0      240000.0\n",
       "118.0      205000.0\n",
       "120.0      128500.0\n",
       "121.0      214000.0\n",
       "122.0      206500.0\n",
       "124.0      218500.0\n",
       "128.0      149500.0\n",
       "129.0      258000.0\n",
       "130.0      167500.0\n",
       "134.0      234950.0\n",
       "137.0      190000.0\n",
       "138.0      200500.0\n",
       "140.0      141000.0\n",
       "141.0      215000.0\n",
       "144.0      223500.0\n",
       "149.0      174000.0\n",
       "150.0      375000.0\n",
       "152.0      164000.0\n",
       "153.0       52500.0\n",
       "168.0      274725.0\n",
       "174.0      319000.0\n",
       "182.0      259000.0\n",
       "313.0      242000.0\n",
       "missing    172400.0\n",
       "Name: SalePrice, Length: 110, dtype: float64"
      ]
     },
     "execution_count": 199,
     "metadata": {},
     "output_type": "execute_result"
    }
   ],
   "source": [
    "df.groupby('LotFrontage')['SalePrice'].median()"
   ]
  },
  {
   "cell_type": "code",
   "execution_count": 200,
   "metadata": {},
   "outputs": [],
   "source": [
    "df.loc[df['LotFrontage']=='missing', 'LotFrontage'] = 58.0"
   ]
  },
  {
   "cell_type": "code",
   "execution_count": 201,
   "metadata": {},
   "outputs": [
    {
     "data": {
      "text/plain": [
       "Unf    605\n",
       "RFn    422\n",
       "Fin    347\n",
       "NaN     81\n",
       "Name: GarageFinish, dtype: int64"
      ]
     },
     "execution_count": 201,
     "metadata": {},
     "output_type": "execute_result"
    }
   ],
   "source": [
    "df['GarageFinish'].value_counts(dropna=False)"
   ]
  },
  {
   "cell_type": "code",
   "execution_count": 202,
   "metadata": {
    "collapsed": true
   },
   "outputs": [],
   "source": [
    "df.loc[df['GarageFinish'].isnull(), 'GarageFinish'] = 'missing'"
   ]
  },
  {
   "cell_type": "code",
   "execution_count": 203,
   "metadata": {
    "scrolled": true
   },
   "outputs": [
    {
     "data": {
      "text/plain": [
       "GarageFinish\n",
       "Fin        215000\n",
       "RFn        190000\n",
       "Unf        135000\n",
       "missing    100000\n",
       "Name: SalePrice, dtype: int64"
      ]
     },
     "execution_count": 203,
     "metadata": {},
     "output_type": "execute_result"
    }
   ],
   "source": [
    "df.groupby('GarageFinish')['SalePrice'].median()"
   ]
  },
  {
   "cell_type": "code",
   "execution_count": 204,
   "metadata": {
    "collapsed": true
   },
   "outputs": [],
   "source": [
    "df.loc[df['GarageFinish']=='missing', 'GarageFinish'] = 'Unf'"
   ]
  },
  {
   "cell_type": "code",
   "execution_count": 205,
   "metadata": {},
   "outputs": [
    {
     "data": {
      "text/plain": [
       "0    0.290034\n",
       "1    0.290034\n",
       "2    0.290034\n",
       "3   -0.471478\n",
       "4    0.290034\n",
       "Name: GarageFinish, dtype: float64"
      ]
     },
     "execution_count": 205,
     "metadata": {},
     "output_type": "execute_result"
    }
   ],
   "source": [
    "def convert_MSzoning(d, x, y, col_name):\n",
    "    import pandas as pd\n",
    "    for ele in range(len(x)):\n",
    "        if (x[ele]=='Unf'):\n",
    "            if x[ele] in y:\n",
    "                x[ele]=-y[x[ele]]\n",
    "                \n",
    "        else:\n",
    "            if x[ele] in y:\n",
    "                x[ele]=y[x[ele]]\n",
    "        \n",
    "    d.drop(col_name, axis=1)\n",
    "    d[col_name]=pd.Series(x)\n",
    "    return d[col_name].head()\n",
    "\n",
    "convert_MSzoning(df, df['GarageFinish'].tolist(), dict(df['GarageFinish'].value_counts()/len(df)), 'GarageFinish')"
   ]
  },
  {
   "cell_type": "code",
   "execution_count": 209,
   "metadata": {
    "collapsed": true
   },
   "outputs": [],
   "source": [
    "cols = [col for col in df.columns if col in ['LotArea', 'CentralAir','Foundation','HeatingQC','LotShape','HouseStyle','Heating','Exterior1st','Exterior2nd','MSSubClass','OverallQual','ExterQual','GarageFinish','LotFrontage','Exterior1st', 'Exterior2nd', 'Neighborhood', 'GarageCars','MasVnrType', 'BsmtQual', 'TotalBsmtSF', '1stFlrSF','2ndFlrSF', 'GrLivArea', 'FullBath', 'HalfBath', 'TotRmsAbvGrd','GarageType', 'GarageArea', 'WoodDeckSF', 'MoSold', 'SaleType','SaleCondition','Age_building', 'Since_remodeled', 'Age_garage', 'BldgType', 'MSZoning', 'Season', 'KitchenQual', 'BedroomAbvGr', 'Functional', 'BsmtUnfSF','BsmtFullBath', 'KitchenAbvGr','YrSold','SalePrice']]\n",
    "df1 = df[cols]"
   ]
  },
  {
   "cell_type": "code",
   "execution_count": 210,
   "metadata": {},
   "outputs": [
    {
     "data": {
      "text/plain": [
       "45"
      ]
     },
     "execution_count": 210,
     "metadata": {},
     "output_type": "execute_result"
    }
   ],
   "source": [
    "len(df1.columns)"
   ]
  },
  {
   "cell_type": "code",
   "execution_count": 211,
   "metadata": {},
   "outputs": [
    {
     "data": {
      "text/plain": [
       "Index([], dtype='object')"
      ]
     },
     "execution_count": 211,
     "metadata": {},
     "output_type": "execute_result"
    }
   ],
   "source": [
    "df1.columns[df1.isnull().any()]"
   ]
  },
  {
   "cell_type": "code",
   "execution_count": 212,
   "metadata": {
    "collapsed": true
   },
   "outputs": [],
   "source": [
    "num_features=['LotArea', 'CentralAir','Foundation','HeatingQC','LotShape','HouseStyle','Heating','Exterior1st','Exterior2nd','MSSubClass','OverallQual','ExterQual','GarageFinish','LotFrontage','Exterior1st', 'Exterior2nd', 'Neighborhood', 'GarageCars','MasVnrType', 'BsmtQual', 'TotalBsmtSF', '1stFlrSF','2ndFlrSF', 'GrLivArea', 'FullBath', 'HalfBath', 'TotRmsAbvGrd','GarageType', 'GarageArea', 'WoodDeckSF', 'MoSold', 'SaleType','SaleCondition','Age_building', 'Since_remodeled', 'Age_garage', 'BldgType', 'MSZoning', 'Season', 'KitchenQual', 'BedroomAbvGr', 'Functional', 'BsmtUnfSF','BsmtFullBath', 'KitchenAbvGr','YrSold']"
   ]
  },
  {
   "cell_type": "code",
   "execution_count": 213,
   "metadata": {
    "collapsed": true
   },
   "outputs": [],
   "source": [
    "corr = df1[['SalePrice'] + num_features].corr()"
   ]
  },
  {
   "cell_type": "code",
   "execution_count": 214,
   "metadata": {},
   "outputs": [
    {
     "data": {
      "image/png": "[encoded data removed]",
      "text/plain": [
       "<matplotlib.figure.Figure at 0x11765dda0>"
      ]
     },
     "metadata": {},
     "output_type": "display_data"
    }
   ],
   "source": [
    "import seaborn as sns\n",
    "import matplotlib.pyplot as plt\n",
    "%matplotlib inline\n",
    "corr_val = corr.sort_values('SalePrice', ascending=False)\n",
    "plt.figure(figsize=(8,10))\n",
    "sns.barplot( corr_val.SalePrice[1:], corr_val.index[1:], orient='h')\n",
    "plt.show()"
   ]
  },
  {
   "cell_type": "code",
   "execution_count": 215,
   "metadata": {
    "collapsed": true
   },
   "outputs": [],
   "source": [
    "y=df1['SalePrice'].values"
   ]
  },
  {
   "cell_type": "code",
   "execution_count": 216,
   "metadata": {
    "collapsed": true
   },
   "outputs": [],
   "source": [
    "df1=df1.drop('SalePrice', axis=1)\n",
    "\n",
    "\n",
    "\n"
   ]
  },
  {
   "cell_type": "code",
   "execution_count": 217,
   "metadata": {
    "collapsed": true
   },
   "outputs": [],
   "source": [
    "X=df1.values"
   ]
  },
  {
   "cell_type": "code",
   "execution_count": 218,
   "metadata": {
    "collapsed": true
   },
   "outputs": [],
   "source": [
    "from sklearn.ensemble import RandomForestRegressor\n",
    "RFR1 = RandomForestRegressor(random_state=42)\n",
    "\n"
   ]
  },
  {
   "cell_type": "code",
   "execution_count": 220,
   "metadata": {},
   "outputs": [
    {
     "data": {
      "text/plain": [
       "15.0"
      ]
     },
     "execution_count": 220,
     "metadata": {},
     "output_type": "execute_result"
    }
   ],
   "source": [
    "45/3"
   ]
  },
  {
   "cell_type": "code",
   "execution_count": 221,
   "metadata": {
    "collapsed": true
   },
   "outputs": [],
   "source": [
    "from sklearn.model_selection import GridSearchCV\n",
    "\n",
    "parameters ={'n_estimators':[100, 150, 200, 250], 'min_samples_split':[2, 3, 4, 5], 'min_samples_leaf':[1, 2, 3], 'max_features':[15, 16, 17]}"
   ]
  },
  {
   "cell_type": "code",
   "execution_count": 222,
   "metadata": {
    "collapsed": true
   },
   "outputs": [],
   "source": [
    "# from sklearn.model_selection import StratifiedKFold\n",
    "# skf = StratifiedKFold(n_splits=10, random_state=7425, shuffle=True)\n"
   ]
  },
  {
   "cell_type": "code",
   "execution_count": 223,
   "metadata": {
    "collapsed": true
   },
   "outputs": [],
   "source": [
    "\n",
    "from sklearn.metrics import mean_squared_error\n",
    "\n",
    "# neg_mse = lambda y1, y2: -mean_squared_error(y1, y2)\n",
    "\n",
    "\n",
    "clf_rfr = GridSearchCV(RFR1, parameters, scoring='neg_mean_squared_error', cv=10)"
   ]
  },
  {
   "cell_type": "code",
   "execution_count": 224,
   "metadata": {},
   "outputs": [
    {
     "data": {
      "text/plain": [
       "GridSearchCV(cv=10, error_score='raise',\n",
       "       estimator=RandomForestRegressor(bootstrap=True, criterion='mse', max_depth=None,\n",
       "           max_features='auto', max_leaf_nodes=None,\n",
       "           min_impurity_decrease=0.0, min_impurity_split=None,\n",
       "           min_samples_leaf=1, min_samples_split=2,\n",
       "           min_weight_fraction_leaf=0.0, n_estimators=10, n_jobs=1,\n",
       "           oob_score=False, random_state=42, verbose=0, warm_start=False),\n",
       "       fit_params=None, iid=True, n_jobs=1,\n",
       "       param_grid={'min_samples_split': [2, 3, 4, 5], 'min_samples_leaf': [1, 2, 3], 'n_estimators': [100, 150, 200, 250], 'max_features': [15, 16, 17]},\n",
       "       pre_dispatch='2*n_jobs', refit=True, return_train_score='warn',\n",
       "       scoring='neg_mean_squared_error', verbose=0)"
      ]
     },
     "execution_count": 224,
     "metadata": {},
     "output_type": "execute_result"
    }
   ],
   "source": [
    "clf_rfr.fit(X, y)#run at 1:12 pm on 9th Jan. end at 1:42"
   ]
  },
  {
   "cell_type": "code",
   "execution_count": 227,
   "metadata": {},
   "outputs": [
    {
     "data": {
      "text/plain": [
       "-677395982.701612"
      ]
     },
     "execution_count": 227,
     "metadata": {},
     "output_type": "execute_result"
    }
   ],
   "source": [
    "clf_rfr.best_score_"
   ]
  },
  {
   "cell_type": "code",
   "execution_count": 70,
   "metadata": {
    "collapsed": true
   },
   "outputs": [],
   "source": [
    "import pandas as pd\n",
    "import numpy as np\n",
    "\n",
    "def get_corrs(df):\n",
    "    col_correlations = df.corr()\n",
    "    col_correlations.loc[:, :] = np.tril(col_correlations, k=-1)\n",
    "    cor_pairs = col_correlations.stack()\n",
    "    return cor_pairs.to_dict()\n"
   ]
  },
  {
   "cell_type": "code",
   "execution_count": 71,
   "metadata": {
    "collapsed": true
   },
   "outputs": [],
   "source": [
    "my_corrs = get_corrs(df1)"
   ]
  },
  {
   "cell_type": "code",
   "execution_count": 73,
   "metadata": {
    "collapsed": true
   },
   "outputs": [],
   "source": [
    "#print(my_corrs[('SalePrice',col_name)])"
   ]
  }
 ],
 "metadata": {
  "kernelspec": {
   "display_name": "Python [conda root]",
   "language": "python",
   "name": "conda-root-py"
  },
  "language_info": {
   "codemirror_mode": {
    "name": "ipython",
    "version": 3
   },
   "file_extension": ".py",
   "mimetype": "text/x-python",
   "name": "python",
   "nbconvert_exporter": "python",
   "pygments_lexer": "ipython3",
   "version": "3.5.6"
  }
 },
 "nbformat": 4,
 "nbformat_minor": 2
}
