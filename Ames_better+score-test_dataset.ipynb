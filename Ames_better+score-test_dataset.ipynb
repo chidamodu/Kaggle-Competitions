{
 "cells": [
  {
   "cell_type": "code",
   "execution_count": 5,
   "metadata": {
    "collapsed": true
   },
   "outputs": [],
   "source": [
    "#write a function and save the transformed final test set using joblib, so that you do not have to run the function again and again\n",
    "import pandas as pd\n",
    "\n",
    "def file_read(fn):\n",
    "\tdf=pd.read_csv(fn)\n",
    "\treturn df\n",
    "\n",
    "def month_season():\n",
    "\timport calendar\n",
    "\t# from time import strptime\n",
    "\t# look_up = {'1': 'Jan', '2': 'Feb', '3': 'Mar', '4': 'Apr', '5': 'May','6': 'Jun', '7': 'Jul', '8': 'Aug', '9': 'Sep', '10': 'Oct', '11': 'Nov', '12': 'Dec'}\n",
    "\t# df['MoSold']=df['MoSold'].apply(lambda x: look_up[x])\n",
    "\tdf['MoSold']=df['MoSold'].apply(lambda x: calendar.month_abbr[x])\n",
    "\tdf['Season']=df['MoSold'].copy()\n",
    "\n",
    "def season_create():\n",
    "\tdf.loc[(df['MoSold']=='Jun') | (df['MoSold']=='Jul') | (df['MoSold']=='Aug'),'Season']='Summer'\n",
    "\tdf.loc[(df['MoSold']=='Mar') | (df['MoSold']=='Apr') | (df['MoSold']=='May'),'Season']= 'Spring'\n",
    "\tdf.loc[(df['MoSold']=='Sep') | (df['MoSold']=='Oct') | (df['MoSold']=='Nov'),'Season']='Autumn'\n",
    "\tdf.loc[(df['MoSold']=='Jan') | (df['MoSold']=='Feb') | (df['MoSold']=='Dec'),'Season']='Winter'\n",
    "\n",
    "def neighborhood_convert():\n",
    "\tdf.loc[(df['Neighborhood']=='IDOTRR')|(df['Neighborhood']=='MeadowV')|(df['Neighborhood']=='SWISU')|(df['Neighborhood']=='BrDale')|(df['Neighborhood']=='NPkVill')|(df['Neighborhood']=='Blueste')|(df['Neighborhood']=='Sawyer'),'Neighborhood']='g'  \n",
    "\tdf.loc[(df['Neighborhood']=='Blmngtn')|(df['Neighborhood']=='Mitchel')|(df['Neighborhood']=='BrkSide')|(df['Neighborhood']=='NWAmes'),'Neighborhood']='h' \n",
    "\tdf.loc[(df['Neighborhood']=='Veenker')|(df['Neighborhood']=='SawyerW')|(df['Neighborhood']=='ClearCr')|(df['Neighborhood']=='Edwards')|(df['Neighborhood']=='Gilbert')|(df['Neighborhood']=='NAmes')|(df['Neighborhood']=='Timber')|(df['Neighborhood']=='Crawfor'),'Neighborhood']='i' \n",
    "\tdf.loc[(df['Neighborhood']=='NoRidge')|(df['Neighborhood']=='NridgHt')|(df['Neighborhood']=='StoneBr')|(df['Neighborhood']=='OldTown')|(df['Neighborhood']=='Somerst')|(df['Neighborhood']=='CollgCr'),'Neighborhood']='j'\n",
    "\n",
    "def fill_missing_values():\n",
    "\tdf.GarageType = df.GarageType.fillna('BuiltIn')\n",
    "\tdf.loc[df['MSZoning'].isnull(), 'MSZoning'] = 'RL'\n",
    "\tdf.loc[df['GarageCars'].isnull(), 'GarageCars'] = 3.0\n",
    "\tdf.loc[df['TotalBsmtSF'].isnull(), 'TotalBsmtSF'] = df['TotalBsmtSF'].median()\n",
    "\tdf.loc[df['GarageArea'].isnull(), 'GarageArea'] = df['GarageArea'].median()    \n",
    "\tdf.loc[df['SaleType'].isnull(), 'SaleType'] = \"New\"    \n",
    "\tdf.loc[df['KitchenQual'].isnull(), 'KitchenQual'] = \"Ex\"    \n",
    "\tdf.loc[df['Functional'].isnull(), 'Functional'] = \"Sev\"    \n",
    "\tdf.loc[df['BsmtUnfSF'].isnull(), 'BsmtUnfSF'] = df['BsmtUnfSF'].median()    \n",
    "\tdf.loc[df['BsmtFullBath'].isnull(), 'BsmtFullBath'] = 1.0    \n",
    "\tdf.loc[df['BsmtQual'].isnull(), 'BsmtQual'] = \"Fa\"\n",
    "\tdf.loc[df['MasVnrType'].isnull(), 'MasVnrType'] = 'Stone'\n",
    "\tdf.GarageYrBlt = df.GarageYrBlt.fillna(df['GarageYrBlt'].median())\n",
    "\n",
    "def find_age():\n",
    "\tdf['Age_building']=(df['YrSold']-df['YearBuilt'])\n",
    "\tdf['Since_remodeled']=(df['YrSold']-df['YearRemodAdd'])\n",
    "\tdf['Age_garage']=(df['YrSold']-df['GarageYrBlt'])\n",
    "\n",
    "\n",
    "def convert_garagetype(x, y, col_name):\n",
    "\tfor ele in range(len(x)):\n",
    "\t\tif x[ele]=='Detchd':\n",
    "\t\t\tif x[ele] in y:\n",
    "\t\t\t\tx[ele]=-y[x[ele]]\n",
    "\t\telse:\n",
    "\t\t\tif x[ele] in y:\n",
    "\t\t\t\tx[ele]=y[x[ele]]\n",
    "\tdf.drop(col_name, axis=1)\n",
    "\tdf[col_name]=pd.Series(x)\n",
    "\t    # return d[col_name].head()\n",
    "\n",
    "\n",
    "\n",
    "def convert_MasVnrType(x, y, col_name):\n",
    "\tfor ele in range(len(x)):\n",
    "\t\tif x[ele]=='None':\n",
    "\t\t\tif x[ele] in y:\n",
    "\t\t\t\tx[ele]=-y[x[ele]]\n",
    "\t\n",
    "\t\telse:\n",
    "\t\t\tif x[ele] in y:\n",
    "\t\t\t\tx[ele]=y[x[ele]]\n",
    "\tdf.drop(col_name, axis=1)\n",
    "\tdf[col_name]=pd.Series(x)\n",
    "\t    # return d[col_name].head()\n",
    "\n",
    "\n",
    "\n",
    "\n",
    "def convert_SaleCondition(x, y, col_name):\n",
    "\tfor ele in range(len(x)):\n",
    "\t\tif x[ele]=='Abnorml':\n",
    "\t\t\tif x[ele] in y:\n",
    "\t\t\t\tx[ele]=-y[x[ele]]\n",
    "\t\telse:\n",
    "\t\t\tif x[ele] in y:\n",
    "\t\t\t\tx[ele]=y[x[ele]]\n",
    "\tdf.drop(col_name, axis=1)\n",
    "\tdf[col_name]=pd.Series(x)\n",
    "    # return d[col_name].head()\n",
    "\n",
    "\n",
    "def convert_BsmtUnfSF(x, col_name):\n",
    "\tfor ele in range(len(x)):\n",
    "\t\tif x[ele]!=0:\n",
    "\t\t\tx[ele]=-x[ele]\n",
    "\tdf.drop(col_name, axis=1)\n",
    "\tdf[col_name]=pd.Series(x)\n",
    "    # return d[col_name].head()\n",
    "\n",
    "\n",
    "\n",
    "\n",
    "def convert_Functional(x, y, col_name):\n",
    "\tfor ele in range(len(x)):\n",
    "\t\tif (x[ele]=='Mod') | (x[ele]=='Maj1') | (x[ele]=='Maj2') | (x[ele]=='Sev'):\n",
    "\t\t\tif x[ele] in y:\n",
    "\t\t\t\tx[ele]=-y[x[ele]]\n",
    "\t\telse:\n",
    "\t\t\tif x[ele] in y:\n",
    "\t\t\t\tx[ele]=y[x[ele]]        \n",
    "\tdf.drop(col_name, axis=1)\n",
    "\tdf[col_name]=pd.Series(x)\n",
    "    # return d[col_name].head()\n",
    "\n",
    "\n",
    "\n",
    "\n",
    "def convert_categorical(x, y, col_name):\n",
    "\tfor ele in range(len(x)):\n",
    "\t\tif x[ele] in y:\n",
    "\t\t\tx[ele]=y[x[ele]]\n",
    "\tdf.drop(col_name, axis=1)\n",
    "\tdf[col_name]=pd.Series(x)\n",
    "    # return d[col_name].head()\n",
    "\n",
    "\n",
    "def convert_yearsold(x, y, col_name):\n",
    "\tfor ele in range(len(x)):\n",
    "\t\tif x[ele] in y:\n",
    "\t\t\tx[ele]=y[x[ele]]\n",
    "\tdf.drop(col_name, axis=1)\n",
    "\tdf[col_name]=pd.Series(x)\n",
    "    # return d[col_name].head()\n",
    "\n",
    "\n",
    "def main_fn():\n",
    "\tmonth_season()\n",
    "\tseason_create()\n",
    "\tneighborhood_convert()\n",
    "\tfill_missing_values()\n",
    "\tfind_age()\n",
    "\tconvert_garagetype(df['GarageType'].tolist(), dict(df['GarageType'].value_counts()/len(df)), 'GarageType')\n",
    "\tconvert_MasVnrType(df['MasVnrType'].tolist(), dict(df['MasVnrType'].value_counts()/len(df)), 'MasVnrType')\n",
    "\tconvert_SaleCondition(df['SaleCondition'].tolist(), dict(df['SaleCondition'].value_counts()/len(df)), 'SaleCondition')\n",
    "\tconvert_BsmtUnfSF(df['BsmtUnfSF'].tolist(), 'BsmtUnfSF')\n",
    "\tconvert_Functional(df['Functional'].tolist(), dict(df['Functional'].value_counts()/len(df)), 'Functional')\n",
    "\tconvert_categorical(df['KitchenQual'].tolist(), dict(df['KitchenQual'].value_counts()/len(df)), 'KitchenQual')\n",
    "\tconvert_categorical(df['HouseStyle'].tolist(), dict(df['HouseStyle'].value_counts()/len(df)), 'HouseStyle')\n",
    "\tconvert_categorical(df['BsmtQual'].tolist(), dict(df['BsmtQual'].value_counts()/len(df)), 'BsmtQual')\n",
    "\tconvert_categorical(df['Electrical'].tolist(), dict(df['Electrical'].value_counts()/len(df)), 'Electrical')\n",
    "\tconvert_categorical(df['MoSold'].tolist(), dict(df['MoSold'].value_counts()/len(df)), 'MoSold')\n",
    "\tconvert_categorical(df['Season'].tolist(), dict(df['Season'].value_counts()/len(df)), 'Season')\n",
    "\tconvert_categorical(df['Neighborhood'].tolist(), dict(df['Neighborhood'].value_counts()/len(df)), 'Neighborhood')\n",
    "\tconvert_categorical(df['BldgType'].tolist(), dict(df['BldgType'].value_counts()/len(df)), 'BldgType')\n",
    "\tconvert_categorical(df['SaleType'].tolist(), dict(df['SaleType'].value_counts()/len(df)), 'SaleType')\n",
    "\tconvert_categorical(df['MSZoning'].tolist(), dict(df['MSZoning'].value_counts()/len(df)), 'MSZoning')\n",
    "\tconvert_yearsold(df['YrSold'].tolist(), dict(df['YrSold'].value_counts()/len(df)), 'YrSold')\n",
    "\n",
    "\n",
    "\tcols = [col for col in df.columns if col in ['LotArea', 'Neighborhood', 'GarageCars','MasVnrType', 'BsmtQual', 'TotalBsmtSF', '1stFlrSF','2ndFlrSF', 'GrLivArea', 'FullBath', 'HalfBath', 'TotRmsAbvGrd','GarageType', 'GarageArea', 'WoodDeckSF', 'MoSold', 'SaleType','SaleCondition','Age_building', 'Since_remodeled', 'Age_garage', 'BldgType', 'MSZoning', 'Season', 'KitchenQual', 'BedroomAbvGr', 'Functional', 'BsmtUnfSF','BsmtFullBath', 'KitchenAbvGr','YrSold','SalePrice']]\n",
    "\tdf1 = df[cols]\n",
    "\t# print(df1.head())\n",
    "\treturn df1\n",
    "\t#print(df1.head())\n",
    "\n",
    "df=file_read('/Users/chidam/Desktop/housing_price_kaggle_test_set.csv')\n",
    "df_test_transform=main_fn()\n",
    "\n",
    "\n",
    "\n",
    "\n",
    "\n"
   ]
  },
  {
   "cell_type": "code",
   "execution_count": 42,
   "metadata": {
    "collapsed": true
   },
   "outputs": [],
   "source": [
    "import pandas as pd\n",
    "df_justid=pd.read_csv('/Users/chidam/Desktop/housing_price_kaggle_test_set.csv')\n"
   ]
  },
  {
   "cell_type": "code",
   "execution_count": 45,
   "metadata": {},
   "outputs": [],
   "source": [
    "ID=df_justid.Id.values"
   ]
  },
  {
   "cell_type": "code",
   "execution_count": 27,
   "metadata": {},
   "outputs": [
    {
     "data": {
      "text/html": [
       "<div>\n",
       "<style>\n",
       "    .dataframe thead tr:only-child th {\n",
       "        text-align: right;\n",
       "    }\n",
       "\n",
       "    .dataframe thead th {\n",
       "        text-align: left;\n",
       "    }\n",
       "\n",
       "    .dataframe tbody tr th {\n",
       "        vertical-align: top;\n",
       "    }\n",
       "</style>\n",
       "<table border=\"1\" class=\"dataframe\">\n",
       "  <thead>\n",
       "    <tr style=\"text-align: right;\">\n",
       "      <th></th>\n",
       "      <th>MSZoning</th>\n",
       "      <th>LotArea</th>\n",
       "      <th>Neighborhood</th>\n",
       "      <th>BldgType</th>\n",
       "      <th>MasVnrType</th>\n",
       "      <th>BsmtQual</th>\n",
       "      <th>BsmtUnfSF</th>\n",
       "      <th>TotalBsmtSF</th>\n",
       "      <th>1stFlrSF</th>\n",
       "      <th>2ndFlrSF</th>\n",
       "      <th>...</th>\n",
       "      <th>WoodDeckSF</th>\n",
       "      <th>MoSold</th>\n",
       "      <th>YrSold</th>\n",
       "      <th>SaleType</th>\n",
       "      <th>SaleCondition</th>\n",
       "      <th>SalePrice</th>\n",
       "      <th>Season</th>\n",
       "      <th>Age_building</th>\n",
       "      <th>Since_remodeled</th>\n",
       "      <th>Age_garage</th>\n",
       "    </tr>\n",
       "  </thead>\n",
       "  <tbody>\n",
       "    <tr>\n",
       "      <th>0</th>\n",
       "      <td>0.787629</td>\n",
       "      <td>8450</td>\n",
       "      <td>0.336082</td>\n",
       "      <td>0.835052</td>\n",
       "      <td>0.304467</td>\n",
       "      <td>0.424742</td>\n",
       "      <td>-150</td>\n",
       "      <td>856</td>\n",
       "      <td>856</td>\n",
       "      <td>854</td>\n",
       "      <td>...</td>\n",
       "      <td>0</td>\n",
       "      <td>0.035739</td>\n",
       "      <td>0.208247</td>\n",
       "      <td>0.868729</td>\n",
       "      <td>0.821993</td>\n",
       "      <td>208500</td>\n",
       "      <td>0.114777</td>\n",
       "      <td>5</td>\n",
       "      <td>5</td>\n",
       "      <td>5.0</td>\n",
       "    </tr>\n",
       "    <tr>\n",
       "      <th>1</th>\n",
       "      <td>0.787629</td>\n",
       "      <td>9600</td>\n",
       "      <td>0.404811</td>\n",
       "      <td>0.835052</td>\n",
       "      <td>-0.593127</td>\n",
       "      <td>0.424742</td>\n",
       "      <td>-284</td>\n",
       "      <td>1262</td>\n",
       "      <td>1262</td>\n",
       "      <td>0</td>\n",
       "      <td>...</td>\n",
       "      <td>298</td>\n",
       "      <td>0.140206</td>\n",
       "      <td>0.224055</td>\n",
       "      <td>0.868729</td>\n",
       "      <td>0.821993</td>\n",
       "      <td>181500</td>\n",
       "      <td>0.309966</td>\n",
       "      <td>31</td>\n",
       "      <td>31</td>\n",
       "      <td>31.0</td>\n",
       "    </tr>\n",
       "    <tr>\n",
       "      <th>2</th>\n",
       "      <td>0.787629</td>\n",
       "      <td>11250</td>\n",
       "      <td>0.336082</td>\n",
       "      <td>0.835052</td>\n",
       "      <td>0.304467</td>\n",
       "      <td>0.424742</td>\n",
       "      <td>-434</td>\n",
       "      <td>920</td>\n",
       "      <td>920</td>\n",
       "      <td>866</td>\n",
       "      <td>...</td>\n",
       "      <td>0</td>\n",
       "      <td>0.043299</td>\n",
       "      <td>0.208247</td>\n",
       "      <td>0.868729</td>\n",
       "      <td>0.821993</td>\n",
       "      <td>223500</td>\n",
       "      <td>0.158076</td>\n",
       "      <td>7</td>\n",
       "      <td>6</td>\n",
       "      <td>7.0</td>\n",
       "    </tr>\n",
       "    <tr>\n",
       "      <th>3</th>\n",
       "      <td>0.787629</td>\n",
       "      <td>9550</td>\n",
       "      <td>0.404811</td>\n",
       "      <td>0.835052</td>\n",
       "      <td>-0.593127</td>\n",
       "      <td>0.446048</td>\n",
       "      <td>-540</td>\n",
       "      <td>756</td>\n",
       "      <td>961</td>\n",
       "      <td>756</td>\n",
       "      <td>...</td>\n",
       "      <td>0</td>\n",
       "      <td>0.035739</td>\n",
       "      <td>0.215120</td>\n",
       "      <td>0.868729</td>\n",
       "      <td>-0.068729</td>\n",
       "      <td>140000</td>\n",
       "      <td>0.114777</td>\n",
       "      <td>91</td>\n",
       "      <td>36</td>\n",
       "      <td>8.0</td>\n",
       "    </tr>\n",
       "    <tr>\n",
       "      <th>4</th>\n",
       "      <td>0.787629</td>\n",
       "      <td>14260</td>\n",
       "      <td>0.336082</td>\n",
       "      <td>0.835052</td>\n",
       "      <td>0.304467</td>\n",
       "      <td>0.424742</td>\n",
       "      <td>-490</td>\n",
       "      <td>1145</td>\n",
       "      <td>1145</td>\n",
       "      <td>1053</td>\n",
       "      <td>...</td>\n",
       "      <td>192</td>\n",
       "      <td>0.040550</td>\n",
       "      <td>0.208247</td>\n",
       "      <td>0.868729</td>\n",
       "      <td>0.821993</td>\n",
       "      <td>250000</td>\n",
       "      <td>0.114777</td>\n",
       "      <td>8</td>\n",
       "      <td>8</td>\n",
       "      <td>8.0</td>\n",
       "    </tr>\n",
       "  </tbody>\n",
       "</table>\n",
       "<p>5 rows × 32 columns</p>\n",
       "</div>"
      ],
      "text/plain": [
       "   MSZoning  LotArea  Neighborhood  BldgType  MasVnrType  BsmtQual  BsmtUnfSF  \\\n",
       "0  0.787629     8450      0.336082  0.835052    0.304467  0.424742       -150   \n",
       "1  0.787629     9600      0.404811  0.835052   -0.593127  0.424742       -284   \n",
       "2  0.787629    11250      0.336082  0.835052    0.304467  0.424742       -434   \n",
       "3  0.787629     9550      0.404811  0.835052   -0.593127  0.446048       -540   \n",
       "4  0.787629    14260      0.336082  0.835052    0.304467  0.424742       -490   \n",
       "\n",
       "   TotalBsmtSF  1stFlrSF  2ndFlrSF     ...      WoodDeckSF    MoSold  \\\n",
       "0          856       856       854     ...               0  0.035739   \n",
       "1         1262      1262         0     ...             298  0.140206   \n",
       "2          920       920       866     ...               0  0.043299   \n",
       "3          756       961       756     ...               0  0.035739   \n",
       "4         1145      1145      1053     ...             192  0.040550   \n",
       "\n",
       "     YrSold  SaleType  SaleCondition  SalePrice    Season  Age_building  \\\n",
       "0  0.208247  0.868729       0.821993     208500  0.114777             5   \n",
       "1  0.224055  0.868729       0.821993     181500  0.309966            31   \n",
       "2  0.208247  0.868729       0.821993     223500  0.158076             7   \n",
       "3  0.215120  0.868729      -0.068729     140000  0.114777            91   \n",
       "4  0.208247  0.868729       0.821993     250000  0.114777             8   \n",
       "\n",
       "   Since_remodeled  Age_garage  \n",
       "0                5         5.0  \n",
       "1               31        31.0  \n",
       "2                6         7.0  \n",
       "3               36         8.0  \n",
       "4                8         8.0  \n",
       "\n",
       "[5 rows x 32 columns]"
      ]
     },
     "execution_count": 27,
     "metadata": {},
     "output_type": "execute_result"
    }
   ],
   "source": [
    "from sklearn.externals import joblib\n",
    "df_final=joblib.load('dataframe_Ames_joblib')\n",
    "df_final.head()"
   ]
  },
  {
   "cell_type": "code",
   "execution_count": 28,
   "metadata": {},
   "outputs": [
    {
     "data": {
      "text/plain": [
       "Index([], dtype='object')"
      ]
     },
     "execution_count": 28,
     "metadata": {},
     "output_type": "execute_result"
    }
   ],
   "source": [
    "df_final.columns[df_final.isnull().any()]"
   ]
  },
  {
   "cell_type": "code",
   "execution_count": 29,
   "metadata": {
    "collapsed": true
   },
   "outputs": [],
   "source": [
    "import numpy as np\n",
    "\n",
    "df_final['SalePrice']=np.log1p(df_final['SalePrice'])"
   ]
  },
  {
   "cell_type": "code",
   "execution_count": 30,
   "metadata": {
    "collapsed": true
   },
   "outputs": [],
   "source": [
    "y=df_final['SalePrice'].values"
   ]
  },
  {
   "cell_type": "code",
   "execution_count": 31,
   "metadata": {
    "collapsed": true
   },
   "outputs": [],
   "source": [
    "df_final=df_final.drop('SalePrice', axis=1)"
   ]
  },
  {
   "cell_type": "code",
   "execution_count": 32,
   "metadata": {
    "collapsed": true
   },
   "outputs": [],
   "source": [
    "X=df_final.values"
   ]
  },
  {
   "cell_type": "code",
   "execution_count": 33,
   "metadata": {
    "collapsed": true
   },
   "outputs": [],
   "source": [
    "from sklearn.preprocessing import power_transform\n",
    "# for feat in df_train_x.columns:\n",
    "#     df_train_x[feat] = power_transform(df_train_x[feat], method='yeo-johnson')\n",
    "X_train=power_transform(X, method='yeo-johnson')"
   ]
  },
  {
   "cell_type": "code",
   "execution_count": null,
   "metadata": {
    "collapsed": true
   },
   "outputs": [],
   "source": []
  },
  {
   "cell_type": "code",
   "execution_count": 6,
   "metadata": {},
   "outputs": [
    {
     "data": {
      "text/plain": [
       "['testset_Ames_joblib']"
      ]
     },
     "execution_count": 6,
     "metadata": {},
     "output_type": "execute_result"
    }
   ],
   "source": [
    "from sklearn.externals import joblib\n",
    "joblib.dump(df_test_transform, 'testset_Ames_joblib')"
   ]
  },
  {
   "cell_type": "code",
   "execution_count": 1,
   "metadata": {
    "collapsed": true
   },
   "outputs": [],
   "source": [
    "from sklearn.externals import joblib"
   ]
  },
  {
   "cell_type": "code",
   "execution_count": 2,
   "metadata": {
    "collapsed": true
   },
   "outputs": [],
   "source": [
    "df_test=joblib.load('testset_Ames_joblib')"
   ]
  },
  {
   "cell_type": "code",
   "execution_count": 3,
   "metadata": {
    "scrolled": false
   },
   "outputs": [
    {
     "data": {
      "text/html": [
       "<div>\n",
       "<style>\n",
       "    .dataframe thead tr:only-child th {\n",
       "        text-align: right;\n",
       "    }\n",
       "\n",
       "    .dataframe thead th {\n",
       "        text-align: left;\n",
       "    }\n",
       "\n",
       "    .dataframe tbody tr th {\n",
       "        vertical-align: top;\n",
       "    }\n",
       "</style>\n",
       "<table border=\"1\" class=\"dataframe\">\n",
       "  <thead>\n",
       "    <tr style=\"text-align: right;\">\n",
       "      <th></th>\n",
       "      <th>MSZoning</th>\n",
       "      <th>LotArea</th>\n",
       "      <th>Neighborhood</th>\n",
       "      <th>BldgType</th>\n",
       "      <th>MasVnrType</th>\n",
       "      <th>BsmtQual</th>\n",
       "      <th>BsmtUnfSF</th>\n",
       "      <th>TotalBsmtSF</th>\n",
       "      <th>1stFlrSF</th>\n",
       "      <th>2ndFlrSF</th>\n",
       "      <th>...</th>\n",
       "      <th>GarageArea</th>\n",
       "      <th>WoodDeckSF</th>\n",
       "      <th>MoSold</th>\n",
       "      <th>YrSold</th>\n",
       "      <th>SaleType</th>\n",
       "      <th>SaleCondition</th>\n",
       "      <th>Season</th>\n",
       "      <th>Age_building</th>\n",
       "      <th>Since_remodeled</th>\n",
       "      <th>Age_garage</th>\n",
       "    </tr>\n",
       "  </thead>\n",
       "  <tbody>\n",
       "    <tr>\n",
       "      <th>0</th>\n",
       "      <td>0.006854</td>\n",
       "      <td>11622</td>\n",
       "      <td>0.396847</td>\n",
       "      <td>0.825908</td>\n",
       "      <td>-0.601782</td>\n",
       "      <td>0.434544</td>\n",
       "      <td>-270.0</td>\n",
       "      <td>882.0</td>\n",
       "      <td>896</td>\n",
       "      <td>0</td>\n",
       "      <td>...</td>\n",
       "      <td>730.0</td>\n",
       "      <td>140</td>\n",
       "      <td>0.171350</td>\n",
       "      <td>0.112406</td>\n",
       "      <td>0.862234</td>\n",
       "      <td>0.825223</td>\n",
       "      <td>0.392735</td>\n",
       "      <td>49</td>\n",
       "      <td>49</td>\n",
       "      <td>49.0</td>\n",
       "    </tr>\n",
       "    <tr>\n",
       "      <th>1</th>\n",
       "      <td>0.766278</td>\n",
       "      <td>14267</td>\n",
       "      <td>0.396847</td>\n",
       "      <td>0.825908</td>\n",
       "      <td>0.297464</td>\n",
       "      <td>0.434544</td>\n",
       "      <td>-406.0</td>\n",
       "      <td>1329.0</td>\n",
       "      <td>1329</td>\n",
       "      <td>0</td>\n",
       "      <td>...</td>\n",
       "      <td>312.0</td>\n",
       "      <td>393</td>\n",
       "      <td>0.171350</td>\n",
       "      <td>0.112406</td>\n",
       "      <td>0.862234</td>\n",
       "      <td>0.825223</td>\n",
       "      <td>0.392735</td>\n",
       "      <td>52</td>\n",
       "      <td>52</td>\n",
       "      <td>52.0</td>\n",
       "    </tr>\n",
       "    <tr>\n",
       "      <th>2</th>\n",
       "      <td>0.766278</td>\n",
       "      <td>13830</td>\n",
       "      <td>0.396847</td>\n",
       "      <td>0.825908</td>\n",
       "      <td>-0.601782</td>\n",
       "      <td>0.405072</td>\n",
       "      <td>-137.0</td>\n",
       "      <td>928.0</td>\n",
       "      <td>928</td>\n",
       "      <td>701</td>\n",
       "      <td>...</td>\n",
       "      <td>482.0</td>\n",
       "      <td>212</td>\n",
       "      <td>0.086361</td>\n",
       "      <td>0.112406</td>\n",
       "      <td>0.862234</td>\n",
       "      <td>0.825223</td>\n",
       "      <td>0.311172</td>\n",
       "      <td>13</td>\n",
       "      <td>12</td>\n",
       "      <td>13.0</td>\n",
       "    </tr>\n",
       "    <tr>\n",
       "      <th>3</th>\n",
       "      <td>0.766278</td>\n",
       "      <td>9978</td>\n",
       "      <td>0.396847</td>\n",
       "      <td>0.825908</td>\n",
       "      <td>0.297464</td>\n",
       "      <td>0.434544</td>\n",
       "      <td>-324.0</td>\n",
       "      <td>926.0</td>\n",
       "      <td>926</td>\n",
       "      <td>678</td>\n",
       "      <td>...</td>\n",
       "      <td>470.0</td>\n",
       "      <td>360</td>\n",
       "      <td>0.171350</td>\n",
       "      <td>0.112406</td>\n",
       "      <td>0.862234</td>\n",
       "      <td>0.825223</td>\n",
       "      <td>0.392735</td>\n",
       "      <td>12</td>\n",
       "      <td>12</td>\n",
       "      <td>12.0</td>\n",
       "    </tr>\n",
       "    <tr>\n",
       "      <th>4</th>\n",
       "      <td>0.766278</td>\n",
       "      <td>5005</td>\n",
       "      <td>0.331734</td>\n",
       "      <td>0.077450</td>\n",
       "      <td>-0.601782</td>\n",
       "      <td>0.405072</td>\n",
       "      <td>-1017.0</td>\n",
       "      <td>1280.0</td>\n",
       "      <td>1280</td>\n",
       "      <td>0</td>\n",
       "      <td>...</td>\n",
       "      <td>506.0</td>\n",
       "      <td>0</td>\n",
       "      <td>0.043866</td>\n",
       "      <td>0.112406</td>\n",
       "      <td>0.862234</td>\n",
       "      <td>0.825223</td>\n",
       "      <td>0.130226</td>\n",
       "      <td>18</td>\n",
       "      <td>18</td>\n",
       "      <td>18.0</td>\n",
       "    </tr>\n",
       "  </tbody>\n",
       "</table>\n",
       "<p>5 rows × 31 columns</p>\n",
       "</div>"
      ],
      "text/plain": [
       "   MSZoning  LotArea  Neighborhood  BldgType  MasVnrType  BsmtQual  BsmtUnfSF  \\\n",
       "0  0.006854    11622      0.396847  0.825908   -0.601782  0.434544     -270.0   \n",
       "1  0.766278    14267      0.396847  0.825908    0.297464  0.434544     -406.0   \n",
       "2  0.766278    13830      0.396847  0.825908   -0.601782  0.405072     -137.0   \n",
       "3  0.766278     9978      0.396847  0.825908    0.297464  0.434544     -324.0   \n",
       "4  0.766278     5005      0.331734  0.077450   -0.601782  0.405072    -1017.0   \n",
       "\n",
       "   TotalBsmtSF  1stFlrSF  2ndFlrSF     ...      GarageArea  WoodDeckSF  \\\n",
       "0        882.0       896         0     ...           730.0         140   \n",
       "1       1329.0      1329         0     ...           312.0         393   \n",
       "2        928.0       928       701     ...           482.0         212   \n",
       "3        926.0       926       678     ...           470.0         360   \n",
       "4       1280.0      1280         0     ...           506.0           0   \n",
       "\n",
       "     MoSold    YrSold  SaleType  SaleCondition    Season  Age_building  \\\n",
       "0  0.171350  0.112406  0.862234       0.825223  0.392735            49   \n",
       "1  0.171350  0.112406  0.862234       0.825223  0.392735            52   \n",
       "2  0.086361  0.112406  0.862234       0.825223  0.311172            13   \n",
       "3  0.171350  0.112406  0.862234       0.825223  0.392735            12   \n",
       "4  0.043866  0.112406  0.862234       0.825223  0.130226            18   \n",
       "\n",
       "   Since_remodeled  Age_garage  \n",
       "0               49        49.0  \n",
       "1               52        52.0  \n",
       "2               12        13.0  \n",
       "3               12        12.0  \n",
       "4               18        18.0  \n",
       "\n",
       "[5 rows x 31 columns]"
      ]
     },
     "execution_count": 3,
     "metadata": {},
     "output_type": "execute_result"
    }
   ],
   "source": [
    "df_test.head()"
   ]
  },
  {
   "cell_type": "code",
   "execution_count": 41,
   "metadata": {},
   "outputs": [
    {
     "data": {
      "text/plain": [
       "array([   0,    1,    2, ..., 1456, 1457, 1458])"
      ]
     },
     "execution_count": 41,
     "metadata": {},
     "output_type": "execute_result"
    }
   ],
   "source": [
    "df_test.index.values"
   ]
  },
  {
   "cell_type": "code",
   "execution_count": 4,
   "metadata": {},
   "outputs": [
    {
     "data": {
      "text/plain": [
       "Index(['MSZoning', 'LotArea', 'Neighborhood', 'BldgType', 'MasVnrType',\n",
       "       'BsmtQual', 'BsmtUnfSF', 'TotalBsmtSF', '1stFlrSF', '2ndFlrSF',\n",
       "       'GrLivArea', 'BsmtFullBath', 'FullBath', 'HalfBath', 'BedroomAbvGr',\n",
       "       'KitchenAbvGr', 'KitchenQual', 'TotRmsAbvGrd', 'Functional',\n",
       "       'GarageType', 'GarageCars', 'GarageArea', 'WoodDeckSF', 'MoSold',\n",
       "       'YrSold', 'SaleType', 'SaleCondition', 'Season', 'Age_building',\n",
       "       'Since_remodeled', 'Age_garage'],\n",
       "      dtype='object')"
      ]
     },
     "execution_count": 4,
     "metadata": {},
     "output_type": "execute_result"
    }
   ],
   "source": [
    "df_test.columns"
   ]
  },
  {
   "cell_type": "code",
   "execution_count": 5,
   "metadata": {
    "scrolled": true
   },
   "outputs": [
    {
     "data": {
      "text/plain": [
       "Index([], dtype='object')"
      ]
     },
     "execution_count": 5,
     "metadata": {},
     "output_type": "execute_result"
    }
   ],
   "source": [
    "df_test.columns[df_test.isnull().any()]"
   ]
  },
  {
   "cell_type": "code",
   "execution_count": 6,
   "metadata": {
    "collapsed": true
   },
   "outputs": [],
   "source": [
    "numeric_features = df_test.dtypes[df_test.dtypes != \"object\"].index\n"
   ]
  },
  {
   "cell_type": "code",
   "execution_count": 7,
   "metadata": {},
   "outputs": [
    {
     "data": {
      "text/plain": [
       "Index(['MSZoning', 'LotArea', 'Neighborhood', 'BldgType', 'MasVnrType',\n",
       "       'BsmtQual', 'BsmtUnfSF', 'TotalBsmtSF', '1stFlrSF', '2ndFlrSF',\n",
       "       'GrLivArea', 'BsmtFullBath', 'FullBath', 'HalfBath', 'BedroomAbvGr',\n",
       "       'KitchenAbvGr', 'KitchenQual', 'TotRmsAbvGrd', 'Functional',\n",
       "       'GarageType', 'GarageCars', 'GarageArea', 'WoodDeckSF', 'MoSold',\n",
       "       'YrSold', 'SaleType', 'SaleCondition', 'Season', 'Age_building',\n",
       "       'Since_remodeled', 'Age_garage'],\n",
       "      dtype='object')"
      ]
     },
     "execution_count": 7,
     "metadata": {},
     "output_type": "execute_result"
    }
   ],
   "source": [
    "numeric_features"
   ]
  },
  {
   "cell_type": "code",
   "execution_count": 15,
   "metadata": {
    "scrolled": true
   },
   "outputs": [
    {
     "name": "stdout",
     "output_type": "stream",
     "text": [
      "\n",
      "Skew in numerical features: \n",
      "\n"
     ]
    },
    {
     "data": {
      "text/html": [
       "<div>\n",
       "<style>\n",
       "    .dataframe thead tr:only-child th {\n",
       "        text-align: right;\n",
       "    }\n",
       "\n",
       "    .dataframe thead th {\n",
       "        text-align: left;\n",
       "    }\n",
       "\n",
       "    .dataframe tbody tr th {\n",
       "        vertical-align: top;\n",
       "    }\n",
       "</style>\n",
       "<table border=\"1\" class=\"dataframe\">\n",
       "  <thead>\n",
       "    <tr style=\"text-align: right;\">\n",
       "      <th></th>\n",
       "      <th>Skew</th>\n",
       "    </tr>\n",
       "  </thead>\n",
       "  <tbody>\n",
       "    <tr>\n",
       "      <th>KitchenAbvGr</th>\n",
       "      <td>4.074860</td>\n",
       "    </tr>\n",
       "    <tr>\n",
       "      <th>LotArea</th>\n",
       "      <td>3.112013</td>\n",
       "    </tr>\n",
       "    <tr>\n",
       "      <th>WoodDeckSF</th>\n",
       "      <td>2.128569</td>\n",
       "    </tr>\n",
       "    <tr>\n",
       "      <th>1stFlrSF</th>\n",
       "      <td>1.556592</td>\n",
       "    </tr>\n",
       "    <tr>\n",
       "      <th>GrLivArea</th>\n",
       "      <td>1.129240</td>\n",
       "    </tr>\n",
       "    <tr>\n",
       "      <th>2ndFlrSF</th>\n",
       "      <td>0.911944</td>\n",
       "    </tr>\n",
       "    <tr>\n",
       "      <th>TotRmsAbvGrd</th>\n",
       "      <td>0.841731</td>\n",
       "    </tr>\n",
       "    <tr>\n",
       "      <th>TotalBsmtSF</th>\n",
       "      <td>0.813285</td>\n",
       "    </tr>\n",
       "    <tr>\n",
       "      <th>HalfBath</th>\n",
       "      <td>0.713993</td>\n",
       "    </tr>\n",
       "    <tr>\n",
       "      <th>BsmtFullBath</th>\n",
       "      <td>0.645236</td>\n",
       "    </tr>\n",
       "    <tr>\n",
       "      <th>Age_building</th>\n",
       "      <td>0.589056</td>\n",
       "    </tr>\n",
       "    <tr>\n",
       "      <th>MasVnrType</th>\n",
       "      <td>0.468872</td>\n",
       "    </tr>\n",
       "    <tr>\n",
       "      <th>BedroomAbvGr</th>\n",
       "      <td>0.436174</td>\n",
       "    </tr>\n",
       "    <tr>\n",
       "      <th>Since_remodeled</th>\n",
       "      <td>0.399017</td>\n",
       "    </tr>\n",
       "    <tr>\n",
       "      <th>GarageArea</th>\n",
       "      <td>0.299964</td>\n",
       "    </tr>\n",
       "    <tr>\n",
       "      <th>FullBath</th>\n",
       "      <td>0.295534</td>\n",
       "    </tr>\n",
       "    <tr>\n",
       "      <th>Age_garage</th>\n",
       "      <td>0.168137</td>\n",
       "    </tr>\n",
       "    <tr>\n",
       "      <th>MoSold</th>\n",
       "      <td>0.100915</td>\n",
       "    </tr>\n",
       "    <tr>\n",
       "      <th>GarageCars</th>\n",
       "      <td>-0.107305</td>\n",
       "    </tr>\n",
       "    <tr>\n",
       "      <th>Season</th>\n",
       "      <td>-0.576556</td>\n",
       "    </tr>\n",
       "    <tr>\n",
       "      <th>GarageType</th>\n",
       "      <td>-0.583296</td>\n",
       "    </tr>\n",
       "    <tr>\n",
       "      <th>Neighborhood</th>\n",
       "      <td>-0.816943</td>\n",
       "    </tr>\n",
       "    <tr>\n",
       "      <th>BsmtUnfSF</th>\n",
       "      <td>-0.919678</td>\n",
       "    </tr>\n",
       "    <tr>\n",
       "      <th>MSZoning</th>\n",
       "      <td>-1.298309</td>\n",
       "    </tr>\n",
       "    <tr>\n",
       "      <th>YrSold</th>\n",
       "      <td>-1.658225</td>\n",
       "    </tr>\n",
       "    <tr>\n",
       "      <th>BldgType</th>\n",
       "      <td>-1.722904</td>\n",
       "    </tr>\n",
       "    <tr>\n",
       "      <th>SaleCondition</th>\n",
       "      <td>-1.743188</td>\n",
       "    </tr>\n",
       "    <tr>\n",
       "      <th>KitchenQual</th>\n",
       "      <td>-1.782224</td>\n",
       "    </tr>\n",
       "    <tr>\n",
       "      <th>BsmtQual</th>\n",
       "      <td>-1.811165</td>\n",
       "    </tr>\n",
       "    <tr>\n",
       "      <th>SaleType</th>\n",
       "      <td>-2.109677</td>\n",
       "    </tr>\n",
       "    <tr>\n",
       "      <th>Functional</th>\n",
       "      <td>-3.375212</td>\n",
       "    </tr>\n",
       "  </tbody>\n",
       "</table>\n",
       "</div>"
      ],
      "text/plain": [
       "                     Skew\n",
       "KitchenAbvGr     4.074860\n",
       "LotArea          3.112013\n",
       "WoodDeckSF       2.128569\n",
       "1stFlrSF         1.556592\n",
       "GrLivArea        1.129240\n",
       "2ndFlrSF         0.911944\n",
       "TotRmsAbvGrd     0.841731\n",
       "TotalBsmtSF      0.813285\n",
       "HalfBath         0.713993\n",
       "BsmtFullBath     0.645236\n",
       "Age_building     0.589056\n",
       "MasVnrType       0.468872\n",
       "BedroomAbvGr     0.436174\n",
       "Since_remodeled  0.399017\n",
       "GarageArea       0.299964\n",
       "FullBath         0.295534\n",
       "Age_garage       0.168137\n",
       "MoSold           0.100915\n",
       "GarageCars      -0.107305\n",
       "Season          -0.576556\n",
       "GarageType      -0.583296\n",
       "Neighborhood    -0.816943\n",
       "BsmtUnfSF       -0.919678\n",
       "MSZoning        -1.298309\n",
       "YrSold          -1.658225\n",
       "BldgType        -1.722904\n",
       "SaleCondition   -1.743188\n",
       "KitchenQual     -1.782224\n",
       "BsmtQual        -1.811165\n",
       "SaleType        -2.109677\n",
       "Functional      -3.375212"
      ]
     },
     "execution_count": 15,
     "metadata": {},
     "output_type": "execute_result"
    }
   ],
   "source": [
    "from scipy.stats import norm, skew #for some statistics\n",
    "import pandas as pd\n",
    "skewed_feats = df_test[numeric_features].apply(lambda x: skew(x.dropna())).sort_values(ascending=False)\n",
    "print(\"\\nSkew in numerical features: \\n\")\n",
    "skewness = pd.DataFrame({'Skew' :skewed_feats})\n",
    "skewness"
   ]
  },
  {
   "cell_type": "code",
   "execution_count": 8,
   "metadata": {
    "collapsed": true
   },
   "outputs": [],
   "source": [
    "X=df_test.values"
   ]
  },
  {
   "cell_type": "code",
   "execution_count": 9,
   "metadata": {
    "collapsed": true
   },
   "outputs": [],
   "source": [
    "from sklearn.preprocessing import power_transform\n",
    "X_test=power_transform(X, method='yeo-johnson')"
   ]
  },
  {
   "cell_type": "code",
   "execution_count": 34,
   "metadata": {
    "scrolled": true
   },
   "outputs": [],
   "source": [
    "from sklearn.linear_model import ElasticNet, Lasso,  BayesianRidge, LassoLarsIC\n",
    "from sklearn.ensemble import RandomForestRegressor,  GradientBoostingRegressor\n",
    "from sklearn.kernel_ridge import KernelRidge\n",
    "from sklearn.pipeline import make_pipeline\n",
    "from sklearn.preprocessing import RobustScaler\n",
    "from sklearn.base import BaseEstimator, TransformerMixin, RegressorMixin, clone\n",
    "from sklearn.model_selection import KFold, cross_val_score, train_test_split\n",
    "from sklearn.metrics import mean_squared_error\n",
    "import xgboost as xgb\n",
    "import lightgbm as lgb"
   ]
  },
  {
   "cell_type": "code",
   "execution_count": 36,
   "metadata": {},
   "outputs": [],
   "source": [
    "class stack_average_models(BaseEstimator, RegressorMixin, TransformerMixin):\n",
    "    \n",
    "    def __init__(self, basemodels, metamodel, n_folds=5):\n",
    "        self.basemodels=basemodels\n",
    "        self.metamodel=metamodel\n",
    "        self.n_folds=n_folds\n",
    "#         print(self.basemodels)\n",
    "        \n",
    "    def fit(self, X, y):\n",
    "        import numpy as np\n",
    "        self.basemodels_ = [list() for x in self.basemodels]\n",
    "        self.metamodel_ = clone(self.metamodel)\n",
    "        kfold = KFold(n_splits=self.n_folds, shuffle=True, random_state=156)\n",
    "        \n",
    "        holdout_predictions = np.zeros((X.shape[0], len(self.basemodels)))\n",
    "        for ind, model in enumerate(self.basemodels):\n",
    "            for train_ind, holdout_ind in kfold.split(X, y):\n",
    "                instance = clone(model)\n",
    "                self.basemodels_[ind].append(instance)\n",
    "                instance.fit(X[train_ind], y[train_ind])\n",
    "                y_pred = instance.predict(X[holdout_ind])\n",
    "                holdout_predictions[holdout_ind, ind] = y_pred\n",
    "                \n",
    "         \n",
    "        self.metamodel_.fit(holdout_predictions, y)\n",
    "        return self\n",
    "   \n",
    "    #Do the predictions of all base models on the test data and use the averaged predictions as \n",
    "    #meta-features for the final prediction which is done by the meta-model\n",
    "    def predict(self, X):\n",
    "        import numpy as np\n",
    "        meta_features = np.column_stack([np.column_stack([model.predict(X) for model in basemodels]).mean(axis=1) for basemodels in self.basemodels_])\n",
    "        return self.metamodel_.predict(meta_features)\n",
    "        "
   ]
  },
  {
   "cell_type": "code",
   "execution_count": 37,
   "metadata": {
    "collapsed": true
   },
   "outputs": [],
   "source": [
    "#Get all the models with their appropriate parameters listed\n",
    "Enet = make_pipeline(RobustScaler(), ElasticNet(alpha=0.04, l1_ratio=0.9, random_state=3))\n",
    "\n",
    "Krr = KernelRidge(alpha=0.0004, kernel='polynomial', degree=4, coef0=2.5)\n",
    "\n",
    "lasso = make_pipeline(RobustScaler(), Lasso(alpha =0.5, random_state=1))\n",
    "\n",
    "Gboost=GradientBoostingRegressor(learning_rate=0.05, max_depth=4, min_samples_leaf=15, min_samples_split=8, n_estimators=3000, loss='huber', max_features='sqrt')\n",
    "\n",
    "Xgboost=xgb.XGBRegressor(objective='reg:linear',silent=True, nthread=-1, colsample_bytree= 0.4, gamma=0.5,learning_rate=0.05,max_depth=8,min_child_weight=5,n_estimators=3500,reg_alpha=0.9,reg_lambda=1.5,subsample=0.6)\n",
    "\n",
    "lightgbm=lgb.LGBMRegressor(objective='regression', random_state=500, feature_fraction_seed=9, bagging_seed=9, bagging_fraction=0.6,bagging_freq=3,learning_rate=0.05,max_bin=70,max_depth=4,min_data_in_leaf=10,min_sum_hessian_in_leaf=8,n_estimators=750,num_leaves=10)\n",
    "\n",
    "\n",
    "\n",
    "\n"
   ]
  },
  {
   "cell_type": "code",
   "execution_count": 53,
   "metadata": {
    "collapsed": true
   },
   "outputs": [],
   "source": [
    "from sklearn.metrics import mean_squared_error\n",
    "def rmsle(y, y_pred):\n",
    "    return np.sqrt(mean_squared_error(y, y_pred))"
   ]
  },
  {
   "cell_type": "code",
   "execution_count": 38,
   "metadata": {},
   "outputs": [],
   "source": [
    "from sklearn.externals import joblib\n",
    "model_lasso2 = stack_average_models(basemodels = (Gboost, Krr, Enet), metamodel = lasso)\n",
    "\n"
   ]
  },
  {
   "cell_type": "code",
   "execution_count": 39,
   "metadata": {},
   "outputs": [],
   "source": [
    "import numpy as np\n",
    "model_lasso2.fit(X_train, y)\n",
    "stacked_pred = np.expm1(model_lasso2.predict(X_test))"
   ]
  },
  {
   "cell_type": "code",
   "execution_count": 51,
   "metadata": {
    "collapsed": true
   },
   "outputs": [],
   "source": [
    "final_prediction=stacked_pred*0.39"
   ]
  },
  {
   "cell_type": "code",
   "execution_count": 54,
   "metadata": {},
   "outputs": [
    {
     "name": "stdout",
     "output_type": "stream",
     "text": [
      "0.13785966684033768\n"
     ]
    }
   ],
   "source": [
    "Xgboost.fit(X_train, y)\n",
    "xgb_train_pred = Xgboost.predict(X_train)\n",
    "xgb_pred = np.expm1(Xgboost.predict(X_test))\n",
    "print(rmsle(y, xgb_train_pred))"
   ]
  },
  {
   "cell_type": "code",
   "execution_count": 55,
   "metadata": {
    "scrolled": true
   },
   "outputs": [
    {
     "name": "stdout",
     "output_type": "stream",
     "text": [
      "0.05901693283154234\n"
     ]
    }
   ],
   "source": [
    "lightgbm.fit(X_train, y)\n",
    "lightgbm_train_pred = lightgbm.predict(X_train)\n",
    "lightgbm_pred = np.expm1(lightgbm.predict(X_test))\n",
    "print(rmsle(y, lightgbm_train_pred))"
   ]
  },
  {
   "cell_type": "code",
   "execution_count": 56,
   "metadata": {
    "collapsed": true
   },
   "outputs": [],
   "source": [
    "final_pred_sub=stacked_pred*0.39+(xgb_pred*0.28)+(lightgbm_pred*0.12)"
   ]
  },
  {
   "cell_type": "code",
   "execution_count": 57,
   "metadata": {},
   "outputs": [
    {
     "data": {
      "text/plain": [
       "array([113634.63553952, 129104.86542131, 145152.4504891 , ...,\n",
       "       123245.65733756, 111731.5486807 , 155845.06602126])"
      ]
     },
     "execution_count": 57,
     "metadata": {},
     "output_type": "execute_result"
    }
   ],
   "source": [
    "final_pred_sub"
   ]
  },
  {
   "cell_type": "code",
   "execution_count": 58,
   "metadata": {
    "collapsed": true
   },
   "outputs": [],
   "source": [
    "df_submission22 = pd.DataFrame({\"ID\" : ID, \"SalePrice\" : final_pred_sub})\n",
    "df_submission22.to_csv(\"/Users/chidam/Desktop/submission_Ames22.csv\", index=False)\n",
    "\n"
   ]
  },
  {
   "cell_type": "code",
   "execution_count": 59,
   "metadata": {},
   "outputs": [
    {
     "data": {
      "text/html": [
       "<div>\n",
       "<style>\n",
       "    .dataframe thead tr:only-child th {\n",
       "        text-align: right;\n",
       "    }\n",
       "\n",
       "    .dataframe thead th {\n",
       "        text-align: left;\n",
       "    }\n",
       "\n",
       "    .dataframe tbody tr th {\n",
       "        vertical-align: top;\n",
       "    }\n",
       "</style>\n",
       "<table border=\"1\" class=\"dataframe\">\n",
       "  <thead>\n",
       "    <tr style=\"text-align: right;\">\n",
       "      <th></th>\n",
       "      <th>ID</th>\n",
       "      <th>SalePrice</th>\n",
       "    </tr>\n",
       "  </thead>\n",
       "  <tbody>\n",
       "    <tr>\n",
       "      <th>0</th>\n",
       "      <td>1461</td>\n",
       "      <td>113634.635540</td>\n",
       "    </tr>\n",
       "    <tr>\n",
       "      <th>1</th>\n",
       "      <td>1462</td>\n",
       "      <td>129104.865421</td>\n",
       "    </tr>\n",
       "    <tr>\n",
       "      <th>2</th>\n",
       "      <td>1463</td>\n",
       "      <td>145152.450489</td>\n",
       "    </tr>\n",
       "    <tr>\n",
       "      <th>3</th>\n",
       "      <td>1464</td>\n",
       "      <td>143812.053607</td>\n",
       "    </tr>\n",
       "    <tr>\n",
       "      <th>4</th>\n",
       "      <td>1465</td>\n",
       "      <td>136435.784795</td>\n",
       "    </tr>\n",
       "  </tbody>\n",
       "</table>\n",
       "</div>"
      ],
      "text/plain": [
       "     ID      SalePrice\n",
       "0  1461  113634.635540\n",
       "1  1462  129104.865421\n",
       "2  1463  145152.450489\n",
       "3  1464  143812.053607\n",
       "4  1465  136435.784795"
      ]
     },
     "execution_count": 59,
     "metadata": {},
     "output_type": "execute_result"
    }
   ],
   "source": [
    "df_sub2=pd.read_csv(\"/Users/chidam/Desktop/submission_Ames22.csv\")\n",
    "df_sub2.head()"
   ]
  },
  {
   "cell_type": "code",
   "execution_count": null,
   "metadata": {
    "collapsed": true
   },
   "outputs": [],
   "source": []
  }
 ],
 "metadata": {
  "kernelspec": {
   "display_name": "Python [conda root]",
   "language": "python",
   "name": "conda-root-py"
  },
  "language_info": {
   "codemirror_mode": {
    "name": "ipython",
    "version": 3
   },
   "file_extension": ".py",
   "mimetype": "text/x-python",
   "name": "python",
   "nbconvert_exporter": "python",
   "pygments_lexer": "ipython3",
   "version": "3.5.6"
  }
 },
 "nbformat": 4,
 "nbformat_minor": 2
}
