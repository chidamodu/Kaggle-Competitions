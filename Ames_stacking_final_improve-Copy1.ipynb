{
 "cells": [
  {
   "cell_type": "code",
   "execution_count": 17,
   "metadata": {},
   "outputs": [],
   "source": [
    "import pandas as pd\n",
    "\n",
    "def file_read(fn):\n",
    "\tdf=pd.read_csv(fn)\n",
    "\tdf.drop(df.index[[523,691,1182,1298, 1169]], inplace=True)\n",
    "\tdf.drop(df['SalePrice']<300000, inplace=True)#removing outliers and going to try\n",
    "\tdf=df.reset_index(drop=True)\n",
    "\t# print(df['MoSold'].unique())\n",
    "\treturn df\n",
    "\n",
    "def month_season():\n",
    "\timport calendar\n",
    "\t# from time import strptime\n",
    "\t# look_up = {'1': 'Jan', '2': 'Feb', '3': 'Mar', '4': 'Apr', '5': 'May','6': 'Jun', '7': 'Jul', '8': 'Aug', '9': 'Sep', '10': 'Oct', '11': 'Nov', '12': 'Dec'}\n",
    "\t# df['MoSold']=df['MoSold'].apply(lambda x: look_up[x])\n",
    "\tdf['MoSold']=df['MoSold'].apply(lambda x: calendar.month_abbr[x])\n",
    "\tdf['Season']=df['MoSold'].copy()\n",
    "\n",
    "def season_create():\n",
    "\tdf.loc[(df['MoSold']=='Jun') | (df['MoSold']=='Jul') | (df['MoSold']=='Aug'),'Season']='Summer'\n",
    "\tdf.loc[(df['MoSold']=='Mar') | (df['MoSold']=='Apr') | (df['MoSold']=='May'),'Season']= 'Spring'\n",
    "\tdf.loc[(df['MoSold']=='Sep') | (df['MoSold']=='Oct') | (df['MoSold']=='Nov'),'Season']='Autumn'\n",
    "\tdf.loc[(df['MoSold']=='Jan') | (df['MoSold']=='Feb') | (df['MoSold']=='Dec'),'Season']='Winter'\n",
    "\n",
    "def neighborhood_convert():\n",
    "\tfrom collections import defaultdict\n",
    "\td2=defaultdict(list)\n",
    "\td=dict(df.groupby('Neighborhood')['SalePrice'].max())\n",
    "\tfor k, v in d.items():\n",
    "\t\tif v<=200000:\n",
    "\t\t\td2['g1'].append(k)\n",
    "\t\telif (v>200000) & (v<=300000):\n",
    "\t\t\td2['g2'].append(k)\n",
    "\t\telif (v>300000) & (v<=400000):\n",
    "\t\t\td2['g3'].append(k)\n",
    "\t\telse:\n",
    "\t\t\td2['g4'].append(k)\n",
    "\n",
    "\tdf.loc[(df['Neighborhood']=='IDOTRR')|(df['Neighborhood']=='MeadowV')|(df['Neighborhood']=='SWISU')|(df['Neighborhood']=='BrDale')|(df['Neighborhood']=='NPkVill')|(df['Neighborhood']=='Blueste')|(df['Neighborhood']=='Sawyer'),'Neighborhood']='g'  \n",
    "\tdf.loc[(df['Neighborhood']=='Blmngtn')|(df['Neighborhood']=='Mitchel')|(df['Neighborhood']=='BrkSide')|(df['Neighborhood']=='NWAmes'),'Neighborhood']='h' \n",
    "\tdf.loc[(df['Neighborhood']=='Veenker')|(df['Neighborhood']=='SawyerW')|(df['Neighborhood']=='ClearCr')|(df['Neighborhood']=='Edwards')|(df['Neighborhood']=='Gilbert')|(df['Neighborhood']=='NAmes')|(df['Neighborhood']=='Timber')|(df['Neighborhood']=='Crawfor'),'Neighborhood']='i' \n",
    "\tdf.loc[(df['Neighborhood']=='NoRidge')|(df['Neighborhood']=='NridgHt')|(df['Neighborhood']=='StoneBr')|(df['Neighborhood']=='OldTown')|(df['Neighborhood']=='Somerst')|(df['Neighborhood']=='CollgCr'),'Neighborhood']='j'\n",
    "\n",
    "def fill_missing_values():\n",
    "\tdf.GarageType = df.GarageType.fillna('missing')\n",
    "\tdf.BsmtQual = df.BsmtQual.fillna('missing')\n",
    "\tdf.MasVnrType = df.MasVnrType.fillna('missing')\n",
    "\tdf.loc[df['MasVnrType']==\"None\", 'MasVnrType'] = \"missing\"\n",
    "\tdf.GarageYrBlt = df.GarageYrBlt.fillna(df['GarageYrBlt'].median())\n",
    "    \n",
    "\n",
    "def find_age():\n",
    "\tdf['Age_building']=(df['YrSold']-df['YearBuilt'])\n",
    "\tdf['Since_remodeled']=(df['YrSold']-df['YearRemodAdd'])\n",
    "\tdf['Age_garage']=(df['YrSold']-df['GarageYrBlt'])\n",
    "\tdf['MoSold']=df['MoSold'].astype(str)\n",
    "\tdf['Season']=df['Season'].astype(str)\n",
    "\tdf['YrSold']=df['YrSold'].astype(str)\n",
    "\n",
    "\n",
    "def convert_garagetype(x, y, col_name):\n",
    "\tfor ele in range(len(x)):\n",
    "\t\tif x[ele]=='Detchd':\n",
    "\t\t\tif x[ele] in y:\n",
    "\t\t\t\tx[ele]=-y[x[ele]]\n",
    "\t\telse:\n",
    "\t\t\tif x[ele] in y:\n",
    "\t\t\t\tx[ele]=y[x[ele]]\n",
    "\tdf.drop(col_name, axis=1)\n",
    "\tdf[col_name]=pd.Series(x)\n",
    "\t    # return d[col_name].head()\n",
    "\n",
    "\n",
    "\n",
    "# def convert_MasVnrType(x, y, col_name):\n",
    "# \tfor ele in range(len(x)):\n",
    "# \t\tif x[ele]=='None':\n",
    "# \t\t\tif x[ele] in y:\n",
    "# \t\t\t\tx[ele]=-y[x[ele]]\n",
    "\t\n",
    "# \t\telse:\n",
    "# \t\t\tif x[ele] in y:\n",
    "# \t\t\t\tx[ele]=y[x[ele]]\n",
    "# \tdf.drop(col_name, axis=1)\n",
    "# \tdf[col_name]=pd.Series(x)\n",
    "# \t    # return d[col_name].head()\n",
    "\n",
    "\n",
    "\n",
    "\n",
    "def convert_SaleCondition(x, y, col_name):\n",
    "\tfor ele in range(len(x)):\n",
    "\t\tif x[ele]=='Abnorml':\n",
    "\t\t\tif x[ele] in y:\n",
    "\t\t\t\tx[ele]=-y[x[ele]]\n",
    "\t\telse:\n",
    "\t\t\tif x[ele] in y:\n",
    "\t\t\t\tx[ele]=y[x[ele]]\n",
    "\tdf.drop(col_name, axis=1)\n",
    "\tdf[col_name]=pd.Series(x)\n",
    "    # return d[col_name].head()\n",
    "\n",
    "\n",
    "#If unfinished area in the basement is not zero then add negative sign\n",
    "def convert_BsmtUnfSF(x, col_name):\n",
    "\tfor ele in range(len(x)):\n",
    "\t\tif x[ele]!=0:\n",
    "\t\t\tx[ele]=-x[ele]\n",
    "\tdf.drop(col_name, axis=1)\n",
    "\tdf[col_name]=pd.Series(x)\n",
    "    # return d[col_name].head()\n",
    "\n",
    "\n",
    "def labelencoding_categorical_ordinal(x):\n",
    "\tfrom sklearn.preprocessing import LabelEncoder\n",
    "\tfor c in x:\n",
    "\t\tlbe = LabelEncoder() \n",
    "\t\tlbe.fit(list(df[c].values)) \n",
    "\t\tdf[c] = lbe.transform(list(df[c].values))\n",
    "\n",
    "    \n",
    "\n",
    "\n",
    "# def convert_Functional(x, y, col_name):\n",
    "# \tfor ele in range(len(x)):\n",
    "# \t\tif (x[ele]=='Mod') | (x[ele]=='Maj1') | (x[ele]=='Maj2') | (x[ele]=='Sev'):\n",
    "# \t\t\tif x[ele] in y:\n",
    "# \t\t\t\tx[ele]=-y[x[ele]]\n",
    "# \t\telse:\n",
    "# \t\t\tif x[ele] in y:\n",
    "# \t\t\t\tx[ele]=y[x[ele]]        \n",
    "# \tdf.drop(col_name, axis=1)\n",
    "# \tdf[col_name]=pd.Series(x)\n",
    "#     # return d[col_name].head()\n",
    "\n",
    "\n",
    "\n",
    "\n",
    "# def convert_categorical(x, y, col_name):\n",
    "# \tfor ele in range(len(x)):\n",
    "# \t\tif x[ele] in y:\n",
    "# \t\t\tx[ele]=y[x[ele]]\n",
    "# \tdf.drop(col_name, axis=1)\n",
    "# \tdf[col_name]=pd.Series(x)\n",
    "#     # return d[col_name].head()\n",
    "\n",
    "\n",
    "# def convert_yearsold(x, y, col_name):\n",
    "# \tfor ele in range(len(x)):\n",
    "# \t\tif x[ele] in y:\n",
    "# \t\t\tx[ele]=y[x[ele]]\n",
    "# \tdf.drop(col_name, axis=1)\n",
    "# \tdf[col_name]=pd.Series(x)\n",
    "#     # return d[col_name].head()\n",
    "\n",
    "\n",
    "def main_fn():\n",
    "\tmonth_season()\n",
    "\tseason_create()\n",
    "\tneighborhood_convert()\n",
    "\tfill_missing_values()\n",
    "\tfind_age()\n",
    "\tlabelencoding_categorical_ordinal(['BsmtQual', 'GarageCond','KitchenQual','Functional','YrSold', 'MoSold', 'Season'])\n",
    "# \tconvert_garagetype(df['GarageType'].tolist(), dict(df['GarageType'].value_counts()/len(df)), 'GarageType')\n",
    "# \tconvert_MasVnrType(df['MasVnrType'].tolist(), dict(df['MasVnrType'].value_counts()/len(df)), 'MasVnrType')\n",
    "# \tconvert_SaleCondition(df['SaleCondition'].tolist(), dict(df['SaleCondition'].value_counts()/len(df)), 'SaleCondition')\n",
    "# \tconvert_BsmtUnfSF(df['BsmtUnfSF'].tolist(), 'BsmtUnfSF')\n",
    "# \tconvert_Functional(df['Functional'].tolist(), dict(df['Functional'].value_counts()/len(df)), 'Functional')\n",
    "# \tconvert_categorical(df['KitchenQual'].tolist(), dict(df['KitchenQual'].value_counts()/len(df)), 'KitchenQual')\n",
    "# \tconvert_categorical(df['HouseStyle'].tolist(), dict(df['HouseStyle'].value_counts()/len(df)), 'HouseStyle')\n",
    "# \tconvert_categorical(df['BsmtQual'].tolist(), dict(df['BsmtQual'].value_counts()/len(df)), 'BsmtQual')\n",
    "# \tconvert_categorical(df['Electrical'].tolist(), dict(df['Electrical'].value_counts()/len(df)), 'Electrical')\n",
    "# \tconvert_categorical(df['MoSold'].tolist(), dict(df['MoSold'].value_counts()/len(df)), 'MoSold')\n",
    "# \tconvert_categorical(df['Season'].tolist(), dict(df['Season'].value_counts()/len(df)), 'Season')\n",
    "# \tconvert_categorical(df['Neighborhood'].tolist(), dict(df['Neighborhood'].value_counts()/len(df)), 'Neighborhood')\n",
    "# \tconvert_categorical(df['BldgType'].tolist(), dict(df['BldgType'].value_counts()/len(df)), 'BldgType')\n",
    "# \tconvert_categorical(df['SaleType'].tolist(), dict(df['SaleType'].value_counts()/len(df)), 'SaleType')\n",
    "# \tconvert_categorical(df['MSZoning'].tolist(), dict(df['MSZoning'].value_counts()/len(df)), 'MSZoning')\n",
    "# \tconvert_yearsold(df['YrSold'].tolist(), dict(df['YrSold'].value_counts()/len(df)), 'YrSold')\n",
    "\n",
    "\n",
    "\tcols = [col for col in df.columns if col in ['LotArea', 'Neighborhood', 'GarageCars','MasVnrType', 'BsmtQual', 'TotalBsmtSF', '1stFlrSF','2ndFlrSF', 'GrLivArea', 'FullBath', 'HalfBath', 'TotRmsAbvGrd','GarageType', 'GarageArea', 'WoodDeckSF', 'MoSold', 'SaleType','SaleCondition','Age_building', 'Since_remodeled', 'Age_garage', 'BldgType', 'MSZoning', 'Season', 'KitchenQual', 'BedroomAbvGr', 'Functional', 'BsmtUnfSF','BsmtFullBath', 'KitchenAbvGr','YrSold','SalePrice']]\n",
    "\tdf1 = df[cols]\n",
    "\t# print(df1.head())\n",
    "\treturn df1\n",
    "\t#print(df1.head())\n",
    "\n",
    "df=file_read('/Users/chidam/Desktop/housing_prices_kaggle_train.csv')\n",
    "df_fair=main_fn()\n",
    "\n",
    "\n",
    "\n",
    "\n",
    "\n"
   ]
  },
  {
   "cell_type": "code",
   "execution_count": null,
   "metadata": {
    "collapsed": true
   },
   "outputs": [],
   "source": []
  },
  {
   "cell_type": "code",
   "execution_count": null,
   "metadata": {
    "collapsed": true
   },
   "outputs": [],
   "source": []
  },
  {
   "cell_type": "code",
   "execution_count": null,
   "metadata": {
    "collapsed": true
   },
   "outputs": [],
   "source": []
  },
  {
   "cell_type": "code",
   "execution_count": null,
   "metadata": {
    "collapsed": true
   },
   "outputs": [],
   "source": []
  },
  {
   "cell_type": "code",
   "execution_count": null,
   "metadata": {
    "collapsed": true
   },
   "outputs": [],
   "source": []
  },
  {
   "cell_type": "code",
   "execution_count": null,
   "metadata": {
    "collapsed": true
   },
   "outputs": [],
   "source": []
  },
  {
   "cell_type": "code",
   "execution_count": null,
   "metadata": {
    "collapsed": true
   },
   "outputs": [],
   "source": []
  },
  {
   "cell_type": "code",
   "execution_count": null,
   "metadata": {
    "collapsed": true
   },
   "outputs": [],
   "source": []
  },
  {
   "cell_type": "code",
   "execution_count": null,
   "metadata": {
    "collapsed": true
   },
   "outputs": [],
   "source": []
  },
  {
   "cell_type": "code",
   "execution_count": 18,
   "metadata": {},
   "outputs": [
    {
     "data": {
      "text/plain": [
       "['dataframe_Ames_stacking_finalimprove']"
      ]
     },
     "execution_count": 18,
     "metadata": {},
     "output_type": "execute_result"
    }
   ],
   "source": [
    "from sklearn.externals import joblib\n",
    "joblib.dump(df_fair, 'dataframe_Ames_stacking_finalimprove')"
   ]
  },
  {
   "cell_type": "code",
   "execution_count": 13,
   "metadata": {
    "collapsed": true
   },
   "outputs": [],
   "source": [
    "#from sklearn.externals import joblib"
   ]
  },
  {
   "cell_type": "code",
   "execution_count": 19,
   "metadata": {
    "collapsed": true
   },
   "outputs": [],
   "source": [
    "from sklearn.externals import joblib\n",
    "df_final=joblib.load('dataframe_Ames_stacking_finalimprove')"
   ]
  },
  {
   "cell_type": "code",
   "execution_count": 20,
   "metadata": {
    "scrolled": true
   },
   "outputs": [
    {
     "data": {
      "text/html": [
       "<div>\n",
       "<style>\n",
       "    .dataframe thead tr:only-child th {\n",
       "        text-align: right;\n",
       "    }\n",
       "\n",
       "    .dataframe thead th {\n",
       "        text-align: left;\n",
       "    }\n",
       "\n",
       "    .dataframe tbody tr th {\n",
       "        vertical-align: top;\n",
       "    }\n",
       "</style>\n",
       "<table border=\"1\" class=\"dataframe\">\n",
       "  <thead>\n",
       "    <tr style=\"text-align: right;\">\n",
       "      <th></th>\n",
       "      <th>MSZoning</th>\n",
       "      <th>LotArea</th>\n",
       "      <th>Neighborhood</th>\n",
       "      <th>BldgType</th>\n",
       "      <th>MasVnrType</th>\n",
       "      <th>BsmtQual</th>\n",
       "      <th>BsmtUnfSF</th>\n",
       "      <th>TotalBsmtSF</th>\n",
       "      <th>1stFlrSF</th>\n",
       "      <th>2ndFlrSF</th>\n",
       "      <th>...</th>\n",
       "      <th>WoodDeckSF</th>\n",
       "      <th>MoSold</th>\n",
       "      <th>YrSold</th>\n",
       "      <th>SaleType</th>\n",
       "      <th>SaleCondition</th>\n",
       "      <th>SalePrice</th>\n",
       "      <th>Season</th>\n",
       "      <th>Age_building</th>\n",
       "      <th>Since_remodeled</th>\n",
       "      <th>Age_garage</th>\n",
       "    </tr>\n",
       "  </thead>\n",
       "  <tbody>\n",
       "    <tr>\n",
       "      <th>0</th>\n",
       "      <td>RL</td>\n",
       "      <td>11250</td>\n",
       "      <td>j</td>\n",
       "      <td>1Fam</td>\n",
       "      <td>BrkFace</td>\n",
       "      <td>2</td>\n",
       "      <td>434</td>\n",
       "      <td>920</td>\n",
       "      <td>920</td>\n",
       "      <td>866</td>\n",
       "      <td>...</td>\n",
       "      <td>0</td>\n",
       "      <td>11</td>\n",
       "      <td>2</td>\n",
       "      <td>WD</td>\n",
       "      <td>Normal</td>\n",
       "      <td>223500</td>\n",
       "      <td>0</td>\n",
       "      <td>7</td>\n",
       "      <td>6</td>\n",
       "      <td>7.0</td>\n",
       "    </tr>\n",
       "    <tr>\n",
       "      <th>1</th>\n",
       "      <td>RL</td>\n",
       "      <td>9550</td>\n",
       "      <td>i</td>\n",
       "      <td>1Fam</td>\n",
       "      <td>missing</td>\n",
       "      <td>3</td>\n",
       "      <td>540</td>\n",
       "      <td>756</td>\n",
       "      <td>961</td>\n",
       "      <td>756</td>\n",
       "      <td>...</td>\n",
       "      <td>0</td>\n",
       "      <td>3</td>\n",
       "      <td>0</td>\n",
       "      <td>WD</td>\n",
       "      <td>Abnorml</td>\n",
       "      <td>140000</td>\n",
       "      <td>3</td>\n",
       "      <td>91</td>\n",
       "      <td>36</td>\n",
       "      <td>8.0</td>\n",
       "    </tr>\n",
       "    <tr>\n",
       "      <th>2</th>\n",
       "      <td>RL</td>\n",
       "      <td>14260</td>\n",
       "      <td>j</td>\n",
       "      <td>1Fam</td>\n",
       "      <td>BrkFace</td>\n",
       "      <td>2</td>\n",
       "      <td>490</td>\n",
       "      <td>1145</td>\n",
       "      <td>1145</td>\n",
       "      <td>1053</td>\n",
       "      <td>...</td>\n",
       "      <td>192</td>\n",
       "      <td>2</td>\n",
       "      <td>2</td>\n",
       "      <td>WD</td>\n",
       "      <td>Normal</td>\n",
       "      <td>250000</td>\n",
       "      <td>3</td>\n",
       "      <td>8</td>\n",
       "      <td>8</td>\n",
       "      <td>8.0</td>\n",
       "    </tr>\n",
       "    <tr>\n",
       "      <th>3</th>\n",
       "      <td>RL</td>\n",
       "      <td>14115</td>\n",
       "      <td>h</td>\n",
       "      <td>1Fam</td>\n",
       "      <td>missing</td>\n",
       "      <td>2</td>\n",
       "      <td>64</td>\n",
       "      <td>796</td>\n",
       "      <td>796</td>\n",
       "      <td>566</td>\n",
       "      <td>...</td>\n",
       "      <td>40</td>\n",
       "      <td>10</td>\n",
       "      <td>3</td>\n",
       "      <td>WD</td>\n",
       "      <td>Normal</td>\n",
       "      <td>143000</td>\n",
       "      <td>0</td>\n",
       "      <td>16</td>\n",
       "      <td>14</td>\n",
       "      <td>16.0</td>\n",
       "    </tr>\n",
       "    <tr>\n",
       "      <th>4</th>\n",
       "      <td>RL</td>\n",
       "      <td>10084</td>\n",
       "      <td>j</td>\n",
       "      <td>1Fam</td>\n",
       "      <td>Stone</td>\n",
       "      <td>0</td>\n",
       "      <td>317</td>\n",
       "      <td>1686</td>\n",
       "      <td>1694</td>\n",
       "      <td>0</td>\n",
       "      <td>...</td>\n",
       "      <td>255</td>\n",
       "      <td>1</td>\n",
       "      <td>1</td>\n",
       "      <td>WD</td>\n",
       "      <td>Normal</td>\n",
       "      <td>307000</td>\n",
       "      <td>2</td>\n",
       "      <td>3</td>\n",
       "      <td>2</td>\n",
       "      <td>3.0</td>\n",
       "    </tr>\n",
       "  </tbody>\n",
       "</table>\n",
       "<p>5 rows × 32 columns</p>\n",
       "</div>"
      ],
      "text/plain": [
       "  MSZoning  LotArea Neighborhood BldgType MasVnrType  BsmtQual  BsmtUnfSF  \\\n",
       "0       RL    11250            j     1Fam    BrkFace         2        434   \n",
       "1       RL     9550            i     1Fam    missing         3        540   \n",
       "2       RL    14260            j     1Fam    BrkFace         2        490   \n",
       "3       RL    14115            h     1Fam    missing         2         64   \n",
       "4       RL    10084            j     1Fam      Stone         0        317   \n",
       "\n",
       "   TotalBsmtSF  1stFlrSF  2ndFlrSF    ...      WoodDeckSF  MoSold  YrSold  \\\n",
       "0          920       920       866    ...               0      11       2   \n",
       "1          756       961       756    ...               0       3       0   \n",
       "2         1145      1145      1053    ...             192       2       2   \n",
       "3          796       796       566    ...              40      10       3   \n",
       "4         1686      1694         0    ...             255       1       1   \n",
       "\n",
       "   SaleType  SaleCondition  SalePrice  Season  Age_building  Since_remodeled  \\\n",
       "0        WD         Normal     223500       0             7                6   \n",
       "1        WD        Abnorml     140000       3            91               36   \n",
       "2        WD         Normal     250000       3             8                8   \n",
       "3        WD         Normal     143000       0            16               14   \n",
       "4        WD         Normal     307000       2             3                2   \n",
       "\n",
       "  Age_garage  \n",
       "0        7.0  \n",
       "1        8.0  \n",
       "2        8.0  \n",
       "3       16.0  \n",
       "4        3.0  \n",
       "\n",
       "[5 rows x 32 columns]"
      ]
     },
     "execution_count": 20,
     "metadata": {},
     "output_type": "execute_result"
    }
   ],
   "source": [
    "df_final.head()"
   ]
  },
  {
   "cell_type": "code",
   "execution_count": 22,
   "metadata": {},
   "outputs": [
    {
     "data": {
      "text/plain": [
       "32"
      ]
     },
     "execution_count": 22,
     "metadata": {},
     "output_type": "execute_result"
    }
   ],
   "source": [
    "len(df_final.columns)"
   ]
  },
  {
   "cell_type": "code",
   "execution_count": 23,
   "metadata": {},
   "outputs": [
    {
     "data": {
      "text/plain": [
       "array(['BrkFace', 'missing', 'Stone', 'BrkCmn'], dtype=object)"
      ]
     },
     "execution_count": 23,
     "metadata": {},
     "output_type": "execute_result"
    }
   ],
   "source": [
    "df_final['MasVnrType'].unique()"
   ]
  },
  {
   "cell_type": "code",
   "execution_count": 24,
   "metadata": {},
   "outputs": [
    {
     "name": "stdout",
     "output_type": "stream",
     "text": [
      "\n",
      "Skew in numerical features: \n",
      "\n"
     ]
    },
    {
     "data": {
      "text/html": [
       "<div>\n",
       "<style>\n",
       "    .dataframe thead tr:only-child th {\n",
       "        text-align: right;\n",
       "    }\n",
       "\n",
       "    .dataframe thead th {\n",
       "        text-align: left;\n",
       "    }\n",
       "\n",
       "    .dataframe tbody tr th {\n",
       "        vertical-align: top;\n",
       "    }\n",
       "</style>\n",
       "<table border=\"1\" class=\"dataframe\">\n",
       "  <thead>\n",
       "    <tr style=\"text-align: right;\">\n",
       "      <th></th>\n",
       "      <th>Skewed_features</th>\n",
       "    </tr>\n",
       "  </thead>\n",
       "  <tbody>\n",
       "    <tr>\n",
       "      <th>LotArea</th>\n",
       "      <td>12.641143</td>\n",
       "    </tr>\n",
       "    <tr>\n",
       "      <th>KitchenAbvGr</th>\n",
       "      <td>4.471464</td>\n",
       "    </tr>\n",
       "    <tr>\n",
       "      <th>WoodDeckSF</th>\n",
       "      <td>1.557375</td>\n",
       "    </tr>\n",
       "    <tr>\n",
       "      <th>SalePrice</th>\n",
       "      <td>1.492878</td>\n",
       "    </tr>\n",
       "    <tr>\n",
       "      <th>BsmtUnfSF</th>\n",
       "      <td>0.918475</td>\n",
       "    </tr>\n",
       "    <tr>\n",
       "      <th>1stFlrSF</th>\n",
       "      <td>0.867783</td>\n",
       "    </tr>\n",
       "    <tr>\n",
       "      <th>GrLivArea</th>\n",
       "      <td>0.804029</td>\n",
       "    </tr>\n",
       "    <tr>\n",
       "      <th>2ndFlrSF</th>\n",
       "      <td>0.767512</td>\n",
       "    </tr>\n",
       "    <tr>\n",
       "      <th>HalfBath</th>\n",
       "      <td>0.686610</td>\n",
       "    </tr>\n",
       "    <tr>\n",
       "      <th>Age_garage</th>\n",
       "      <td>0.663254</td>\n",
       "    </tr>\n",
       "    <tr>\n",
       "      <th>TotRmsAbvGrd</th>\n",
       "      <td>0.662108</td>\n",
       "    </tr>\n",
       "    <tr>\n",
       "      <th>Age_building</th>\n",
       "      <td>0.602520</td>\n",
       "    </tr>\n",
       "    <tr>\n",
       "      <th>BsmtFullBath</th>\n",
       "      <td>0.593241</td>\n",
       "    </tr>\n",
       "    <tr>\n",
       "      <th>Since_remodeled</th>\n",
       "      <td>0.496673</td>\n",
       "    </tr>\n",
       "    <tr>\n",
       "      <th>TotalBsmtSF</th>\n",
       "      <td>0.485695</td>\n",
       "    </tr>\n",
       "    <tr>\n",
       "      <th>BedroomAbvGr</th>\n",
       "      <td>0.216763</td>\n",
       "    </tr>\n",
       "    <tr>\n",
       "      <th>GarageArea</th>\n",
       "      <td>0.134218</td>\n",
       "    </tr>\n",
       "    <tr>\n",
       "      <th>YrSold</th>\n",
       "      <td>0.091348</td>\n",
       "    </tr>\n",
       "    <tr>\n",
       "      <th>FullBath</th>\n",
       "      <td>0.013300</td>\n",
       "    </tr>\n",
       "    <tr>\n",
       "      <th>Season</th>\n",
       "      <td>-0.150160</td>\n",
       "    </tr>\n",
       "    <tr>\n",
       "      <th>MoSold</th>\n",
       "      <td>-0.255154</td>\n",
       "    </tr>\n",
       "    <tr>\n",
       "      <th>GarageCars</th>\n",
       "      <td>-0.342258</td>\n",
       "    </tr>\n",
       "    <tr>\n",
       "      <th>BsmtQual</th>\n",
       "      <td>-1.118222</td>\n",
       "    </tr>\n",
       "    <tr>\n",
       "      <th>KitchenQual</th>\n",
       "      <td>-1.427597</td>\n",
       "    </tr>\n",
       "    <tr>\n",
       "      <th>Functional</th>\n",
       "      <td>-4.069283</td>\n",
       "    </tr>\n",
       "  </tbody>\n",
       "</table>\n",
       "</div>"
      ],
      "text/plain": [
       "                 Skewed_features\n",
       "LotArea                12.641143\n",
       "KitchenAbvGr            4.471464\n",
       "WoodDeckSF              1.557375\n",
       "SalePrice               1.492878\n",
       "BsmtUnfSF               0.918475\n",
       "1stFlrSF                0.867783\n",
       "GrLivArea               0.804029\n",
       "2ndFlrSF                0.767512\n",
       "HalfBath                0.686610\n",
       "Age_garage              0.663254\n",
       "TotRmsAbvGrd            0.662108\n",
       "Age_building            0.602520\n",
       "BsmtFullBath            0.593241\n",
       "Since_remodeled         0.496673\n",
       "TotalBsmtSF             0.485695\n",
       "BedroomAbvGr            0.216763\n",
       "GarageArea              0.134218\n",
       "YrSold                  0.091348\n",
       "FullBath                0.013300\n",
       "Season                 -0.150160\n",
       "MoSold                 -0.255154\n",
       "GarageCars             -0.342258\n",
       "BsmtQual               -1.118222\n",
       "KitchenQual            -1.427597\n",
       "Functional             -4.069283"
      ]
     },
     "execution_count": 24,
     "metadata": {},
     "output_type": "execute_result"
    }
   ],
   "source": [
    "from scipy.stats import norm, skew\n",
    "numeric_feats = df_final.dtypes[df_final.dtypes != \"object\"].index\n",
    "\n",
    "# Check the skew of all numerical features\n",
    "skewed_feats = df_final[numeric_feats].apply(lambda x: skew(x.dropna())).sort_values(ascending=False)\n",
    "print(\"\\nSkew in numerical features: \\n\")\n",
    "skewness = pd.DataFrame({'Skewed_features' :skewed_feats})\n",
    "skewness\n",
    "\n"
   ]
  },
  {
   "cell_type": "code",
   "execution_count": 25,
   "metadata": {},
   "outputs": [
    {
     "name": "stdout",
     "output_type": "stream",
     "text": [
      "There are 11 skewed numerical features to transform\n"
     ]
    },
    {
     "data": {
      "text/plain": [
       "Index(['LotArea', 'KitchenAbvGr', 'WoodDeckSF', 'SalePrice', 'BsmtUnfSF',\n",
       "       '1stFlrSF', 'GrLivArea', '2ndFlrSF', 'BsmtQual', 'KitchenQual',\n",
       "       'Functional'],\n",
       "      dtype='object')"
      ]
     },
     "execution_count": 25,
     "metadata": {},
     "output_type": "execute_result"
    }
   ],
   "source": [
    "skew_train = skewness[(abs(skewness) > 0.75).any(axis=1)]\n",
    "print(\"There are {} skewed numerical features to transform\".format(skew_train.shape[0]))\n",
    "skew_train.index"
   ]
  },
  {
   "cell_type": "code",
   "execution_count": 26,
   "metadata": {
    "collapsed": true
   },
   "outputs": [],
   "source": [
    "# We use the scipy function boxcox1p which computes the Box-Cox transformation of  1+x\n",
    "# Note that setting  λ=0 is equivalent to log1p used above for the target variable.\n",
    "# http://onlinestatbook.com/2/transformations/box-cox.html\n",
    "# https://docs.scipy.org/doc/scipy-0.19.0/reference/generated/scipy.special.boxcox1p.html\n",
    "\n",
    "#So the idea is to convert only the features that are skewed more than 75% \n",
    "from scipy.special import boxcox1p\n",
    "skewed_index_train = skew_train.index\n",
    "lamb = 0.15#lamda\n",
    "for feature in skewed_index_train:\n",
    "    #all_data[feat] += 1\n",
    "    df_final[feature] = boxcox1p(df_final[feature], lamb)"
   ]
  },
  {
   "cell_type": "code",
   "execution_count": 27,
   "metadata": {},
   "outputs": [
    {
     "name": "stdout",
     "output_type": "stream",
     "text": [
      "(1453, 65)\n"
     ]
    }
   ],
   "source": [
    "df_final = pd.get_dummies(df_final)\n",
    "print(df_final.shape)"
   ]
  },
  {
   "cell_type": "code",
   "execution_count": null,
   "metadata": {
    "collapsed": true
   },
   "outputs": [],
   "source": []
  },
  {
   "cell_type": "code",
   "execution_count": 28,
   "metadata": {},
   "outputs": [
    {
     "data": {
      "text/plain": [
       "Index([], dtype='object')"
      ]
     },
     "execution_count": 28,
     "metadata": {},
     "output_type": "execute_result"
    }
   ],
   "source": [
    "df_final.columns[df_final.isnull().any()]"
   ]
  },
  {
   "cell_type": "code",
   "execution_count": 29,
   "metadata": {
    "collapsed": true
   },
   "outputs": [],
   "source": [
    "import numpy as np\n",
    "\n",
    "df_final['SalePrice']=np.log1p(df_final['SalePrice'])"
   ]
  },
  {
   "cell_type": "code",
   "execution_count": 30,
   "metadata": {
    "collapsed": true
   },
   "outputs": [],
   "source": [
    "y=df_final['SalePrice'].values"
   ]
  },
  {
   "cell_type": "code",
   "execution_count": 31,
   "metadata": {
    "collapsed": true
   },
   "outputs": [],
   "source": [
    "df_final=df_final.drop('SalePrice', axis=1)"
   ]
  },
  {
   "cell_type": "code",
   "execution_count": 9,
   "metadata": {
    "collapsed": true
   },
   "outputs": [],
   "source": [
    "# import pandas as pd\n",
    "# df_train_x=pd.DataFrame()"
   ]
  },
  {
   "cell_type": "code",
   "execution_count": 38,
   "metadata": {
    "collapsed": true
   },
   "outputs": [],
   "source": [
    "X_train=df_final.values"
   ]
  },
  {
   "cell_type": "code",
   "execution_count": 9,
   "metadata": {
    "collapsed": true
   },
   "outputs": [],
   "source": [
    "# #I have transformed the entire dataset including both the numerical and categorical features except the target variable: SalePrice\n",
    "# # Why I have used method='yeo-johnson' in power_transform: this is because I want to convert both positive and negative values\n",
    "# # that cannot be done using box-cox transformation - at least that's what I thought\n",
    "# from sklearn.preprocessing import power_transform\n",
    "# # for feat in df_train_x.columns:\n",
    "# #     df_train_x[feat] = power_transform(df_train_x[feat], method='yeo-johnson')\n",
    "# X_train=power_transform(X, method='yeo-johnson')"
   ]
  },
  {
   "cell_type": "code",
   "execution_count": 14,
   "metadata": {
    "collapsed": true
   },
   "outputs": [],
   "source": [
    "# from sklearn.model_selection import train_test_split\n",
    "# X_train, X_test, y_train, y_test = train_test_split(X, y, test_size=0.33, random_state=42)"
   ]
  },
  {
   "cell_type": "code",
   "execution_count": 34,
   "metadata": {},
   "outputs": [],
   "source": [
    "from sklearn.linear_model import ElasticNet, Lasso,  BayesianRidge, LassoLarsIC\n",
    "from sklearn.ensemble import RandomForestRegressor,  GradientBoostingRegressor\n",
    "from sklearn.kernel_ridge import KernelRidge\n",
    "from sklearn.pipeline import make_pipeline\n",
    "from sklearn.preprocessing import RobustScaler\n",
    "from sklearn.base import BaseEstimator, TransformerMixin, RegressorMixin, clone\n",
    "from sklearn.model_selection import KFold, cross_val_score, train_test_split\n",
    "from sklearn.metrics import mean_squared_error\n",
    "import xgboost as xgb\n",
    "import lightgbm as lgb"
   ]
  },
  {
   "cell_type": "code",
   "execution_count": 14,
   "metadata": {
    "collapsed": true
   },
   "outputs": [],
   "source": [
    "# def grid_search(models1, params1):\n",
    "#     from sklearn.model_selection import GridSearchCV\n",
    "#     res=[]\n",
    "#     kf = KFold(n_folds, shuffle=True, random_state=42).get_n_splits(X_train)\n",
    "#     #models1 = {'Lasso': Lasso(),'Elastic Net Regression': ElasticNet(),'Kernel Ridge Regression': KernelRidge(),'Gradient Boosting Regression': GradientBoostingRegressor()}\n",
    "\n",
    "#     #params1 = {'Lasso': { 'alpha': [0.0005, 0.001, 0.0003] },'Elastic Net Regression': {'alpha': [0.0005, 0.003, 0.00045] , 'l1_ratio':[.9, .5, .75]},'Kernel Ridge Regression':{ 'alpha':[0.6, 0.5, 0.35], 'kernel':'polynomial', 'degree':[2, 3], 'coef0':[0, 1.5, 2.5]},'Gradient Boosting Regression': { 'n_estimators':[3000, 2500, 1200], 'learning_rate':[0.05, 0.1, 0.004], 'max_depth':4, 'max_features':['sqrt', 'log2'],'min_samples_leaf':[15, 5, 10, 4], 'min_samples_split':[10, 5, 8], 'loss':'huber'}}\n",
    "#     set_dict=set(models1) & set(params1)\n",
    "#     for i in set_dict:\n",
    "#         gs = GridSearchCV(models1[i], params1[i], cv=kf, verbose=10, scoring=\"neg_mean_squared_error\", refit=False)\n",
    "#         gs.fit(X, y)\n",
    "#         res.append(gs.best_params_)\n",
    "#     return res\n",
    "       "
   ]
  },
  {
   "cell_type": "code",
   "execution_count": null,
   "metadata": {
    "collapsed": true
   },
   "outputs": [],
   "source": [
    "# models1 = {'Lasso': Lasso(max_iter=3000, tol=0.0001),'Elastic Net Regression': ElasticNet(),'Kernel Ridge Regression': KernelRidge(),'Gradient Boosting Regression': GradientBoostingRegressor(loss='huber')}\n",
    "# params1 = {'Lasso': { 'alpha': [0.0005, 0.001, 0.0003]},'Elastic Net Regression': {'alpha': [0.0005, 0.003, 0.004] , 'l1_ratio':[.9, .5, .7]},'Kernel Ridge Regression':{'alpha':[0.6, 0.5, 0.3], 'kernel':'polynomial', 'degree':[2, 3], 'coef0':[0, 1.5, 2.5]},'Gradient Boosting Regression': { 'n_estimators':[3000, 2500, 1200], 'learning_rate':[0.05, 0.1, 0.004], 'max_depth':[4, 6, 5, 7], 'max_features':['sqrt', 'log2'],'min_samples_leaf':[15, 5, 10, 4], 'min_samples_split':[10, 5, 8]}}\n",
    "# grid_search(models1, params1)"
   ]
  },
  {
   "cell_type": "code",
   "execution_count": 39,
   "metadata": {
    "collapsed": true
   },
   "outputs": [],
   "source": [
    "def grid_search(m, p):\n",
    "    from sklearn.model_selection import GridSearchCV\n",
    "    res=[]\n",
    "    kf = KFold(10, shuffle=True, random_state=42).get_n_splits(X_train)\n",
    "    #models1 = {'Lasso': Lasso(),'Elastic Net Regression': ElasticNet(),'Kernel Ridge Regression': KernelRidge(),'Gradient Boosting Regression': GradientBoostingRegressor()}\n",
    "\n",
    "    #params1 = {'Lasso': { 'alpha': [0.0005, 0.001, 0.0003] },'Elastic Net Regression': {'alpha': [0.0005, 0.003, 0.00045] , 'l1_ratio':[.9, .5, .75]},'Kernel Ridge Regression':{ 'alpha':[0.6, 0.5, 0.35], 'kernel':'polynomial', 'degree':[2, 3], 'coef0':[0, 1.5, 2.5]},'Gradient Boosting Regression': { 'n_estimators':[3000, 2500, 1200], 'learning_rate':[0.05, 0.1, 0.004], 'max_depth':4, 'max_features':['sqrt', 'log2'],'min_samples_leaf':[15, 5, 10, 4], 'min_samples_split':[10, 5, 8], 'loss':'huber'}}\n",
    " \n",
    "    gs = GridSearchCV(m, p, cv=kf, verbose=10, scoring=\"neg_mean_squared_error\", refit=False)\n",
    "    gs.fit(X_train, y)\n",
    "    return gs.best_params_"
   ]
  },
  {
   "cell_type": "code",
   "execution_count": 35,
   "metadata": {},
   "outputs": [],
   "source": [
    "#Lasso\n",
    "# models_lasso = Lasso(max_iter=3000, tol=0.0001)\n",
    "# param_lasso={'alpha': [0.0005, 0.001, 0.0003]}\n",
    "# grid_search(models_lasso, param_lasso)"
   ]
  },
  {
   "cell_type": "code",
   "execution_count": 22,
   "metadata": {
    "collapsed": true
   },
   "outputs": [],
   "source": [
    "# def grid_search(m, p):\n",
    "#     from sklearn.model_selection import GridSearchCV\n",
    "#     res=[]\n",
    "#     kf = KFold(n_folds, shuffle=True, random_state=42).get_n_splits(X)\n",
    "#     #models1 = {'Lasso': Lasso(),'Elastic Net Regression': ElasticNet(),'Kernel Ridge Regression': KernelRidge(),'Gradient Boosting Regression': GradientBoostingRegressor()}\n",
    "\n",
    "#     #params1 = {'Lasso': { 'alpha': [0.0005, 0.001, 0.0003] },'Elastic Net Regression': {'alpha': [0.0005, 0.003, 0.00045] , 'l1_ratio':[.9, .5, .75]},'Kernel Ridge Regression':{ 'alpha':[0.6, 0.5, 0.35], 'kernel':'polynomial', 'degree':[2, 3], 'coef0':[0, 1.5, 2.5]},'Gradient Boosting Regression': { 'n_estimators':[3000, 2500, 1200], 'learning_rate':[0.05, 0.1, 0.004], 'max_depth':4, 'max_features':['sqrt', 'log2'],'min_samples_leaf':[15, 5, 10, 4], 'min_samples_split':[10, 5, 8], 'loss':'huber'}}\n",
    " \n",
    "#     gs = GridSearchCV(m, p, cv=kf, verbose=10, scoring=\"neg_mean_squared_error\", refit=False)\n",
    "#     gs.fit(X_train, y_train)\n",
    "#     return gs.best_params_"
   ]
  },
  {
   "cell_type": "code",
   "execution_count": 40,
   "metadata": {},
   "outputs": [
    {
     "name": "stdout",
     "output_type": "stream",
     "text": [
      "Fitting 10 folds for each of 5 candidates, totalling 50 fits\n",
      "[CV] alpha=0.0005 ....................................................\n",
      "[CV] ....... alpha=0.0005, score=-0.0007226547487106155, total=   0.0s\n",
      "[CV] alpha=0.0005 ....................................................\n",
      "[CV] ....... alpha=0.0005, score=-0.0005838053727049314, total=   0.0s\n",
      "[CV] alpha=0.0005 ....................................................\n",
      "[CV] ....... alpha=0.0005, score=-0.0005120863999377763, total=   0.0s\n",
      "[CV] alpha=0.0005 ....................................................\n",
      "[CV] ....... alpha=0.0005, score=-0.0006721556255991204, total=   0.0s\n",
      "[CV] alpha=0.0005 ....................................................\n",
      "[CV] ....... alpha=0.0005, score=-0.0008337835561344971, total=   0.0s\n",
      "[CV] alpha=0.0005 ....................................................\n",
      "[CV] ....... alpha=0.0005, score=-0.0005143869269079581, total=   0.0s\n",
      "[CV] alpha=0.0005 ....................................................\n",
      "[CV] ....... alpha=0.0005, score=-0.0006791221747801583, total=   0.0s\n",
      "[CV] alpha=0.0005 ....................................................\n",
      "[CV] ....... alpha=0.0005, score=-0.0006120594564109012, total=   0.0s\n",
      "[CV] alpha=0.0005 ....................................................\n",
      "[CV] ....... alpha=0.0005, score=-0.0006298536191734365, total=   0.0s\n",
      "[CV] alpha=0.0005 ....................................................\n",
      "[CV] ....... alpha=0.0005, score=-0.0007319361269046578, total=   0.0s\n",
      "[CV] alpha=0.001 .....................................................\n",
      "[CV] ........ alpha=0.001, score=-0.0008129862175750484, total=   0.0s\n",
      "[CV] alpha=0.001 .....................................................\n",
      "[CV] ........ alpha=0.001, score=-0.0006287089212340846, total=   0.0s\n",
      "[CV] alpha=0.001 .....................................................\n",
      "[CV] ........ alpha=0.001, score=-0.0006082279937289643, total=   0.0s\n",
      "[CV] alpha=0.001 .....................................................\n",
      "[CV] ........ alpha=0.001, score=-0.0007417279026550581, total=   0.0s\n",
      "[CV] alpha=0.001 .....................................................\n",
      "[CV] ........ alpha=0.001, score=-0.0008974750736391515, total=   0.0s\n",
      "[CV] alpha=0.001 .....................................................\n",
      "[CV] ........ alpha=0.001, score=-0.0005464384772226845, total=   0.0s\n",
      "[CV] alpha=0.001 .....................................................\n",
      "[CV] ........ alpha=0.001, score=-0.0007728789591381327, total=   0.0s\n",
      "[CV] alpha=0.001 .....................................................\n",
      "[CV] ........ alpha=0.001, score=-0.0006618370148133587, total=   0.0s\n",
      "[CV] alpha=0.001 .....................................................\n",
      "[CV] ........ alpha=0.001, score=-0.0007541486092594957, total=   0.0s\n",
      "[CV] alpha=0.001 .....................................................\n"
     ]
    },
    {
     "name": "stderr",
     "output_type": "stream",
     "text": [
      "[Parallel(n_jobs=1)]: Using backend SequentialBackend with 1 concurrent workers.\n",
      "[Parallel(n_jobs=1)]: Done   1 out of   1 | elapsed:    0.0s remaining:    0.0s\n",
      "[Parallel(n_jobs=1)]: Done   2 out of   2 | elapsed:    0.0s remaining:    0.0s\n",
      "[Parallel(n_jobs=1)]: Done   3 out of   3 | elapsed:    0.0s remaining:    0.0s\n",
      "[Parallel(n_jobs=1)]: Done   4 out of   4 | elapsed:    0.1s remaining:    0.0s\n",
      "[Parallel(n_jobs=1)]: Done   5 out of   5 | elapsed:    0.1s remaining:    0.0s\n",
      "[Parallel(n_jobs=1)]: Done   6 out of   6 | elapsed:    0.1s remaining:    0.0s\n",
      "[Parallel(n_jobs=1)]: Done   7 out of   7 | elapsed:    0.1s remaining:    0.0s\n",
      "[Parallel(n_jobs=1)]: Done   8 out of   8 | elapsed:    0.1s remaining:    0.0s\n",
      "[Parallel(n_jobs=1)]: Done   9 out of   9 | elapsed:    0.1s remaining:    0.0s\n"
     ]
    },
    {
     "name": "stdout",
     "output_type": "stream",
     "text": [
      "[CV] ........ alpha=0.001, score=-0.0007953691109274944, total=   0.0s\n",
      "[CV] alpha=0.0003 ....................................................\n",
      "[CV] ....... alpha=0.0003, score=-0.0006415390297403173, total=   0.0s\n",
      "[CV] alpha=0.0003 ....................................................\n",
      "[CV] ....... alpha=0.0003, score=-0.0005593079949976204, total=   0.0s\n",
      "[CV] alpha=0.0003 ....................................................\n",
      "[CV] ....... alpha=0.0003, score=-0.0004901687121832915, total=   0.0s\n",
      "[CV] alpha=0.0003 ....................................................\n",
      "[CV] ....... alpha=0.0003, score=-0.0006016563875668365, total=   0.0s\n",
      "[CV] alpha=0.0003 ....................................................\n",
      "[CV] ....... alpha=0.0003, score=-0.0008167449571940059, total=   0.0s\n",
      "[CV] alpha=0.0003 ....................................................\n",
      "[CV] ....... alpha=0.0003, score=-0.0004544024285515325, total=   0.0s\n",
      "[CV] alpha=0.0003 ....................................................\n",
      "[CV] ....... alpha=0.0003, score=-0.0005908609711070658, total=   0.0s\n",
      "[CV] alpha=0.0003 ....................................................\n",
      "[CV] ....... alpha=0.0003, score=-0.0005842069665263174, total=   0.0s\n",
      "[CV] alpha=0.0003 ....................................................\n",
      "[CV] ....... alpha=0.0003, score=-0.0005722914398030266, total=   0.0s\n",
      "[CV] alpha=0.0003 ....................................................\n",
      "[CV] ....... alpha=0.0003, score=-0.0007163281605601331, total=   0.0s\n",
      "[CV] alpha=0.05 ......................................................\n",
      "[CV] ......... alpha=0.05, score=-0.0011581939618661426, total=   0.0s\n",
      "[CV] alpha=0.05 ......................................................\n",
      "[CV] ......... alpha=0.05, score=-0.0011542350639766417, total=   0.0s\n",
      "[CV] alpha=0.05 ......................................................\n",
      "[CV] ......... alpha=0.05, score=-0.0012460843132990871, total=   0.0s\n",
      "[CV] alpha=0.05 ......................................................\n",
      "[CV] ......... alpha=0.05, score=-0.0012283098001786633, total=   0.0s\n",
      "[CV] alpha=0.05 ......................................................\n",
      "[CV] ......... alpha=0.05, score=-0.0013401238747998495, total=   0.0s\n",
      "[CV] alpha=0.05 ......................................................\n",
      "[CV] .......... alpha=0.05, score=-0.001011251372347796, total=   0.0s\n",
      "[CV] alpha=0.05 ......................................................\n",
      "[CV] ......... alpha=0.05, score=-0.0014284332645343846, total=   0.0s\n",
      "[CV] alpha=0.05 ......................................................\n",
      "[CV] ......... alpha=0.05, score=-0.0011909322297217171, total=   0.0s\n",
      "[CV] alpha=0.05 ......................................................\n",
      "[CV] ......... alpha=0.05, score=-0.0011200303873098315, total=   0.0s\n",
      "[CV] alpha=0.05 ......................................................\n",
      "[CV] ......... alpha=0.05, score=-0.0012914617857453672, total=   0.0s\n",
      "[CV] alpha=0.5 .......................................................\n",
      "[CV] ........... alpha=0.5, score=-0.001946052816577119, total=   0.0s\n",
      "[CV] alpha=0.5 .......................................................\n",
      "[CV] .......... alpha=0.5, score=-0.0018448648101192032, total=   0.0s\n",
      "[CV] alpha=0.5 .......................................................\n",
      "[CV] ............ alpha=0.5, score=-0.00223583680533003, total=   0.0s\n",
      "[CV] alpha=0.5 .......................................................\n",
      "[CV] .......... alpha=0.5, score=-0.0021128391032770857, total=   0.0s\n",
      "[CV] alpha=0.5 .......................................................\n",
      "[CV] .......... alpha=0.5, score=-0.0023980699449104212, total=   0.0s\n",
      "[CV] alpha=0.5 .......................................................\n",
      "[CV] .......... alpha=0.5, score=-0.0019735372972649284, total=   0.0s\n",
      "[CV] alpha=0.5 .......................................................\n",
      "[CV] ........... alpha=0.5, score=-0.002305433200748669, total=   0.0s\n",
      "[CV] alpha=0.5 .......................................................\n",
      "[CV] ........... alpha=0.5, score=-0.002079884533148817, total=   0.0s\n",
      "[CV] alpha=0.5 .......................................................\n",
      "[CV] .......... alpha=0.5, score=-0.0017442196860899238, total=   0.0s\n",
      "[CV] alpha=0.5 .......................................................\n",
      "[CV] ........... alpha=0.5, score=-0.001988221402604209, total=   0.0s\n"
     ]
    },
    {
     "name": "stderr",
     "output_type": "stream",
     "text": [
      "[Parallel(n_jobs=1)]: Done  50 out of  50 | elapsed:    0.4s finished\n"
     ]
    },
    {
     "data": {
      "text/plain": [
       "{'alpha': 0.0003}"
      ]
     },
     "execution_count": 40,
     "metadata": {},
     "output_type": "execute_result"
    }
   ],
   "source": [
    "models_lasso1 = Lasso(max_iter=3000, tol=0.0001)\n",
    "param_lasso1={'alpha': [0.0005, 0.001, 0.0003, 0.05, 0.5]}\n",
    "grid_search(models_lasso1, param_lasso1)\n",
    "#result: {'alpha': 0.5}"
   ]
  },
  {
   "cell_type": "code",
   "execution_count": 16,
   "metadata": {
    "collapsed": true
   },
   "outputs": [],
   "source": [
    "# def grid_search1(m, p):\n",
    "#     from sklearn.model_selection import GridSearchCV\n",
    "#     res=[]\n",
    "#     kf = KFold(n_folds, shuffle=True, random_state=42).get_n_splits(X)\n",
    "#     #models1 = {'Lasso': Lasso(),'Elastic Net Regression': ElasticNet(),'Kernel Ridge Regression': KernelRidge(),'Gradient Boosting Regression': GradientBoostingRegressor()}\n",
    "\n",
    "#     #params1 = {'Lasso': { 'alpha': [0.0005, 0.001, 0.0003] },'Elastic Net Regression': {'alpha': [0.0005, 0.003, 0.00045] , 'l1_ratio':[.9, .5, .75]},'Kernel Ridge Regression':{ 'alpha':[0.6, 0.5, 0.35], 'kernel':'polynomial', 'degree':[2, 3], 'coef0':[0, 1.5, 2.5]},'Gradient Boosting Regression': { 'n_estimators':[3000, 2500, 1200], 'learning_rate':[0.05, 0.1, 0.004], 'max_depth':4, 'max_features':['sqrt', 'log2'],'min_samples_leaf':[15, 5, 10, 4], 'min_samples_split':[10, 5, 8], 'loss':'huber'}}\n",
    " \n",
    "#     gs = GridSearchCV(m, p, cv=kf, verbose=10, scoring=\"neg_mean_squared_error\", refit=False)\n",
    "#     gs.fit(X, y)\n",
    "#     return gs.best_params_"
   ]
  },
  {
   "cell_type": "code",
   "execution_count": 41,
   "metadata": {},
   "outputs": [
    {
     "name": "stdout",
     "output_type": "stream",
     "text": [
      "Fitting 10 folds for each of 15 candidates, totalling 150 fits\n",
      "[CV] l1_ratio=0.9, alpha=0.0005 ......................................\n",
      "[CV]  l1_ratio=0.9, alpha=0.0005, score=-0.0007158796938149204, total=   0.0s\n",
      "[CV] l1_ratio=0.9, alpha=0.0005 ......................................\n",
      "[CV]  l1_ratio=0.9, alpha=0.0005, score=-0.0005794690846831725, total=   0.0s\n",
      "[CV] l1_ratio=0.9, alpha=0.0005 ......................................\n",
      "[CV]  l1_ratio=0.9, alpha=0.0005, score=-0.0005056951436244762, total=   0.0s\n",
      "[CV] l1_ratio=0.9, alpha=0.0005 ......................................\n",
      "[CV]  l1_ratio=0.9, alpha=0.0005, score=-0.0006577495839554334, total=   0.0s\n",
      "[CV] l1_ratio=0.9, alpha=0.0005 ......................................\n",
      "[CV]  l1_ratio=0.9, alpha=0.0005, score=-0.0008308700828261868, total=   0.0s\n",
      "[CV] l1_ratio=0.9, alpha=0.0005 ......................................\n",
      "[CV]  l1_ratio=0.9, alpha=0.0005, score=-0.0005023836266152966, total=   0.0s\n",
      "[CV] l1_ratio=0.9, alpha=0.0005 ......................................\n",
      "[CV]  l1_ratio=0.9, alpha=0.0005, score=-0.0006587805201823774, total=   0.0s\n",
      "[CV] l1_ratio=0.9, alpha=0.0005 ......................................\n",
      "[CV]  l1_ratio=0.9, alpha=0.0005, score=-0.000604201252083875, total=   0.0s\n",
      "[CV] l1_ratio=0.9, alpha=0.0005 ......................................\n",
      "[CV]  l1_ratio=0.9, alpha=0.0005, score=-0.0006159599595991187, total=   0.0s\n",
      "[CV] l1_ratio=0.9, alpha=0.0005 ......................................\n",
      "[CV]  l1_ratio=0.9, alpha=0.0005, score=-0.0007272704412160947, total=   0.0s\n",
      "[CV] l1_ratio=0.5, alpha=0.0005 ......................................\n",
      "[CV]  l1_ratio=0.5, alpha=0.0005, score=-0.0006037652145728593, total=   0.0s\n",
      "[CV] l1_ratio=0.5, alpha=0.0005 ......................................\n",
      "[CV]  l1_ratio=0.5, alpha=0.0005, score=-0.0005545046515874894, total=   0.0s\n",
      "[CV] l1_ratio=0.5, alpha=0.0005 ......................................\n",
      "[CV]  l1_ratio=0.5, alpha=0.0005, score=-0.0004862870585816481, total=   0.0s\n",
      "[CV] l1_ratio=0.5, alpha=0.0005 ......................................\n",
      "[CV]  l1_ratio=0.5, alpha=0.0005, score=-0.0005878747095126287, total=   0.0s\n",
      "[CV] l1_ratio=0.5, alpha=0.0005 ......................................\n",
      "[CV]  l1_ratio=0.5, alpha=0.0005, score=-0.0008081509416855157, total=   0.0s\n",
      "[CV] l1_ratio=0.5, alpha=0.0005 ......................................\n"
     ]
    },
    {
     "name": "stderr",
     "output_type": "stream",
     "text": [
      "[Parallel(n_jobs=1)]: Using backend SequentialBackend with 1 concurrent workers.\n",
      "[Parallel(n_jobs=1)]: Done   1 out of   1 | elapsed:    0.0s remaining:    0.0s\n",
      "[Parallel(n_jobs=1)]: Done   2 out of   2 | elapsed:    0.0s remaining:    0.0s\n",
      "[Parallel(n_jobs=1)]: Done   3 out of   3 | elapsed:    0.0s remaining:    0.0s\n",
      "[Parallel(n_jobs=1)]: Done   4 out of   4 | elapsed:    0.1s remaining:    0.0s\n",
      "[Parallel(n_jobs=1)]: Done   5 out of   5 | elapsed:    0.1s remaining:    0.0s\n",
      "[Parallel(n_jobs=1)]: Done   6 out of   6 | elapsed:    0.1s remaining:    0.0s\n",
      "[Parallel(n_jobs=1)]: Done   7 out of   7 | elapsed:    0.1s remaining:    0.0s\n",
      "[Parallel(n_jobs=1)]: Done   8 out of   8 | elapsed:    0.1s remaining:    0.0s\n",
      "[Parallel(n_jobs=1)]: Done   9 out of   9 | elapsed:    0.1s remaining:    0.0s\n"
     ]
    },
    {
     "name": "stdout",
     "output_type": "stream",
     "text": [
      "[CV]  l1_ratio=0.5, alpha=0.0005, score=-0.00043855706495887433, total=   0.0s\n",
      "[CV] l1_ratio=0.5, alpha=0.0005 ......................................\n",
      "[CV]  l1_ratio=0.5, alpha=0.0005, score=-0.0005743411926352437, total=   0.0s\n",
      "[CV] l1_ratio=0.5, alpha=0.0005 ......................................\n",
      "[CV]  l1_ratio=0.5, alpha=0.0005, score=-0.0005812857055590275, total=   0.0s\n",
      "[CV] l1_ratio=0.5, alpha=0.0005 ......................................\n",
      "[CV]  l1_ratio=0.5, alpha=0.0005, score=-0.0005592976654060219, total=   0.0s\n",
      "[CV] l1_ratio=0.5, alpha=0.0005 ......................................\n",
      "[CV]  l1_ratio=0.5, alpha=0.0005, score=-0.0007138906132994387, total=   0.0s\n",
      "[CV] l1_ratio=0.7, alpha=0.0005 ......................................\n",
      "[CV]  l1_ratio=0.7, alpha=0.0005, score=-0.0006893108360665644, total=   0.0s\n",
      "[CV] l1_ratio=0.7, alpha=0.0005 ......................................\n",
      "[CV]  l1_ratio=0.7, alpha=0.0005, score=-0.0005662046951110742, total=   0.0s\n",
      "[CV] l1_ratio=0.7, alpha=0.0005 ......................................\n",
      "[CV]  l1_ratio=0.7, alpha=0.0005, score=-0.0004951052838696616, total=   0.0s\n",
      "[CV] l1_ratio=0.7, alpha=0.0005 ......................................\n",
      "[CV]  l1_ratio=0.7, alpha=0.0005, score=-0.0006196882388946931, total=   0.0s\n",
      "[CV] l1_ratio=0.7, alpha=0.0005 ......................................\n",
      "[CV]  l1_ratio=0.7, alpha=0.0005, score=-0.0008247496987691174, total=   0.0s\n",
      "[CV] l1_ratio=0.7, alpha=0.0005 ......................................\n",
      "[CV]  l1_ratio=0.7, alpha=0.0005, score=-0.0004735015287955075, total=   0.0s\n",
      "[CV] l1_ratio=0.7, alpha=0.0005 ......................................\n",
      "[CV]  l1_ratio=0.7, alpha=0.0005, score=-0.0006132508933838247, total=   0.0s\n",
      "[CV] l1_ratio=0.7, alpha=0.0005 ......................................\n",
      "[CV]  l1_ratio=0.7, alpha=0.0005, score=-0.0005903020752252431, total=   0.0s\n",
      "[CV] l1_ratio=0.7, alpha=0.0005 ......................................\n",
      "[CV]  l1_ratio=0.7, alpha=0.0005, score=-0.000587866250349239, total=   0.0s\n",
      "[CV] l1_ratio=0.7, alpha=0.0005 ......................................\n",
      "[CV]  l1_ratio=0.7, alpha=0.0005, score=-0.0007191097677311627, total=   0.0s\n",
      "[CV] l1_ratio=0.9, alpha=0.003 .......................................\n",
      "[CV]  l1_ratio=0.9, alpha=0.003, score=-0.0008938741318161759, total=   0.0s\n",
      "[CV] l1_ratio=0.9, alpha=0.003 .......................................\n",
      "[CV]  l1_ratio=0.9, alpha=0.003, score=-0.0007346740186716328, total=   0.0s\n",
      "[CV] l1_ratio=0.9, alpha=0.003 .......................................\n",
      "[CV]  l1_ratio=0.9, alpha=0.003, score=-0.0007450954816586713, total=   0.0s\n",
      "[CV] l1_ratio=0.9, alpha=0.003 .......................................\n",
      "[CV]  l1_ratio=0.9, alpha=0.003, score=-0.0008081035980863292, total=   0.0s\n",
      "[CV] l1_ratio=0.9, alpha=0.003 .......................................\n",
      "[CV]  l1_ratio=0.9, alpha=0.003, score=-0.0009934703696207177, total=   0.0s\n",
      "[CV] l1_ratio=0.9, alpha=0.003 .......................................\n",
      "[CV]  l1_ratio=0.9, alpha=0.003, score=-0.0005828750113273787, total=   0.0s\n",
      "[CV] l1_ratio=0.9, alpha=0.003 .......................................\n",
      "[CV]  l1_ratio=0.9, alpha=0.003, score=-0.0009006640427295066, total=   0.0s\n",
      "[CV] l1_ratio=0.9, alpha=0.003 .......................................\n",
      "[CV]  l1_ratio=0.9, alpha=0.003, score=-0.0007299155196503001, total=   0.0s\n",
      "[CV] l1_ratio=0.9, alpha=0.003 .......................................\n",
      "[CV]  l1_ratio=0.9, alpha=0.003, score=-0.0008769161683979151, total=   0.0s\n",
      "[CV] l1_ratio=0.9, alpha=0.003 .......................................\n",
      "[CV]  l1_ratio=0.9, alpha=0.003, score=-0.000902886581878763, total=   0.0s\n",
      "[CV] l1_ratio=0.5, alpha=0.003 .......................................\n",
      "[CV]  l1_ratio=0.5, alpha=0.003, score=-0.0008583487817014658, total=   0.0s\n",
      "[CV] l1_ratio=0.5, alpha=0.003 .......................................\n",
      "[CV]  l1_ratio=0.5, alpha=0.003, score=-0.0006776395628747668, total=   0.0s\n",
      "[CV] l1_ratio=0.5, alpha=0.003 .......................................\n",
      "[CV]  l1_ratio=0.5, alpha=0.003, score=-0.0006852893779917054, total=   0.0s\n",
      "[CV] l1_ratio=0.5, alpha=0.003 .......................................\n",
      "[CV]  l1_ratio=0.5, alpha=0.003, score=-0.0007755629076643544, total=   0.0s\n",
      "[CV] l1_ratio=0.5, alpha=0.003 .......................................\n",
      "[CV]  l1_ratio=0.5, alpha=0.003, score=-0.0009583641537403718, total=   0.0s\n",
      "[CV] l1_ratio=0.5, alpha=0.003 .......................................\n",
      "[CV]  l1_ratio=0.5, alpha=0.003, score=-0.0005620049884400033, total=   0.0s\n",
      "[CV] l1_ratio=0.5, alpha=0.003 .......................................\n",
      "[CV]  l1_ratio=0.5, alpha=0.003, score=-0.0008291956122858539, total=   0.0s\n",
      "[CV] l1_ratio=0.5, alpha=0.003 .......................................\n",
      "[CV]  l1_ratio=0.5, alpha=0.003, score=-0.0007006987639505755, total=   0.0s\n",
      "[CV] l1_ratio=0.5, alpha=0.003 .......................................\n",
      "[CV]  l1_ratio=0.5, alpha=0.003, score=-0.0008309989701760084, total=   0.0s\n",
      "[CV] l1_ratio=0.5, alpha=0.003 .......................................\n",
      "[CV]  l1_ratio=0.5, alpha=0.003, score=-0.0008419738349704452, total=   0.0s\n",
      "[CV] l1_ratio=0.7, alpha=0.003 .......................................\n",
      "[CV]  l1_ratio=0.7, alpha=0.003, score=-0.0008803958843626351, total=   0.0s\n",
      "[CV] l1_ratio=0.7, alpha=0.003 .......................................\n",
      "[CV]  l1_ratio=0.7, alpha=0.003, score=-0.0007155068353164008, total=   0.0s\n",
      "[CV] l1_ratio=0.7, alpha=0.003 .......................................\n",
      "[CV]  l1_ratio=0.7, alpha=0.003, score=-0.0007233357482283605, total=   0.0s\n",
      "[CV] l1_ratio=0.7, alpha=0.003 .......................................\n",
      "[CV]  l1_ratio=0.7, alpha=0.003, score=-0.0007912775066145043, total=   0.0s\n",
      "[CV] l1_ratio=0.7, alpha=0.003 .......................................\n",
      "[CV]  l1_ratio=0.7, alpha=0.003, score=-0.0009761173145058527, total=   0.0s\n",
      "[CV] l1_ratio=0.7, alpha=0.003 .......................................\n",
      "[CV]  l1_ratio=0.7, alpha=0.003, score=-0.0005722272260075687, total=   0.0s\n",
      "[CV] l1_ratio=0.7, alpha=0.003 .......................................\n",
      "[CV]  l1_ratio=0.7, alpha=0.003, score=-0.000873896431053256, total=   0.0s\n",
      "[CV] l1_ratio=0.7, alpha=0.003 .......................................\n",
      "[CV]  l1_ratio=0.7, alpha=0.003, score=-0.0007174353604057038, total=   0.0s\n",
      "[CV] l1_ratio=0.7, alpha=0.003 .......................................\n",
      "[CV]  l1_ratio=0.7, alpha=0.003, score=-0.0008669274910497717, total=   0.0s\n",
      "[CV] l1_ratio=0.7, alpha=0.003 .......................................\n",
      "[CV]  l1_ratio=0.7, alpha=0.003, score=-0.0008816787999283627, total=   0.0s\n",
      "[CV] l1_ratio=0.9, alpha=0.004 .......................................\n",
      "[CV]  l1_ratio=0.9, alpha=0.004, score=-0.0009080517080461053, total=   0.0s\n",
      "[CV] l1_ratio=0.9, alpha=0.004 .......................................\n",
      "[CV]  l1_ratio=0.9, alpha=0.004, score=-0.0007555468654566381, total=   0.0s\n",
      "[CV] l1_ratio=0.9, alpha=0.004 .......................................\n",
      "[CV]  l1_ratio=0.9, alpha=0.004, score=-0.0007711106070695013, total=   0.0s\n",
      "[CV] l1_ratio=0.9, alpha=0.004 .......................................\n",
      "[CV]  l1_ratio=0.9, alpha=0.004, score=-0.0008325656050215729, total=   0.0s\n",
      "[CV] l1_ratio=0.9, alpha=0.004 .......................................\n",
      "[CV]  l1_ratio=0.9, alpha=0.004, score=-0.0010105699073277438, total=   0.0s\n",
      "[CV] l1_ratio=0.9, alpha=0.004 .......................................\n",
      "[CV]  l1_ratio=0.9, alpha=0.004, score=-0.0005942055198847947, total=   0.0s\n",
      "[CV] l1_ratio=0.9, alpha=0.004 .......................................\n",
      "[CV]  l1_ratio=0.9, alpha=0.004, score=-0.0009384171603498612, total=   0.0s\n",
      "[CV] l1_ratio=0.9, alpha=0.004 .......................................\n",
      "[CV]  l1_ratio=0.9, alpha=0.004, score=-0.0007439826492938963, total=   0.0s\n",
      "[CV] l1_ratio=0.9, alpha=0.004 .......................................\n",
      "[CV]  l1_ratio=0.9, alpha=0.004, score=-0.0008899016447921354, total=   0.0s\n",
      "[CV] l1_ratio=0.9, alpha=0.004 .......................................\n",
      "[CV]  l1_ratio=0.9, alpha=0.004, score=-0.0009283265705536564, total=   0.0s\n",
      "[CV] l1_ratio=0.5, alpha=0.004 .......................................\n",
      "[CV]  l1_ratio=0.5, alpha=0.004, score=-0.0008772068098310753, total=   0.0s\n",
      "[CV] l1_ratio=0.5, alpha=0.004 .......................................\n",
      "[CV]  l1_ratio=0.5, alpha=0.004, score=-0.0007099302779450514, total=   0.0s\n",
      "[CV] l1_ratio=0.5, alpha=0.004 .......................................\n",
      "[CV]  l1_ratio=0.5, alpha=0.004, score=-0.0007172804590195784, total=   0.0s\n",
      "[CV] l1_ratio=0.5, alpha=0.004 .......................................\n",
      "[CV]  l1_ratio=0.5, alpha=0.004, score=-0.0007892619730086881, total=   0.0s\n",
      "[CV] l1_ratio=0.5, alpha=0.004 .......................................\n",
      "[CV]  l1_ratio=0.5, alpha=0.004, score=-0.0009730258221016551, total=   0.0s\n",
      "[CV] l1_ratio=0.5, alpha=0.004 .......................................\n",
      "[CV]  l1_ratio=0.5, alpha=0.004, score=-0.0005705578787140798, total=   0.0s\n",
      "[CV] l1_ratio=0.5, alpha=0.004 .......................................\n",
      "[CV]  l1_ratio=0.5, alpha=0.004, score=-0.0008671239299896777, total=   0.0s\n",
      "[CV] l1_ratio=0.5, alpha=0.004 .......................................\n",
      "[CV]  l1_ratio=0.5, alpha=0.004, score=-0.0007149060118356346, total=   0.0s\n",
      "[CV] l1_ratio=0.5, alpha=0.004 .......................................\n",
      "[CV]  l1_ratio=0.5, alpha=0.004, score=-0.0008608499359572442, total=   0.0s\n",
      "[CV] l1_ratio=0.5, alpha=0.004 .......................................\n",
      "[CV]  l1_ratio=0.5, alpha=0.004, score=-0.0008759823091979087, total=   0.0s\n",
      "[CV] l1_ratio=0.7, alpha=0.004 .......................................\n",
      "[CV]  l1_ratio=0.7, alpha=0.004, score=-0.0008952879465934073, total=   0.0s\n",
      "[CV] l1_ratio=0.7, alpha=0.004 .......................................\n",
      "[CV]  l1_ratio=0.7, alpha=0.004, score=-0.0007370557083774801, total=   0.0s\n",
      "[CV] l1_ratio=0.7, alpha=0.004 .......................................\n",
      "[CV]  l1_ratio=0.7, alpha=0.004, score=-0.0007480703388133901, total=   0.0s\n",
      "[CV] l1_ratio=0.7, alpha=0.004 .......................................\n",
      "[CV]  l1_ratio=0.7, alpha=0.004, score=-0.0008111322891903939, total=   0.0s\n",
      "[CV] l1_ratio=0.7, alpha=0.004 .......................................\n",
      "[CV]  l1_ratio=0.7, alpha=0.004, score=-0.000995498159678751, total=   0.0s\n",
      "[CV] l1_ratio=0.7, alpha=0.004 .......................................\n"
     ]
    },
    {
     "name": "stdout",
     "output_type": "stream",
     "text": [
      "[CV]  l1_ratio=0.7, alpha=0.004, score=-0.0005839939537417156, total=   0.0s\n",
      "[CV] l1_ratio=0.7, alpha=0.004 .......................................\n",
      "[CV]  l1_ratio=0.7, alpha=0.004, score=-0.0009050874068810325, total=   0.0s\n",
      "[CV] l1_ratio=0.7, alpha=0.004 .......................................\n",
      "[CV]  l1_ratio=0.7, alpha=0.004, score=-0.0007311605361520565, total=   0.0s\n",
      "[CV] l1_ratio=0.7, alpha=0.004 .......................................\n",
      "[CV]  l1_ratio=0.7, alpha=0.004, score=-0.0008784533331606907, total=   0.0s\n",
      "[CV] l1_ratio=0.7, alpha=0.004 .......................................\n",
      "[CV]  l1_ratio=0.7, alpha=0.004, score=-0.0009059877362774344, total=   0.0s\n",
      "[CV] l1_ratio=0.9, alpha=0.05 ........................................\n",
      "[CV]  l1_ratio=0.9, alpha=0.05, score=-0.00114726484306949, total=   0.0s\n",
      "[CV] l1_ratio=0.9, alpha=0.05 ........................................\n",
      "[CV]  l1_ratio=0.9, alpha=0.05, score=-0.0011377379286115431, total=   0.0s\n",
      "[CV] l1_ratio=0.9, alpha=0.05 ........................................\n",
      "[CV]  l1_ratio=0.9, alpha=0.05, score=-0.0012263796699014064, total=   0.0s\n",
      "[CV] l1_ratio=0.9, alpha=0.05 ........................................\n",
      "[CV]  l1_ratio=0.9, alpha=0.05, score=-0.0012019918989400332, total=   0.0s\n",
      "[CV] l1_ratio=0.9, alpha=0.05 ........................................\n",
      "[CV]  l1_ratio=0.9, alpha=0.05, score=-0.001322364576646338, total=   0.0s\n",
      "[CV] l1_ratio=0.9, alpha=0.05 ........................................\n",
      "[CV]  l1_ratio=0.9, alpha=0.05, score=-0.000986788041471815, total=   0.0s\n",
      "[CV] l1_ratio=0.9, alpha=0.05 ........................................\n",
      "[CV]  l1_ratio=0.9, alpha=0.05, score=-0.0014114612330225983, total=   0.0s\n",
      "[CV] l1_ratio=0.9, alpha=0.05 ........................................\n",
      "[CV]  l1_ratio=0.9, alpha=0.05, score=-0.0011687621926430628, total=   0.0s\n",
      "[CV] l1_ratio=0.9, alpha=0.05 ........................................\n",
      "[CV]  l1_ratio=0.9, alpha=0.05, score=-0.001110781214702771, total=   0.0s\n",
      "[CV] l1_ratio=0.9, alpha=0.05 ........................................\n",
      "[CV]  l1_ratio=0.9, alpha=0.05, score=-0.0012729864406044187, total=   0.0s\n",
      "[CV] l1_ratio=0.5, alpha=0.05 ........................................\n",
      "[CV]  l1_ratio=0.5, alpha=0.05, score=-0.0011317342695416378, total=   0.0s\n",
      "[CV] l1_ratio=0.5, alpha=0.05 ........................................\n",
      "[CV]  l1_ratio=0.5, alpha=0.05, score=-0.001084652471998147, total=   0.0s\n",
      "[CV] l1_ratio=0.5, alpha=0.05 ........................................\n",
      "[CV]  l1_ratio=0.5, alpha=0.05, score=-0.001159484341416084, total=   0.0s\n",
      "[CV] l1_ratio=0.5, alpha=0.05 ........................................\n",
      "[CV]  l1_ratio=0.5, alpha=0.05, score=-0.001106803666348434, total=   0.0s\n",
      "[CV] l1_ratio=0.5, alpha=0.05 ........................................\n",
      "[CV]  l1_ratio=0.5, alpha=0.05, score=-0.001262645868270181, total=   0.0s\n",
      "[CV] l1_ratio=0.5, alpha=0.05 ........................................\n",
      "[CV]  l1_ratio=0.5, alpha=0.05, score=-0.0009058805566598568, total=   0.0s\n",
      "[CV] l1_ratio=0.5, alpha=0.05 ........................................\n",
      "[CV]  l1_ratio=0.5, alpha=0.05, score=-0.001354495928922544, total=   0.0s\n",
      "[CV] l1_ratio=0.5, alpha=0.05 ........................................\n",
      "[CV]  l1_ratio=0.5, alpha=0.05, score=-0.0010953864690659287, total=   0.0s\n",
      "[CV] l1_ratio=0.5, alpha=0.05 ........................................\n",
      "[CV]  l1_ratio=0.5, alpha=0.05, score=-0.0010858827832697158, total=   0.0s\n",
      "[CV] l1_ratio=0.5, alpha=0.05 ........................................\n",
      "[CV]  l1_ratio=0.5, alpha=0.05, score=-0.001212364353906336, total=   0.0s\n",
      "[CV] l1_ratio=0.7, alpha=0.05 ........................................\n",
      "[CV]  l1_ratio=0.7, alpha=0.05, score=-0.0011327253754681063, total=   0.0s\n",
      "[CV] l1_ratio=0.7, alpha=0.05 ........................................\n",
      "[CV]  l1_ratio=0.7, alpha=0.05, score=-0.0011107479441157602, total=   0.0s\n",
      "[CV] l1_ratio=0.7, alpha=0.05 ........................................\n",
      "[CV]  l1_ratio=0.7, alpha=0.05, score=-0.0011926595583130377, total=   0.0s\n",
      "[CV] l1_ratio=0.7, alpha=0.05 ........................................\n",
      "[CV]  l1_ratio=0.7, alpha=0.05, score=-0.0011546719054637685, total=   0.0s\n",
      "[CV] l1_ratio=0.7, alpha=0.05 ........................................\n",
      "[CV]  l1_ratio=0.7, alpha=0.05, score=-0.0012924246362209886, total=   0.0s\n",
      "[CV] l1_ratio=0.7, alpha=0.05 ........................................\n",
      "[CV]  l1_ratio=0.7, alpha=0.05, score=-0.000943703489603488, total=   0.0s\n",
      "[CV] l1_ratio=0.7, alpha=0.05 ........................................\n",
      "[CV]  l1_ratio=0.7, alpha=0.05, score=-0.0013828642829149, total=   0.0s\n",
      "[CV] l1_ratio=0.7, alpha=0.05 ........................................\n",
      "[CV]  l1_ratio=0.7, alpha=0.05, score=-0.0011308571950551804, total=   0.0s\n",
      "[CV] l1_ratio=0.7, alpha=0.05 ........................................\n",
      "[CV]  l1_ratio=0.7, alpha=0.05, score=-0.0010980678214817963, total=   0.0s\n",
      "[CV] l1_ratio=0.7, alpha=0.05 ........................................\n",
      "[CV]  l1_ratio=0.7, alpha=0.05, score=-0.0012411923759521794, total=   0.0s\n",
      "[CV] l1_ratio=0.9, alpha=0.5 .........................................\n",
      "[CV]  l1_ratio=0.9, alpha=0.5, score=-0.0019437200462480157, total=   0.0s\n",
      "[CV] l1_ratio=0.9, alpha=0.5 .........................................\n",
      "[CV]  l1_ratio=0.9, alpha=0.5, score=-0.0018263803855649023, total=   0.0s\n",
      "[CV] l1_ratio=0.9, alpha=0.5 .........................................\n",
      "[CV]  l1_ratio=0.9, alpha=0.5, score=-0.0022294764215343324, total=   0.0s\n",
      "[CV] l1_ratio=0.9, alpha=0.5 .........................................\n",
      "[CV]  l1_ratio=0.9, alpha=0.5, score=-0.0020955007540013728, total=   0.0s\n",
      "[CV] l1_ratio=0.9, alpha=0.5 .........................................\n",
      "[CV]  l1_ratio=0.9, alpha=0.5, score=-0.0023952665729695464, total=   0.0s\n",
      "[CV] l1_ratio=0.9, alpha=0.5 .........................................\n",
      "[CV]  l1_ratio=0.9, alpha=0.5, score=-0.0019649471183597333, total=   0.0s\n",
      "[CV] l1_ratio=0.9, alpha=0.5 .........................................\n",
      "[CV]  l1_ratio=0.9, alpha=0.5, score=-0.0023050684004252225, total=   0.0s\n",
      "[CV] l1_ratio=0.9, alpha=0.5 .........................................\n",
      "[CV]  l1_ratio=0.9, alpha=0.5, score=-0.002081621101442201, total=   0.0s\n",
      "[CV] l1_ratio=0.9, alpha=0.5 .........................................\n",
      "[CV]  l1_ratio=0.9, alpha=0.5, score=-0.0017439443674632997, total=   0.0s\n",
      "[CV] l1_ratio=0.9, alpha=0.5 .........................................\n",
      "[CV]  l1_ratio=0.9, alpha=0.5, score=-0.0019777317978281654, total=   0.0s\n",
      "[CV] l1_ratio=0.5, alpha=0.5 .........................................\n",
      "[CV]  l1_ratio=0.5, alpha=0.5, score=-0.001619750219881508, total=   0.0s\n",
      "[CV] l1_ratio=0.5, alpha=0.5 .........................................\n",
      "[CV]  l1_ratio=0.5, alpha=0.5, score=-0.0016268533822619846, total=   0.0s\n",
      "[CV] l1_ratio=0.5, alpha=0.5 .........................................\n",
      "[CV]  l1_ratio=0.5, alpha=0.5, score=-0.0018504492453163181, total=   0.0s\n",
      "[CV] l1_ratio=0.5, alpha=0.5 .........................................\n",
      "[CV]  l1_ratio=0.5, alpha=0.5, score=-0.0018270934426967735, total=   0.0s\n",
      "[CV] l1_ratio=0.5, alpha=0.5 .........................................\n",
      "[CV]  l1_ratio=0.5, alpha=0.5, score=-0.0019967969203695964, total=   0.0s\n",
      "[CV] l1_ratio=0.5, alpha=0.5 .........................................\n",
      "[CV]  l1_ratio=0.5, alpha=0.5, score=-0.0016445874591752326, total=   0.0s\n",
      "[CV] l1_ratio=0.5, alpha=0.5 .........................................\n",
      "[CV]  l1_ratio=0.5, alpha=0.5, score=-0.00196586107501185, total=   0.0s\n",
      "[CV] l1_ratio=0.5, alpha=0.5 .........................................\n",
      "[CV]  l1_ratio=0.5, alpha=0.5, score=-0.0017667140183989796, total=   0.0s\n",
      "[CV] l1_ratio=0.5, alpha=0.5 .........................................\n",
      "[CV]  l1_ratio=0.5, alpha=0.5, score=-0.001482348797518408, total=   0.0s\n",
      "[CV] l1_ratio=0.5, alpha=0.5 .........................................\n",
      "[CV]  l1_ratio=0.5, alpha=0.5, score=-0.0017281499590947986, total=   0.0s\n",
      "[CV] l1_ratio=0.7, alpha=0.5 .........................................\n",
      "[CV]  l1_ratio=0.7, alpha=0.5, score=-0.0017799936958686716, total=   0.0s\n",
      "[CV] l1_ratio=0.7, alpha=0.5 .........................................\n",
      "[CV]  l1_ratio=0.7, alpha=0.5, score=-0.0017485996169541269, total=   0.0s\n",
      "[CV] l1_ratio=0.7, alpha=0.5 .........................................\n",
      "[CV]  l1_ratio=0.7, alpha=0.5, score=-0.0020542797811403117, total=   0.0s\n",
      "[CV] l1_ratio=0.7, alpha=0.5 .........................................\n",
      "[CV]  l1_ratio=0.7, alpha=0.5, score=-0.0019843546934306356, total=   0.0s\n",
      "[CV] l1_ratio=0.7, alpha=0.5 .........................................\n",
      "[CV]  l1_ratio=0.7, alpha=0.5, score=-0.0022449873863423916, total=   0.0s\n",
      "[CV] l1_ratio=0.7, alpha=0.5 .........................................\n",
      "[CV]  l1_ratio=0.7, alpha=0.5, score=-0.0018300019929675777, total=   0.0s\n",
      "[CV] l1_ratio=0.7, alpha=0.5 .........................................\n",
      "[CV]  l1_ratio=0.7, alpha=0.5, score=-0.0021465365183034615, total=   0.0s\n",
      "[CV] l1_ratio=0.7, alpha=0.5 .........................................\n",
      "[CV]  l1_ratio=0.7, alpha=0.5, score=-0.0019313122813386474, total=   0.0s\n",
      "[CV] l1_ratio=0.7, alpha=0.5 .........................................\n",
      "[CV]  l1_ratio=0.7, alpha=0.5, score=-0.0016046328022651902, total=   0.0s\n",
      "[CV] l1_ratio=0.7, alpha=0.5 .........................................\n",
      "[CV]  l1_ratio=0.7, alpha=0.5, score=-0.0018423718087955253, total=   0.0s\n"
     ]
    },
    {
     "name": "stderr",
     "output_type": "stream",
     "text": [
      "[Parallel(n_jobs=1)]: Done 150 out of 150 | elapsed:    1.3s finished\n"
     ]
    },
    {
     "data": {
      "text/plain": [
       "{'alpha': 0.0005, 'l1_ratio': 0.5}"
      ]
     },
     "execution_count": 41,
     "metadata": {},
     "output_type": "execute_result"
    }
   ],
   "source": [
    "models_elastic = ElasticNet()\n",
    "param_elastic={'alpha': [0.0005, 0.003, 0.004, 0.05, 0.5] , 'l1_ratio':[.9, .5, .7]}\n",
    "grid_search(models_elastic, param_elastic)\n",
    "#result: {'alpha': 0.004, 'l1_ratio': 0.9}"
   ]
  },
  {
   "cell_type": "code",
   "execution_count": 104,
   "metadata": {
    "collapsed": true
   },
   "outputs": [],
   "source": [
    "# import numpy as np\n",
    "# models_lasso = Lasso(random_state=0)\n",
    "# param_lasso={'alpha': np.logspace(-4, -0.5, 30)}\n",
    "# grid_search(models_lasso, param_lasso)\n",
    "\n"
   ]
  },
  {
   "cell_type": "code",
   "execution_count": 42,
   "metadata": {},
   "outputs": [
    {
     "name": "stdout",
     "output_type": "stream",
     "text": [
      "Fitting 10 folds for each of 9 candidates, totalling 90 fits\n",
      "[CV] coef0=0, alpha=0.6 ..............................................\n"
     ]
    },
    {
     "name": "stderr",
     "output_type": "stream",
     "text": [
      "[Parallel(n_jobs=1)]: Using backend SequentialBackend with 1 concurrent workers.\n"
     ]
    },
    {
     "name": "stdout",
     "output_type": "stream",
     "text": [
      "[CV] .. coef0=0, alpha=0.6, score=-0.007820001659099402, total=   0.3s\n",
      "[CV] coef0=0, alpha=0.6 ..............................................\n",
      "[CV] . coef0=0, alpha=0.6, score=-0.0030360974694075434, total=   0.1s\n",
      "[CV] coef0=0, alpha=0.6 ..............................................\n"
     ]
    },
    {
     "name": "stderr",
     "output_type": "stream",
     "text": [
      "[Parallel(n_jobs=1)]: Done   1 out of   1 | elapsed:    0.3s remaining:    0.0s\n",
      "[Parallel(n_jobs=1)]: Done   2 out of   2 | elapsed:    0.5s remaining:    0.0s\n"
     ]
    },
    {
     "name": "stdout",
     "output_type": "stream",
     "text": [
      "[CV] .. coef0=0, alpha=0.6, score=-0.011716091596219811, total=   0.2s\n",
      "[CV] coef0=0, alpha=0.6 ..............................................\n",
      "[CV] .. coef0=0, alpha=0.6, score=-0.006291670333083007, total=   0.2s\n",
      "[CV] coef0=0, alpha=0.6 ..............................................\n"
     ]
    },
    {
     "name": "stderr",
     "output_type": "stream",
     "text": [
      "[Parallel(n_jobs=1)]: Done   3 out of   3 | elapsed:    0.6s remaining:    0.0s\n",
      "[Parallel(n_jobs=1)]: Done   4 out of   4 | elapsed:    0.8s remaining:    0.0s\n"
     ]
    },
    {
     "name": "stdout",
     "output_type": "stream",
     "text": [
      "[CV] .. coef0=0, alpha=0.6, score=-0.004723059473709748, total=   0.1s\n",
      "[CV] coef0=0, alpha=0.6 ..............................................\n",
      "[CV] .. coef0=0, alpha=0.6, score=-0.002987100209534784, total=   0.1s\n",
      "[CV] coef0=0, alpha=0.6 ..............................................\n"
     ]
    },
    {
     "name": "stderr",
     "output_type": "stream",
     "text": [
      "[Parallel(n_jobs=1)]: Done   5 out of   5 | elapsed:    1.0s remaining:    0.0s\n",
      "[Parallel(n_jobs=1)]: Done   6 out of   6 | elapsed:    1.1s remaining:    0.0s\n"
     ]
    },
    {
     "name": "stdout",
     "output_type": "stream",
     "text": [
      "[CV] .. coef0=0, alpha=0.6, score=-0.007143354278807546, total=   0.2s\n",
      "[CV] coef0=0, alpha=0.6 ..............................................\n",
      "[CV] .. coef0=0, alpha=0.6, score=-0.004075532742807743, total=   0.1s\n",
      "[CV] coef0=0, alpha=0.6 ..............................................\n"
     ]
    },
    {
     "name": "stderr",
     "output_type": "stream",
     "text": [
      "[Parallel(n_jobs=1)]: Done   7 out of   7 | elapsed:    1.3s remaining:    0.0s\n",
      "[Parallel(n_jobs=1)]: Done   8 out of   8 | elapsed:    1.4s remaining:    0.0s\n"
     ]
    },
    {
     "name": "stdout",
     "output_type": "stream",
     "text": [
      "[CV] .. coef0=0, alpha=0.6, score=-0.005997873092708663, total=   0.2s\n",
      "[CV] coef0=0, alpha=0.6 ..............................................\n",
      "[CV] .. coef0=0, alpha=0.6, score=-0.004995392165635015, total=   0.1s\n",
      "[CV] coef0=1.5, alpha=0.6 ............................................\n"
     ]
    },
    {
     "name": "stderr",
     "output_type": "stream",
     "text": [
      "[Parallel(n_jobs=1)]: Done   9 out of   9 | elapsed:    1.6s remaining:    0.0s\n"
     ]
    },
    {
     "name": "stdout",
     "output_type": "stream",
     "text": [
      "[CV]  coef0=1.5, alpha=0.6, score=-0.0009289510118589788, total=   0.2s\n",
      "[CV] coef0=1.5, alpha=0.6 ............................................\n",
      "[CV]  coef0=1.5, alpha=0.6, score=-0.0007045806321908274, total=   0.1s\n",
      "[CV] coef0=1.5, alpha=0.6 ............................................\n",
      "[CV]  coef0=1.5, alpha=0.6, score=-0.0013700998955750562, total=   0.1s\n",
      "[CV] coef0=1.5, alpha=0.6 ............................................\n",
      "[CV]  coef0=1.5, alpha=0.6, score=-0.001468182651303013, total=   0.1s\n",
      "[CV] coef0=1.5, alpha=0.6 ............................................\n",
      "[CV]  coef0=1.5, alpha=0.6, score=-0.001447083859083966, total=   0.1s\n",
      "[CV] coef0=1.5, alpha=0.6 ............................................\n",
      "[CV]  coef0=1.5, alpha=0.6, score=-0.0007809778196629177, total=   0.1s\n",
      "[CV] coef0=1.5, alpha=0.6 ............................................\n",
      "[CV]  coef0=1.5, alpha=0.6, score=-0.001071850218159285, total=   0.1s\n",
      "[CV] coef0=1.5, alpha=0.6 ............................................\n",
      "[CV]  coef0=1.5, alpha=0.6, score=-0.0016602769538625786, total=   0.1s\n",
      "[CV] coef0=1.5, alpha=0.6 ............................................\n",
      "[CV]  coef0=1.5, alpha=0.6, score=-0.0011010142993478761, total=   0.1s\n",
      "[CV] coef0=1.5, alpha=0.6 ............................................\n",
      "[CV]  coef0=1.5, alpha=0.6, score=-0.0014118237853174365, total=   0.1s\n",
      "[CV] coef0=2.5, alpha=0.6 ............................................\n",
      "[CV]  coef0=2.5, alpha=0.6, score=-0.0007531640100456062, total=   0.1s\n",
      "[CV] coef0=2.5, alpha=0.6 ............................................\n",
      "[CV]  coef0=2.5, alpha=0.6, score=-0.0006133358868408137, total=   0.1s\n",
      "[CV] coef0=2.5, alpha=0.6 ............................................\n",
      "[CV]  coef0=2.5, alpha=0.6, score=-0.001019871613198613, total=   0.1s\n",
      "[CV] coef0=2.5, alpha=0.6 ............................................\n",
      "[CV]  coef0=2.5, alpha=0.6, score=-0.0011774326507082108, total=   0.1s\n",
      "[CV] coef0=2.5, alpha=0.6 ............................................\n",
      "[CV]  coef0=2.5, alpha=0.6, score=-0.001261622816706821, total=   0.1s\n",
      "[CV] coef0=2.5, alpha=0.6 ............................................\n",
      "[CV]  coef0=2.5, alpha=0.6, score=-0.000613532508975319, total=   0.1s\n",
      "[CV] coef0=2.5, alpha=0.6 ............................................\n",
      "[CV]  coef0=2.5, alpha=0.6, score=-0.0008580923899342435, total=   0.2s\n",
      "[CV] coef0=2.5, alpha=0.6 ............................................\n",
      "[CV]  coef0=2.5, alpha=0.6, score=-0.001458242981055227, total=   0.1s\n",
      "[CV] coef0=2.5, alpha=0.6 ............................................\n",
      "[CV]  coef0=2.5, alpha=0.6, score=-0.0008379938969974107, total=   0.1s\n",
      "[CV] coef0=2.5, alpha=0.6 ............................................\n",
      "[CV]  coef0=2.5, alpha=0.6, score=-0.001150477546097165, total=   0.1s\n",
      "[CV] coef0=0, alpha=0.5 ..............................................\n",
      "[CV] .. coef0=0, alpha=0.5, score=-0.007708614878428821, total=   0.1s\n",
      "[CV] coef0=0, alpha=0.5 ..............................................\n",
      "[CV] . coef0=0, alpha=0.5, score=-0.0029023880075029736, total=   0.2s\n",
      "[CV] coef0=0, alpha=0.5 ..............................................\n",
      "[CV] ... coef0=0, alpha=0.5, score=-0.01151263455558846, total=   0.2s\n",
      "[CV] coef0=0, alpha=0.5 ..............................................\n",
      "[CV] .. coef0=0, alpha=0.5, score=-0.006140004398133725, total=   0.1s\n",
      "[CV] coef0=0, alpha=0.5 ..............................................\n",
      "[CV] .. coef0=0, alpha=0.5, score=-0.004614448872111157, total=   0.2s\n",
      "[CV] coef0=0, alpha=0.5 ..............................................\n",
      "[CV] .. coef0=0, alpha=0.5, score=-0.002921706702784195, total=   0.2s\n",
      "[CV] coef0=0, alpha=0.5 ..............................................\n",
      "[CV] .. coef0=0, alpha=0.5, score=-0.006975373612129364, total=   0.2s\n",
      "[CV] coef0=0, alpha=0.5 ..............................................\n",
      "[CV] .. coef0=0, alpha=0.5, score=-0.004109750506991984, total=   0.1s\n",
      "[CV] coef0=0, alpha=0.5 ..............................................\n",
      "[CV] .. coef0=0, alpha=0.5, score=-0.005722810017347956, total=   0.1s\n",
      "[CV] coef0=0, alpha=0.5 ..............................................\n",
      "[CV] .. coef0=0, alpha=0.5, score=-0.004787026610900126, total=   0.2s\n",
      "[CV] coef0=1.5, alpha=0.5 ............................................\n",
      "[CV]  coef0=1.5, alpha=0.5, score=-0.0008959974180979733, total=   0.3s\n",
      "[CV] coef0=1.5, alpha=0.5 ............................................\n",
      "[CV]  coef0=1.5, alpha=0.5, score=-0.0006789333748162474, total=   0.2s\n",
      "[CV] coef0=1.5, alpha=0.5 ............................................\n",
      "[CV]  coef0=1.5, alpha=0.5, score=-0.0012889779012619962, total=   0.2s\n",
      "[CV] coef0=1.5, alpha=0.5 ............................................\n",
      "[CV]  coef0=1.5, alpha=0.5, score=-0.0014313609729709631, total=   0.1s\n",
      "[CV] coef0=1.5, alpha=0.5 ............................................\n",
      "[CV]  coef0=1.5, alpha=0.5, score=-0.0014201315519940083, total=   0.3s\n",
      "[CV] coef0=1.5, alpha=0.5 ............................................\n",
      "[CV]  coef0=1.5, alpha=0.5, score=-0.0007493531304091888, total=   0.1s\n",
      "[CV] coef0=1.5, alpha=0.5 ............................................\n",
      "[CV]  coef0=1.5, alpha=0.5, score=-0.0010185654075135163, total=   0.2s\n",
      "[CV] coef0=1.5, alpha=0.5 ............................................\n",
      "[CV]  coef0=1.5, alpha=0.5, score=-0.001708995627517933, total=   0.1s\n",
      "[CV] coef0=1.5, alpha=0.5 ............................................\n",
      "[CV]  coef0=1.5, alpha=0.5, score=-0.0010467767053029828, total=   0.1s\n",
      "[CV] coef0=1.5, alpha=0.5 ............................................\n",
      "[CV]  coef0=1.5, alpha=0.5, score=-0.0013575078111218463, total=   0.2s\n",
      "[CV] coef0=2.5, alpha=0.5 ............................................\n",
      "[CV]  coef0=2.5, alpha=0.5, score=-0.0007473952697854555, total=   0.3s\n",
      "[CV] coef0=2.5, alpha=0.5 ............................................\n",
      "[CV]  coef0=2.5, alpha=0.5, score=-0.0006020582946694908, total=   0.2s\n",
      "[CV] coef0=2.5, alpha=0.5 ............................................\n",
      "[CV]  coef0=2.5, alpha=0.5, score=-0.0009834423053224173, total=   0.2s\n",
      "[CV] coef0=2.5, alpha=0.5 ............................................\n",
      "[CV]  coef0=2.5, alpha=0.5, score=-0.0011643587185169607, total=   0.1s\n",
      "[CV] coef0=2.5, alpha=0.5 ............................................\n",
      "[CV]  coef0=2.5, alpha=0.5, score=-0.0012544642013826905, total=   0.2s\n",
      "[CV] coef0=2.5, alpha=0.5 ............................................\n",
      "[CV]  coef0=2.5, alpha=0.5, score=-0.0005967636380489982, total=   0.2s\n",
      "[CV] coef0=2.5, alpha=0.5 ............................................\n",
      "[CV]  coef0=2.5, alpha=0.5, score=-0.0008324597134547052, total=   0.2s\n",
      "[CV] coef0=2.5, alpha=0.5 ............................................\n",
      "[CV]  coef0=2.5, alpha=0.5, score=-0.0015159783365342287, total=   0.2s\n",
      "[CV] coef0=2.5, alpha=0.5 ............................................\n",
      "[CV]  coef0=2.5, alpha=0.5, score=-0.0008156288132258131, total=   0.3s\n",
      "[CV] coef0=2.5, alpha=0.5 ............................................\n",
      "[CV]  coef0=2.5, alpha=0.5, score=-0.0011212371217630365, total=   0.1s\n",
      "[CV] coef0=0, alpha=0.3 ..............................................\n",
      "[CV] .. coef0=0, alpha=0.3, score=-0.007167278729297782, total=   0.1s\n",
      "[CV] coef0=0, alpha=0.3 ..............................................\n",
      "[CV] . coef0=0, alpha=0.3, score=-0.0025850695845938084, total=   0.1s\n",
      "[CV] coef0=0, alpha=0.3 ..............................................\n",
      "[CV] .. coef0=0, alpha=0.3, score=-0.011169931126726387, total=   0.2s\n",
      "[CV] coef0=0, alpha=0.3 ..............................................\n",
      "[CV] .. coef0=0, alpha=0.3, score=-0.005689342078671466, total=   0.2s\n",
      "[CV] coef0=0, alpha=0.3 ..............................................\n",
      "[CV] .. coef0=0, alpha=0.3, score=-0.004354491907317384, total=   0.2s\n",
      "[CV] coef0=0, alpha=0.3 ..............................................\n",
      "[CV] . coef0=0, alpha=0.3, score=-0.0028059668250882087, total=   0.2s\n",
      "[CV] coef0=0, alpha=0.3 ..............................................\n",
      "[CV] . coef0=0, alpha=0.3, score=-0.0065546255386182235, total=   0.1s\n",
      "[CV] coef0=0, alpha=0.3 ..............................................\n",
      "[CV] .. coef0=0, alpha=0.3, score=-0.004316876941677421, total=   0.3s\n",
      "[CV] coef0=0, alpha=0.3 ..............................................\n"
     ]
    },
    {
     "name": "stdout",
     "output_type": "stream",
     "text": [
      "[CV] . coef0=0, alpha=0.3, score=-0.0050722241937579265, total=   0.2s\n",
      "[CV] coef0=0, alpha=0.3 ..............................................\n",
      "[CV] .. coef0=0, alpha=0.3, score=-0.004288466760397181, total=   0.1s\n",
      "[CV] coef0=1.5, alpha=0.3 ............................................\n",
      "[CV]  coef0=1.5, alpha=0.3, score=-0.0008655106690757008, total=   0.1s\n",
      "[CV] coef0=1.5, alpha=0.3 ............................................\n",
      "[CV]  coef0=1.5, alpha=0.3, score=-0.0006318967199648881, total=   0.3s\n",
      "[CV] coef0=1.5, alpha=0.3 ............................................\n",
      "[CV]  coef0=1.5, alpha=0.3, score=-0.0011292611752807015, total=   0.1s\n",
      "[CV] coef0=1.5, alpha=0.3 ............................................\n",
      "[CV]  coef0=1.5, alpha=0.3, score=-0.0013493283055740445, total=   0.3s\n",
      "[CV] coef0=1.5, alpha=0.3 ............................................\n",
      "[CV]  coef0=1.5, alpha=0.3, score=-0.0013723774230759453, total=   0.1s\n",
      "[CV] coef0=1.5, alpha=0.3 ............................................\n",
      "[CV]  coef0=1.5, alpha=0.3, score=-0.0006788109602857831, total=   0.2s\n",
      "[CV] coef0=1.5, alpha=0.3 ............................................\n",
      "[CV]  coef0=1.5, alpha=0.3, score=-0.0009104378104520809, total=   0.1s\n",
      "[CV] coef0=1.5, alpha=0.3 ............................................\n",
      "[CV]  coef0=1.5, alpha=0.3, score=-0.0018961977664849745, total=   0.2s\n",
      "[CV] coef0=1.5, alpha=0.3 ............................................\n",
      "[CV]  coef0=1.5, alpha=0.3, score=-0.000941719018286315, total=   0.1s\n",
      "[CV] coef0=1.5, alpha=0.3 ............................................\n",
      "[CV]  coef0=1.5, alpha=0.3, score=-0.0012451750942036872, total=   0.2s\n",
      "[CV] coef0=2.5, alpha=0.3 ............................................\n",
      "[CV]  coef0=2.5, alpha=0.3, score=-0.0007892593379187191, total=   0.1s\n",
      "[CV] coef0=2.5, alpha=0.3 ............................................\n",
      "[CV]  coef0=2.5, alpha=0.3, score=-0.000585949281264893, total=   0.2s\n",
      "[CV] coef0=2.5, alpha=0.3 ............................................\n",
      "[CV]  coef0=2.5, alpha=0.3, score=-0.0009234465924159577, total=   0.1s\n",
      "[CV] coef0=2.5, alpha=0.3 ............................................\n",
      "[CV]  coef0=2.5, alpha=0.3, score=-0.001143586987174626, total=   0.1s\n",
      "[CV] coef0=2.5, alpha=0.3 ............................................\n",
      "[CV]  coef0=2.5, alpha=0.3, score=-0.0012508659693527156, total=   0.2s\n",
      "[CV] coef0=2.5, alpha=0.3 ............................................\n",
      "[CV]  coef0=2.5, alpha=0.3, score=-0.0005607273712713008, total=   0.1s\n",
      "[CV] coef0=2.5, alpha=0.3 ............................................\n",
      "[CV]  coef0=2.5, alpha=0.3, score=-0.0007853397956603412, total=   0.2s\n",
      "[CV] coef0=2.5, alpha=0.3 ............................................\n",
      "[CV]  coef0=2.5, alpha=0.3, score=-0.0017194092532315103, total=   0.1s\n",
      "[CV] coef0=2.5, alpha=0.3 ............................................\n",
      "[CV]  coef0=2.5, alpha=0.3, score=-0.0007774209994437487, total=   0.1s\n",
      "[CV] coef0=2.5, alpha=0.3 ............................................\n",
      "[CV]  coef0=2.5, alpha=0.3, score=-0.001064349233401407, total=   0.1s\n"
     ]
    },
    {
     "name": "stderr",
     "output_type": "stream",
     "text": [
      "[Parallel(n_jobs=1)]: Done  90 out of  90 | elapsed:   17.1s finished\n"
     ]
    },
    {
     "data": {
      "text/plain": [
       "{'alpha': 0.3, 'coef0': 2.5}"
      ]
     },
     "execution_count": 42,
     "metadata": {},
     "output_type": "execute_result"
    }
   ],
   "source": [
    "model_ridge=KernelRidge(kernel='polynomial', degree=2)\n",
    "param_ridge={'alpha':[0.6, 0.5, 0.3], 'coef0':[0, 1.5, 2.5]}\n",
    "grid_search(model_ridge, param_ridge)\n",
    "#result: {'alpha': 0.5, 'coef0': 2.5}"
   ]
  },
  {
   "cell_type": "code",
   "execution_count": 26,
   "metadata": {
    "collapsed": true
   },
   "outputs": [],
   "source": [
    "# def grid_search1(m, p):\n",
    "#     n_folds=10\n",
    "#     from sklearn.model_selection import GridSearchCV\n",
    "#     res=[]\n",
    "#     kf = KFold(n_folds, shuffle=True, random_state=42).get_n_splits(X)\n",
    "#     #models1 = {'Lasso': Lasso(),'Elastic Net Regression': ElasticNet(),'Kernel Ridge Regression': KernelRidge(),'Gradient Boosting Regression': GradientBoostingRegressor()}\n",
    "\n",
    "#     #params1 = {'Lasso': { 'alpha': [0.0005, 0.001, 0.0003] },'Elastic Net Regression': {'alpha': [0.0005, 0.003, 0.00045] , 'l1_ratio':[.9, .5, .75]},'Kernel Ridge Regression':{ 'alpha':[0.6, 0.5, 0.35], 'kernel':'polynomial', 'degree':[2, 3], 'coef0':[0, 1.5, 2.5]},'Gradient Boosting Regression': { 'n_estimators':[3000, 2500, 1200], 'learning_rate':[0.05, 0.1, 0.004], 'max_depth':4, 'max_features':['sqrt', 'log2'],'min_samples_leaf':[15, 5, 10, 4], 'min_samples_split':[10, 5, 8], 'loss':'huber'}}\n",
    " \n",
    "#     gs = GridSearchCV(m, p, cv=kf, verbose=10, scoring=\"neg_mean_squared_error\", refit=False)\n",
    "#     gs.fit(X, y)\n",
    "#     return gs.best_params_"
   ]
  },
  {
   "cell_type": "code",
   "execution_count": 21,
   "metadata": {
    "collapsed": true,
    "scrolled": true
   },
   "outputs": [],
   "source": [
    "#GradientBoostingRegressor (started grid searching at 1.45 pm)\n",
    "# model_boost=GradientBoostingRegressor(loss='huber', max_features='sqrt')\n",
    "# param_boost={ 'n_estimators':[3500, 3000], 'learning_rate':[0.05, 0.5], 'max_depth':[4, 6], 'min_samples_leaf':[15, 10], 'min_samples_split':[10, 8]}\n",
    "# grid_search(model_boost, param_boost)"
   ]
  },
  {
   "cell_type": "code",
   "execution_count": 29,
   "metadata": {
    "collapsed": true
   },
   "outputs": [],
   "source": [
    "# The following random search issues warning!\n",
    "# def random_search(m, p):\n",
    "#     from sklearn.model_selection import RandomizedSearchCV\n",
    "#     #kf = KFold(n_folds=5, shuffle=True, random_state=42)\n",
    "#     #models1 = {'Lasso': Lasso(),'Elastic Net Regression': ElasticNet(),'Kernel Ridge Regression': KernelRidge(),'Gradient Boosting Regression': GradientBoostingRegressor()}\n",
    "\n",
    "#     #params1 = {'Lasso': { 'alpha': [0.0005, 0.001, 0.0003] },'Elastic Net Regression': {'alpha': [0.0005, 0.003, 0.00045] , 'l1_ratio':[.9, .5, .75]},'Kernel Ridge Regression':{ 'alpha':[0.6, 0.5, 0.35], 'kernel':'polynomial', 'degree':[2, 3], 'coef0':[0, 1.5, 2.5]},'Gradient Boosting Regression': { 'n_estimators':[3000, 2500, 1200], 'learning_rate':[0.05, 0.1, 0.004], 'max_depth':4, 'max_features':['sqrt', 'log2'],'min_samples_leaf':[15, 5, 10, 4], 'min_samples_split':[10, 5, 8], 'loss':'huber'}}\n",
    " \n",
    "#     rs = RandomizedSearchCV(m, p, n_iter=50, scoring=\"neg_mean_squared_error\", refit=True)\n",
    "#     rs.fit(X, y)\n",
    "#     return rs.best_params_"
   ]
  },
  {
   "cell_type": "code",
   "execution_count": 20,
   "metadata": {
    "collapsed": true,
    "scrolled": true
   },
   "outputs": [],
   "source": [
    "#Let's random search the parameters for GradientBoostingRegressor\n",
    "# model_boost=GradientBoostingRegressor(loss='huber', max_features='sqrt')\n",
    "# param_boost={ 'n_estimators':[3500, 3000], 'learning_rate':[0.05, 0.5], 'max_depth':[4, 6], 'min_samples_leaf':[15, 10], 'min_samples_split':[10, 8]}\n",
    "# random_search(model_boost, param_boost)"
   ]
  },
  {
   "cell_type": "code",
   "execution_count": 19,
   "metadata": {
    "collapsed": true
   },
   "outputs": [],
   "source": [
    "#XGBoost : started at 4.29 till 6.49 didn't stop\n",
    "#so trying RandomizedSearchCV at 6.50 now let me see! and done at 6.51\n",
    "#at 6.54 and checked at 7pm Whoa!\n",
    "# 19\n",
    "\n",
    "# 16*3*2*2*2*2 = 16*16*3*19\n",
    "# 14592\n",
    "\n",
    "\n",
    "    \n",
    "# model_xg=xgb.XGBRegressor(objective='reg:linear',silent=True, nthread=-1)\n",
    "# param_xg={'min_child_weight': [5, 3],'gamma': [0.5, 0.04, 0.05],'subsample': [0.6, 0.8],'colsample_bytree': [0.8, 0.4, 0.6],'max_depth': [3, 4, 6, 8],'learning_rate':[0.05,0.021,0.5],'n_estimators':[2500, 1800, 3500],'reg_alpha':[0.4, 0.9, 1.0], 'reg_lambda':[0.9, 1.5, 0.6]}\n",
    "# random_search(model_xg, param_xg)"
   ]
  },
  {
   "cell_type": "code",
   "execution_count": null,
   "metadata": {
    "collapsed": true
   },
   "outputs": [],
   "source": [
    "# XGBoost :\n",
    "# param = {'max_depth': 2, 'eta': 1, 'silent': 1, 'objective': 'binary:logistic'}\n",
    "# param['nthread'] = 4\n",
    "# param['eval_metric'] = 'auc'\n",
    "\n",
    "#params = {'min_child_weight': [2, 5, 3],'gamma': [0.5, 0.04, 1.5],'subsample': [0.6, 0.8, 1.0],'colsample_bytree': [0.6, 0.8, 1.0, 0.4],'max_depth': [3, 4, 5],'learning_rate':[0.05, 0.005, 0.1],'n_estimators':[2200, 1500],'reg_alpha':[0.4, 0.6, 1.5], 'reg_lambda':[0.9, 1.5, 3]}"
   ]
  },
  {
   "cell_type": "code",
   "execution_count": null,
   "metadata": {
    "collapsed": true
   },
   "outputs": [],
   "source": [
    "# LightGBM :\n",
    "#gridParams = {'learning_rate': [0.05, 0.5, 0.02], 'n_estimators': [800, 1000, 750], 'num_leaves': [5,6,8],'max_depth': [4, 5],'max_bin':[50, 40, 30],'min_data_in_leaf':[6, 10, 15],'min_sum_hessian_in_leaf':[11, 9, 15],'bagging_fraction':[0.5, 0.8, 1.0], 'bagging_freq': [3, 5]}\n",
    "\n"
   ]
  },
  {
   "cell_type": "code",
   "execution_count": 43,
   "metadata": {
    "collapsed": true
   },
   "outputs": [],
   "source": [
    "def random_search(m, p):\n",
    "    from sklearn.model_selection import RandomizedSearchCV\n",
    "    kf = KFold(10, shuffle=True, random_state=42)\n",
    "    #models1 = {'Lasso': Lasso(),'Elastic Net Regression': ElasticNet(),'Kernel Ridge Regression': KernelRidge(),'Gradient Boosting Regression': GradientBoostingRegressor()}\n",
    "\n",
    "    #params1 = {'Lasso': { 'alpha': [0.0005, 0.001, 0.0003] },'Elastic Net Regression': {'alpha': [0.0005, 0.003, 0.00045] , 'l1_ratio':[.9, .5, .75]},'Kernel Ridge Regression':{ 'alpha':[0.6, 0.5, 0.35], 'kernel':'polynomial', 'degree':[2, 3], 'coef0':[0, 1.5, 2.5]},'Gradient Boosting Regression': { 'n_estimators':[3000, 2500, 1200], 'learning_rate':[0.05, 0.1, 0.004], 'max_depth':4, 'max_features':['sqrt', 'log2'],'min_samples_leaf':[15, 5, 10, 4], 'min_samples_split':[10, 5, 8], 'loss':'huber'}}\n",
    " \n",
    "    rs = RandomizedSearchCV(m, p, n_iter=10, cv=kf, scoring=\"neg_mean_squared_error\", refit=True)\n",
    "    rs.fit(X_train, y)\n",
    "    return rs.best_params_"
   ]
  },
  {
   "cell_type": "code",
   "execution_count": 44,
   "metadata": {},
   "outputs": [
    {
     "data": {
      "text/plain": [
       "{'bagging_fraction': 0.8,\n",
       " 'bagging_freq': 3,\n",
       " 'learning_rate': 0.05,\n",
       " 'max_bin': 50,\n",
       " 'max_depth': 5,\n",
       " 'min_data_in_leaf': 6,\n",
       " 'min_sum_hessian_in_leaf': 14,\n",
       " 'n_estimators': 1000,\n",
       " 'num_leaves': 6}"
      ]
     },
     "execution_count": 44,
     "metadata": {},
     "output_type": "execute_result"
    }
   ],
   "source": [
    "#LightGBM :    \n",
    "model_lgbm=lgb.LGBMRegressor(objective='regression', random_state=500, feature_fraction_seed=9, bagging_seed=9)\n",
    "param_lgbm={'learning_rate': [0.05, 0.5, 0.07], 'n_estimators': [1000, 750, 2000], 'num_leaves': [5,8,6,10],'max_depth': [4, 5, 7],'max_bin':[50, 70],'min_data_in_leaf':[6, 10],'min_sum_hessian_in_leaf':[8, 11, 14],'bagging_fraction':[0.8, 1.0, 0.6, 0.9], 'bagging_freq': [3, 5, 6, 7]}\n",
    "random_search(model_lgbm, param_lgbm)"
   ]
  },
  {
   "cell_type": "code",
   "execution_count": 45,
   "metadata": {},
   "outputs": [
    {
     "data": {
      "text/plain": [
       "{'learning_rate': 0.05,\n",
       " 'max_depth': 4,\n",
       " 'min_samples_leaf': 15,\n",
       " 'min_samples_split': 10,\n",
       " 'n_estimators': 3000}"
      ]
     },
     "execution_count": 45,
     "metadata": {},
     "output_type": "execute_result"
    }
   ],
   "source": [
    "#GradientBoostingRegressor's hyperparameter search using random_search instead of Gridsearch\n",
    "model_boost=GradientBoostingRegressor(loss='huber', max_features='sqrt')\n",
    "param_boost={ 'n_estimators':[3500, 3000], 'learning_rate':[0.05, 0.5], 'max_depth':[4, 6], 'min_samples_leaf':[15, 10], 'min_samples_split':[10, 8]}\n",
    "random_search(model_boost, param_boost)"
   ]
  },
  {
   "cell_type": "code",
   "execution_count": 46,
   "metadata": {},
   "outputs": [
    {
     "data": {
      "text/plain": [
       "{'colsample_bytree': 0.8,\n",
       " 'gamma': 0.04,\n",
       " 'learning_rate': 0.05,\n",
       " 'max_depth': 4,\n",
       " 'min_child_weight': 5,\n",
       " 'n_estimators': 3500,\n",
       " 'reg_alpha': 0.9,\n",
       " 'reg_lambda': 0.6,\n",
       " 'subsample': 0.6}"
      ]
     },
     "execution_count": 46,
     "metadata": {},
     "output_type": "execute_result"
    }
   ],
   "source": [
    "#XGBRegressor's hyperparameter search using random_search instead of Gridsearch\n",
    "model_xg=xgb.XGBRegressor(objective='reg:linear',silent=True, nthread=-1)\n",
    "param_xg={'min_child_weight': [5, 3],'gamma': [0.5, 0.04, 0.05],'subsample': [0.6, 0.8],'colsample_bytree': [0.8, 0.4, 0.6],'max_depth': [3, 4, 6, 8],'learning_rate':[0.05,0.021,0.5],'n_estimators':[2500, 1800, 3500],'reg_alpha':[0.4, 0.9, 1.0], 'reg_lambda':[0.9, 1.5, 0.6]}\n",
    "random_search(model_xg, param_xg)"
   ]
  },
  {
   "cell_type": "code",
   "execution_count": 12,
   "metadata": {
    "collapsed": true
   },
   "outputs": [],
   "source": [
    "#Now that I have run grid search for every chosen model it is now time to train the base models on training data. \n",
    "#Validation function\n",
    "\n",
    "\n",
    "def cross_validation(model):\n",
    "    import numpy as np\n",
    "    n_folds =10\n",
    "    kf = KFold(n_folds, shuffle=True, random_state=42)\n",
    "    #.get_n_splits(X_train)\n",
    "    rmse= np.sqrt(-cross_val_score(model, X_train, y, scoring=\"neg_mean_squared_error\", cv = kf))\n",
    "    return(rmse)\n",
    "\n"
   ]
  },
  {
   "cell_type": "code",
   "execution_count": 47,
   "metadata": {
    "collapsed": true
   },
   "outputs": [],
   "source": [
    "#Lasso {'alpha': 0.0003}\n",
    "lasso = make_pipeline(RobustScaler(), Lasso(alpha =0.0003, random_state=1))"
   ]
  },
  {
   "cell_type": "code",
   "execution_count": 14,
   "metadata": {
    "scrolled": true
   },
   "outputs": [
    {
     "name": "stdout",
     "output_type": "stream",
     "text": [
      "[0.14846034 0.16597224 0.13712739 0.14450985 0.14963846 0.1558053\n",
      " 0.1351787  0.14039665 0.12523769 0.14201685]\n"
     ]
    }
   ],
   "source": [
    "score = cross_validation(lasso)\n",
    "print(score )\n",
    "#print(\"Lasso: mean_score={}, Standard.dev={})\".format(score.mean(), score.std()))"
   ]
  },
  {
   "cell_type": "code",
   "execution_count": 41,
   "metadata": {
    "collapsed": true
   },
   "outputs": [],
   "source": [
    "# lasso1 = make_pipeline(RobustScaler(), Lasso(alpha =25.5, random_state=1))"
   ]
  },
  {
   "cell_type": "code",
   "execution_count": 42,
   "metadata": {
    "collapsed": true
   },
   "outputs": [],
   "source": [
    "# score_lasso1 = cross_validation(lasso1)\n",
    "# print(\"Lasso1: mean_score={}, Standard.dev={})\".format(score_lasso1.mean(), score_lasso1.std()))"
   ]
  },
  {
   "cell_type": "code",
   "execution_count": 48,
   "metadata": {
    "collapsed": true
   },
   "outputs": [],
   "source": [
    "from sklearn.linear_model import ElasticNet, Lasso,  BayesianRidge, LassoLarsIC\n",
    "from sklearn.ensemble import RandomForestRegressor,  GradientBoostingRegressor\n",
    "from sklearn.kernel_ridge import KernelRidge\n",
    "from sklearn.pipeline import make_pipeline\n",
    "from sklearn.preprocessing import RobustScaler\n",
    "from sklearn.base import BaseEstimator, TransformerMixin, RegressorMixin, clone\n",
    "from sklearn.model_selection import KFold, cross_val_score, train_test_split\n",
    "from sklearn.metrics import mean_squared_error\n",
    "import xgboost as xgb\n",
    "import lightgbm as lgb"
   ]
  },
  {
   "cell_type": "code",
   "execution_count": 49,
   "metadata": {
    "collapsed": true
   },
   "outputs": [],
   "source": [
    "#Elastic Net Regression: {'alpha': 0.0005, 'l1_ratio': 0.5}\n",
    "Enet = make_pipeline(RobustScaler(), ElasticNet(alpha=0.0005, l1_ratio=0.5, random_state=3))\n"
   ]
  },
  {
   "cell_type": "code",
   "execution_count": 17,
   "metadata": {},
   "outputs": [
    {
     "name": "stdout",
     "output_type": "stream",
     "text": [
      "ENet: mean_score=0.14423308792963135, Standard.dev=0.010639199956829559)\n"
     ]
    }
   ],
   "source": [
    "score_enet = cross_validation(Enet)\n",
    "print(\"ENet: mean_score={}, Standard.dev={})\".format(score_enet.mean(), score_enet.std()))"
   ]
  },
  {
   "cell_type": "code",
   "execution_count": 50,
   "metadata": {
    "collapsed": true
   },
   "outputs": [],
   "source": [
    "#Kernel Ridge Regression :{'alpha': 0.3, 'coef0': 2.5}\n",
    "\n",
    "Krr = KernelRidge(alpha=0.3, kernel='polynomial', degree=3, coef0=2.5)\n",
    "\n",
    "#when degree=2; kernel=linear, Krr: mean_score=28933.67422833956, Standard.dev=2355.189282909615"
   ]
  },
  {
   "cell_type": "code",
   "execution_count": 19,
   "metadata": {
    "scrolled": true
   },
   "outputs": [
    {
     "name": "stdout",
     "output_type": "stream",
     "text": [
      "Krr: mean_score=0.16507390203597386, Standard.dev=0.029031598150109486)\n"
     ]
    }
   ],
   "source": [
    "#Kernel Ridge Regression: this is when degree=3 and this seems better compared to Krr with degree=4\n",
    "\n",
    "score_Krr = cross_validation(Krr)\n",
    "print(\"Krr: mean_score={}, Standard.dev={})\".format(score_Krr.mean(), score_Krr.std()))"
   ]
  },
  {
   "cell_type": "code",
   "execution_count": 20,
   "metadata": {},
   "outputs": [
    {
     "name": "stdout",
     "output_type": "stream",
     "text": [
      "Krr: mean_score=0.18852884169773568, Standard.dev=0.04305484115446499)\n"
     ]
    }
   ],
   "source": [
    "#Kernel Ridge Regression: this is when degree=4\n",
    "# Krr_4 = KernelRidge(alpha=0.6, kernel='polynomial', degree=4, coef0=1.5)\n",
    "# score_Krr = cross_validation(Krr_4)\n",
    "# print(\"Krr: mean_score={}, Standard.dev={})\".format(score_Krr.mean(), score_Krr.std()))"
   ]
  },
  {
   "cell_type": "code",
   "execution_count": 51,
   "metadata": {
    "collapsed": true
   },
   "outputs": [],
   "source": [
    "#Gradient Boosting Regression : \n",
    "\n",
    "# {'learning_rate': 0.05,\n",
    "#  'max_depth': 4,\n",
    "#  'min_samples_leaf': 15,\n",
    "#  'min_samples_split': 10,\n",
    "#  'n_estimators': 3000}\n",
    "\n",
    "Gboost=GradientBoostingRegressor(learning_rate=0.05, max_depth=4, min_samples_leaf=15, min_samples_split=10, n_estimators=3000, loss='huber', max_features='sqrt')\n"
   ]
  },
  {
   "cell_type": "code",
   "execution_count": 22,
   "metadata": {},
   "outputs": [
    {
     "name": "stdout",
     "output_type": "stream",
     "text": [
      "\n",
      "GBoost score: 0.1380 (0.0124)\n",
      "\n"
     ]
    }
   ],
   "source": [
    "score_gboost = cross_validation(Gboost)\n",
    "#print(\"GBoost: mean_score={}, Standard.dev={})\".format(score_gboost.mean(), score_gboost.std()))\n",
    "print(\"\\nGBoost score: {:.4f} ({:.4f})\\n\".format(score_gboost.mean(), score_gboost.std()))"
   ]
  },
  {
   "cell_type": "code",
   "execution_count": 52,
   "metadata": {
    "collapsed": true
   },
   "outputs": [],
   "source": [
    "#Xgboost\n",
    "# {'colsample_bytree': 0.8,\n",
    "#  'gamma': 0.04,\n",
    "#  'learning_rate': 0.05,\n",
    "#  'max_depth': 4,\n",
    "#  'min_child_weight': 5,\n",
    "#  'n_estimators': 3500,\n",
    "#  'reg_alpha': 0.9,\n",
    "#  'reg_lambda': 0.6,\n",
    "#  'subsample': 0.6}\n",
    "\n",
    "Xgboost=xgb.XGBRegressor(objective='reg:linear',silent=True, nthread=-1, colsample_bytree= 0.8, gamma=0.04,learning_rate=0.05,max_depth=4,min_child_weight=5,n_estimators=3500,reg_alpha=0.9,reg_lambda=0.6,subsample=0.6)\n",
    "\n"
   ]
  },
  {
   "cell_type": "code",
   "execution_count": 24,
   "metadata": {},
   "outputs": [
    {
     "name": "stdout",
     "output_type": "stream",
     "text": [
      "xGBoost: mean_score=0.13492471139849435, Standard.dev=0.010247606451700064)\n"
     ]
    }
   ],
   "source": [
    "score_xgboost = cross_validation(Xgboost)\n",
    "print(\"xGBoost: mean_score={}, Standard.dev={})\".format(score_xgboost.mean(), score_xgboost.std()))"
   ]
  },
  {
   "cell_type": "code",
   "execution_count": 53,
   "metadata": {
    "collapsed": true
   },
   "outputs": [],
   "source": [
    "# lightgbm\n",
    "\n",
    "# {'bagging_fraction': 0.8,\n",
    "#  'bagging_freq': 3,\n",
    "#  'learning_rate': 0.05,\n",
    "#  'max_bin': 50,\n",
    "#  'max_depth': 5,\n",
    "#  'min_data_in_leaf': 6,\n",
    "#  'min_sum_hessian_in_leaf': 14,\n",
    "#  'n_estimators': 1000,\n",
    "#  'num_leaves': 6}\n",
    "\n",
    "\n",
    "lightgbm=lgb.LGBMRegressor(objective='regression', random_state=500, feature_fraction_seed=9, bagging_seed=9, bagging_fraction=0.8,bagging_freq=3,learning_rate=0.05,max_bin=50,max_depth=5,min_data_in_leaf=6,min_sum_hessian_in_leaf=14,n_estimators=1000,num_leaves=6)\n",
    "\n"
   ]
  },
  {
   "cell_type": "code",
   "execution_count": 26,
   "metadata": {},
   "outputs": [
    {
     "name": "stdout",
     "output_type": "stream",
     "text": [
      "lightgbm: mean_score=0.13980941983103085, Standard.dev=0.012968720634789824)\n"
     ]
    }
   ],
   "source": [
    "score_lightgbm = cross_validation(lightgbm)\n",
    "print(\"lightgbm: mean_score={}, Standard.dev={})\".format(score_lightgbm.mean(), score_lightgbm.std()))"
   ]
  },
  {
   "cell_type": "code",
   "execution_count": 27,
   "metadata": {
    "collapsed": true
   },
   "outputs": [],
   "source": [
    "from scipy import stats\n",
    "class AveragingModels(BaseEstimator, RegressorMixin, TransformerMixin):\n",
    "    def __init__(self, models):\n",
    "        self.models = models\n",
    "        \n",
    "    # we define clones of the original models to fit the data in\n",
    "    def fit(self, X, y):\n",
    "        self.models_ = [clone(x) for x in self.models]\n",
    "        \n",
    "        # Train cloned base models\n",
    "        for model in self.models_:\n",
    "            model.fit(X, y)\n",
    "\n",
    "        return self\n",
    "    \n",
    "    #Now we do the predictions for cloned models and average them\n",
    "    def predict(self, X):\n",
    "        predictions = np.column_stack([model.predict(X) for model in self.models_])\n",
    "        return np.mean(predictions, axis=1) "
   ]
  },
  {
   "cell_type": "code",
   "execution_count": 28,
   "metadata": {},
   "outputs": [
    {
     "name": "stdout",
     "output_type": "stream",
     "text": [
      " Averaged base models score: 0.1337 (0.0108)\n",
      "\n"
     ]
    }
   ],
   "source": [
    "import numpy as np\n",
    "averaged_models = AveragingModels(models = (Enet, Krr, Gboost, Xgboost, lightgbm))\n",
    "\n",
    "stacked_models_score = cross_validation(averaged_models)\n",
    "print(\" Averaged base models score: {:.4f} ({:.4f})\\n\".format(stacked_models_score.mean(), stacked_models_score.std()))"
   ]
  },
  {
   "cell_type": "code",
   "execution_count": 29,
   "metadata": {},
   "outputs": [
    {
     "name": "stdout",
     "output_type": "stream",
     "text": [
      " Averaged base models score: 0.1348 (0.0112)\n",
      "\n"
     ]
    }
   ],
   "source": [
    "averaged_models = AveragingModels(models = (Gboost, Xgboost, lightgbm))\n",
    "\n",
    "stacked_models_score = cross_validation(averaged_models)\n",
    "print(\" Averaged base models score: {:.4f} ({:.4f})\\n\".format(stacked_models_score.mean(), stacked_models_score.std()))"
   ]
  },
  {
   "cell_type": "code",
   "execution_count": 30,
   "metadata": {
    "collapsed": true
   },
   "outputs": [],
   "source": [
    "# averaged_models.models"
   ]
  },
  {
   "cell_type": "code",
   "execution_count": 54,
   "metadata": {
    "collapsed": true
   },
   "outputs": [],
   "source": [
    "\n",
    "class stack_average_models(BaseEstimator, RegressorMixin, TransformerMixin):\n",
    "    \n",
    "    def __init__(self, basemodels, metamodel, n_folds=5):\n",
    "        self.basemodels=basemodels\n",
    "        self.metamodel=metamodel\n",
    "        self.n_folds=n_folds\n",
    "#         print(self.basemodels)\n",
    "        \n",
    "    def fit(self, X, y):\n",
    "        import numpy as np\n",
    "        self.basemodels_ = [list() for x in self.basemodels]\n",
    "        self.metamodel_ = clone(self.metamodel)\n",
    "        kfold = KFold(n_splits=self.n_folds, shuffle=True, random_state=156)\n",
    "        \n",
    "        holdout_predictions = np.zeros((X.shape[0], len(self.basemodels)))\n",
    "        for ind, model in enumerate(self.basemodels):\n",
    "            for train_ind, holdout_ind in kfold.split(X, y):\n",
    "                instance = clone(model)\n",
    "                self.basemodels_[ind].append(instance)\n",
    "                instance.fit(X[train_ind], y[train_ind])\n",
    "                y_pred = instance.predict(X[holdout_ind])\n",
    "                holdout_predictions[holdout_ind, ind] = y_pred\n",
    "                \n",
    "         \n",
    "        self.metamodel_.fit(holdout_predictions, y)\n",
    "        return self\n",
    "   \n",
    "    #Do the predictions of all base models on the test data and use the averaged predictions as \n",
    "    #meta-features for the final prediction which is done by the meta-model\n",
    "    def predict(self, X):\n",
    "        import numpy as np\n",
    "        meta_features = np.column_stack([np.column_stack([model.predict(X) for model in basemodels]).mean(axis=1) for basemodels in self.basemodels_ ])\n",
    "        return self.metamodel_.predict(meta_features)\n",
    "        "
   ]
  },
  {
   "cell_type": "code",
   "execution_count": 64,
   "metadata": {
    "collapsed": true
   },
   "outputs": [],
   "source": [
    "def cross_validation(model):\n",
    "    import numpy as np\n",
    "    n_folds =5\n",
    "    kf = KFold(n_folds, shuffle=True, random_state=42)\n",
    "    #.get_n_splits(X_train)\n",
    "    rmse= np.sqrt(-cross_val_score(model, X_train, y, scoring=\"neg_mean_squared_error\", cv = kf))\n",
    "    return(rmse)"
   ]
  },
  {
   "cell_type": "code",
   "execution_count": 55,
   "metadata": {
    "collapsed": true
   },
   "outputs": [],
   "source": [
    "#With basemodels = (Gboost, Xgboost, lightgbm) and metamodel = Enet\n",
    "stacked_meta_Enet = stack_average_models(basemodels = (Gboost, Xgboost, lightgbm),\n",
    "                                                 metamodel = Enet)\n",
    "\n",
    "# score_enet = cross_validation(stacked_meta_Enet)\n",
    "# print(\"Stacking Averaged models score: {:.4f} ({:.4f})\".format(score_enet.mean(), score_enet.std()))"
   ]
  },
  {
   "cell_type": "code",
   "execution_count": 56,
   "metadata": {},
   "outputs": [
    {
     "data": {
      "text/plain": [
       "['stacked_meta_enet']"
      ]
     },
     "execution_count": 56,
     "metadata": {},
     "output_type": "execute_result"
    }
   ],
   "source": [
    "# from sklearn.externals import joblib\n",
    "joblib.dump(stacked_meta_Enet, 'stacked_meta_enet')"
   ]
  },
  {
   "cell_type": "code",
   "execution_count": null,
   "metadata": {
    "collapsed": true
   },
   "outputs": [],
   "source": []
  },
  {
   "cell_type": "code",
   "execution_count": 57,
   "metadata": {
    "collapsed": true
   },
   "outputs": [],
   "source": [
    "#With basemodels = (Gboost, Xgboost, lightgbm) and metamodel = lasso\n",
    "stacked_meta_lasso = stack_average_models(basemodels = (Gboost, Xgboost, lightgbm),\n",
    "                                                 metamodel = lasso)\n",
    "\n",
    "# score_lasso = cross_validation(stacked_meta_lasso)\n",
    "# print(\"Stacking Averaged models score: {:.4f} ({:.4f})\".format(score_lasso.mean(), score_lasso.std()))"
   ]
  },
  {
   "cell_type": "code",
   "execution_count": 58,
   "metadata": {},
   "outputs": [
    {
     "data": {
      "text/plain": [
       "['stacked_meta_lasso']"
      ]
     },
     "execution_count": 58,
     "metadata": {},
     "output_type": "execute_result"
    }
   ],
   "source": [
    "joblib.dump(stacked_meta_lasso, 'stacked_meta_lasso')"
   ]
  },
  {
   "cell_type": "code",
   "execution_count": 59,
   "metadata": {
    "collapsed": true
   },
   "outputs": [],
   "source": [
    "#With basemodels = (Gboost, Xgboost, lightgbm) and metamodel = Krr\n",
    "\n",
    "stacked_meta_krr = stack_average_models(basemodels = (Gboost, Xgboost, lightgbm),\n",
    "                                                 metamodel = Krr)\n",
    "\n",
    "# score_krr = cross_validation(stacked_meta_krr)\n",
    "# print(\"Stacking Averaged models score: {:.4f} ({:.4f})\".format(score_krr.mean(), score_krr.std()))"
   ]
  },
  {
   "cell_type": "code",
   "execution_count": 60,
   "metadata": {},
   "outputs": [
    {
     "data": {
      "text/plain": [
       "['stacked_meta_krr']"
      ]
     },
     "execution_count": 60,
     "metadata": {},
     "output_type": "execute_result"
    }
   ],
   "source": [
    "joblib.dump(stacked_meta_krr, 'stacked_meta_krr')"
   ]
  },
  {
   "cell_type": "code",
   "execution_count": 61,
   "metadata": {
    "collapsed": true,
    "scrolled": true
   },
   "outputs": [],
   "source": [
    "stacked_meta_lasso2 = stack_average_models(basemodels = (Gboost, Krr, Enet),\n",
    "                                                 metamodel = lasso)\n",
    "\n",
    "# score_lasso2 = cross_validation(stacked_meta_lasso2)\n",
    "# print(\"Stacking Averaged models score: {:.4f} ({:.4f})\".format(score_lasso2.mean(), score_lasso2.std()))"
   ]
  },
  {
   "cell_type": "code",
   "execution_count": 62,
   "metadata": {},
   "outputs": [
    {
     "data": {
      "text/plain": [
       "['stacked_meta_lasso2']"
      ]
     },
     "execution_count": 62,
     "metadata": {},
     "output_type": "execute_result"
    }
   ],
   "source": [
    "joblib.dump(stacked_meta_lasso2, 'stacked_meta_lasso2')"
   ]
  },
  {
   "cell_type": "code",
   "execution_count": 41,
   "metadata": {
    "collapsed": true
   },
   "outputs": [],
   "source": [
    "# stacked_models = stack_average_models(basemodels = (Enet, Krr, Gboost, Xgboost, lightgbm),\n",
    "#                                                  metamodel = lasso)\n",
    "\n",
    "# score = cross_validation(stacked_models)\n",
    "# print(\"Stacking Averaged models score: {:.4f} ({:.4f})\".format(score.mean(), score.std()))"
   ]
  },
  {
   "cell_type": "code",
   "execution_count": 70,
   "metadata": {
    "collapsed": true
   },
   "outputs": [],
   "source": [
    "#Root Mean Squared Logarithmic Error\n",
    "from sklearn.metrics import mean_squared_error\n",
    "def rmsle(y, y_pred):\n",
    "    return np.sqrt(mean_squared_error(y, y_pred))"
   ]
  },
  {
   "cell_type": "code",
   "execution_count": 72,
   "metadata": {},
   "outputs": [
    {
     "name": "stdout",
     "output_type": "stream",
     "text": [
      "0.08463590889174549\n"
     ]
    }
   ],
   "source": [
    "import numpy as np\n",
    "stacked_meta_Enet.fit(X_train, y)\n",
    "\n",
    "stacked_meta_Enet_pred = stacked_meta_Enet.predict(X_train)\n",
    "\n",
    "#stacked_pred = np.expm1(stacked_averaged_models.predict(X_test))\n",
    "\n",
    "print(rmsle(y, stacked_meta_Enet_pred))"
   ]
  },
  {
   "cell_type": "code",
   "execution_count": 73,
   "metadata": {},
   "outputs": [
    {
     "data": {
      "text/plain": [
       "array([12.20928871, 12.0623923 , 12.26673729, ..., 12.39047474,\n",
       "       11.87221656, 11.9506584 ])"
      ]
     },
     "execution_count": 73,
     "metadata": {},
     "output_type": "execute_result"
    }
   ],
   "source": [
    "stacked_meta_Enet_pred"
   ]
  },
  {
   "cell_type": "code",
   "execution_count": 74,
   "metadata": {},
   "outputs": [
    {
     "name": "stdout",
     "output_type": "stream",
     "text": [
      "0.39455337717276406\n"
     ]
    }
   ],
   "source": [
    "stacked_meta_lasso2.fit(X_train, y)\n",
    "\n",
    "stacked_meta_lasso2_pred = stacked_meta_lasso2.predict(X_train)\n",
    "\n",
    "#stacked_pred = np.expm1(stacked_averaged_models.predict(X_test))\n",
    "\n",
    "print(rmsle(y, stacked_meta_lasso2_pred))"
   ]
  },
  {
   "cell_type": "code",
   "execution_count": 79,
   "metadata": {},
   "outputs": [
    {
     "name": "stdout",
     "output_type": "stream",
     "text": [
      "0.39455337717276406\n"
     ]
    }
   ],
   "source": [
    "stacked_meta_lasso.fit(X_train, y)\n",
    "\n",
    "stacked_meta_lasso_pred = stacked_meta_lasso.predict(X_train)\n",
    "\n",
    "#stacked_pred = np.expm1(stacked_averaged_models.predict(X_test))\n",
    "\n",
    "print(rmsle(y, stacked_meta_lasso_pred))"
   ]
  },
  {
   "cell_type": "code",
   "execution_count": 80,
   "metadata": {},
   "outputs": [
    {
     "name": "stderr",
     "output_type": "stream",
     "text": [
      "/Users/chidam/anaconda/lib/python3.5/site-packages/scipy/linalg/basic.py:40: RuntimeWarning: scipy.linalg.solve\n",
      "Ill-conditioned matrix detected. Result is not guaranteed to be accurate.\n",
      "Reciprocal condition number/precision: 4.5034583299700467e-17 / 1.1102230246251565e-16\n",
      "  RuntimeWarning)\n"
     ]
    },
    {
     "name": "stdout",
     "output_type": "stream",
     "text": [
      "0.07252157057359401\n"
     ]
    }
   ],
   "source": [
    "stacked_meta_krr.fit(X_train, y)\n",
    "\n",
    "stacked_meta_krr_pred = stacked_meta_krr.predict(X_train)\n",
    "\n",
    "#stacked_pred = np.expm1(stacked_averaged_models.predict(X_test))\n",
    "\n",
    "print(rmsle(y, stacked_meta_krr_pred))"
   ]
  },
  {
   "cell_type": "code",
   "execution_count": null,
   "metadata": {
    "collapsed": true
   },
   "outputs": [],
   "source": []
  }
 ],
 "metadata": {
  "kernelspec": {
   "display_name": "Python [conda root]",
   "language": "python",
   "name": "conda-root-py"
  },
  "language_info": {
   "codemirror_mode": {
    "name": "ipython",
    "version": 3
   },
   "file_extension": ".py",
   "mimetype": "text/x-python",
   "name": "python",
   "nbconvert_exporter": "python",
   "pygments_lexer": "ipython3",
   "version": "3.5.6"
  }
 },
 "nbformat": 4,
 "nbformat_minor": 2
}
